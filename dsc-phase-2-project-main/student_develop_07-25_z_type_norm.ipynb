{
 "cells": [
  {
   "cell_type": "markdown",
   "source": [
    "## final project submission\n",
    "\n",
    "Please fill out:\n",
    "* Student name: Claire Sarraille\n",
    "* Student pace: self paced\n",
    "* Scheduled project review date/time: \n",
    "* Instructor name: Jeff Herman\n",
    "* Blog post URL:\n"
   ],
   "metadata": {}
  },
  {
   "cell_type": "code",
   "execution_count": 78,
   "source": [
    "import numpy as np\n",
    "import pandas as pd\n",
    "import matplotlib.pyplot as plt\n",
    "from matplotlib.ticker import StrMethodFormatter\n",
    "import seaborn as sns\n",
    "\n",
    "\n",
    "from sklearn.model_selection import train_test_split\n",
    "from sklearn.preprocessing import StandardScaler\n",
    "from sklearn.model_selection import cross_val_score\n",
    "\n",
    "from sklearn import metrics\n",
    "from sklearn import linear_model\n",
    "from sklearn.linear_model import LinearRegression\n",
    "\n",
    "from sklearn.ensemble import RandomForestRegressor\n",
    "\n",
    "from statsmodels.stats.outliers_influence import variance_inflation_factor\n",
    "\n",
    "\n",
    "\n",
    "\n",
    "%matplotlib inline"
   ],
   "outputs": [],
   "metadata": {}
  },
  {
   "cell_type": "markdown",
   "source": [
    "## crisp-dm:\n",
    "\n",
    "- Business Understanding\n",
    "    - Who will be  using the model\n",
    "    - How will the model be used\n",
    "    - How will using the model help our business\n",
    "    - clarify requirements\n",
    "    - What problems are in and out of scope\n",
    "\n",
    "- Understand Data\n",
    "    - What is target\n",
    "    - What are predictors\n",
    "    - Distribution of Data\n",
    "    - How many observations - and is this a small, medium or large collection?\n",
    "    - What is the quality? - What errors could be in the data, or inaccuracy?\n",
    "\n",
    "- Data Preparation - Prepping to model\n",
    "    - Missing values\n",
    "    - Type conversions\n",
    "    - Remove multicollinearity (correlated predictors)\n",
    "    - Normalize numeric data\n",
    "    - Convert categorical data to numeric via one-hot encoding\n",
    "\n",
    "- Modeling:\n",
    "    - Tune models to get the highest performance possible on our task\n",
    "    - Considerations:\n",
    "        - What kind of task? Classification task? Regression task?\n",
    "        - Which models will we use\n",
    "        - Will be use regularization?\n",
    "        - How will we validate our model?\n",
    "        - Loss functions?\n",
    "        - What is the performance threshold for success?\n",
    "\n",
    "- Evaluation:\n",
    "    - Does the model solve business problem outlined in step 1?\n",
    "    - At this point, we may want to start over at the business understanding step, now that we have a deeper understanding\n",
    "    - Things we may learn at this stage:\n",
    "        - Need different data\n",
    "        - Need more data\n",
    "        - Should be going in a different direction\n",
    "        - Should use classificaion rather than regression, or vice versa\n",
    "        - Use different approach\n",
    "\n",
    "- Deployment:\n",
    "    - Move the model into production\n",
    "    - Set up ETL - how much of preprocessing and cleaning can be automated?\n"
   ],
   "metadata": {}
  },
  {
   "cell_type": "markdown",
   "source": [
    "# BUSINESS UNDERSTANDING\n",
    "- Who will be  using the model\n",
    "    - The real estate agency I work for\n",
    "- How will the model be used\n",
    "    - Help home owners buy and/or sell homes\n",
    "- How will using the model help our business\n",
    "    - We can give good advice to homeowners about how home renovations might increase the estimate value of their homes, and by how much\n",
    "- clarify requirements\n",
    "    - Find the features that are highest correlated with a higher sell price. Find how many dollars each unit of each feature adds to price\n",
    "    - Use these correlations to recommend home renovations, ranked by the most to least positive impact on price.\n",
    "- What problems are in and out of scope\n",
    "    - How do home renovations impact the sell price of a home.\n",
    "    - We are not looking at other factors, such as location (waterfront), which the owner can't renovate the house to have."
   ],
   "metadata": {}
  },
  {
   "cell_type": "code",
   "execution_count": 79,
   "source": [
    "# Read in Data:\n",
    "df = pd.read_csv('data/kc_house_data.csv')"
   ],
   "outputs": [],
   "metadata": {}
  },
  {
   "cell_type": "markdown",
   "source": [
    "## Remove features\n",
    "- id ( we don't want our model thinking that id has explanatory power since we know it has nothing to do with price)\n",
    "- date (same for date - no explanatory value)\n",
    "- view (this is repeating info from waterfront)\n",
    "- sqft_above (repeating sqft_living)\n",
    "- sqft_basemenat (repeating sqft_living)\n",
    "- yr_renovated (repeating yr_built)\n",
    "- Not helpful to have geographic features becuase renovation can't inclue re-locating house (ostensibly)\n",
    "    - zipcode\n",
    "    - lat\n",
    "    - long\n",
    "- sqft_living15 (repeating sqft_living)\n",
    "- sqft_lot15 (repeating sqft_lot)"
   ],
   "metadata": {}
  },
  {
   "cell_type": "code",
   "execution_count": 80,
   "source": [
    "# Why reduce features?\n",
    "# I narrowed my list of features so that I could avoid overfitting the training dataset\n",
    "# Reducing redundancy in features increases the accuracy of the model\n",
    "# I also removed 'id' because this field  has little to no predictive value\n",
    "\n",
    "df = df.drop(['id','date','view', 'sqft_above', 'sqft_basement', 'yr_renovated', 'zipcode', 'lat', 'long', 'sqft_living15', 'sqft_lot15'], axis=1)"
   ],
   "outputs": [],
   "metadata": {}
  },
  {
   "cell_type": "code",
   "execution_count": 81,
   "source": [
    "df.head()"
   ],
   "outputs": [
    {
     "output_type": "execute_result",
     "data": {
      "text/plain": [
       "      price  bedrooms  bathrooms  sqft_living  sqft_lot  floors  waterfront  \\\n",
       "0  221900.0         3       1.00         1180      5650     1.0         NaN   \n",
       "1  538000.0         3       2.25         2570      7242     2.0         0.0   \n",
       "2  180000.0         2       1.00          770     10000     1.0         0.0   \n",
       "3  604000.0         4       3.00         1960      5000     1.0         0.0   \n",
       "4  510000.0         3       2.00         1680      8080     1.0         0.0   \n",
       "\n",
       "   condition  grade  yr_built  \n",
       "0          3      7      1955  \n",
       "1          3      7      1951  \n",
       "2          3      6      1933  \n",
       "3          5      7      1965  \n",
       "4          3      8      1987  "
      ],
      "text/html": [
       "<div>\n",
       "<style scoped>\n",
       "    .dataframe tbody tr th:only-of-type {\n",
       "        vertical-align: middle;\n",
       "    }\n",
       "\n",
       "    .dataframe tbody tr th {\n",
       "        vertical-align: top;\n",
       "    }\n",
       "\n",
       "    .dataframe thead th {\n",
       "        text-align: right;\n",
       "    }\n",
       "</style>\n",
       "<table border=\"1\" class=\"dataframe\">\n",
       "  <thead>\n",
       "    <tr style=\"text-align: right;\">\n",
       "      <th></th>\n",
       "      <th>price</th>\n",
       "      <th>bedrooms</th>\n",
       "      <th>bathrooms</th>\n",
       "      <th>sqft_living</th>\n",
       "      <th>sqft_lot</th>\n",
       "      <th>floors</th>\n",
       "      <th>waterfront</th>\n",
       "      <th>condition</th>\n",
       "      <th>grade</th>\n",
       "      <th>yr_built</th>\n",
       "    </tr>\n",
       "  </thead>\n",
       "  <tbody>\n",
       "    <tr>\n",
       "      <th>0</th>\n",
       "      <td>221900.0</td>\n",
       "      <td>3</td>\n",
       "      <td>1.00</td>\n",
       "      <td>1180</td>\n",
       "      <td>5650</td>\n",
       "      <td>1.0</td>\n",
       "      <td>NaN</td>\n",
       "      <td>3</td>\n",
       "      <td>7</td>\n",
       "      <td>1955</td>\n",
       "    </tr>\n",
       "    <tr>\n",
       "      <th>1</th>\n",
       "      <td>538000.0</td>\n",
       "      <td>3</td>\n",
       "      <td>2.25</td>\n",
       "      <td>2570</td>\n",
       "      <td>7242</td>\n",
       "      <td>2.0</td>\n",
       "      <td>0.0</td>\n",
       "      <td>3</td>\n",
       "      <td>7</td>\n",
       "      <td>1951</td>\n",
       "    </tr>\n",
       "    <tr>\n",
       "      <th>2</th>\n",
       "      <td>180000.0</td>\n",
       "      <td>2</td>\n",
       "      <td>1.00</td>\n",
       "      <td>770</td>\n",
       "      <td>10000</td>\n",
       "      <td>1.0</td>\n",
       "      <td>0.0</td>\n",
       "      <td>3</td>\n",
       "      <td>6</td>\n",
       "      <td>1933</td>\n",
       "    </tr>\n",
       "    <tr>\n",
       "      <th>3</th>\n",
       "      <td>604000.0</td>\n",
       "      <td>4</td>\n",
       "      <td>3.00</td>\n",
       "      <td>1960</td>\n",
       "      <td>5000</td>\n",
       "      <td>1.0</td>\n",
       "      <td>0.0</td>\n",
       "      <td>5</td>\n",
       "      <td>7</td>\n",
       "      <td>1965</td>\n",
       "    </tr>\n",
       "    <tr>\n",
       "      <th>4</th>\n",
       "      <td>510000.0</td>\n",
       "      <td>3</td>\n",
       "      <td>2.00</td>\n",
       "      <td>1680</td>\n",
       "      <td>8080</td>\n",
       "      <td>1.0</td>\n",
       "      <td>0.0</td>\n",
       "      <td>3</td>\n",
       "      <td>8</td>\n",
       "      <td>1987</td>\n",
       "    </tr>\n",
       "  </tbody>\n",
       "</table>\n",
       "</div>"
      ]
     },
     "metadata": {},
     "execution_count": 81
    }
   ],
   "metadata": {}
  },
  {
   "cell_type": "markdown",
   "source": [
    "# UNDERSTAND DATA\n",
    "- What is target\n",
    "    - price\n",
    "- What are predictors\n",
    "    - sqft_living, bathrooms, bedrooms, floors, sqft_lot, condition\n",
    "- Distribution of Data\n",
    "- How many observations - and is this a small, medium or large collection?\n",
    "    - 21,597 entries\n",
    "    - According to Frank Harrell in his book Regression Modeling Strategies, you need at least 10-20 observations per predictor\n",
    "    - We have many, many more observations than 20 * (6 - num covariates) = 120\n",
    "    - Our dataset would be considered large\n",
    "- What is the quality? - What errors could be in the data, or inaccuracy?"
   ],
   "metadata": {}
  },
  {
   "cell_type": "markdown",
   "source": [
    "## New Columns "
   ],
   "metadata": {}
  },
  {
   "cell_type": "code",
   "execution_count": 82,
   "source": [
    "# Create lot size in acres:\n",
    "df['acres_lot'] = df['sqft_lot'] / 43560 "
   ],
   "outputs": [],
   "metadata": {}
  },
  {
   "cell_type": "code",
   "execution_count": 83,
   "source": [
    "# Create price column in millions:\n",
    "df['price_millions'] = df['price'] / 1000000"
   ],
   "outputs": [],
   "metadata": {}
  },
  {
   "cell_type": "code",
   "execution_count": 84,
   "source": [
    "df[['price_millions','price', 'acres_lot']]"
   ],
   "outputs": [
    {
     "output_type": "execute_result",
     "data": {
      "text/plain": [
       "       price_millions     price  acres_lot\n",
       "0            0.221900  221900.0   0.129706\n",
       "1            0.538000  538000.0   0.166253\n",
       "2            0.180000  180000.0   0.229568\n",
       "3            0.604000  604000.0   0.114784\n",
       "4            0.510000  510000.0   0.185491\n",
       "...               ...       ...        ...\n",
       "21592        0.360000  360000.0   0.025964\n",
       "21593        0.400000  400000.0   0.133448\n",
       "21594        0.402101  402101.0   0.030992\n",
       "21595        0.400000  400000.0   0.054821\n",
       "21596        0.325000  325000.0   0.024702\n",
       "\n",
       "[21597 rows x 3 columns]"
      ],
      "text/html": [
       "<div>\n",
       "<style scoped>\n",
       "    .dataframe tbody tr th:only-of-type {\n",
       "        vertical-align: middle;\n",
       "    }\n",
       "\n",
       "    .dataframe tbody tr th {\n",
       "        vertical-align: top;\n",
       "    }\n",
       "\n",
       "    .dataframe thead th {\n",
       "        text-align: right;\n",
       "    }\n",
       "</style>\n",
       "<table border=\"1\" class=\"dataframe\">\n",
       "  <thead>\n",
       "    <tr style=\"text-align: right;\">\n",
       "      <th></th>\n",
       "      <th>price_millions</th>\n",
       "      <th>price</th>\n",
       "      <th>acres_lot</th>\n",
       "    </tr>\n",
       "  </thead>\n",
       "  <tbody>\n",
       "    <tr>\n",
       "      <th>0</th>\n",
       "      <td>0.221900</td>\n",
       "      <td>221900.0</td>\n",
       "      <td>0.129706</td>\n",
       "    </tr>\n",
       "    <tr>\n",
       "      <th>1</th>\n",
       "      <td>0.538000</td>\n",
       "      <td>538000.0</td>\n",
       "      <td>0.166253</td>\n",
       "    </tr>\n",
       "    <tr>\n",
       "      <th>2</th>\n",
       "      <td>0.180000</td>\n",
       "      <td>180000.0</td>\n",
       "      <td>0.229568</td>\n",
       "    </tr>\n",
       "    <tr>\n",
       "      <th>3</th>\n",
       "      <td>0.604000</td>\n",
       "      <td>604000.0</td>\n",
       "      <td>0.114784</td>\n",
       "    </tr>\n",
       "    <tr>\n",
       "      <th>4</th>\n",
       "      <td>0.510000</td>\n",
       "      <td>510000.0</td>\n",
       "      <td>0.185491</td>\n",
       "    </tr>\n",
       "    <tr>\n",
       "      <th>...</th>\n",
       "      <td>...</td>\n",
       "      <td>...</td>\n",
       "      <td>...</td>\n",
       "    </tr>\n",
       "    <tr>\n",
       "      <th>21592</th>\n",
       "      <td>0.360000</td>\n",
       "      <td>360000.0</td>\n",
       "      <td>0.025964</td>\n",
       "    </tr>\n",
       "    <tr>\n",
       "      <th>21593</th>\n",
       "      <td>0.400000</td>\n",
       "      <td>400000.0</td>\n",
       "      <td>0.133448</td>\n",
       "    </tr>\n",
       "    <tr>\n",
       "      <th>21594</th>\n",
       "      <td>0.402101</td>\n",
       "      <td>402101.0</td>\n",
       "      <td>0.030992</td>\n",
       "    </tr>\n",
       "    <tr>\n",
       "      <th>21595</th>\n",
       "      <td>0.400000</td>\n",
       "      <td>400000.0</td>\n",
       "      <td>0.054821</td>\n",
       "    </tr>\n",
       "    <tr>\n",
       "      <th>21596</th>\n",
       "      <td>0.325000</td>\n",
       "      <td>325000.0</td>\n",
       "      <td>0.024702</td>\n",
       "    </tr>\n",
       "  </tbody>\n",
       "</table>\n",
       "<p>21597 rows × 3 columns</p>\n",
       "</div>"
      ]
     },
     "metadata": {},
     "execution_count": 84
    }
   ],
   "metadata": {}
  },
  {
   "cell_type": "code",
   "execution_count": 85,
   "source": [
    "print(f\"The max price is {df['price_millions'].max()} million, min price is {df['price'].min()}\")"
   ],
   "outputs": [
    {
     "output_type": "stream",
     "name": "stdout",
     "text": [
      "The max price is 7.7 million, min price is 78000.0\n"
     ]
    }
   ],
   "metadata": {}
  },
  {
   "cell_type": "markdown",
   "source": [
    "## Price Frequency Histogram"
   ],
   "metadata": {}
  },
  {
   "cell_type": "code",
   "execution_count": 88,
   "source": [
    "ax = df.hist(column='price_millions',\n",
    "             bins='auto',\n",
    "             grid=False,\n",
    "             figsize=(8,5))\n",
    "\n",
    "ax = ax[0]\n",
    "for x in ax:\n",
    "\n",
    "    x.set_title(\"Distribution of Home Sale Price\", size=20)\n",
    "\n",
    "    # Set x-axis label\n",
    "    x.set_xlabel(\"Sale Price of Home\", labelpad=15, weight='bold', size=10)\n",
    "    x.xaxis.set_major_formatter(StrMethodFormatter('{x:,.0f}' + ' Million'))\n",
    "\n",
    "    # Set y-axis label\n",
    "    x.set_ylabel(\"Number of Homes Sold\", labelpad=15, weight='bold', size=10)\n",
    "    x.yaxis.set_major_formatter(StrMethodFormatter('{x:,g}'))\n"
   ],
   "outputs": [
    {
     "output_type": "display_data",
     "data": {
      "text/plain": [
       "<Figure size 576x360 with 1 Axes>"
      ],
      "image/png": "[encoded data removed]"
     },
     "metadata": {
      "needs_background": "light"
     }
    }
   ],
   "metadata": {}
  },
  {
   "cell_type": "markdown",
   "source": [
    "## Quality - Possible Errors"
   ],
   "metadata": {}
  },
  {
   "cell_type": "markdown",
   "source": [
    "- There could be outliers - such as hundreds of bathrooms - which doesn't make sense with square footage\n",
    "- Year could be in the future\n",
    "- price could be a negative number\n",
    "- datatype could be wrong - such as string for number of bedrooms"
   ],
   "metadata": {}
  },
  {
   "cell_type": "code",
   "execution_count": 89,
   "source": [
    "df.info()"
   ],
   "outputs": [
    {
     "output_type": "stream",
     "name": "stdout",
     "text": [
      "<class 'pandas.core.frame.DataFrame'>\n",
      "RangeIndex: 21597 entries, 0 to 21596\n",
      "Data columns (total 12 columns):\n",
      " #   Column          Non-Null Count  Dtype  \n",
      "---  ------          --------------  -----  \n",
      " 0   price           21597 non-null  float64\n",
      " 1   bedrooms        21597 non-null  int64  \n",
      " 2   bathrooms       21597 non-null  float64\n",
      " 3   sqft_living     21597 non-null  int64  \n",
      " 4   sqft_lot        21597 non-null  int64  \n",
      " 5   floors          21597 non-null  float64\n",
      " 6   waterfront      19221 non-null  float64\n",
      " 7   condition       21597 non-null  int64  \n",
      " 8   grade           21597 non-null  int64  \n",
      " 9   yr_built        21597 non-null  int64  \n",
      " 10  acres_lot       21597 non-null  float64\n",
      " 11  price_millions  21597 non-null  float64\n",
      "dtypes: float64(6), int64(6)\n",
      "memory usage: 2.0 MB\n"
     ]
    }
   ],
   "metadata": {}
  },
  {
   "cell_type": "code",
   "execution_count": 90,
   "source": [
    "# The only field that I retained containing NaN values is waterfront:\n",
    "df.isnull().sum()"
   ],
   "outputs": [
    {
     "output_type": "execute_result",
     "data": {
      "text/plain": [
       "price                0\n",
       "bedrooms             0\n",
       "bathrooms            0\n",
       "sqft_living          0\n",
       "sqft_lot             0\n",
       "floors               0\n",
       "waterfront        2376\n",
       "condition            0\n",
       "grade                0\n",
       "yr_built             0\n",
       "acres_lot            0\n",
       "price_millions       0\n",
       "dtype: int64"
      ]
     },
     "metadata": {},
     "execution_count": 90
    }
   ],
   "metadata": {}
  },
  {
   "cell_type": "markdown",
   "source": [
    "## Outliers using IQR\n",
    "- I'm not sure if I'll need to drop outliers\n",
    "- Nonetheless it was interesting to see where the extreme outliers are located."
   ],
   "metadata": {}
  },
  {
   "cell_type": "code",
   "execution_count": 91,
   "source": [
    "sns.boxplot(x=df['price_millions'])\n"
   ],
   "outputs": [
    {
     "output_type": "execute_result",
     "data": {
      "text/plain": [
       "<matplotlib.axes._subplots.AxesSubplot at 0x7fe775ec3b70>"
      ]
     },
     "metadata": {},
     "execution_count": 91
    },
    {
     "output_type": "display_data",
     "data": {
      "text/plain": [
       "<Figure size 432x288 with 1 Axes>"
      ],
      "image/png": "[encoded data removed]"
     },
     "metadata": {
      "needs_background": "light"
     }
    }
   ],
   "metadata": {}
  },
  {
   "cell_type": "code",
   "execution_count": 14,
   "source": [
    "sns.boxplot(x=df['acres_lot'])\n"
   ],
   "outputs": [
    {
     "output_type": "execute_result",
     "data": {
      "text/plain": [
       "<matplotlib.axes._subplots.AxesSubplot at 0x7fe78b75f9b0>"
      ]
     },
     "metadata": {},
     "execution_count": 14
    },
    {
     "output_type": "display_data",
     "data": {
      "text/plain": [
       "<Figure size 432x288 with 1 Axes>"
      ],
      "image/png": "[encoded data removed]"
     },
     "metadata": {
      "needs_background": "light"
     }
    }
   ],
   "metadata": {}
  },
  {
   "cell_type": "code",
   "execution_count": 15,
   "source": [
    "sns.boxplot(x=df['bedrooms'])\n"
   ],
   "outputs": [
    {
     "output_type": "execute_result",
     "data": {
      "text/plain": [
       "<matplotlib.axes._subplots.AxesSubplot at 0x7fe78b862940>"
      ]
     },
     "metadata": {},
     "execution_count": 15
    },
    {
     "output_type": "display_data",
     "data": {
      "text/plain": [
       "<Figure size 432x288 with 1 Axes>"
      ],
      "image/png": "[encoded data removed]"
     },
     "metadata": {
      "needs_background": "light"
     }
    }
   ],
   "metadata": {}
  },
  {
   "cell_type": "code",
   "execution_count": 16,
   "source": [
    "sns.boxplot(x=df['bathrooms'])\n"
   ],
   "outputs": [
    {
     "output_type": "execute_result",
     "data": {
      "text/plain": [
       "<matplotlib.axes._subplots.AxesSubplot at 0x7fe78b7b4940>"
      ]
     },
     "metadata": {},
     "execution_count": 16
    },
    {
     "output_type": "display_data",
     "data": {
      "text/plain": [
       "<Figure size 432x288 with 1 Axes>"
      ],
      "image/png": "[encoded data removed]"
     },
     "metadata": {
      "needs_background": "light"
     }
    }
   ],
   "metadata": {}
  },
  {
   "cell_type": "markdown",
   "source": [
    "## Outliers using Sorting"
   ],
   "metadata": {}
  },
  {
   "cell_type": "code",
   "execution_count": 93,
   "source": [
    "df.sort_values('price_millions', ascending = False).head(100)"
   ],
   "outputs": [
    {
     "output_type": "execute_result",
     "data": {
      "text/plain": [
       "           price  bedrooms  bathrooms  sqft_living  sqft_lot  floors  \\\n",
       "7245   7700000.0         6       8.00        12050     27600     2.5   \n",
       "3910   7060000.0         5       4.50        10040     37325     2.0   \n",
       "9245   6890000.0         6       7.75         9890     31374     2.0   \n",
       "4407   5570000.0         5       5.75         9200     35069     2.0   \n",
       "1446   5350000.0         5       5.00         8000     23985     2.0   \n",
       "...          ...       ...        ...          ...       ...     ...   \n",
       "3018   2530000.0         4       5.50         6930     45100     1.0   \n",
       "17544  2510000.0         3       3.25         5480     57990     2.0   \n",
       "7304   2500000.0         4       4.00         3330     24354     1.0   \n",
       "17137  2500000.0         4       3.75         3480     14850     1.0   \n",
       "7499   2500000.0         4       3.25         3960     16224     2.0   \n",
       "\n",
       "       waterfront  condition  grade  yr_built  acres_lot  price_millions  \n",
       "7245          0.0          4     13      1910   0.633609            7.70  \n",
       "3910          1.0          3     11      1940   0.856864            7.06  \n",
       "9245          0.0          3     13      2001   0.720248            6.89  \n",
       "4407          0.0          3     13      2001   0.805073            5.57  \n",
       "1446          0.0          3     12      2009   0.550620            5.35  \n",
       "...           ...        ...    ...       ...        ...             ...  \n",
       "3018          0.0          4     11      1950   1.035354            2.53  \n",
       "17544         1.0          3     11      1991   1.331267            2.51  \n",
       "7304          0.0          4     10      1961   0.559091            2.50  \n",
       "17137         NaN          3      9      1951   0.340909            2.50  \n",
       "7499          0.0          3     12      1938   0.372452            2.50  \n",
       "\n",
       "[100 rows x 12 columns]"
      ],
      "text/html": [
       "<div>\n",
       "<style scoped>\n",
       "    .dataframe tbody tr th:only-of-type {\n",
       "        vertical-align: middle;\n",
       "    }\n",
       "\n",
       "    .dataframe tbody tr th {\n",
       "        vertical-align: top;\n",
       "    }\n",
       "\n",
       "    .dataframe thead th {\n",
       "        text-align: right;\n",
       "    }\n",
       "</style>\n",
       "<table border=\"1\" class=\"dataframe\">\n",
       "  <thead>\n",
       "    <tr style=\"text-align: right;\">\n",
       "      <th></th>\n",
       "      <th>price</th>\n",
       "      <th>bedrooms</th>\n",
       "      <th>bathrooms</th>\n",
       "      <th>sqft_living</th>\n",
       "      <th>sqft_lot</th>\n",
       "      <th>floors</th>\n",
       "      <th>waterfront</th>\n",
       "      <th>condition</th>\n",
       "      <th>grade</th>\n",
       "      <th>yr_built</th>\n",
       "      <th>acres_lot</th>\n",
       "      <th>price_millions</th>\n",
       "    </tr>\n",
       "  </thead>\n",
       "  <tbody>\n",
       "    <tr>\n",
       "      <th>7245</th>\n",
       "      <td>7700000.0</td>\n",
       "      <td>6</td>\n",
       "      <td>8.00</td>\n",
       "      <td>12050</td>\n",
       "      <td>27600</td>\n",
       "      <td>2.5</td>\n",
       "      <td>0.0</td>\n",
       "      <td>4</td>\n",
       "      <td>13</td>\n",
       "      <td>1910</td>\n",
       "      <td>0.633609</td>\n",
       "      <td>7.70</td>\n",
       "    </tr>\n",
       "    <tr>\n",
       "      <th>3910</th>\n",
       "      <td>7060000.0</td>\n",
       "      <td>5</td>\n",
       "      <td>4.50</td>\n",
       "      <td>10040</td>\n",
       "      <td>37325</td>\n",
       "      <td>2.0</td>\n",
       "      <td>1.0</td>\n",
       "      <td>3</td>\n",
       "      <td>11</td>\n",
       "      <td>1940</td>\n",
       "      <td>0.856864</td>\n",
       "      <td>7.06</td>\n",
       "    </tr>\n",
       "    <tr>\n",
       "      <th>9245</th>\n",
       "      <td>6890000.0</td>\n",
       "      <td>6</td>\n",
       "      <td>7.75</td>\n",
       "      <td>9890</td>\n",
       "      <td>31374</td>\n",
       "      <td>2.0</td>\n",
       "      <td>0.0</td>\n",
       "      <td>3</td>\n",
       "      <td>13</td>\n",
       "      <td>2001</td>\n",
       "      <td>0.720248</td>\n",
       "      <td>6.89</td>\n",
       "    </tr>\n",
       "    <tr>\n",
       "      <th>4407</th>\n",
       "      <td>5570000.0</td>\n",
       "      <td>5</td>\n",
       "      <td>5.75</td>\n",
       "      <td>9200</td>\n",
       "      <td>35069</td>\n",
       "      <td>2.0</td>\n",
       "      <td>0.0</td>\n",
       "      <td>3</td>\n",
       "      <td>13</td>\n",
       "      <td>2001</td>\n",
       "      <td>0.805073</td>\n",
       "      <td>5.57</td>\n",
       "    </tr>\n",
       "    <tr>\n",
       "      <th>1446</th>\n",
       "      <td>5350000.0</td>\n",
       "      <td>5</td>\n",
       "      <td>5.00</td>\n",
       "      <td>8000</td>\n",
       "      <td>23985</td>\n",
       "      <td>2.0</td>\n",
       "      <td>0.0</td>\n",
       "      <td>3</td>\n",
       "      <td>12</td>\n",
       "      <td>2009</td>\n",
       "      <td>0.550620</td>\n",
       "      <td>5.35</td>\n",
       "    </tr>\n",
       "    <tr>\n",
       "      <th>...</th>\n",
       "      <td>...</td>\n",
       "      <td>...</td>\n",
       "      <td>...</td>\n",
       "      <td>...</td>\n",
       "      <td>...</td>\n",
       "      <td>...</td>\n",
       "      <td>...</td>\n",
       "      <td>...</td>\n",
       "      <td>...</td>\n",
       "      <td>...</td>\n",
       "      <td>...</td>\n",
       "      <td>...</td>\n",
       "    </tr>\n",
       "    <tr>\n",
       "      <th>3018</th>\n",
       "      <td>2530000.0</td>\n",
       "      <td>4</td>\n",
       "      <td>5.50</td>\n",
       "      <td>6930</td>\n",
       "      <td>45100</td>\n",
       "      <td>1.0</td>\n",
       "      <td>0.0</td>\n",
       "      <td>4</td>\n",
       "      <td>11</td>\n",
       "      <td>1950</td>\n",
       "      <td>1.035354</td>\n",
       "      <td>2.53</td>\n",
       "    </tr>\n",
       "    <tr>\n",
       "      <th>17544</th>\n",
       "      <td>2510000.0</td>\n",
       "      <td>3</td>\n",
       "      <td>3.25</td>\n",
       "      <td>5480</td>\n",
       "      <td>57990</td>\n",
       "      <td>2.0</td>\n",
       "      <td>1.0</td>\n",
       "      <td>3</td>\n",
       "      <td>11</td>\n",
       "      <td>1991</td>\n",
       "      <td>1.331267</td>\n",
       "      <td>2.51</td>\n",
       "    </tr>\n",
       "    <tr>\n",
       "      <th>7304</th>\n",
       "      <td>2500000.0</td>\n",
       "      <td>4</td>\n",
       "      <td>4.00</td>\n",
       "      <td>3330</td>\n",
       "      <td>24354</td>\n",
       "      <td>1.0</td>\n",
       "      <td>0.0</td>\n",
       "      <td>4</td>\n",
       "      <td>10</td>\n",
       "      <td>1961</td>\n",
       "      <td>0.559091</td>\n",
       "      <td>2.50</td>\n",
       "    </tr>\n",
       "    <tr>\n",
       "      <th>17137</th>\n",
       "      <td>2500000.0</td>\n",
       "      <td>4</td>\n",
       "      <td>3.75</td>\n",
       "      <td>3480</td>\n",
       "      <td>14850</td>\n",
       "      <td>1.0</td>\n",
       "      <td>NaN</td>\n",
       "      <td>3</td>\n",
       "      <td>9</td>\n",
       "      <td>1951</td>\n",
       "      <td>0.340909</td>\n",
       "      <td>2.50</td>\n",
       "    </tr>\n",
       "    <tr>\n",
       "      <th>7499</th>\n",
       "      <td>2500000.0</td>\n",
       "      <td>4</td>\n",
       "      <td>3.25</td>\n",
       "      <td>3960</td>\n",
       "      <td>16224</td>\n",
       "      <td>2.0</td>\n",
       "      <td>0.0</td>\n",
       "      <td>3</td>\n",
       "      <td>12</td>\n",
       "      <td>1938</td>\n",
       "      <td>0.372452</td>\n",
       "      <td>2.50</td>\n",
       "    </tr>\n",
       "  </tbody>\n",
       "</table>\n",
       "<p>100 rows × 12 columns</p>\n",
       "</div>"
      ]
     },
     "metadata": {},
     "execution_count": 93
    }
   ],
   "metadata": {}
  },
  {
   "cell_type": "code",
   "execution_count": 18,
   "source": [
    "df.sort_values('bedrooms', ascending = False).head(10)"
   ],
   "outputs": [
    {
     "output_type": "execute_result",
     "data": {
      "text/plain": [
       "           price  bedrooms  bathrooms  sqft_living  sqft_lot  floors  \\\n",
       "15856   640000.0        33       1.75         1620      6000     1.0   \n",
       "8748    520000.0        11       3.00         3000      4960     2.0   \n",
       "13301  1150000.0        10       5.25         4590     10920     1.0   \n",
       "19239   660000.0        10       3.00         2920      3745     2.0   \n",
       "15147   650000.0        10       2.00         3610     11914     2.0   \n",
       "6073   1280000.0         9       4.50         3650      5000     2.0   \n",
       "4231    700000.0         9       3.00         3680      4400     2.0   \n",
       "16830  1400000.0         9       4.00         4620      5508     2.5   \n",
       "8537    450000.0         9       7.50         4050      6504     2.0   \n",
       "4092    599999.0         9       4.50         3830      6988     2.5   \n",
       "\n",
       "       waterfront  condition  grade  yr_built  acres_lot  price_millions  \n",
       "15856         0.0          5      7      1947   0.137741        0.640000  \n",
       "8748          0.0          3      7      1918   0.113866        0.520000  \n",
       "13301         0.0          3      9      2008   0.250689        1.150000  \n",
       "19239         0.0          4      7      1913   0.085973        0.660000  \n",
       "15147         0.0          4      7      1958   0.273508        0.650000  \n",
       "6073          0.0          3      8      1915   0.114784        1.280000  \n",
       "4231          0.0          3      7      1908   0.101010        0.700000  \n",
       "16830         0.0          3     11      1915   0.126446        1.400000  \n",
       "8537          0.0          3      7      1996   0.149311        0.450000  \n",
       "4092          0.0          3      7      1938   0.160422        0.599999  "
      ],
      "text/html": [
       "<div>\n",
       "<style scoped>\n",
       "    .dataframe tbody tr th:only-of-type {\n",
       "        vertical-align: middle;\n",
       "    }\n",
       "\n",
       "    .dataframe tbody tr th {\n",
       "        vertical-align: top;\n",
       "    }\n",
       "\n",
       "    .dataframe thead th {\n",
       "        text-align: right;\n",
       "    }\n",
       "</style>\n",
       "<table border=\"1\" class=\"dataframe\">\n",
       "  <thead>\n",
       "    <tr style=\"text-align: right;\">\n",
       "      <th></th>\n",
       "      <th>price</th>\n",
       "      <th>bedrooms</th>\n",
       "      <th>bathrooms</th>\n",
       "      <th>sqft_living</th>\n",
       "      <th>sqft_lot</th>\n",
       "      <th>floors</th>\n",
       "      <th>waterfront</th>\n",
       "      <th>condition</th>\n",
       "      <th>grade</th>\n",
       "      <th>yr_built</th>\n",
       "      <th>acres_lot</th>\n",
       "      <th>price_millions</th>\n",
       "    </tr>\n",
       "  </thead>\n",
       "  <tbody>\n",
       "    <tr>\n",
       "      <th>15856</th>\n",
       "      <td>640000.0</td>\n",
       "      <td>33</td>\n",
       "      <td>1.75</td>\n",
       "      <td>1620</td>\n",
       "      <td>6000</td>\n",
       "      <td>1.0</td>\n",
       "      <td>0.0</td>\n",
       "      <td>5</td>\n",
       "      <td>7</td>\n",
       "      <td>1947</td>\n",
       "      <td>0.137741</td>\n",
       "      <td>0.640000</td>\n",
       "    </tr>\n",
       "    <tr>\n",
       "      <th>8748</th>\n",
       "      <td>520000.0</td>\n",
       "      <td>11</td>\n",
       "      <td>3.00</td>\n",
       "      <td>3000</td>\n",
       "      <td>4960</td>\n",
       "      <td>2.0</td>\n",
       "      <td>0.0</td>\n",
       "      <td>3</td>\n",
       "      <td>7</td>\n",
       "      <td>1918</td>\n",
       "      <td>0.113866</td>\n",
       "      <td>0.520000</td>\n",
       "    </tr>\n",
       "    <tr>\n",
       "      <th>13301</th>\n",
       "      <td>1150000.0</td>\n",
       "      <td>10</td>\n",
       "      <td>5.25</td>\n",
       "      <td>4590</td>\n",
       "      <td>10920</td>\n",
       "      <td>1.0</td>\n",
       "      <td>0.0</td>\n",
       "      <td>3</td>\n",
       "      <td>9</td>\n",
       "      <td>2008</td>\n",
       "      <td>0.250689</td>\n",
       "      <td>1.150000</td>\n",
       "    </tr>\n",
       "    <tr>\n",
       "      <th>19239</th>\n",
       "      <td>660000.0</td>\n",
       "      <td>10</td>\n",
       "      <td>3.00</td>\n",
       "      <td>2920</td>\n",
       "      <td>3745</td>\n",
       "      <td>2.0</td>\n",
       "      <td>0.0</td>\n",
       "      <td>4</td>\n",
       "      <td>7</td>\n",
       "      <td>1913</td>\n",
       "      <td>0.085973</td>\n",
       "      <td>0.660000</td>\n",
       "    </tr>\n",
       "    <tr>\n",
       "      <th>15147</th>\n",
       "      <td>650000.0</td>\n",
       "      <td>10</td>\n",
       "      <td>2.00</td>\n",
       "      <td>3610</td>\n",
       "      <td>11914</td>\n",
       "      <td>2.0</td>\n",
       "      <td>0.0</td>\n",
       "      <td>4</td>\n",
       "      <td>7</td>\n",
       "      <td>1958</td>\n",
       "      <td>0.273508</td>\n",
       "      <td>0.650000</td>\n",
       "    </tr>\n",
       "    <tr>\n",
       "      <th>6073</th>\n",
       "      <td>1280000.0</td>\n",
       "      <td>9</td>\n",
       "      <td>4.50</td>\n",
       "      <td>3650</td>\n",
       "      <td>5000</td>\n",
       "      <td>2.0</td>\n",
       "      <td>0.0</td>\n",
       "      <td>3</td>\n",
       "      <td>8</td>\n",
       "      <td>1915</td>\n",
       "      <td>0.114784</td>\n",
       "      <td>1.280000</td>\n",
       "    </tr>\n",
       "    <tr>\n",
       "      <th>4231</th>\n",
       "      <td>700000.0</td>\n",
       "      <td>9</td>\n",
       "      <td>3.00</td>\n",
       "      <td>3680</td>\n",
       "      <td>4400</td>\n",
       "      <td>2.0</td>\n",
       "      <td>0.0</td>\n",
       "      <td>3</td>\n",
       "      <td>7</td>\n",
       "      <td>1908</td>\n",
       "      <td>0.101010</td>\n",
       "      <td>0.700000</td>\n",
       "    </tr>\n",
       "    <tr>\n",
       "      <th>16830</th>\n",
       "      <td>1400000.0</td>\n",
       "      <td>9</td>\n",
       "      <td>4.00</td>\n",
       "      <td>4620</td>\n",
       "      <td>5508</td>\n",
       "      <td>2.5</td>\n",
       "      <td>0.0</td>\n",
       "      <td>3</td>\n",
       "      <td>11</td>\n",
       "      <td>1915</td>\n",
       "      <td>0.126446</td>\n",
       "      <td>1.400000</td>\n",
       "    </tr>\n",
       "    <tr>\n",
       "      <th>8537</th>\n",
       "      <td>450000.0</td>\n",
       "      <td>9</td>\n",
       "      <td>7.50</td>\n",
       "      <td>4050</td>\n",
       "      <td>6504</td>\n",
       "      <td>2.0</td>\n",
       "      <td>0.0</td>\n",
       "      <td>3</td>\n",
       "      <td>7</td>\n",
       "      <td>1996</td>\n",
       "      <td>0.149311</td>\n",
       "      <td>0.450000</td>\n",
       "    </tr>\n",
       "    <tr>\n",
       "      <th>4092</th>\n",
       "      <td>599999.0</td>\n",
       "      <td>9</td>\n",
       "      <td>4.50</td>\n",
       "      <td>3830</td>\n",
       "      <td>6988</td>\n",
       "      <td>2.5</td>\n",
       "      <td>0.0</td>\n",
       "      <td>3</td>\n",
       "      <td>7</td>\n",
       "      <td>1938</td>\n",
       "      <td>0.160422</td>\n",
       "      <td>0.599999</td>\n",
       "    </tr>\n",
       "  </tbody>\n",
       "</table>\n",
       "</div>"
      ]
     },
     "metadata": {},
     "execution_count": 18
    }
   ],
   "metadata": {}
  },
  {
   "cell_type": "code",
   "execution_count": 19,
   "source": [
    "df.sort_values('bathrooms', ascending = False).head(10)"
   ],
   "outputs": [
    {
     "output_type": "execute_result",
     "data": {
      "text/plain": [
       "           price  bedrooms  bathrooms  sqft_living  sqft_lot  floors  \\\n",
       "12764  2280000.0         7       8.00        13540    307752     3.0   \n",
       "7245   7700000.0         6       8.00        12050     27600     2.5   \n",
       "9245   6890000.0         6       7.75         9890     31374     2.0   \n",
       "8537    450000.0         9       7.50         4050      6504     2.0   \n",
       "4020    800000.0         7       6.75         7480     41664     2.0   \n",
       "8085   4670000.0         5       6.75         9640     13068     1.0   \n",
       "20562  1180000.0         6       6.50         6260     10955     2.0   \n",
       "21490  2240000.0         5       6.50         7270    130017     2.0   \n",
       "14542  2890000.0         5       6.25         8670     64033     2.0   \n",
       "18288  3300000.0         5       6.25         8020     21738     2.0   \n",
       "\n",
       "       waterfront  condition  grade  yr_built  acres_lot  price_millions  \n",
       "12764         0.0          3     12      1999   7.065014            2.28  \n",
       "7245          0.0          4     13      1910   0.633609            7.70  \n",
       "9245          0.0          3     13      2001   0.720248            6.89  \n",
       "8537          0.0          3      7      1996   0.149311            0.45  \n",
       "4020          0.0          3     11      1953   0.956474            0.80  \n",
       "8085          1.0          3     12      1983   0.300000            4.67  \n",
       "20562         NaN          3     11      2007   0.251492            1.18  \n",
       "21490         0.0          3     12      2010   2.984780            2.24  \n",
       "14542         0.0          3     13      1965   1.469995            2.89  \n",
       "18288         0.0          3     11      2001   0.499036            3.30  "
      ],
      "text/html": [
       "<div>\n",
       "<style scoped>\n",
       "    .dataframe tbody tr th:only-of-type {\n",
       "        vertical-align: middle;\n",
       "    }\n",
       "\n",
       "    .dataframe tbody tr th {\n",
       "        vertical-align: top;\n",
       "    }\n",
       "\n",
       "    .dataframe thead th {\n",
       "        text-align: right;\n",
       "    }\n",
       "</style>\n",
       "<table border=\"1\" class=\"dataframe\">\n",
       "  <thead>\n",
       "    <tr style=\"text-align: right;\">\n",
       "      <th></th>\n",
       "      <th>price</th>\n",
       "      <th>bedrooms</th>\n",
       "      <th>bathrooms</th>\n",
       "      <th>sqft_living</th>\n",
       "      <th>sqft_lot</th>\n",
       "      <th>floors</th>\n",
       "      <th>waterfront</th>\n",
       "      <th>condition</th>\n",
       "      <th>grade</th>\n",
       "      <th>yr_built</th>\n",
       "      <th>acres_lot</th>\n",
       "      <th>price_millions</th>\n",
       "    </tr>\n",
       "  </thead>\n",
       "  <tbody>\n",
       "    <tr>\n",
       "      <th>12764</th>\n",
       "      <td>2280000.0</td>\n",
       "      <td>7</td>\n",
       "      <td>8.00</td>\n",
       "      <td>13540</td>\n",
       "      <td>307752</td>\n",
       "      <td>3.0</td>\n",
       "      <td>0.0</td>\n",
       "      <td>3</td>\n",
       "      <td>12</td>\n",
       "      <td>1999</td>\n",
       "      <td>7.065014</td>\n",
       "      <td>2.28</td>\n",
       "    </tr>\n",
       "    <tr>\n",
       "      <th>7245</th>\n",
       "      <td>7700000.0</td>\n",
       "      <td>6</td>\n",
       "      <td>8.00</td>\n",
       "      <td>12050</td>\n",
       "      <td>27600</td>\n",
       "      <td>2.5</td>\n",
       "      <td>0.0</td>\n",
       "      <td>4</td>\n",
       "      <td>13</td>\n",
       "      <td>1910</td>\n",
       "      <td>0.633609</td>\n",
       "      <td>7.70</td>\n",
       "    </tr>\n",
       "    <tr>\n",
       "      <th>9245</th>\n",
       "      <td>6890000.0</td>\n",
       "      <td>6</td>\n",
       "      <td>7.75</td>\n",
       "      <td>9890</td>\n",
       "      <td>31374</td>\n",
       "      <td>2.0</td>\n",
       "      <td>0.0</td>\n",
       "      <td>3</td>\n",
       "      <td>13</td>\n",
       "      <td>2001</td>\n",
       "      <td>0.720248</td>\n",
       "      <td>6.89</td>\n",
       "    </tr>\n",
       "    <tr>\n",
       "      <th>8537</th>\n",
       "      <td>450000.0</td>\n",
       "      <td>9</td>\n",
       "      <td>7.50</td>\n",
       "      <td>4050</td>\n",
       "      <td>6504</td>\n",
       "      <td>2.0</td>\n",
       "      <td>0.0</td>\n",
       "      <td>3</td>\n",
       "      <td>7</td>\n",
       "      <td>1996</td>\n",
       "      <td>0.149311</td>\n",
       "      <td>0.45</td>\n",
       "    </tr>\n",
       "    <tr>\n",
       "      <th>4020</th>\n",
       "      <td>800000.0</td>\n",
       "      <td>7</td>\n",
       "      <td>6.75</td>\n",
       "      <td>7480</td>\n",
       "      <td>41664</td>\n",
       "      <td>2.0</td>\n",
       "      <td>0.0</td>\n",
       "      <td>3</td>\n",
       "      <td>11</td>\n",
       "      <td>1953</td>\n",
       "      <td>0.956474</td>\n",
       "      <td>0.80</td>\n",
       "    </tr>\n",
       "    <tr>\n",
       "      <th>8085</th>\n",
       "      <td>4670000.0</td>\n",
       "      <td>5</td>\n",
       "      <td>6.75</td>\n",
       "      <td>9640</td>\n",
       "      <td>13068</td>\n",
       "      <td>1.0</td>\n",
       "      <td>1.0</td>\n",
       "      <td>3</td>\n",
       "      <td>12</td>\n",
       "      <td>1983</td>\n",
       "      <td>0.300000</td>\n",
       "      <td>4.67</td>\n",
       "    </tr>\n",
       "    <tr>\n",
       "      <th>20562</th>\n",
       "      <td>1180000.0</td>\n",
       "      <td>6</td>\n",
       "      <td>6.50</td>\n",
       "      <td>6260</td>\n",
       "      <td>10955</td>\n",
       "      <td>2.0</td>\n",
       "      <td>NaN</td>\n",
       "      <td>3</td>\n",
       "      <td>11</td>\n",
       "      <td>2007</td>\n",
       "      <td>0.251492</td>\n",
       "      <td>1.18</td>\n",
       "    </tr>\n",
       "    <tr>\n",
       "      <th>21490</th>\n",
       "      <td>2240000.0</td>\n",
       "      <td>5</td>\n",
       "      <td>6.50</td>\n",
       "      <td>7270</td>\n",
       "      <td>130017</td>\n",
       "      <td>2.0</td>\n",
       "      <td>0.0</td>\n",
       "      <td>3</td>\n",
       "      <td>12</td>\n",
       "      <td>2010</td>\n",
       "      <td>2.984780</td>\n",
       "      <td>2.24</td>\n",
       "    </tr>\n",
       "    <tr>\n",
       "      <th>14542</th>\n",
       "      <td>2890000.0</td>\n",
       "      <td>5</td>\n",
       "      <td>6.25</td>\n",
       "      <td>8670</td>\n",
       "      <td>64033</td>\n",
       "      <td>2.0</td>\n",
       "      <td>0.0</td>\n",
       "      <td>3</td>\n",
       "      <td>13</td>\n",
       "      <td>1965</td>\n",
       "      <td>1.469995</td>\n",
       "      <td>2.89</td>\n",
       "    </tr>\n",
       "    <tr>\n",
       "      <th>18288</th>\n",
       "      <td>3300000.0</td>\n",
       "      <td>5</td>\n",
       "      <td>6.25</td>\n",
       "      <td>8020</td>\n",
       "      <td>21738</td>\n",
       "      <td>2.0</td>\n",
       "      <td>0.0</td>\n",
       "      <td>3</td>\n",
       "      <td>11</td>\n",
       "      <td>2001</td>\n",
       "      <td>0.499036</td>\n",
       "      <td>3.30</td>\n",
       "    </tr>\n",
       "  </tbody>\n",
       "</table>\n",
       "</div>"
      ]
     },
     "metadata": {},
     "execution_count": 19
    }
   ],
   "metadata": {}
  },
  {
   "cell_type": "code",
   "execution_count": 20,
   "source": [
    "df.sort_values('sqft_living', ascending = False).head(10)"
   ],
   "outputs": [
    {
     "output_type": "execute_result",
     "data": {
      "text/plain": [
       "           price  bedrooms  bathrooms  sqft_living  sqft_lot  floors  \\\n",
       "12764  2280000.0         7       8.00        13540    307752     3.0   \n",
       "7245   7700000.0         6       8.00        12050     27600     2.5   \n",
       "3910   7060000.0         5       4.50        10040     37325     2.0   \n",
       "9245   6890000.0         6       7.75         9890     31374     2.0   \n",
       "8085   4670000.0         5       6.75         9640     13068     1.0   \n",
       "4407   5570000.0         5       5.75         9200     35069     2.0   \n",
       "14542  2890000.0         5       6.25         8670     64033     2.0   \n",
       "18288  3300000.0         5       6.25         8020     21738     2.0   \n",
       "1162   5110000.0         5       5.25         8010     45517     2.0   \n",
       "1446   5350000.0         5       5.00         8000     23985     2.0   \n",
       "\n",
       "       waterfront  condition  grade  yr_built  acres_lot  price_millions  \n",
       "12764         0.0          3     12      1999   7.065014            2.28  \n",
       "7245          0.0          4     13      1910   0.633609            7.70  \n",
       "3910          1.0          3     11      1940   0.856864            7.06  \n",
       "9245          0.0          3     13      2001   0.720248            6.89  \n",
       "8085          1.0          3     12      1983   0.300000            4.67  \n",
       "4407          0.0          3     13      2001   0.805073            5.57  \n",
       "14542         0.0          3     13      1965   1.469995            2.89  \n",
       "18288         0.0          3     11      2001   0.499036            3.30  \n",
       "1162          1.0          3     12      1999   1.044927            5.11  \n",
       "1446          0.0          3     12      2009   0.550620            5.35  "
      ],
      "text/html": [
       "<div>\n",
       "<style scoped>\n",
       "    .dataframe tbody tr th:only-of-type {\n",
       "        vertical-align: middle;\n",
       "    }\n",
       "\n",
       "    .dataframe tbody tr th {\n",
       "        vertical-align: top;\n",
       "    }\n",
       "\n",
       "    .dataframe thead th {\n",
       "        text-align: right;\n",
       "    }\n",
       "</style>\n",
       "<table border=\"1\" class=\"dataframe\">\n",
       "  <thead>\n",
       "    <tr style=\"text-align: right;\">\n",
       "      <th></th>\n",
       "      <th>price</th>\n",
       "      <th>bedrooms</th>\n",
       "      <th>bathrooms</th>\n",
       "      <th>sqft_living</th>\n",
       "      <th>sqft_lot</th>\n",
       "      <th>floors</th>\n",
       "      <th>waterfront</th>\n",
       "      <th>condition</th>\n",
       "      <th>grade</th>\n",
       "      <th>yr_built</th>\n",
       "      <th>acres_lot</th>\n",
       "      <th>price_millions</th>\n",
       "    </tr>\n",
       "  </thead>\n",
       "  <tbody>\n",
       "    <tr>\n",
       "      <th>12764</th>\n",
       "      <td>2280000.0</td>\n",
       "      <td>7</td>\n",
       "      <td>8.00</td>\n",
       "      <td>13540</td>\n",
       "      <td>307752</td>\n",
       "      <td>3.0</td>\n",
       "      <td>0.0</td>\n",
       "      <td>3</td>\n",
       "      <td>12</td>\n",
       "      <td>1999</td>\n",
       "      <td>7.065014</td>\n",
       "      <td>2.28</td>\n",
       "    </tr>\n",
       "    <tr>\n",
       "      <th>7245</th>\n",
       "      <td>7700000.0</td>\n",
       "      <td>6</td>\n",
       "      <td>8.00</td>\n",
       "      <td>12050</td>\n",
       "      <td>27600</td>\n",
       "      <td>2.5</td>\n",
       "      <td>0.0</td>\n",
       "      <td>4</td>\n",
       "      <td>13</td>\n",
       "      <td>1910</td>\n",
       "      <td>0.633609</td>\n",
       "      <td>7.70</td>\n",
       "    </tr>\n",
       "    <tr>\n",
       "      <th>3910</th>\n",
       "      <td>7060000.0</td>\n",
       "      <td>5</td>\n",
       "      <td>4.50</td>\n",
       "      <td>10040</td>\n",
       "      <td>37325</td>\n",
       "      <td>2.0</td>\n",
       "      <td>1.0</td>\n",
       "      <td>3</td>\n",
       "      <td>11</td>\n",
       "      <td>1940</td>\n",
       "      <td>0.856864</td>\n",
       "      <td>7.06</td>\n",
       "    </tr>\n",
       "    <tr>\n",
       "      <th>9245</th>\n",
       "      <td>6890000.0</td>\n",
       "      <td>6</td>\n",
       "      <td>7.75</td>\n",
       "      <td>9890</td>\n",
       "      <td>31374</td>\n",
       "      <td>2.0</td>\n",
       "      <td>0.0</td>\n",
       "      <td>3</td>\n",
       "      <td>13</td>\n",
       "      <td>2001</td>\n",
       "      <td>0.720248</td>\n",
       "      <td>6.89</td>\n",
       "    </tr>\n",
       "    <tr>\n",
       "      <th>8085</th>\n",
       "      <td>4670000.0</td>\n",
       "      <td>5</td>\n",
       "      <td>6.75</td>\n",
       "      <td>9640</td>\n",
       "      <td>13068</td>\n",
       "      <td>1.0</td>\n",
       "      <td>1.0</td>\n",
       "      <td>3</td>\n",
       "      <td>12</td>\n",
       "      <td>1983</td>\n",
       "      <td>0.300000</td>\n",
       "      <td>4.67</td>\n",
       "    </tr>\n",
       "    <tr>\n",
       "      <th>4407</th>\n",
       "      <td>5570000.0</td>\n",
       "      <td>5</td>\n",
       "      <td>5.75</td>\n",
       "      <td>9200</td>\n",
       "      <td>35069</td>\n",
       "      <td>2.0</td>\n",
       "      <td>0.0</td>\n",
       "      <td>3</td>\n",
       "      <td>13</td>\n",
       "      <td>2001</td>\n",
       "      <td>0.805073</td>\n",
       "      <td>5.57</td>\n",
       "    </tr>\n",
       "    <tr>\n",
       "      <th>14542</th>\n",
       "      <td>2890000.0</td>\n",
       "      <td>5</td>\n",
       "      <td>6.25</td>\n",
       "      <td>8670</td>\n",
       "      <td>64033</td>\n",
       "      <td>2.0</td>\n",
       "      <td>0.0</td>\n",
       "      <td>3</td>\n",
       "      <td>13</td>\n",
       "      <td>1965</td>\n",
       "      <td>1.469995</td>\n",
       "      <td>2.89</td>\n",
       "    </tr>\n",
       "    <tr>\n",
       "      <th>18288</th>\n",
       "      <td>3300000.0</td>\n",
       "      <td>5</td>\n",
       "      <td>6.25</td>\n",
       "      <td>8020</td>\n",
       "      <td>21738</td>\n",
       "      <td>2.0</td>\n",
       "      <td>0.0</td>\n",
       "      <td>3</td>\n",
       "      <td>11</td>\n",
       "      <td>2001</td>\n",
       "      <td>0.499036</td>\n",
       "      <td>3.30</td>\n",
       "    </tr>\n",
       "    <tr>\n",
       "      <th>1162</th>\n",
       "      <td>5110000.0</td>\n",
       "      <td>5</td>\n",
       "      <td>5.25</td>\n",
       "      <td>8010</td>\n",
       "      <td>45517</td>\n",
       "      <td>2.0</td>\n",
       "      <td>1.0</td>\n",
       "      <td>3</td>\n",
       "      <td>12</td>\n",
       "      <td>1999</td>\n",
       "      <td>1.044927</td>\n",
       "      <td>5.11</td>\n",
       "    </tr>\n",
       "    <tr>\n",
       "      <th>1446</th>\n",
       "      <td>5350000.0</td>\n",
       "      <td>5</td>\n",
       "      <td>5.00</td>\n",
       "      <td>8000</td>\n",
       "      <td>23985</td>\n",
       "      <td>2.0</td>\n",
       "      <td>0.0</td>\n",
       "      <td>3</td>\n",
       "      <td>12</td>\n",
       "      <td>2009</td>\n",
       "      <td>0.550620</td>\n",
       "      <td>5.35</td>\n",
       "    </tr>\n",
       "  </tbody>\n",
       "</table>\n",
       "</div>"
      ]
     },
     "metadata": {},
     "execution_count": 20
    }
   ],
   "metadata": {}
  },
  {
   "cell_type": "code",
   "execution_count": 21,
   "source": [
    "df.sort_values('acres_lot', ascending = False).head(10)"
   ],
   "outputs": [
    {
     "output_type": "execute_result",
     "data": {
      "text/plain": [
       "           price  bedrooms  bathrooms  sqft_living  sqft_lot  floors  \\\n",
       "1717    700000.0         4       1.00         1300   1651359     1.0   \n",
       "17305   190000.0         2       1.00          710   1164794     1.0   \n",
       "7640    542500.0         5       3.25         3010   1074218     1.5   \n",
       "7762    855000.0         4       3.50         4030   1024068     2.0   \n",
       "3945    998000.0         4       3.25         3770    982998     2.0   \n",
       "4437    790000.0         2       3.00         2560    982278     1.0   \n",
       "6685   2000000.0         2       2.50         3900    920423     2.0   \n",
       "7070   1650000.0         4       3.25         3920    881654     3.0   \n",
       "9705    937500.0         4       4.00         5545    871200     2.0   \n",
       "20436  1600000.0         4       5.50         6530    871200     2.0   \n",
       "\n",
       "       waterfront  condition  grade  yr_built  acres_lot  price_millions  \n",
       "1717          0.0          4      6      1920  37.909986          0.7000  \n",
       "17305         0.0          2      5      1915  26.739991          0.1900  \n",
       "7640          NaN          5      8      1931  24.660652          0.5425  \n",
       "7762          0.0          3     10      2006  23.509366          0.8550  \n",
       "3945          0.0          3     10      1992  22.566529          0.9980  \n",
       "4437          0.0          3      8      2004  22.550000          0.7900  \n",
       "6685          0.0          3     12      2009  21.130005          2.0000  \n",
       "7070          NaN          3     11      2002  20.239991          1.6500  \n",
       "9705          0.0          3     11      2003  20.000000          0.9375  \n",
       "20436         0.0          3     11      2008  20.000000          1.6000  "
      ],
      "text/html": [
       "<div>\n",
       "<style scoped>\n",
       "    .dataframe tbody tr th:only-of-type {\n",
       "        vertical-align: middle;\n",
       "    }\n",
       "\n",
       "    .dataframe tbody tr th {\n",
       "        vertical-align: top;\n",
       "    }\n",
       "\n",
       "    .dataframe thead th {\n",
       "        text-align: right;\n",
       "    }\n",
       "</style>\n",
       "<table border=\"1\" class=\"dataframe\">\n",
       "  <thead>\n",
       "    <tr style=\"text-align: right;\">\n",
       "      <th></th>\n",
       "      <th>price</th>\n",
       "      <th>bedrooms</th>\n",
       "      <th>bathrooms</th>\n",
       "      <th>sqft_living</th>\n",
       "      <th>sqft_lot</th>\n",
       "      <th>floors</th>\n",
       "      <th>waterfront</th>\n",
       "      <th>condition</th>\n",
       "      <th>grade</th>\n",
       "      <th>yr_built</th>\n",
       "      <th>acres_lot</th>\n",
       "      <th>price_millions</th>\n",
       "    </tr>\n",
       "  </thead>\n",
       "  <tbody>\n",
       "    <tr>\n",
       "      <th>1717</th>\n",
       "      <td>700000.0</td>\n",
       "      <td>4</td>\n",
       "      <td>1.00</td>\n",
       "      <td>1300</td>\n",
       "      <td>1651359</td>\n",
       "      <td>1.0</td>\n",
       "      <td>0.0</td>\n",
       "      <td>4</td>\n",
       "      <td>6</td>\n",
       "      <td>1920</td>\n",
       "      <td>37.909986</td>\n",
       "      <td>0.7000</td>\n",
       "    </tr>\n",
       "    <tr>\n",
       "      <th>17305</th>\n",
       "      <td>190000.0</td>\n",
       "      <td>2</td>\n",
       "      <td>1.00</td>\n",
       "      <td>710</td>\n",
       "      <td>1164794</td>\n",
       "      <td>1.0</td>\n",
       "      <td>0.0</td>\n",
       "      <td>2</td>\n",
       "      <td>5</td>\n",
       "      <td>1915</td>\n",
       "      <td>26.739991</td>\n",
       "      <td>0.1900</td>\n",
       "    </tr>\n",
       "    <tr>\n",
       "      <th>7640</th>\n",
       "      <td>542500.0</td>\n",
       "      <td>5</td>\n",
       "      <td>3.25</td>\n",
       "      <td>3010</td>\n",
       "      <td>1074218</td>\n",
       "      <td>1.5</td>\n",
       "      <td>NaN</td>\n",
       "      <td>5</td>\n",
       "      <td>8</td>\n",
       "      <td>1931</td>\n",
       "      <td>24.660652</td>\n",
       "      <td>0.5425</td>\n",
       "    </tr>\n",
       "    <tr>\n",
       "      <th>7762</th>\n",
       "      <td>855000.0</td>\n",
       "      <td>4</td>\n",
       "      <td>3.50</td>\n",
       "      <td>4030</td>\n",
       "      <td>1024068</td>\n",
       "      <td>2.0</td>\n",
       "      <td>0.0</td>\n",
       "      <td>3</td>\n",
       "      <td>10</td>\n",
       "      <td>2006</td>\n",
       "      <td>23.509366</td>\n",
       "      <td>0.8550</td>\n",
       "    </tr>\n",
       "    <tr>\n",
       "      <th>3945</th>\n",
       "      <td>998000.0</td>\n",
       "      <td>4</td>\n",
       "      <td>3.25</td>\n",
       "      <td>3770</td>\n",
       "      <td>982998</td>\n",
       "      <td>2.0</td>\n",
       "      <td>0.0</td>\n",
       "      <td>3</td>\n",
       "      <td>10</td>\n",
       "      <td>1992</td>\n",
       "      <td>22.566529</td>\n",
       "      <td>0.9980</td>\n",
       "    </tr>\n",
       "    <tr>\n",
       "      <th>4437</th>\n",
       "      <td>790000.0</td>\n",
       "      <td>2</td>\n",
       "      <td>3.00</td>\n",
       "      <td>2560</td>\n",
       "      <td>982278</td>\n",
       "      <td>1.0</td>\n",
       "      <td>0.0</td>\n",
       "      <td>3</td>\n",
       "      <td>8</td>\n",
       "      <td>2004</td>\n",
       "      <td>22.550000</td>\n",
       "      <td>0.7900</td>\n",
       "    </tr>\n",
       "    <tr>\n",
       "      <th>6685</th>\n",
       "      <td>2000000.0</td>\n",
       "      <td>2</td>\n",
       "      <td>2.50</td>\n",
       "      <td>3900</td>\n",
       "      <td>920423</td>\n",
       "      <td>2.0</td>\n",
       "      <td>0.0</td>\n",
       "      <td>3</td>\n",
       "      <td>12</td>\n",
       "      <td>2009</td>\n",
       "      <td>21.130005</td>\n",
       "      <td>2.0000</td>\n",
       "    </tr>\n",
       "    <tr>\n",
       "      <th>7070</th>\n",
       "      <td>1650000.0</td>\n",
       "      <td>4</td>\n",
       "      <td>3.25</td>\n",
       "      <td>3920</td>\n",
       "      <td>881654</td>\n",
       "      <td>3.0</td>\n",
       "      <td>NaN</td>\n",
       "      <td>3</td>\n",
       "      <td>11</td>\n",
       "      <td>2002</td>\n",
       "      <td>20.239991</td>\n",
       "      <td>1.6500</td>\n",
       "    </tr>\n",
       "    <tr>\n",
       "      <th>9705</th>\n",
       "      <td>937500.0</td>\n",
       "      <td>4</td>\n",
       "      <td>4.00</td>\n",
       "      <td>5545</td>\n",
       "      <td>871200</td>\n",
       "      <td>2.0</td>\n",
       "      <td>0.0</td>\n",
       "      <td>3</td>\n",
       "      <td>11</td>\n",
       "      <td>2003</td>\n",
       "      <td>20.000000</td>\n",
       "      <td>0.9375</td>\n",
       "    </tr>\n",
       "    <tr>\n",
       "      <th>20436</th>\n",
       "      <td>1600000.0</td>\n",
       "      <td>4</td>\n",
       "      <td>5.50</td>\n",
       "      <td>6530</td>\n",
       "      <td>871200</td>\n",
       "      <td>2.0</td>\n",
       "      <td>0.0</td>\n",
       "      <td>3</td>\n",
       "      <td>11</td>\n",
       "      <td>2008</td>\n",
       "      <td>20.000000</td>\n",
       "      <td>1.6000</td>\n",
       "    </tr>\n",
       "  </tbody>\n",
       "</table>\n",
       "</div>"
      ]
     },
     "metadata": {},
     "execution_count": 21
    }
   ],
   "metadata": {}
  },
  {
   "cell_type": "markdown",
   "source": [
    "## Descriptive Statistics Table"
   ],
   "metadata": {}
  },
  {
   "cell_type": "code",
   "execution_count": 22,
   "source": [
    "format_dict = {'bedrooms' : '{:.2f}', 'bathrooms' : '{:.2f}', 'floors' : '{:.2f}', 'sqft_living' : '{:20,.2f}', 'sqft_lot' : '{:20,.2f}', 'acres_lot' : '{:.2f}',  'price' : '${:20,.0f}', 'yr_built' : '{:.0f}'}\n",
    "df[['price', 'yr_built', 'bedrooms', 'bathrooms', 'floors', 'sqft_living', 'sqft_lot', 'acres_lot']].describe().style.format(format_dict)"
   ],
   "outputs": [
    {
     "output_type": "execute_result",
     "data": {
      "text/plain": [
       "<pandas.io.formats.style.Styler at 0x7fe78bd60860>"
      ],
      "text/html": [
       "<style  type=\"text/css\" >\n",
       "</style><table id=\"T_5e90f582_ed31_11eb_a7a4_f079600ee336\" ><thead>    <tr>        <th class=\"blank level0\" ></th>        <th class=\"col_heading level0 col0\" >price</th>        <th class=\"col_heading level0 col1\" >yr_built</th>        <th class=\"col_heading level0 col2\" >bedrooms</th>        <th class=\"col_heading level0 col3\" >bathrooms</th>        <th class=\"col_heading level0 col4\" >floors</th>        <th class=\"col_heading level0 col5\" >sqft_living</th>        <th class=\"col_heading level0 col6\" >sqft_lot</th>        <th class=\"col_heading level0 col7\" >acres_lot</th>    </tr></thead><tbody>\n",
       "                <tr>\n",
       "                        <th id=\"T_5e90f582_ed31_11eb_a7a4_f079600ee336level0_row0\" class=\"row_heading level0 row0\" >count</th>\n",
       "                        <td id=\"T_5e90f582_ed31_11eb_a7a4_f079600ee336row0_col0\" class=\"data row0 col0\" >$              21,597</td>\n",
       "                        <td id=\"T_5e90f582_ed31_11eb_a7a4_f079600ee336row0_col1\" class=\"data row0 col1\" >21597</td>\n",
       "                        <td id=\"T_5e90f582_ed31_11eb_a7a4_f079600ee336row0_col2\" class=\"data row0 col2\" >21597.00</td>\n",
       "                        <td id=\"T_5e90f582_ed31_11eb_a7a4_f079600ee336row0_col3\" class=\"data row0 col3\" >21597.00</td>\n",
       "                        <td id=\"T_5e90f582_ed31_11eb_a7a4_f079600ee336row0_col4\" class=\"data row0 col4\" >21597.00</td>\n",
       "                        <td id=\"T_5e90f582_ed31_11eb_a7a4_f079600ee336row0_col5\" class=\"data row0 col5\" >           21,597.00</td>\n",
       "                        <td id=\"T_5e90f582_ed31_11eb_a7a4_f079600ee336row0_col6\" class=\"data row0 col6\" >           21,597.00</td>\n",
       "                        <td id=\"T_5e90f582_ed31_11eb_a7a4_f079600ee336row0_col7\" class=\"data row0 col7\" >21597.00</td>\n",
       "            </tr>\n",
       "            <tr>\n",
       "                        <th id=\"T_5e90f582_ed31_11eb_a7a4_f079600ee336level0_row1\" class=\"row_heading level0 row1\" >mean</th>\n",
       "                        <td id=\"T_5e90f582_ed31_11eb_a7a4_f079600ee336row1_col0\" class=\"data row1 col0\" >$             540,297</td>\n",
       "                        <td id=\"T_5e90f582_ed31_11eb_a7a4_f079600ee336row1_col1\" class=\"data row1 col1\" >1971</td>\n",
       "                        <td id=\"T_5e90f582_ed31_11eb_a7a4_f079600ee336row1_col2\" class=\"data row1 col2\" >3.37</td>\n",
       "                        <td id=\"T_5e90f582_ed31_11eb_a7a4_f079600ee336row1_col3\" class=\"data row1 col3\" >2.12</td>\n",
       "                        <td id=\"T_5e90f582_ed31_11eb_a7a4_f079600ee336row1_col4\" class=\"data row1 col4\" >1.49</td>\n",
       "                        <td id=\"T_5e90f582_ed31_11eb_a7a4_f079600ee336row1_col5\" class=\"data row1 col5\" >            2,080.32</td>\n",
       "                        <td id=\"T_5e90f582_ed31_11eb_a7a4_f079600ee336row1_col6\" class=\"data row1 col6\" >           15,099.41</td>\n",
       "                        <td id=\"T_5e90f582_ed31_11eb_a7a4_f079600ee336row1_col7\" class=\"data row1 col7\" >0.35</td>\n",
       "            </tr>\n",
       "            <tr>\n",
       "                        <th id=\"T_5e90f582_ed31_11eb_a7a4_f079600ee336level0_row2\" class=\"row_heading level0 row2\" >std</th>\n",
       "                        <td id=\"T_5e90f582_ed31_11eb_a7a4_f079600ee336row2_col0\" class=\"data row2 col0\" >$             367,368</td>\n",
       "                        <td id=\"T_5e90f582_ed31_11eb_a7a4_f079600ee336row2_col1\" class=\"data row2 col1\" >29</td>\n",
       "                        <td id=\"T_5e90f582_ed31_11eb_a7a4_f079600ee336row2_col2\" class=\"data row2 col2\" >0.93</td>\n",
       "                        <td id=\"T_5e90f582_ed31_11eb_a7a4_f079600ee336row2_col3\" class=\"data row2 col3\" >0.77</td>\n",
       "                        <td id=\"T_5e90f582_ed31_11eb_a7a4_f079600ee336row2_col4\" class=\"data row2 col4\" >0.54</td>\n",
       "                        <td id=\"T_5e90f582_ed31_11eb_a7a4_f079600ee336row2_col5\" class=\"data row2 col5\" >              918.11</td>\n",
       "                        <td id=\"T_5e90f582_ed31_11eb_a7a4_f079600ee336row2_col6\" class=\"data row2 col6\" >           41,412.64</td>\n",
       "                        <td id=\"T_5e90f582_ed31_11eb_a7a4_f079600ee336row2_col7\" class=\"data row2 col7\" >0.95</td>\n",
       "            </tr>\n",
       "            <tr>\n",
       "                        <th id=\"T_5e90f582_ed31_11eb_a7a4_f079600ee336level0_row3\" class=\"row_heading level0 row3\" >min</th>\n",
       "                        <td id=\"T_5e90f582_ed31_11eb_a7a4_f079600ee336row3_col0\" class=\"data row3 col0\" >$              78,000</td>\n",
       "                        <td id=\"T_5e90f582_ed31_11eb_a7a4_f079600ee336row3_col1\" class=\"data row3 col1\" >1900</td>\n",
       "                        <td id=\"T_5e90f582_ed31_11eb_a7a4_f079600ee336row3_col2\" class=\"data row3 col2\" >1.00</td>\n",
       "                        <td id=\"T_5e90f582_ed31_11eb_a7a4_f079600ee336row3_col3\" class=\"data row3 col3\" >0.50</td>\n",
       "                        <td id=\"T_5e90f582_ed31_11eb_a7a4_f079600ee336row3_col4\" class=\"data row3 col4\" >1.00</td>\n",
       "                        <td id=\"T_5e90f582_ed31_11eb_a7a4_f079600ee336row3_col5\" class=\"data row3 col5\" >              370.00</td>\n",
       "                        <td id=\"T_5e90f582_ed31_11eb_a7a4_f079600ee336row3_col6\" class=\"data row3 col6\" >              520.00</td>\n",
       "                        <td id=\"T_5e90f582_ed31_11eb_a7a4_f079600ee336row3_col7\" class=\"data row3 col7\" >0.01</td>\n",
       "            </tr>\n",
       "            <tr>\n",
       "                        <th id=\"T_5e90f582_ed31_11eb_a7a4_f079600ee336level0_row4\" class=\"row_heading level0 row4\" >25%</th>\n",
       "                        <td id=\"T_5e90f582_ed31_11eb_a7a4_f079600ee336row4_col0\" class=\"data row4 col0\" >$             322,000</td>\n",
       "                        <td id=\"T_5e90f582_ed31_11eb_a7a4_f079600ee336row4_col1\" class=\"data row4 col1\" >1951</td>\n",
       "                        <td id=\"T_5e90f582_ed31_11eb_a7a4_f079600ee336row4_col2\" class=\"data row4 col2\" >3.00</td>\n",
       "                        <td id=\"T_5e90f582_ed31_11eb_a7a4_f079600ee336row4_col3\" class=\"data row4 col3\" >1.75</td>\n",
       "                        <td id=\"T_5e90f582_ed31_11eb_a7a4_f079600ee336row4_col4\" class=\"data row4 col4\" >1.00</td>\n",
       "                        <td id=\"T_5e90f582_ed31_11eb_a7a4_f079600ee336row4_col5\" class=\"data row4 col5\" >            1,430.00</td>\n",
       "                        <td id=\"T_5e90f582_ed31_11eb_a7a4_f079600ee336row4_col6\" class=\"data row4 col6\" >            5,040.00</td>\n",
       "                        <td id=\"T_5e90f582_ed31_11eb_a7a4_f079600ee336row4_col7\" class=\"data row4 col7\" >0.12</td>\n",
       "            </tr>\n",
       "            <tr>\n",
       "                        <th id=\"T_5e90f582_ed31_11eb_a7a4_f079600ee336level0_row5\" class=\"row_heading level0 row5\" >50%</th>\n",
       "                        <td id=\"T_5e90f582_ed31_11eb_a7a4_f079600ee336row5_col0\" class=\"data row5 col0\" >$             450,000</td>\n",
       "                        <td id=\"T_5e90f582_ed31_11eb_a7a4_f079600ee336row5_col1\" class=\"data row5 col1\" >1975</td>\n",
       "                        <td id=\"T_5e90f582_ed31_11eb_a7a4_f079600ee336row5_col2\" class=\"data row5 col2\" >3.00</td>\n",
       "                        <td id=\"T_5e90f582_ed31_11eb_a7a4_f079600ee336row5_col3\" class=\"data row5 col3\" >2.25</td>\n",
       "                        <td id=\"T_5e90f582_ed31_11eb_a7a4_f079600ee336row5_col4\" class=\"data row5 col4\" >1.50</td>\n",
       "                        <td id=\"T_5e90f582_ed31_11eb_a7a4_f079600ee336row5_col5\" class=\"data row5 col5\" >            1,910.00</td>\n",
       "                        <td id=\"T_5e90f582_ed31_11eb_a7a4_f079600ee336row5_col6\" class=\"data row5 col6\" >            7,618.00</td>\n",
       "                        <td id=\"T_5e90f582_ed31_11eb_a7a4_f079600ee336row5_col7\" class=\"data row5 col7\" >0.17</td>\n",
       "            </tr>\n",
       "            <tr>\n",
       "                        <th id=\"T_5e90f582_ed31_11eb_a7a4_f079600ee336level0_row6\" class=\"row_heading level0 row6\" >75%</th>\n",
       "                        <td id=\"T_5e90f582_ed31_11eb_a7a4_f079600ee336row6_col0\" class=\"data row6 col0\" >$             645,000</td>\n",
       "                        <td id=\"T_5e90f582_ed31_11eb_a7a4_f079600ee336row6_col1\" class=\"data row6 col1\" >1997</td>\n",
       "                        <td id=\"T_5e90f582_ed31_11eb_a7a4_f079600ee336row6_col2\" class=\"data row6 col2\" >4.00</td>\n",
       "                        <td id=\"T_5e90f582_ed31_11eb_a7a4_f079600ee336row6_col3\" class=\"data row6 col3\" >2.50</td>\n",
       "                        <td id=\"T_5e90f582_ed31_11eb_a7a4_f079600ee336row6_col4\" class=\"data row6 col4\" >2.00</td>\n",
       "                        <td id=\"T_5e90f582_ed31_11eb_a7a4_f079600ee336row6_col5\" class=\"data row6 col5\" >            2,550.00</td>\n",
       "                        <td id=\"T_5e90f582_ed31_11eb_a7a4_f079600ee336row6_col6\" class=\"data row6 col6\" >           10,685.00</td>\n",
       "                        <td id=\"T_5e90f582_ed31_11eb_a7a4_f079600ee336row6_col7\" class=\"data row6 col7\" >0.25</td>\n",
       "            </tr>\n",
       "            <tr>\n",
       "                        <th id=\"T_5e90f582_ed31_11eb_a7a4_f079600ee336level0_row7\" class=\"row_heading level0 row7\" >max</th>\n",
       "                        <td id=\"T_5e90f582_ed31_11eb_a7a4_f079600ee336row7_col0\" class=\"data row7 col0\" >$           7,700,000</td>\n",
       "                        <td id=\"T_5e90f582_ed31_11eb_a7a4_f079600ee336row7_col1\" class=\"data row7 col1\" >2015</td>\n",
       "                        <td id=\"T_5e90f582_ed31_11eb_a7a4_f079600ee336row7_col2\" class=\"data row7 col2\" >33.00</td>\n",
       "                        <td id=\"T_5e90f582_ed31_11eb_a7a4_f079600ee336row7_col3\" class=\"data row7 col3\" >8.00</td>\n",
       "                        <td id=\"T_5e90f582_ed31_11eb_a7a4_f079600ee336row7_col4\" class=\"data row7 col4\" >3.50</td>\n",
       "                        <td id=\"T_5e90f582_ed31_11eb_a7a4_f079600ee336row7_col5\" class=\"data row7 col5\" >           13,540.00</td>\n",
       "                        <td id=\"T_5e90f582_ed31_11eb_a7a4_f079600ee336row7_col6\" class=\"data row7 col6\" >        1,651,359.00</td>\n",
       "                        <td id=\"T_5e90f582_ed31_11eb_a7a4_f079600ee336row7_col7\" class=\"data row7 col7\" >37.91</td>\n",
       "            </tr>\n",
       "    </tbody></table>"
      ]
     },
     "metadata": {},
     "execution_count": 22
    }
   ],
   "metadata": {}
  },
  {
   "cell_type": "markdown",
   "source": [
    "## Interpret Descriptive Statistics\n",
    "- There are no negative values for any of the columns\n",
    "- The year range makes sense: homes were built between 1900 and 2015\n",
    "- sqft_living average is around 2,000, which is close to the US average\n",
    "- The average lot size is 15,099 square feet, or .35 acres\n",
    "- The lot size mean is skewed by our outlier home, which stands on a 37.91 acre lot.\n",
    "- The median sqft_lot size is 7,618 or .17 acres, which is much closer to the national average of 0.188 of an acre."
   ],
   "metadata": {}
  },
  {
   "cell_type": "markdown",
   "source": [
    "# DATA PREPARATION\n",
    "- Prepping to model\n",
    "- Missing values\n",
    "- Convert categorical data to numeric via one-hot encoding (we didn't need to do this)\n",
    "- Type conversions (this was done in the previous section - price to millions and sqft to acres)\n",
    "- Remove multicollinearity (correlated predictors)\n",
    "- Normalize numeric data\n"
   ],
   "metadata": {}
  },
  {
   "cell_type": "markdown",
   "source": [
    "## Waterfront Missing Values \n",
    "I filled in NaN values for 'waterfront' with 0. Now, 'waterfront' has a 1 value if there is a view, and 0 value if there is not.\n",
    "I also cast this column as an integer type since there are no other options besides the integers 1 and 0."
   ],
   "metadata": {}
  },
  {
   "cell_type": "code",
   "execution_count": 23,
   "source": [
    "df['waterfront'] = df['waterfront'].fillna(0)"
   ],
   "outputs": [],
   "metadata": {}
  },
  {
   "cell_type": "code",
   "execution_count": 24,
   "source": [
    "df['waterfront'] = df[\"waterfront\"].astype(int)"
   ],
   "outputs": [],
   "metadata": {}
  },
  {
   "cell_type": "code",
   "execution_count": 25,
   "source": [
    "# Note: waterfront is our only categorical value.\n",
    "# We don't need to use dummy coding or any other coding system because it's already dichotomous (1 or 0) \n",
    "df['waterfront'].unique()"
   ],
   "outputs": [
    {
     "output_type": "execute_result",
     "data": {
      "text/plain": [
       "array([0, 1])"
      ]
     },
     "metadata": {},
     "execution_count": 25
    }
   ],
   "metadata": {}
  },
  {
   "cell_type": "markdown",
   "source": [
    "## Pickle Save"
   ],
   "metadata": {}
  },
  {
   "cell_type": "markdown",
   "source": [
    "## Scatter Matrix Distribution"
   ],
   "metadata": {}
  },
  {
   "cell_type": "code",
   "execution_count": 28,
   "source": [
    "# Select a subset of columns to create matrix:\n",
    "df_scatter = df.drop(['price','condition','sqft_lot','waterfront','grade','yr_built', 'floors'], axis=1)"
   ],
   "outputs": [],
   "metadata": {}
  },
  {
   "cell_type": "code",
   "execution_count": 29,
   "source": [
    "pd.plotting.scatter_matrix(df_scatter, figsize=(12,12))\n",
    "plt.show()"
   ],
   "outputs": [
    {
     "output_type": "display_data",
     "data": {
      "text/plain": [
       "<Figure size 864x864 with 25 Axes>"
      ],
      "image/png": "[encoded data removed]"
     },
     "metadata": {
      "needs_background": "light"
     }
    }
   ],
   "metadata": {}
  },
  {
   "cell_type": "markdown",
   "source": [
    "## Waterfront-Price Density Histogram\n",
    "Let's show another type of distribution now that we have \"waterfront\" column cleaned up"
   ],
   "metadata": {}
  },
  {
   "cell_type": "code",
   "execution_count": 30,
   "source": [
    "# Density histogram of house price - waterfront vs. non-waterfront:\n",
    "water_df =  df.loc[df['waterfront'] == 1]\n",
    "no_water_df =  df.loc[df['waterfront'] == 0]"
   ],
   "outputs": [],
   "metadata": {}
  },
  {
   "cell_type": "code",
   "execution_count": 31,
   "source": [
    "# Plot histograms (with densities on the y-axis) for waterfront and non-waterfront house prices:\n",
    "plt.figure(figsize = (12,8))\n",
    "binsize = 10\n",
    "water_df.price_millions.plot.hist(bins = binsize, density = True,  alpha = 0.6, label =\"Waterfront Prices in millions\");\n",
    "no_water_df.price_millions.plot.hist(bins = binsize, density = True, alpha = 0.6, label = 'Non-Waterfront Prices in millions');\n",
    "plt.legend()\n",
    "plt.show()\n"
   ],
   "outputs": [
    {
     "output_type": "display_data",
     "data": {
      "text/plain": [
       "<Figure size 864x576 with 1 Axes>"
      ],
      "image/png": "[encoded data removed]"
     },
     "metadata": {
      "needs_background": "light"
     }
    }
   ],
   "metadata": {}
  },
  {
   "cell_type": "markdown",
   "source": [
    "## Interpret Waterfront-Price Density Histogram\n",
    "- Waterfront properties tend to have higher selling prices than non-waterfront properties\n",
    "- Waterfront properties have a higher spread than non-watefront properties - that's why the waterfront peak is smaller than the non-waterfront peak\n",
    "- Neither price distributions are normally distributed\n",
    "- Waterfront and non-waterfront properties overlap in price from about .3-.7 million"
   ],
   "metadata": {}
  },
  {
   "cell_type": "code",
   "execution_count": 32,
   "source": [
    "# Ok. Now let's draw a smooth curve, given the above data, using KDE (kernal density estimation)\n",
    "# The smooth line in the visualization below is an estimate of the distributions of waterfront and non-waterfront house prices\n",
    "# The parameter bandwidth rules the smoothness of the underlying distribution\n",
    "\n",
    "# The problem with a Probability Density Function plot, is that all \"point probabilities\" are 0\n",
    "# We must calculate the area under the curve for an interval to get the actual probability for an interval of house prices.\n",
    "# Thus, it's not intuitive or easy to \"read\" the y-axis to get probabilities for continuous variables using a PDF like below.\n",
    "\n",
    "plt.figure(figsize = (12,8))\n",
    "sns.distplot(water_df.price_millions,kde=True)\n",
    "sns.distplot(no_water_df.price_millions,kde=True)\n",
    "plt.title('Comparing House Prices: Waterfront vs. Non-Waterfront')\n",
    "plt.show()\n",
    "\n",
    "\n"
   ],
   "outputs": [
    {
     "output_type": "display_data",
     "data": {
      "text/plain": [
       "<Figure size 864x576 with 1 Axes>"
      ],
      "image/png": "[encoded data removed]"
     },
     "metadata": {
      "needs_background": "light"
     }
    }
   ],
   "metadata": {}
  },
  {
   "cell_type": "markdown",
   "source": [
    "For example, if we wanted to know the probability that a waterfront house price is between 2 and 4 million dollars (inclusive), we would use the following formula to take the integral of this range (AKA area under the curve)\n",
    "$$\\large P(2 \\leq X \\leq 4) = \\int_{2}^{4} f_x(x) dx \\geq 0 $$\n"
   ],
   "metadata": {}
  },
  {
   "cell_type": "markdown",
   "source": [
    "## Price Density Histogram"
   ],
   "metadata": {}
  },
  {
   "cell_type": "code",
   "execution_count": 33,
   "source": [
    "# From this we can see that generally, most houses are priced below one million dollars\n",
    "plt.figure(figsize = (12,8))\n",
    "sns.distplot(df.price_millions,kde=True)\n",
    "plt.title('Density Histogram of Housing Prices in Kings County')\n",
    "plt.show()"
   ],
   "outputs": [
    {
     "output_type": "display_data",
     "data": {
      "text/plain": [
       "<Figure size 864x576 with 1 Axes>"
      ],
      "image/png": "[encoded data removed]"
     },
     "metadata": {
      "needs_background": "light"
     }
    }
   ],
   "metadata": {}
  },
  {
   "cell_type": "code",
   "execution_count": 34,
   "source": [
    "# Let's review what is in df:\n",
    "df.head()"
   ],
   "outputs": [
    {
     "output_type": "execute_result",
     "data": {
      "text/plain": [
       "      price  bedrooms  bathrooms  sqft_living  sqft_lot  floors  waterfront  \\\n",
       "0  221900.0         3       1.00         1180      5650     1.0           0   \n",
       "1  538000.0         3       2.25         2570      7242     2.0           0   \n",
       "2  180000.0         2       1.00          770     10000     1.0           0   \n",
       "3  604000.0         4       3.00         1960      5000     1.0           0   \n",
       "4  510000.0         3       2.00         1680      8080     1.0           0   \n",
       "\n",
       "   condition  grade  yr_built  acres_lot  price_millions  \n",
       "0          3      7      1955   0.129706          0.2219  \n",
       "1          3      7      1951   0.166253          0.5380  \n",
       "2          3      6      1933   0.229568          0.1800  \n",
       "3          5      7      1965   0.114784          0.6040  \n",
       "4          3      8      1987   0.185491          0.5100  "
      ],
      "text/html": [
       "<div>\n",
       "<style scoped>\n",
       "    .dataframe tbody tr th:only-of-type {\n",
       "        vertical-align: middle;\n",
       "    }\n",
       "\n",
       "    .dataframe tbody tr th {\n",
       "        vertical-align: top;\n",
       "    }\n",
       "\n",
       "    .dataframe thead th {\n",
       "        text-align: right;\n",
       "    }\n",
       "</style>\n",
       "<table border=\"1\" class=\"dataframe\">\n",
       "  <thead>\n",
       "    <tr style=\"text-align: right;\">\n",
       "      <th></th>\n",
       "      <th>price</th>\n",
       "      <th>bedrooms</th>\n",
       "      <th>bathrooms</th>\n",
       "      <th>sqft_living</th>\n",
       "      <th>sqft_lot</th>\n",
       "      <th>floors</th>\n",
       "      <th>waterfront</th>\n",
       "      <th>condition</th>\n",
       "      <th>grade</th>\n",
       "      <th>yr_built</th>\n",
       "      <th>acres_lot</th>\n",
       "      <th>price_millions</th>\n",
       "    </tr>\n",
       "  </thead>\n",
       "  <tbody>\n",
       "    <tr>\n",
       "      <th>0</th>\n",
       "      <td>221900.0</td>\n",
       "      <td>3</td>\n",
       "      <td>1.00</td>\n",
       "      <td>1180</td>\n",
       "      <td>5650</td>\n",
       "      <td>1.0</td>\n",
       "      <td>0</td>\n",
       "      <td>3</td>\n",
       "      <td>7</td>\n",
       "      <td>1955</td>\n",
       "      <td>0.129706</td>\n",
       "      <td>0.2219</td>\n",
       "    </tr>\n",
       "    <tr>\n",
       "      <th>1</th>\n",
       "      <td>538000.0</td>\n",
       "      <td>3</td>\n",
       "      <td>2.25</td>\n",
       "      <td>2570</td>\n",
       "      <td>7242</td>\n",
       "      <td>2.0</td>\n",
       "      <td>0</td>\n",
       "      <td>3</td>\n",
       "      <td>7</td>\n",
       "      <td>1951</td>\n",
       "      <td>0.166253</td>\n",
       "      <td>0.5380</td>\n",
       "    </tr>\n",
       "    <tr>\n",
       "      <th>2</th>\n",
       "      <td>180000.0</td>\n",
       "      <td>2</td>\n",
       "      <td>1.00</td>\n",
       "      <td>770</td>\n",
       "      <td>10000</td>\n",
       "      <td>1.0</td>\n",
       "      <td>0</td>\n",
       "      <td>3</td>\n",
       "      <td>6</td>\n",
       "      <td>1933</td>\n",
       "      <td>0.229568</td>\n",
       "      <td>0.1800</td>\n",
       "    </tr>\n",
       "    <tr>\n",
       "      <th>3</th>\n",
       "      <td>604000.0</td>\n",
       "      <td>4</td>\n",
       "      <td>3.00</td>\n",
       "      <td>1960</td>\n",
       "      <td>5000</td>\n",
       "      <td>1.0</td>\n",
       "      <td>0</td>\n",
       "      <td>5</td>\n",
       "      <td>7</td>\n",
       "      <td>1965</td>\n",
       "      <td>0.114784</td>\n",
       "      <td>0.6040</td>\n",
       "    </tr>\n",
       "    <tr>\n",
       "      <th>4</th>\n",
       "      <td>510000.0</td>\n",
       "      <td>3</td>\n",
       "      <td>2.00</td>\n",
       "      <td>1680</td>\n",
       "      <td>8080</td>\n",
       "      <td>1.0</td>\n",
       "      <td>0</td>\n",
       "      <td>3</td>\n",
       "      <td>8</td>\n",
       "      <td>1987</td>\n",
       "      <td>0.185491</td>\n",
       "      <td>0.5100</td>\n",
       "    </tr>\n",
       "  </tbody>\n",
       "</table>\n",
       "</div>"
      ]
     },
     "metadata": {},
     "execution_count": 34
    }
   ],
   "metadata": {}
  },
  {
   "cell_type": "code",
   "execution_count": 35,
   "source": [
    "# Create a Sensible df for modeling:\n",
    "df_model = df.drop(['acres_lot', 'price'], axis=1)"
   ],
   "outputs": [],
   "metadata": {}
  },
  {
   "cell_type": "code",
   "execution_count": 47,
   "source": [
    "df_model.head()"
   ],
   "outputs": [
    {
     "output_type": "execute_result",
     "data": {
      "text/plain": [
       "   bedrooms  bathrooms  sqft_living  sqft_lot  floors  waterfront  condition  \\\n",
       "0         3       1.00         1180      5650     1.0           0          3   \n",
       "1         3       2.25         2570      7242     2.0           0          3   \n",
       "2         2       1.00          770     10000     1.0           0          3   \n",
       "3         4       3.00         1960      5000     1.0           0          5   \n",
       "4         3       2.00         1680      8080     1.0           0          3   \n",
       "\n",
       "   grade  yr_built  price_millions  \n",
       "0      7      1955          0.2219  \n",
       "1      7      1951          0.5380  \n",
       "2      6      1933          0.1800  \n",
       "3      7      1965          0.6040  \n",
       "4      8      1987          0.5100  "
      ],
      "text/html": [
       "<div>\n",
       "<style scoped>\n",
       "    .dataframe tbody tr th:only-of-type {\n",
       "        vertical-align: middle;\n",
       "    }\n",
       "\n",
       "    .dataframe tbody tr th {\n",
       "        vertical-align: top;\n",
       "    }\n",
       "\n",
       "    .dataframe thead th {\n",
       "        text-align: right;\n",
       "    }\n",
       "</style>\n",
       "<table border=\"1\" class=\"dataframe\">\n",
       "  <thead>\n",
       "    <tr style=\"text-align: right;\">\n",
       "      <th></th>\n",
       "      <th>bedrooms</th>\n",
       "      <th>bathrooms</th>\n",
       "      <th>sqft_living</th>\n",
       "      <th>sqft_lot</th>\n",
       "      <th>floors</th>\n",
       "      <th>waterfront</th>\n",
       "      <th>condition</th>\n",
       "      <th>grade</th>\n",
       "      <th>yr_built</th>\n",
       "      <th>price_millions</th>\n",
       "    </tr>\n",
       "  </thead>\n",
       "  <tbody>\n",
       "    <tr>\n",
       "      <th>0</th>\n",
       "      <td>3</td>\n",
       "      <td>1.00</td>\n",
       "      <td>1180</td>\n",
       "      <td>5650</td>\n",
       "      <td>1.0</td>\n",
       "      <td>0</td>\n",
       "      <td>3</td>\n",
       "      <td>7</td>\n",
       "      <td>1955</td>\n",
       "      <td>0.2219</td>\n",
       "    </tr>\n",
       "    <tr>\n",
       "      <th>1</th>\n",
       "      <td>3</td>\n",
       "      <td>2.25</td>\n",
       "      <td>2570</td>\n",
       "      <td>7242</td>\n",
       "      <td>2.0</td>\n",
       "      <td>0</td>\n",
       "      <td>3</td>\n",
       "      <td>7</td>\n",
       "      <td>1951</td>\n",
       "      <td>0.5380</td>\n",
       "    </tr>\n",
       "    <tr>\n",
       "      <th>2</th>\n",
       "      <td>2</td>\n",
       "      <td>1.00</td>\n",
       "      <td>770</td>\n",
       "      <td>10000</td>\n",
       "      <td>1.0</td>\n",
       "      <td>0</td>\n",
       "      <td>3</td>\n",
       "      <td>6</td>\n",
       "      <td>1933</td>\n",
       "      <td>0.1800</td>\n",
       "    </tr>\n",
       "    <tr>\n",
       "      <th>3</th>\n",
       "      <td>4</td>\n",
       "      <td>3.00</td>\n",
       "      <td>1960</td>\n",
       "      <td>5000</td>\n",
       "      <td>1.0</td>\n",
       "      <td>0</td>\n",
       "      <td>5</td>\n",
       "      <td>7</td>\n",
       "      <td>1965</td>\n",
       "      <td>0.6040</td>\n",
       "    </tr>\n",
       "    <tr>\n",
       "      <th>4</th>\n",
       "      <td>3</td>\n",
       "      <td>2.00</td>\n",
       "      <td>1680</td>\n",
       "      <td>8080</td>\n",
       "      <td>1.0</td>\n",
       "      <td>0</td>\n",
       "      <td>3</td>\n",
       "      <td>8</td>\n",
       "      <td>1987</td>\n",
       "      <td>0.5100</td>\n",
       "    </tr>\n",
       "  </tbody>\n",
       "</table>\n",
       "</div>"
      ]
     },
     "metadata": {},
     "execution_count": 47
    }
   ],
   "metadata": {}
  },
  {
   "cell_type": "markdown",
   "source": [
    "### Normalize Numeric Data\n",
    "-  The z-score normalization method is the most common\n",
    "- If standard deviation is a yardstick, then a z-score is the measurement expressed in terms of that yardstick\n",
    "- For example, if we find the z-score for a given x-value's distance from x-bar  divided by the standard deviation...\n",
    "- We have convereted the distance of x from x-bar to \"standard deviation units\"\n",
    "- If s = 30, then we want to see how many s's (quantities of 30) that x is from x-bar\n",
    "- Basically, a z-score expresses each value of x as a standard unit away from the mean (x-bar)"
   ],
   "metadata": {}
  },
  {
   "cell_type": "code",
   "execution_count": 67,
   "source": [
    "# make copy of df_model for normalization purposes: \n",
    "df_scale = df_model.copy()\n",
    "\n",
    "# Apply z-score normalization:\n",
    "def z_score_norm(my_column):\n",
    "    return (my_column - my_column.mean())/my_column.std()\n",
    "for predictor in ['bedrooms', 'bathrooms', 'sqft_living', 'sqft_lot', 'floors', 'waterfront', 'condition','grade','yr_built']:\n",
    "    df_scale[predictor] = z_score_norm(df_scale[predictor])\n",
    "# print normalized data: \n",
    "print(df_scale)"
   ],
   "outputs": [
    {
     "output_type": "stream",
     "name": "stdout",
     "text": [
      "       bedrooms  bathrooms  sqft_living  sqft_lot    floors  waterfront  \\\n",
      "0     -0.402894  -1.451039    -0.980629 -0.228177 -0.915531   -0.082498   \n",
      "1     -0.402894   0.174482     0.533357 -0.189735  0.937409   -0.082498   \n",
      "2     -1.482459  -1.451039    -1.427201 -0.123137 -0.915531   -0.082498   \n",
      "3      0.676671   1.149794    -0.131054 -0.243873 -0.915531   -0.082498   \n",
      "4     -0.402894  -0.150622    -0.436030 -0.169499 -0.915531   -0.082498   \n",
      "...         ...        ...          ...       ...       ...         ...   \n",
      "21592 -0.402894   0.499586    -0.599410 -0.337298  2.790349   -0.082498   \n",
      "21593  0.676671   0.499586     0.250165 -0.224241  0.937409   -0.082498   \n",
      "21594 -1.482459  -1.776143    -1.154901 -0.332010  0.937409   -0.082498   \n",
      "21595 -0.402894   0.499586    -0.523166 -0.306945  0.937409   -0.082498   \n",
      "21596 -1.482459  -1.776143    -1.154901 -0.338626  0.937409   -0.082498   \n",
      "\n",
      "       condition     grade  yr_built  price_millions  \n",
      "0      -0.629972 -0.560787 -0.544665        0.221900  \n",
      "1      -0.629972 -0.560787 -0.680835        0.538000  \n",
      "2      -0.629972 -1.413157 -1.293596        0.180000  \n",
      "3       2.444371 -0.560787 -0.204243        0.604000  \n",
      "4      -0.629972  0.291583  0.544688        0.510000  \n",
      "...          ...       ...       ...             ...  \n",
      "21592  -0.629972  0.291583  1.293618        0.360000  \n",
      "21593  -0.629972  0.291583  1.463829        0.400000  \n",
      "21594  -0.629972 -0.560787  1.293618        0.402101  \n",
      "21595  -0.629972  0.291583  1.123406        0.400000  \n",
      "21596  -0.629972 -0.560787  1.259575        0.325000  \n",
      "\n",
      "[21597 rows x 10 columns]\n"
     ]
    }
   ],
   "metadata": {}
  },
  {
   "cell_type": "code",
   "execution_count": 72,
   "source": [
    "df_scale.sort_values('price_millions', ascending = False).head(10)"
   ],
   "outputs": [
    {
     "output_type": "execute_result",
     "data": {
      "text/plain": [
       "      bedrooms  bathrooms  sqft_living  sqft_lot    floors  waterfront  \\\n",
       "7245  2.835802   7.651878    10.858961  0.301855  1.863879   -0.082498   \n",
       "3910  1.756237   3.100419     8.669671  0.536686  0.937409   12.120968   \n",
       "9245  2.835802   7.326773     8.506291  0.392986  0.937409   -0.082498   \n",
       "4407  1.756237   4.725940     7.754744  0.482210  0.937409   -0.082498   \n",
       "1446  1.756237   3.750628     6.447706  0.214562  0.937409   -0.082498   \n",
       "1313  2.835802   5.051044     5.783295  0.234943  0.937409   12.120968   \n",
       "1162  1.756237   4.075732     6.458598  0.734500  0.937409   12.120968   \n",
       "8085  1.756237   6.026357     8.233992 -0.049053 -0.915531   12.120968   \n",
       "2624  1.756237   4.400836     4.966396  0.601618  0.937409   12.120968   \n",
       "8629  0.676671   1.149794     4.737664  0.299850  0.937409   -0.082498   \n",
       "\n",
       "      condition     grade  yr_built  price_millions  \n",
       "7245   0.907199  4.553432 -2.076568            7.70  \n",
       "3910  -0.629972  2.848692 -1.055300            7.06  \n",
       "9245  -0.629972  4.553432  1.021279            6.89  \n",
       "4407  -0.629972  4.553432  1.021279            5.57  \n",
       "1446  -0.629972  3.701062  1.293618            5.35  \n",
       "1313   0.907199  3.701062  0.680857            5.30  \n",
       "1162  -0.629972  3.701062  0.953195            5.11  \n",
       "8085  -0.629972  3.701062  0.408518            4.67  \n",
       "2624  -0.629972  3.701062  1.123406            4.50  \n",
       "8629  -0.629972  3.701062  1.021279            4.49  "
      ],
      "text/html": [
       "<div>\n",
       "<style scoped>\n",
       "    .dataframe tbody tr th:only-of-type {\n",
       "        vertical-align: middle;\n",
       "    }\n",
       "\n",
       "    .dataframe tbody tr th {\n",
       "        vertical-align: top;\n",
       "    }\n",
       "\n",
       "    .dataframe thead th {\n",
       "        text-align: right;\n",
       "    }\n",
       "</style>\n",
       "<table border=\"1\" class=\"dataframe\">\n",
       "  <thead>\n",
       "    <tr style=\"text-align: right;\">\n",
       "      <th></th>\n",
       "      <th>bedrooms</th>\n",
       "      <th>bathrooms</th>\n",
       "      <th>sqft_living</th>\n",
       "      <th>sqft_lot</th>\n",
       "      <th>floors</th>\n",
       "      <th>waterfront</th>\n",
       "      <th>condition</th>\n",
       "      <th>grade</th>\n",
       "      <th>yr_built</th>\n",
       "      <th>price_millions</th>\n",
       "    </tr>\n",
       "  </thead>\n",
       "  <tbody>\n",
       "    <tr>\n",
       "      <th>7245</th>\n",
       "      <td>2.835802</td>\n",
       "      <td>7.651878</td>\n",
       "      <td>10.858961</td>\n",
       "      <td>0.301855</td>\n",
       "      <td>1.863879</td>\n",
       "      <td>-0.082498</td>\n",
       "      <td>0.907199</td>\n",
       "      <td>4.553432</td>\n",
       "      <td>-2.076568</td>\n",
       "      <td>7.70</td>\n",
       "    </tr>\n",
       "    <tr>\n",
       "      <th>3910</th>\n",
       "      <td>1.756237</td>\n",
       "      <td>3.100419</td>\n",
       "      <td>8.669671</td>\n",
       "      <td>0.536686</td>\n",
       "      <td>0.937409</td>\n",
       "      <td>12.120968</td>\n",
       "      <td>-0.629972</td>\n",
       "      <td>2.848692</td>\n",
       "      <td>-1.055300</td>\n",
       "      <td>7.06</td>\n",
       "    </tr>\n",
       "    <tr>\n",
       "      <th>9245</th>\n",
       "      <td>2.835802</td>\n",
       "      <td>7.326773</td>\n",
       "      <td>8.506291</td>\n",
       "      <td>0.392986</td>\n",
       "      <td>0.937409</td>\n",
       "      <td>-0.082498</td>\n",
       "      <td>-0.629972</td>\n",
       "      <td>4.553432</td>\n",
       "      <td>1.021279</td>\n",
       "      <td>6.89</td>\n",
       "    </tr>\n",
       "    <tr>\n",
       "      <th>4407</th>\n",
       "      <td>1.756237</td>\n",
       "      <td>4.725940</td>\n",
       "      <td>7.754744</td>\n",
       "      <td>0.482210</td>\n",
       "      <td>0.937409</td>\n",
       "      <td>-0.082498</td>\n",
       "      <td>-0.629972</td>\n",
       "      <td>4.553432</td>\n",
       "      <td>1.021279</td>\n",
       "      <td>5.57</td>\n",
       "    </tr>\n",
       "    <tr>\n",
       "      <th>1446</th>\n",
       "      <td>1.756237</td>\n",
       "      <td>3.750628</td>\n",
       "      <td>6.447706</td>\n",
       "      <td>0.214562</td>\n",
       "      <td>0.937409</td>\n",
       "      <td>-0.082498</td>\n",
       "      <td>-0.629972</td>\n",
       "      <td>3.701062</td>\n",
       "      <td>1.293618</td>\n",
       "      <td>5.35</td>\n",
       "    </tr>\n",
       "    <tr>\n",
       "      <th>1313</th>\n",
       "      <td>2.835802</td>\n",
       "      <td>5.051044</td>\n",
       "      <td>5.783295</td>\n",
       "      <td>0.234943</td>\n",
       "      <td>0.937409</td>\n",
       "      <td>12.120968</td>\n",
       "      <td>0.907199</td>\n",
       "      <td>3.701062</td>\n",
       "      <td>0.680857</td>\n",
       "      <td>5.30</td>\n",
       "    </tr>\n",
       "    <tr>\n",
       "      <th>1162</th>\n",
       "      <td>1.756237</td>\n",
       "      <td>4.075732</td>\n",
       "      <td>6.458598</td>\n",
       "      <td>0.734500</td>\n",
       "      <td>0.937409</td>\n",
       "      <td>12.120968</td>\n",
       "      <td>-0.629972</td>\n",
       "      <td>3.701062</td>\n",
       "      <td>0.953195</td>\n",
       "      <td>5.11</td>\n",
       "    </tr>\n",
       "    <tr>\n",
       "      <th>8085</th>\n",
       "      <td>1.756237</td>\n",
       "      <td>6.026357</td>\n",
       "      <td>8.233992</td>\n",
       "      <td>-0.049053</td>\n",
       "      <td>-0.915531</td>\n",
       "      <td>12.120968</td>\n",
       "      <td>-0.629972</td>\n",
       "      <td>3.701062</td>\n",
       "      <td>0.408518</td>\n",
       "      <td>4.67</td>\n",
       "    </tr>\n",
       "    <tr>\n",
       "      <th>2624</th>\n",
       "      <td>1.756237</td>\n",
       "      <td>4.400836</td>\n",
       "      <td>4.966396</td>\n",
       "      <td>0.601618</td>\n",
       "      <td>0.937409</td>\n",
       "      <td>12.120968</td>\n",
       "      <td>-0.629972</td>\n",
       "      <td>3.701062</td>\n",
       "      <td>1.123406</td>\n",
       "      <td>4.50</td>\n",
       "    </tr>\n",
       "    <tr>\n",
       "      <th>8629</th>\n",
       "      <td>0.676671</td>\n",
       "      <td>1.149794</td>\n",
       "      <td>4.737664</td>\n",
       "      <td>0.299850</td>\n",
       "      <td>0.937409</td>\n",
       "      <td>-0.082498</td>\n",
       "      <td>-0.629972</td>\n",
       "      <td>3.701062</td>\n",
       "      <td>1.021279</td>\n",
       "      <td>4.49</td>\n",
       "    </tr>\n",
       "  </tbody>\n",
       "</table>\n",
       "</div>"
      ]
     },
     "metadata": {},
     "execution_count": 72
    }
   ],
   "metadata": {}
  },
  {
   "cell_type": "code",
   "execution_count": 73,
   "source": [
    "df_model.sort_values('price_millions', ascending = False).head(10)"
   ],
   "outputs": [
    {
     "output_type": "execute_result",
     "data": {
      "text/plain": [
       "      bedrooms  bathrooms  sqft_living  sqft_lot  floors  waterfront  \\\n",
       "7245         6       8.00        12050     27600     2.5           0   \n",
       "3910         5       4.50        10040     37325     2.0           1   \n",
       "9245         6       7.75         9890     31374     2.0           0   \n",
       "4407         5       5.75         9200     35069     2.0           0   \n",
       "1446         5       5.00         8000     23985     2.0           0   \n",
       "1313         6       6.00         7390     24829     2.0           1   \n",
       "1162         5       5.25         8010     45517     2.0           1   \n",
       "8085         5       6.75         9640     13068     1.0           1   \n",
       "2624         5       5.50         6640     40014     2.0           1   \n",
       "8629         4       3.00         6430     27517     2.0           0   \n",
       "\n",
       "      condition  grade  yr_built  price_millions  \n",
       "7245          4     13      1910            7.70  \n",
       "3910          3     11      1940            7.06  \n",
       "9245          3     13      2001            6.89  \n",
       "4407          3     13      2001            5.57  \n",
       "1446          3     12      2009            5.35  \n",
       "1313          4     12      1991            5.30  \n",
       "1162          3     12      1999            5.11  \n",
       "8085          3     12      1983            4.67  \n",
       "2624          3     12      2004            4.50  \n",
       "8629          3     12      2001            4.49  "
      ],
      "text/html": [
       "<div>\n",
       "<style scoped>\n",
       "    .dataframe tbody tr th:only-of-type {\n",
       "        vertical-align: middle;\n",
       "    }\n",
       "\n",
       "    .dataframe tbody tr th {\n",
       "        vertical-align: top;\n",
       "    }\n",
       "\n",
       "    .dataframe thead th {\n",
       "        text-align: right;\n",
       "    }\n",
       "</style>\n",
       "<table border=\"1\" class=\"dataframe\">\n",
       "  <thead>\n",
       "    <tr style=\"text-align: right;\">\n",
       "      <th></th>\n",
       "      <th>bedrooms</th>\n",
       "      <th>bathrooms</th>\n",
       "      <th>sqft_living</th>\n",
       "      <th>sqft_lot</th>\n",
       "      <th>floors</th>\n",
       "      <th>waterfront</th>\n",
       "      <th>condition</th>\n",
       "      <th>grade</th>\n",
       "      <th>yr_built</th>\n",
       "      <th>price_millions</th>\n",
       "    </tr>\n",
       "  </thead>\n",
       "  <tbody>\n",
       "    <tr>\n",
       "      <th>7245</th>\n",
       "      <td>6</td>\n",
       "      <td>8.00</td>\n",
       "      <td>12050</td>\n",
       "      <td>27600</td>\n",
       "      <td>2.5</td>\n",
       "      <td>0</td>\n",
       "      <td>4</td>\n",
       "      <td>13</td>\n",
       "      <td>1910</td>\n",
       "      <td>7.70</td>\n",
       "    </tr>\n",
       "    <tr>\n",
       "      <th>3910</th>\n",
       "      <td>5</td>\n",
       "      <td>4.50</td>\n",
       "      <td>10040</td>\n",
       "      <td>37325</td>\n",
       "      <td>2.0</td>\n",
       "      <td>1</td>\n",
       "      <td>3</td>\n",
       "      <td>11</td>\n",
       "      <td>1940</td>\n",
       "      <td>7.06</td>\n",
       "    </tr>\n",
       "    <tr>\n",
       "      <th>9245</th>\n",
       "      <td>6</td>\n",
       "      <td>7.75</td>\n",
       "      <td>9890</td>\n",
       "      <td>31374</td>\n",
       "      <td>2.0</td>\n",
       "      <td>0</td>\n",
       "      <td>3</td>\n",
       "      <td>13</td>\n",
       "      <td>2001</td>\n",
       "      <td>6.89</td>\n",
       "    </tr>\n",
       "    <tr>\n",
       "      <th>4407</th>\n",
       "      <td>5</td>\n",
       "      <td>5.75</td>\n",
       "      <td>9200</td>\n",
       "      <td>35069</td>\n",
       "      <td>2.0</td>\n",
       "      <td>0</td>\n",
       "      <td>3</td>\n",
       "      <td>13</td>\n",
       "      <td>2001</td>\n",
       "      <td>5.57</td>\n",
       "    </tr>\n",
       "    <tr>\n",
       "      <th>1446</th>\n",
       "      <td>5</td>\n",
       "      <td>5.00</td>\n",
       "      <td>8000</td>\n",
       "      <td>23985</td>\n",
       "      <td>2.0</td>\n",
       "      <td>0</td>\n",
       "      <td>3</td>\n",
       "      <td>12</td>\n",
       "      <td>2009</td>\n",
       "      <td>5.35</td>\n",
       "    </tr>\n",
       "    <tr>\n",
       "      <th>1313</th>\n",
       "      <td>6</td>\n",
       "      <td>6.00</td>\n",
       "      <td>7390</td>\n",
       "      <td>24829</td>\n",
       "      <td>2.0</td>\n",
       "      <td>1</td>\n",
       "      <td>4</td>\n",
       "      <td>12</td>\n",
       "      <td>1991</td>\n",
       "      <td>5.30</td>\n",
       "    </tr>\n",
       "    <tr>\n",
       "      <th>1162</th>\n",
       "      <td>5</td>\n",
       "      <td>5.25</td>\n",
       "      <td>8010</td>\n",
       "      <td>45517</td>\n",
       "      <td>2.0</td>\n",
       "      <td>1</td>\n",
       "      <td>3</td>\n",
       "      <td>12</td>\n",
       "      <td>1999</td>\n",
       "      <td>5.11</td>\n",
       "    </tr>\n",
       "    <tr>\n",
       "      <th>8085</th>\n",
       "      <td>5</td>\n",
       "      <td>6.75</td>\n",
       "      <td>9640</td>\n",
       "      <td>13068</td>\n",
       "      <td>1.0</td>\n",
       "      <td>1</td>\n",
       "      <td>3</td>\n",
       "      <td>12</td>\n",
       "      <td>1983</td>\n",
       "      <td>4.67</td>\n",
       "    </tr>\n",
       "    <tr>\n",
       "      <th>2624</th>\n",
       "      <td>5</td>\n",
       "      <td>5.50</td>\n",
       "      <td>6640</td>\n",
       "      <td>40014</td>\n",
       "      <td>2.0</td>\n",
       "      <td>1</td>\n",
       "      <td>3</td>\n",
       "      <td>12</td>\n",
       "      <td>2004</td>\n",
       "      <td>4.50</td>\n",
       "    </tr>\n",
       "    <tr>\n",
       "      <th>8629</th>\n",
       "      <td>4</td>\n",
       "      <td>3.00</td>\n",
       "      <td>6430</td>\n",
       "      <td>27517</td>\n",
       "      <td>2.0</td>\n",
       "      <td>0</td>\n",
       "      <td>3</td>\n",
       "      <td>12</td>\n",
       "      <td>2001</td>\n",
       "      <td>4.49</td>\n",
       "    </tr>\n",
       "  </tbody>\n",
       "</table>\n",
       "</div>"
      ]
     },
     "metadata": {},
     "execution_count": 73
    }
   ],
   "metadata": {}
  },
  {
   "cell_type": "code",
   "execution_count": 36,
   "source": [
    "correlations = df_model.corr()"
   ],
   "outputs": [],
   "metadata": {}
  },
  {
   "cell_type": "code",
   "execution_count": 37,
   "source": [
    "plt.figure(figsize=(12,12)) # Set size of figure\n",
    "# Use df.corr() as your matrix for the heatmap\n",
    "# I set the color scheme to green using cmap\n",
    "# annot= True adds the float value on each square\n",
    "# fmt='.1f' sets the number of decimal places for each float number. If you want 1.00, for example, use fmt='.2f'\n",
    "# cbar_kws={\"shrink\": .77}  - this argument shrinks the side color bar to .77 of its original size\n",
    "# square=True - this argument makes the figure square\n",
    "ax = sns.heatmap(correlations, cmap = \"Greens\", annot=True, fmt='.2f', cbar_kws={\"shrink\": .77}, square=True)\n",
    "# Sets the title\n",
    "ax.set(title='King County House Sales Dataset Correlation Heatmap')\n",
    "# Get the y-axis limit values for the size of the figure:\n",
    "bottom, top = ax.get_ylim()\n",
    "# Add .5 to the bottom and top of the y-axis limits to fix an error where the top and bottom squares are cut off\n",
    "# This is an error for the versions of Seaborne and Matplotlib I'm using\n",
    "ax = ax.set_ylim(bottom + 0.5, top - 0.5)\n",
    "# Rotate the bottom labels by 30 degrees (100-70)\n",
    "plt.xticks(rotation=70)\n",
    "plt.show()\n"
   ],
   "outputs": [
    {
     "output_type": "display_data",
     "data": {
      "text/plain": [
       "<Figure size 864x864 with 2 Axes>"
      ],
      "image/png": "[encoded data removed]"
     },
     "metadata": {
      "needs_background": "light"
     }
    }
   ],
   "metadata": {}
  },
  {
   "cell_type": "code",
   "execution_count": 38,
   "source": [
    "correlations[\"price_millions\"].sort_values(ascending=False)"
   ],
   "outputs": [
    {
     "output_type": "execute_result",
     "data": {
      "text/plain": [
       "price_millions    1.000000\n",
       "sqft_living       0.701917\n",
       "grade             0.667951\n",
       "bathrooms         0.525906\n",
       "bedrooms          0.308787\n",
       "waterfront        0.264306\n",
       "floors            0.256804\n",
       "sqft_lot          0.089876\n",
       "yr_built          0.053953\n",
       "condition         0.036056\n",
       "Name: price_millions, dtype: float64"
      ]
     },
     "metadata": {},
     "execution_count": 38
    }
   ],
   "metadata": {}
  },
  {
   "cell_type": "code",
   "execution_count": 39,
   "source": [
    "correlations[\"sqft_living\"].sort_values(ascending=False)"
   ],
   "outputs": [
    {
     "output_type": "execute_result",
     "data": {
      "text/plain": [
       "sqft_living       1.000000\n",
       "grade             0.762779\n",
       "bathrooms         0.755758\n",
       "price_millions    0.701917\n",
       "bedrooms          0.578212\n",
       "floors            0.353953\n",
       "yr_built          0.318152\n",
       "sqft_lot          0.173453\n",
       "waterfront        0.104637\n",
       "condition        -0.059445\n",
       "Name: sqft_living, dtype: float64"
      ]
     },
     "metadata": {},
     "execution_count": 39
    }
   ],
   "metadata": {}
  },
  {
   "cell_type": "markdown",
   "source": [
    "## Multicollinearity\n",
    "- If a column has a high VIF value, it may be prudent to drop it from the linear regression model"
   ],
   "metadata": {}
  },
  {
   "cell_type": "markdown",
   "source": [
    "### The feature highest correlated with price is sqft_living"
   ],
   "metadata": {}
  },
  {
   "cell_type": "code",
   "execution_count": 40,
   "source": [
    "ax = sns.scatterplot(x=\"sqft_living\", y=\"price_millions\", data=df_model)\n",
    "ax.set_title(\"House Price vs. Square Footage\")\n",
    "ax.set_xlabel(\"Living Area in square feet\")\n",
    "ax.set_ylabel(\"House Sale Price\")\n",
    "\n"
   ],
   "outputs": [
    {
     "output_type": "execute_result",
     "data": {
      "text/plain": [
       "Text(0, 0.5, 'House Sale Price')"
      ]
     },
     "metadata": {},
     "execution_count": 40
    },
    {
     "output_type": "display_data",
     "data": {
      "text/plain": [
       "<Figure size 432x288 with 1 Axes>"
      ],
      "image/png": "[encoded data removed]"
     },
     "metadata": {
      "needs_background": "light"
     }
    }
   ],
   "metadata": {}
  },
  {
   "cell_type": "code",
   "execution_count": 41,
   "source": [
    "sns.lmplot(x=\"sqft_living\", y=\"price_millions\", data=df_model, hue=\"waterfront\")\n"
   ],
   "outputs": [
    {
     "output_type": "execute_result",
     "data": {
      "text/plain": [
       "<seaborn.axisgrid.FacetGrid at 0x7fe78f652f60>"
      ]
     },
     "metadata": {},
     "execution_count": 41
    },
    {
     "output_type": "display_data",
     "data": {
      "text/plain": [
       "<Figure size 420.375x360 with 1 Axes>"
      ],
      "image/png": "[encoded data removed]"
     },
     "metadata": {
      "needs_background": "light"
     }
    }
   ],
   "metadata": {}
  },
  {
   "cell_type": "markdown",
   "source": [
    "# MODELING\n",
    "- Tune models to get the highest performance possible on our task\n",
    "  - Considerations:\n",
    "    - What kind of task? Classification task? Regression task?\n",
    "    - Which models will we use\n",
    "    - Will be use regularization?\n",
    "    - How will we validate our model?\n",
    "    - Loss functions?\n",
    "    - What is the performance threshold for success?\n"
   ],
   "metadata": {}
  },
  {
   "cell_type": "markdown",
   "source": [
    "## Linear Regression - Ordinary Least Squares"
   ],
   "metadata": {}
  },
  {
   "cell_type": "code",
   "execution_count": 48,
   "source": [
    "# Split normalized data into target variable and predictors/explanatory variables/independent variables\n",
    "X = df_scale.drop('price_millions', axis=1) # independent variables\n",
    "y = df_scale['price_millions'] # target variable"
   ],
   "outputs": [],
   "metadata": {}
  },
  {
   "cell_type": "code",
   "execution_count": 49,
   "source": [
    "# Divide into test and train data\n",
    "# Train data is for us to estimate our OLS model\n",
    "# Test data is to parameterize our model, using that model to predict y values (price)\n",
    "# If test_size = .3, that means 30% of our data is set aside for teh testing data\n",
    "# And 70% of that data for training\n",
    "\n",
    "# The parameter \"random_state\" ensures that if there is skew in our data, our 30-70 split is randomly taking from these groups\n",
    "# So we have good proportions of randomly selected data and our 30-70 split has good representation \n",
    "\n",
    "X_train, X_test, y_train, y_test = train_test_split(\n",
    "    X, y, test_size=0.3, random_state=4)\n"
   ],
   "outputs": [],
   "metadata": {}
  },
  {
   "cell_type": "code",
   "execution_count": 50,
   "source": [
    "# Linear Regressor - Ordinary Least Squares regression-type estimate:\n",
    "lr = LinearRegression()"
   ],
   "outputs": [],
   "metadata": {}
  },
  {
   "cell_type": "code",
   "execution_count": 74,
   "source": [
    "# Use Cross-validation to inspect model:\n",
    "cvs = cross_val_score(estimator=lr, X=X_train, \n",
    "                                    y=y_train, \n",
    "                                    cv=10, scoring='r2')\n",
    "print('CV score: %.3f ± %.3f' % (cvs.mean(), cvs.std()))"
   ],
   "outputs": [
    {
     "output_type": "stream",
     "name": "stdout",
     "text": [
      "CV score: 0.640 ± 0.018\n"
     ]
    }
   ],
   "metadata": {}
  },
  {
   "cell_type": "code",
   "execution_count": 76,
   "source": [
    "# Train model based on train dataset:\n",
    "# Regressing the X's onto the y:\n",
    "# We're getting a fit here, having used 70% of the data\n",
    "lr.fit(X_train, y_train)\n",
    "coef_list = list(lr.coef_)\n",
    "name_list = list(X_train.columns)\n",
    "pd.Series(coef_list, index=name_list)"
   ],
   "outputs": [
    {
     "output_type": "execute_result",
     "data": {
      "text/plain": [
       "bedrooms      -0.047497\n",
       "bathrooms      0.041209\n",
       "sqft_living    0.167322\n",
       "sqft_lot      -0.011066\n",
       "floors         0.010240\n",
       "waterfront     0.060507\n",
       "condition      0.010099\n",
       "grade          0.150145\n",
       "yr_built      -0.113141\n",
       "dtype: float64"
      ]
     },
     "metadata": {},
     "execution_count": 76
    }
   ],
   "metadata": {}
  },
  {
   "cell_type": "code",
   "execution_count": 52,
   "source": [
    "# Model prediction based on train dataset:\n",
    "predict_y_train = lr.predict(X_train)"
   ],
   "outputs": [],
   "metadata": {}
  },
  {
   "cell_type": "code",
   "execution_count": 53,
   "source": [
    "# Model Evaluation:\n",
    "print('The R squared value is: ' + str(metrics.r2_score(y_train, predict_y_train)))"
   ],
   "outputs": [
    {
     "output_type": "stream",
     "name": "stdout",
     "text": [
      "The R squared value is: 0.6418071120403939\n"
     ]
    }
   ],
   "metadata": {}
  },
  {
   "cell_type": "code",
   "execution_count": 54,
   "source": [
    "# Actual Prices vs. Predicted Prices:\n",
    "plt.scatter(y_train, predict_y_train)\n",
    "plt.xlabel('price')\n",
    "plt.ylabel('predicted price')\n",
    "plt.show()"
   ],
   "outputs": [
    {
     "output_type": "display_data",
     "data": {
      "text/plain": [
       "<Figure size 432x288 with 1 Axes>"
      ],
      "image/png": "[encoded data removed]"
     },
     "metadata": {
      "needs_background": "light"
     }
    }
   ],
   "metadata": {}
  },
  {
   "cell_type": "markdown",
   "source": [
    "### Interpret price vs. predicted price scatterplot:\n",
    "- The distribution isn't a straight line, and from that we know that there is something non-linear going on in the relationships we've modeled. \n",
    "- We don't have a good linear relationship between price and our predictors"
   ],
   "metadata": {}
  },
  {
   "cell_type": "code",
   "execution_count": 55,
   "source": [
    "# Inspect the amount of error we got from our OLS Linear Regression:\n",
    "# The residual is the amount of error in the estimation (difference between predicted and actual y values)\n",
    "# The error is between .6 and -0.2, which is pretty wide\n",
    "\n",
    "plt.scatter(predict_y_train, y_train - predict_y_train)\n",
    "plt.xlabel('predicted')\n",
    "plt.ylabel('residuals')"
   ],
   "outputs": [
    {
     "output_type": "execute_result",
     "data": {
      "text/plain": [
       "Text(0, 0.5, 'residuals')"
      ]
     },
     "metadata": {},
     "execution_count": 55
    },
    {
     "output_type": "display_data",
     "data": {
      "text/plain": [
       "<Figure size 432x288 with 1 Axes>"
      ],
      "image/png": "[encoded data removed]"
     },
     "metadata": {
      "needs_background": "light"
     }
    }
   ],
   "metadata": {}
  },
  {
   "cell_type": "code",
   "execution_count": 56,
   "source": [
    "# Check Distribution of Errors:\n",
    "# We can see from this that there's some right-skew to the distribution of error\n",
    "sns.distplot(y_train - predict_y_train)\n",
    "plt.xlabel('residuals')\n",
    "plt.ylabel('frequency')"
   ],
   "outputs": [
    {
     "output_type": "execute_result",
     "data": {
      "text/plain": [
       "Text(0, 0.5, 'frequency')"
      ]
     },
     "metadata": {},
     "execution_count": 56
    },
    {
     "output_type": "display_data",
     "data": {
      "text/plain": [
       "<Figure size 432x288 with 1 Axes>"
      ],
      "image/png": "[encoded data removed]"
     },
     "metadata": {
      "needs_background": "light"
     }
    }
   ],
   "metadata": {}
  },
  {
   "cell_type": "markdown",
   "source": [
    "### Interpretation of Regression Model\n",
    "- We could remove outliers\n",
    "- This is a very onerous and finicky process\n",
    "- We might lose useful information if we pick out the outliers"
   ],
   "metadata": {}
  },
  {
   "cell_type": "code",
   "execution_count": 57,
   "source": [
    "# Finally, we take the 30% of that data we set aside for testing, and examine the error for that:\n",
    "predict_y_test = lr.predict(X_test)\n",
    "print('The R squared value is: ' + str(metrics.r2_score(y_test, predict_y_test)))\n",
    "\n"
   ],
   "outputs": [
    {
     "output_type": "stream",
     "name": "stdout",
     "text": [
      "The R squared value is: 0.6530001064251156\n"
     ]
    }
   ],
   "metadata": {}
  },
  {
   "cell_type": "code",
   "execution_count": 58,
   "source": [
    "# So looks like in-sample, out-of-sample is not as robust as we might want, \n",
    "# since our R-squared value is less than when using train data"
   ],
   "outputs": [],
   "metadata": {}
  },
  {
   "cell_type": "markdown",
   "source": [
    "## Random Forest Regressor - Decision Tree Regression-type Estimate"
   ],
   "metadata": {}
  },
  {
   "cell_type": "code",
   "execution_count": 59,
   "source": [
    "# Multiple Regression Trees are used\n",
    "forest = RandomForestRegressor()"
   ],
   "outputs": [],
   "metadata": {}
  },
  {
   "cell_type": "code",
   "execution_count": 60,
   "source": [
    "forest.fit(X_train, y_train)"
   ],
   "outputs": [
    {
     "output_type": "stream",
     "name": "stderr",
     "text": [
      "/Users/clairesarraille/opt/anaconda3/envs/learn-env/lib/python3.6/site-packages/sklearn/ensemble/forest.py:245: FutureWarning: The default value of n_estimators will change from 10 in version 0.20 to 100 in 0.22.\n",
      "  \"10 in version 0.20 to 100 in 0.22.\", FutureWarning)\n"
     ]
    },
    {
     "output_type": "execute_result",
     "data": {
      "text/plain": [
       "RandomForestRegressor(bootstrap=True, criterion='mse', max_depth=None,\n",
       "                      max_features='auto', max_leaf_nodes=None,\n",
       "                      min_impurity_decrease=0.0, min_impurity_split=None,\n",
       "                      min_samples_leaf=1, min_samples_split=2,\n",
       "                      min_weight_fraction_leaf=0.0, n_estimators=10,\n",
       "                      n_jobs=None, oob_score=False, random_state=None,\n",
       "                      verbose=0, warm_start=False)"
      ]
     },
     "metadata": {},
     "execution_count": 60
    }
   ],
   "metadata": {}
  },
  {
   "cell_type": "code",
   "execution_count": 61,
   "source": [
    "# Model prediction based on train dataset:\n",
    "forest_predict_y_train = forest.predict(X_train)"
   ],
   "outputs": [],
   "metadata": {}
  },
  {
   "cell_type": "code",
   "execution_count": 62,
   "source": [
    "# Model Evaluation:\n",
    "print('The R squared value is: ' + str(metrics.r2_score(y_train, forest_predict_y_train)))"
   ],
   "outputs": [
    {
     "output_type": "stream",
     "name": "stdout",
     "text": [
      "The R squared value is: 0.9448994364652239\n"
     ]
    }
   ],
   "metadata": {}
  },
  {
   "cell_type": "code",
   "execution_count": 63,
   "source": [
    "# Actual Prices vs. Predicted Prices:\n",
    "plt.scatter(y_train, forest_predict_y_train)\n",
    "plt.xlabel('price')\n",
    "plt.ylabel('predicted price')\n",
    "plt.show()"
   ],
   "outputs": [
    {
     "output_type": "display_data",
     "data": {
      "text/plain": [
       "<Figure size 432x288 with 1 Axes>"
      ],
      "image/png": "[encoded data removed]"
     },
     "metadata": {
      "needs_background": "light"
     }
    }
   ],
   "metadata": {}
  },
  {
   "cell_type": "code",
   "execution_count": 64,
   "source": [
    "# Error from Random Forest Regressor:\n",
    "# The error is between .20 and -0.15, which is better than it was for OLS Regression \n",
    "\n",
    "plt.scatter(forest_predict_y_train, y_train - forest_predict_y_train)\n",
    "plt.xlabel('predicted')\n",
    "plt.ylabel('residuals')"
   ],
   "outputs": [
    {
     "output_type": "execute_result",
     "data": {
      "text/plain": [
       "Text(0, 0.5, 'residuals')"
      ]
     },
     "metadata": {},
     "execution_count": 64
    },
    {
     "output_type": "display_data",
     "data": {
      "text/plain": [
       "<Figure size 432x288 with 1 Axes>"
      ],
      "image/png": "[encoded data removed]"
     },
     "metadata": {
      "needs_background": "light"
     }
    }
   ],
   "metadata": {}
  },
  {
   "cell_type": "code",
   "execution_count": 65,
   "source": [
    "# We've done in-sample for Random Forest, now let's do out of sample:\n",
    "forest_predict_y_test = forest.predict(X_test)"
   ],
   "outputs": [],
   "metadata": {}
  },
  {
   "cell_type": "code",
   "execution_count": 66,
   "source": [
    "# Model Evaluation:\n",
    "print('The R squared value is: ' + str(metrics.r2_score(y_test, forest_predict_y_test)))"
   ],
   "outputs": [
    {
     "output_type": "stream",
     "name": "stdout",
     "text": [
      "The R squared value is: 0.7036442724427945\n"
     ]
    }
   ],
   "metadata": {}
  },
  {
   "cell_type": "markdown",
   "source": [
    "### Interpretation of R Squared value from above:\n",
    "- Going from .945 for the traning data (in-sample) to .700 for the test data (out of sample)\n",
    "- That's a pretty steep difference\n",
    "- This means that our model is not robust\n",
    "- However, our model is still performing relatively well\n"
   ],
   "metadata": {}
  }
 ],
 "metadata": {
  "kernelspec": {
   "name": "python3",
   "display_name": "Python 3.6.9 64-bit ('learn-env': conda)"
  },
  "language_info": {
   "codemirror_mode": {
    "name": "ipython",
    "version": 3
   },
   "file_extension": ".py",
   "mimetype": "text/x-python",
   "name": "python",
   "nbconvert_exporter": "python",
   "pygments_lexer": "ipython3",
   "version": "3.6.9"
  },
  "interpreter": {
   "hash": "5d1f83e9c63cec2de7bdeb43eb17fdae110b98c2255761b9e5cd119be6dbfe82"
  }
 },
 "nbformat": 4,
 "nbformat_minor": 2
}