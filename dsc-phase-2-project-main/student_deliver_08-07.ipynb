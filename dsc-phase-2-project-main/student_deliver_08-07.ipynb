{
 "cells": [
  {
   "cell_type": "markdown",
   "source": [
    "## final project submission\n",
    "\n",
    "Please fill out:\n",
    "* Student name: Claire Sarraille\n",
    "* Student pace: self paced\n",
    "* Scheduled project review date/time: \n",
    "* Instructor name: Jeff Herman\n",
    "* Blog post URL: https://clairesarraille.github.io/2021/08/08/kings_county_housing.html\n"
   ],
   "metadata": {}
  },
  {
   "cell_type": "code",
   "execution_count": 171,
   "source": [
    "import numpy as np\n",
    "import pandas as pd\n",
    "import matplotlib.pyplot as plt\n",
    "from matplotlib.ticker import StrMethodFormatter\n",
    "import seaborn as sns\n",
    "from patsy import dmatrices\n",
    "\n",
    "import statsmodels.api as sm\n",
    "from statsmodels.stats.outliers_influence import variance_inflation_factor\n",
    "\n",
    "from sklearn.model_selection import train_test_split\n",
    "from sklearn import metrics\n",
    "from sklearn import linear_model\n",
    "from sklearn.linear_model import LinearRegression\n",
    "from sklearn.ensemble import RandomForestRegressor\n",
    "\n",
    "%matplotlib inline"
   ],
   "outputs": [],
   "metadata": {}
  },
  {
   "cell_type": "markdown",
   "source": [
    "## crisp-dm:\n",
    "\n",
    "- Business Understanding\n",
    "    - Who will be  using the model\n",
    "    - How will the model be used\n",
    "    - How will using the model help our business\n",
    "    - clarify requirements\n",
    "    - What problems are in and out of scope\n",
    "\n",
    "- Understand Data\n",
    "    - What is target\n",
    "    - What are predictors\n",
    "    - Distribution of Data\n",
    "    - How many observations - and is this a small, medium or large collection?\n",
    "    - What is the quality? - What errors could be in the data, or inaccuracy?\n",
    "\n",
    "- Data Preparation - Prepping to model\n",
    "    - Missing values\n",
    "    - Type conversions\n",
    "    - Remove multicollinearity (correlated predictors)\n",
    "    - Normalize numeric data\n",
    "    - Convert categorical data to numeric via one-hot encoding\n",
    "\n",
    "- Modeling:\n",
    "    - Tune models to get the highest performance possible on our task\n",
    "    - Considerations:\n",
    "        - What kind of task? Classification task? Regression task?\n",
    "        - Which models will we use\n",
    "        - Will we use regularization?\n",
    "        - How will we validate our model?\n",
    "        - Loss functions?\n",
    "        - What is the performance threshold for success?\n",
    "\n",
    "- Evaluation:\n",
    "    - Does the model solve business problem outlined in step 1?\n",
    "    - At this point, we may want to start over at the business understanding step, now that we have a deeper understanding\n",
    "    - Things we may learn at this stage:\n",
    "        - Need different data\n",
    "        - Need more data\n",
    "        - Should be going in a different direction\n",
    "        - Should use classificaion rather than regression, or vice versa\n",
    "        - Use different approach\n",
    "\n",
    "- Deployment:\n",
    "    - Move the model into production\n",
    "    - Set up ETL - how much of preprocessing and cleaning can be automated?\n"
   ],
   "metadata": {}
  },
  {
   "cell_type": "markdown",
   "source": [
    "# BUSINESS UNDERSTANDING\n",
    "- Who will be  using the model\n",
    "    - The real estate agency I work for\n",
    "- How will the model be used\n",
    "    - Help a sub-set of home owners sell homes, by suggesting the most lucrative home renovations by their impact on home selling price.\n",
    "- How will using the model help our business\n",
    "    - We can give good advice to homeowners about how home renovations might increase the estimate value of their homes, and by how much\n",
    "    - This will increase the amount of sales, thus increasing both our's and the home owner's profits\n",
    "- clarify requirements\n",
    "    - Find the features that are highest correlated with a higher sell price. Find how many dollars each unit of each feature adds to price\n",
    "    - Use these correlations to recommend home renovations, ranked by the most to least positive impact on price.\n",
    "- What problems are in and out of scope\n",
    "    - How do home renovations impact the sell price of a home.\n",
    "    - How locational factors impact price: homeowners cannot re-locate homes and we are assuming they can't change view of waterfront "
   ],
   "metadata": {}
  },
  {
   "cell_type": "markdown",
   "source": [
    "## Business Questions:\n",
    "- Useful to subset data into waterfront vs. non-waterfront models?\n",
    "- Remove outliers so that we're looking at average homes?\n",
    "    - Average home in America has about 4 bedrooms\n",
    "- If we normalize all of our predictors so they are on the same scale (z-score normalization), how do we un-normalize these features to interpret how they impact price?"
   ],
   "metadata": {}
  },
  {
   "cell_type": "markdown",
   "source": [
    "# UNDERSTAND DATA\n",
    "- What is **target**\n",
    ">'price'\n",
    "- What are **predictors**\n",
    ">'bedrooms', 'bathrooms', 'sqft_living', 'sqft_lot', 'floors', 'waterfront', 'condition', 'grade', 'yr_built'\n",
    "- Distribution of Data - See Distribution Section\n",
    "- How many observations - and is this a small, medium or large collection?\n",
    "    - 21,597 entries\n",
    "    - According to Frank Harrell in his book Regression Modeling Strategies, you need at least 10-20 observations per predictor\n",
    "    - We have many, many more observations than 20 * (6 - num covariates) = 120\n",
    "    - Our dataset would be considered large\n",
    "- What is the quality? - What errors could be in the data, or inaccuracy? - See Data Quality Section"
   ],
   "metadata": {}
  },
  {
   "cell_type": "markdown",
   "source": [
    "## Read in Data"
   ],
   "metadata": {}
  },
  {
   "cell_type": "code",
   "execution_count": 172,
   "source": [
    "df = pd.read_csv('data/kc_house_data.csv')"
   ],
   "outputs": [],
   "metadata": {}
  },
  {
   "cell_type": "markdown",
   "source": [
    "## Remove Features - recommended by Flatiron to remove\n",
    "- date (no explanatory value)\n",
    "- view ( has been viewed, this wouldn't help us predict prices) \n",
    "- Note: **sqft_above + sqft_basement = sqft_living**, according to meta-data:\n",
    "    - sqft_above (repeating sqft_living)\n",
    "    - sqft_basement (repeating sqft_living)\n",
    "- yr_renovated (repeating yr_built)\n",
    "- Not helpful to have geographic features becuase renovation can't inclue re-locating house (ostensibly)\n",
    "    - zipcode\n",
    "    - lat\n",
    "    - long\n",
    "- sqft_living15 (repeating sqft_living)\n",
    "- sqft_lot15 (repeating sqft_lot)"
   ],
   "metadata": {}
  },
  {
   "cell_type": "code",
   "execution_count": 173,
   "source": [
    "# Why reduce features?\n",
    "# I narrowed my list of features to avoid over-fit of the training dataset\n",
    "# Reducing redundancy in features increases the accuracy of the model\n",
    "\n",
    "df = df.drop(['date','view', 'sqft_above', 'sqft_basement', 'yr_renovated', 'zipcode', 'lat', 'long', 'sqft_living15', 'sqft_lot15'], axis=1)"
   ],
   "outputs": [],
   "metadata": {}
  },
  {
   "cell_type": "code",
   "execution_count": 174,
   "source": [
    "# Note:sqft_living includes a finished basement, if present\n",
    "# Grade is the construction quality of improvements, according to a King County grading system\n",
    "# Condition is overall condition of house\n",
    "df.columns"
   ],
   "outputs": [
    {
     "output_type": "execute_result",
     "data": {
      "text/plain": [
       "Index(['id', 'price', 'bedrooms', 'bathrooms', 'sqft_living', 'sqft_lot',\n",
       "       'floors', 'waterfront', 'condition', 'grade', 'yr_built'],\n",
       "      dtype='object')"
      ]
     },
     "metadata": {},
     "execution_count": 174
    }
   ],
   "metadata": {}
  },
  {
   "cell_type": "markdown",
   "source": [
    "## Data Quality"
   ],
   "metadata": {}
  },
  {
   "cell_type": "markdown",
   "source": [
    "- There could be outliers - such as hundreds of bathrooms - which doesn't make sense with square footage\n",
    "- Year could be in the future\n",
    "- price could be a negative number\n",
    "- datatype could be wrong - such as string for number of bedrooms"
   ],
   "metadata": {}
  },
  {
   "cell_type": "markdown",
   "source": [
    "### Waterfront Missing Values \n",
    "I filled in NaN values for 'waterfront' with 0. Now, 'waterfront' has a 1 value if there is a view, and 0 value if there is not.\n",
    "I also cast this column as an integer type since there are no other options besides the integers 1 and 0."
   ],
   "metadata": {}
  },
  {
   "cell_type": "code",
   "execution_count": 175,
   "source": [
    "# The only field that I retained containing NaN values is waterfront:\n",
    "df.isnull().sum()"
   ],
   "outputs": [
    {
     "output_type": "execute_result",
     "data": {
      "text/plain": [
       "id                0\n",
       "price             0\n",
       "bedrooms          0\n",
       "bathrooms         0\n",
       "sqft_living       0\n",
       "sqft_lot          0\n",
       "floors            0\n",
       "waterfront     2376\n",
       "condition         0\n",
       "grade             0\n",
       "yr_built          0\n",
       "dtype: int64"
      ]
     },
     "metadata": {},
     "execution_count": 175
    }
   ],
   "metadata": {}
  },
  {
   "cell_type": "code",
   "execution_count": 176,
   "source": [
    "# Note: waterfront is our only categorical value.\n",
    "# We don't need to use dummy coding or any other coding system because it's already dichotomous (1 or 0) \n",
    "df['waterfront'] = df['waterfront'].fillna(0)\n",
    "df['waterfront'] = df[\"waterfront\"].astype(int)\n",
    "df['waterfront'].unique()"
   ],
   "outputs": [
    {
     "output_type": "execute_result",
     "data": {
      "text/plain": [
       "array([0, 1])"
      ]
     },
     "metadata": {},
     "execution_count": 176
    }
   ],
   "metadata": {}
  },
  {
   "cell_type": "markdown",
   "source": [
    "## Cast Features -- at a Different Scale for Visualization "
   ],
   "metadata": {}
  },
  {
   "cell_type": "code",
   "execution_count": 177,
   "source": [
    "# Create lot size in acres:\n",
    "df['acres_lot'] = df['sqft_lot'] / 43560 "
   ],
   "outputs": [],
   "metadata": {}
  },
  {
   "cell_type": "code",
   "execution_count": 178,
   "source": [
    "# Create price column in millions:\n",
    "df['price_millions'] = df['price'] / 1000000"
   ],
   "outputs": [],
   "metadata": {}
  },
  {
   "cell_type": "code",
   "execution_count": 179,
   "source": [
    "df[['price_millions','price', 'acres_lot']]"
   ],
   "outputs": [
    {
     "output_type": "execute_result",
     "data": {
      "text/plain": [
       "       price_millions     price  acres_lot\n",
       "0            0.221900  221900.0   0.129706\n",
       "1            0.538000  538000.0   0.166253\n",
       "2            0.180000  180000.0   0.229568\n",
       "3            0.604000  604000.0   0.114784\n",
       "4            0.510000  510000.0   0.185491\n",
       "...               ...       ...        ...\n",
       "21592        0.360000  360000.0   0.025964\n",
       "21593        0.400000  400000.0   0.133448\n",
       "21594        0.402101  402101.0   0.030992\n",
       "21595        0.400000  400000.0   0.054821\n",
       "21596        0.325000  325000.0   0.024702\n",
       "\n",
       "[21597 rows x 3 columns]"
      ],
      "text/html": [
       "<div>\n",
       "<style scoped>\n",
       "    .dataframe tbody tr th:only-of-type {\n",
       "        vertical-align: middle;\n",
       "    }\n",
       "\n",
       "    .dataframe tbody tr th {\n",
       "        vertical-align: top;\n",
       "    }\n",
       "\n",
       "    .dataframe thead th {\n",
       "        text-align: right;\n",
       "    }\n",
       "</style>\n",
       "<table border=\"1\" class=\"dataframe\">\n",
       "  <thead>\n",
       "    <tr style=\"text-align: right;\">\n",
       "      <th></th>\n",
       "      <th>price_millions</th>\n",
       "      <th>price</th>\n",
       "      <th>acres_lot</th>\n",
       "    </tr>\n",
       "  </thead>\n",
       "  <tbody>\n",
       "    <tr>\n",
       "      <th>0</th>\n",
       "      <td>0.221900</td>\n",
       "      <td>221900.0</td>\n",
       "      <td>0.129706</td>\n",
       "    </tr>\n",
       "    <tr>\n",
       "      <th>1</th>\n",
       "      <td>0.538000</td>\n",
       "      <td>538000.0</td>\n",
       "      <td>0.166253</td>\n",
       "    </tr>\n",
       "    <tr>\n",
       "      <th>2</th>\n",
       "      <td>0.180000</td>\n",
       "      <td>180000.0</td>\n",
       "      <td>0.229568</td>\n",
       "    </tr>\n",
       "    <tr>\n",
       "      <th>3</th>\n",
       "      <td>0.604000</td>\n",
       "      <td>604000.0</td>\n",
       "      <td>0.114784</td>\n",
       "    </tr>\n",
       "    <tr>\n",
       "      <th>4</th>\n",
       "      <td>0.510000</td>\n",
       "      <td>510000.0</td>\n",
       "      <td>0.185491</td>\n",
       "    </tr>\n",
       "    <tr>\n",
       "      <th>...</th>\n",
       "      <td>...</td>\n",
       "      <td>...</td>\n",
       "      <td>...</td>\n",
       "    </tr>\n",
       "    <tr>\n",
       "      <th>21592</th>\n",
       "      <td>0.360000</td>\n",
       "      <td>360000.0</td>\n",
       "      <td>0.025964</td>\n",
       "    </tr>\n",
       "    <tr>\n",
       "      <th>21593</th>\n",
       "      <td>0.400000</td>\n",
       "      <td>400000.0</td>\n",
       "      <td>0.133448</td>\n",
       "    </tr>\n",
       "    <tr>\n",
       "      <th>21594</th>\n",
       "      <td>0.402101</td>\n",
       "      <td>402101.0</td>\n",
       "      <td>0.030992</td>\n",
       "    </tr>\n",
       "    <tr>\n",
       "      <th>21595</th>\n",
       "      <td>0.400000</td>\n",
       "      <td>400000.0</td>\n",
       "      <td>0.054821</td>\n",
       "    </tr>\n",
       "    <tr>\n",
       "      <th>21596</th>\n",
       "      <td>0.325000</td>\n",
       "      <td>325000.0</td>\n",
       "      <td>0.024702</td>\n",
       "    </tr>\n",
       "  </tbody>\n",
       "</table>\n",
       "<p>21597 rows × 3 columns</p>\n",
       "</div>"
      ]
     },
     "metadata": {},
     "execution_count": 179
    }
   ],
   "metadata": {}
  },
  {
   "cell_type": "code",
   "execution_count": 180,
   "source": [
    "print(f\"The max price is {df['price_millions'].max()} million, min price is {df['price'].min()}\")"
   ],
   "outputs": [
    {
     "output_type": "stream",
     "name": "stdout",
     "text": [
      "The max price is 7.7 million, min price is 78000.0\n"
     ]
    }
   ],
   "metadata": {}
  },
  {
   "cell_type": "markdown",
   "source": [
    "## DISTRIBUTIONS"
   ],
   "metadata": {}
  },
  {
   "cell_type": "markdown",
   "source": [
    "### Clarify Grade and Condition Columns"
   ],
   "metadata": {}
  },
  {
   "cell_type": "markdown",
   "source": [
    "#### King County's Grading System for Buildings:\n",
    "##### Represents the construction quality of improvements. Grades run from grade 1 to 13. Generally defined as:\n",
    "\n",
    "1. Falls short of minimum building standards. Normally cabin or inferior structure.\n",
    "\n",
    "2. Falls short of minimum building standards. Normally cabin or inferior structure.\n",
    "\n",
    "3. Falls short of minimum building standards. Normally cabin or inferior structure.\n",
    "\n",
    "4. Generally older, low quality construction. Does not meet code.\n",
    "\n",
    "5. Low construction costs and workmanship. Small, simple design.\n",
    "\n",
    "6. Lowest grade currently meeting building code. Low quality materials and simple designs.\n",
    "\n",
    "7. Average grade of construction and design. Commonly seen in plats and older sub-divisions.\n",
    "\n",
    "8. Just above average in construction and design. Usually better materials in both the exterior and interior finish work.\n",
    "\n",
    "9. Better architectural design with extra interior and exterior design and quality.\n",
    "\n",
    "10. Homes of this quality generally have high quality features. Finish work is better and more design quality is seen in the floor plans. Generally have a larger square footage.\n",
    "\n",
    "11. Custom design and higher quality finish work with added amenities of solid woods, bathroom fixtures and more luxurious options.\n",
    "\n",
    "12. Custom design and excellent builders. All materials are of the highest quality and all conveniences are present.\n",
    "\n",
    "13. Generally custom designed and built. Mansion level. Large amount of highest quality cabinet work, wood trim, marble, entry ways etc.\n",
    "\n",
    "#### King County's Condition Scale: \n",
    "##### Relative to age and grade. Coded 1-5.\n",
    "\n",
    "1. Poor- Worn out. Repair and overhaul needed on painted surfaces, roofing, plumbing, heating and numerous functional inadequacies. Excessive deferred maintenance and abuse, limited value-in-use, approaching abandonment or major reconstruction; reuse or change in occupancy is imminent. Effective age is near the end of the scale regardless of the actual chronological age.\n",
    "\n",
    "2. Fair- Badly worn. Much repair needed. Many items need refinishing or overhauling, deferred maintenance obvious, inadequate building utility and systems all shortening the life expectancy and increasing the effective age.\n",
    "\n",
    "3. Average- Some evidence of deferred maintenance and normal obsolescence with age in that a few minor repairs are needed, along with some refinishing. All major components still functional and contributing toward an extended life expectancy. Effective age and utility is standard for like properties of its class and usage.\n",
    "\n",
    "4. Good- No obvious maintenance required but neither is everything new. Appearance and utility are above the standard and the overall effective age will be lower than the typical property.\n",
    "\n",
    "5. Very Good- All items well maintained, many having been overhauled and repaired as they have shown signs of wear, increasing the life expectancy and lowering the effective age with little deterioration or obsolescence evident with a high degree of utility."
   ],
   "metadata": {}
  },
  {
   "cell_type": "markdown",
   "source": [
    "### Describe Data - Descriptive Statistics"
   ],
   "metadata": {}
  },
  {
   "cell_type": "code",
   "execution_count": 181,
   "source": [
    "format_dict = {'bedrooms': '{:.2f}', 'bathrooms': '{:.2f}', 'floors': '{:.2f}', 'sqft_living': '{:20,.2f}', 'sqft_lot': '{:20,.2f}',\n",
    "               'acres_lot': '{:.2f}',  'price': '{:20,.0f}', 'yr_built': '{:.0f}', 'condition': '{:.2f}', 'grade': '{:.2f}', 'waterfront': '{:.5f}'}\n",
    "df[['price', 'bedrooms', 'bathrooms', 'sqft_living', 'acres_lot', 'floors',\n",
    "    'waterfront', 'condition', 'grade', 'yr_built']].describe().style.format(format_dict)"
   ],
   "outputs": [
    {
     "output_type": "execute_result",
     "data": {
      "text/plain": [
       "<pandas.io.formats.style.Styler at 0x7fd0a34a8080>"
      ],
      "text/html": [
       "<style  type=\"text/css\" >\n",
       "</style><table id=\"T_3c73861a_f8c4_11eb_9f14_f079600ee336\" ><thead>    <tr>        <th class=\"blank level0\" ></th>        <th class=\"col_heading level0 col0\" >price</th>        <th class=\"col_heading level0 col1\" >bedrooms</th>        <th class=\"col_heading level0 col2\" >bathrooms</th>        <th class=\"col_heading level0 col3\" >sqft_living</th>        <th class=\"col_heading level0 col4\" >acres_lot</th>        <th class=\"col_heading level0 col5\" >floors</th>        <th class=\"col_heading level0 col6\" >waterfront</th>        <th class=\"col_heading level0 col7\" >condition</th>        <th class=\"col_heading level0 col8\" >grade</th>        <th class=\"col_heading level0 col9\" >yr_built</th>    </tr></thead><tbody>\n",
       "                <tr>\n",
       "                        <th id=\"T_3c73861a_f8c4_11eb_9f14_f079600ee336level0_row0\" class=\"row_heading level0 row0\" >count</th>\n",
       "                        <td id=\"T_3c73861a_f8c4_11eb_9f14_f079600ee336row0_col0\" class=\"data row0 col0\" >              21,597</td>\n",
       "                        <td id=\"T_3c73861a_f8c4_11eb_9f14_f079600ee336row0_col1\" class=\"data row0 col1\" >21597.00</td>\n",
       "                        <td id=\"T_3c73861a_f8c4_11eb_9f14_f079600ee336row0_col2\" class=\"data row0 col2\" >21597.00</td>\n",
       "                        <td id=\"T_3c73861a_f8c4_11eb_9f14_f079600ee336row0_col3\" class=\"data row0 col3\" >           21,597.00</td>\n",
       "                        <td id=\"T_3c73861a_f8c4_11eb_9f14_f079600ee336row0_col4\" class=\"data row0 col4\" >21597.00</td>\n",
       "                        <td id=\"T_3c73861a_f8c4_11eb_9f14_f079600ee336row0_col5\" class=\"data row0 col5\" >21597.00</td>\n",
       "                        <td id=\"T_3c73861a_f8c4_11eb_9f14_f079600ee336row0_col6\" class=\"data row0 col6\" >21597.00000</td>\n",
       "                        <td id=\"T_3c73861a_f8c4_11eb_9f14_f079600ee336row0_col7\" class=\"data row0 col7\" >21597.00</td>\n",
       "                        <td id=\"T_3c73861a_f8c4_11eb_9f14_f079600ee336row0_col8\" class=\"data row0 col8\" >21597.00</td>\n",
       "                        <td id=\"T_3c73861a_f8c4_11eb_9f14_f079600ee336row0_col9\" class=\"data row0 col9\" >21597</td>\n",
       "            </tr>\n",
       "            <tr>\n",
       "                        <th id=\"T_3c73861a_f8c4_11eb_9f14_f079600ee336level0_row1\" class=\"row_heading level0 row1\" >mean</th>\n",
       "                        <td id=\"T_3c73861a_f8c4_11eb_9f14_f079600ee336row1_col0\" class=\"data row1 col0\" >             540,297</td>\n",
       "                        <td id=\"T_3c73861a_f8c4_11eb_9f14_f079600ee336row1_col1\" class=\"data row1 col1\" >3.37</td>\n",
       "                        <td id=\"T_3c73861a_f8c4_11eb_9f14_f079600ee336row1_col2\" class=\"data row1 col2\" >2.12</td>\n",
       "                        <td id=\"T_3c73861a_f8c4_11eb_9f14_f079600ee336row1_col3\" class=\"data row1 col3\" >            2,080.32</td>\n",
       "                        <td id=\"T_3c73861a_f8c4_11eb_9f14_f079600ee336row1_col4\" class=\"data row1 col4\" >0.35</td>\n",
       "                        <td id=\"T_3c73861a_f8c4_11eb_9f14_f079600ee336row1_col5\" class=\"data row1 col5\" >1.49</td>\n",
       "                        <td id=\"T_3c73861a_f8c4_11eb_9f14_f079600ee336row1_col6\" class=\"data row1 col6\" >0.00676</td>\n",
       "                        <td id=\"T_3c73861a_f8c4_11eb_9f14_f079600ee336row1_col7\" class=\"data row1 col7\" >3.41</td>\n",
       "                        <td id=\"T_3c73861a_f8c4_11eb_9f14_f079600ee336row1_col8\" class=\"data row1 col8\" >7.66</td>\n",
       "                        <td id=\"T_3c73861a_f8c4_11eb_9f14_f079600ee336row1_col9\" class=\"data row1 col9\" >1971</td>\n",
       "            </tr>\n",
       "            <tr>\n",
       "                        <th id=\"T_3c73861a_f8c4_11eb_9f14_f079600ee336level0_row2\" class=\"row_heading level0 row2\" >std</th>\n",
       "                        <td id=\"T_3c73861a_f8c4_11eb_9f14_f079600ee336row2_col0\" class=\"data row2 col0\" >             367,368</td>\n",
       "                        <td id=\"T_3c73861a_f8c4_11eb_9f14_f079600ee336row2_col1\" class=\"data row2 col1\" >0.93</td>\n",
       "                        <td id=\"T_3c73861a_f8c4_11eb_9f14_f079600ee336row2_col2\" class=\"data row2 col2\" >0.77</td>\n",
       "                        <td id=\"T_3c73861a_f8c4_11eb_9f14_f079600ee336row2_col3\" class=\"data row2 col3\" >              918.11</td>\n",
       "                        <td id=\"T_3c73861a_f8c4_11eb_9f14_f079600ee336row2_col4\" class=\"data row2 col4\" >0.95</td>\n",
       "                        <td id=\"T_3c73861a_f8c4_11eb_9f14_f079600ee336row2_col5\" class=\"data row2 col5\" >0.54</td>\n",
       "                        <td id=\"T_3c73861a_f8c4_11eb_9f14_f079600ee336row2_col6\" class=\"data row2 col6\" >0.08194</td>\n",
       "                        <td id=\"T_3c73861a_f8c4_11eb_9f14_f079600ee336row2_col7\" class=\"data row2 col7\" >0.65</td>\n",
       "                        <td id=\"T_3c73861a_f8c4_11eb_9f14_f079600ee336row2_col8\" class=\"data row2 col8\" >1.17</td>\n",
       "                        <td id=\"T_3c73861a_f8c4_11eb_9f14_f079600ee336row2_col9\" class=\"data row2 col9\" >29</td>\n",
       "            </tr>\n",
       "            <tr>\n",
       "                        <th id=\"T_3c73861a_f8c4_11eb_9f14_f079600ee336level0_row3\" class=\"row_heading level0 row3\" >min</th>\n",
       "                        <td id=\"T_3c73861a_f8c4_11eb_9f14_f079600ee336row3_col0\" class=\"data row3 col0\" >              78,000</td>\n",
       "                        <td id=\"T_3c73861a_f8c4_11eb_9f14_f079600ee336row3_col1\" class=\"data row3 col1\" >1.00</td>\n",
       "                        <td id=\"T_3c73861a_f8c4_11eb_9f14_f079600ee336row3_col2\" class=\"data row3 col2\" >0.50</td>\n",
       "                        <td id=\"T_3c73861a_f8c4_11eb_9f14_f079600ee336row3_col3\" class=\"data row3 col3\" >              370.00</td>\n",
       "                        <td id=\"T_3c73861a_f8c4_11eb_9f14_f079600ee336row3_col4\" class=\"data row3 col4\" >0.01</td>\n",
       "                        <td id=\"T_3c73861a_f8c4_11eb_9f14_f079600ee336row3_col5\" class=\"data row3 col5\" >1.00</td>\n",
       "                        <td id=\"T_3c73861a_f8c4_11eb_9f14_f079600ee336row3_col6\" class=\"data row3 col6\" >0.00000</td>\n",
       "                        <td id=\"T_3c73861a_f8c4_11eb_9f14_f079600ee336row3_col7\" class=\"data row3 col7\" >1.00</td>\n",
       "                        <td id=\"T_3c73861a_f8c4_11eb_9f14_f079600ee336row3_col8\" class=\"data row3 col8\" >3.00</td>\n",
       "                        <td id=\"T_3c73861a_f8c4_11eb_9f14_f079600ee336row3_col9\" class=\"data row3 col9\" >1900</td>\n",
       "            </tr>\n",
       "            <tr>\n",
       "                        <th id=\"T_3c73861a_f8c4_11eb_9f14_f079600ee336level0_row4\" class=\"row_heading level0 row4\" >25%</th>\n",
       "                        <td id=\"T_3c73861a_f8c4_11eb_9f14_f079600ee336row4_col0\" class=\"data row4 col0\" >             322,000</td>\n",
       "                        <td id=\"T_3c73861a_f8c4_11eb_9f14_f079600ee336row4_col1\" class=\"data row4 col1\" >3.00</td>\n",
       "                        <td id=\"T_3c73861a_f8c4_11eb_9f14_f079600ee336row4_col2\" class=\"data row4 col2\" >1.75</td>\n",
       "                        <td id=\"T_3c73861a_f8c4_11eb_9f14_f079600ee336row4_col3\" class=\"data row4 col3\" >            1,430.00</td>\n",
       "                        <td id=\"T_3c73861a_f8c4_11eb_9f14_f079600ee336row4_col4\" class=\"data row4 col4\" >0.12</td>\n",
       "                        <td id=\"T_3c73861a_f8c4_11eb_9f14_f079600ee336row4_col5\" class=\"data row4 col5\" >1.00</td>\n",
       "                        <td id=\"T_3c73861a_f8c4_11eb_9f14_f079600ee336row4_col6\" class=\"data row4 col6\" >0.00000</td>\n",
       "                        <td id=\"T_3c73861a_f8c4_11eb_9f14_f079600ee336row4_col7\" class=\"data row4 col7\" >3.00</td>\n",
       "                        <td id=\"T_3c73861a_f8c4_11eb_9f14_f079600ee336row4_col8\" class=\"data row4 col8\" >7.00</td>\n",
       "                        <td id=\"T_3c73861a_f8c4_11eb_9f14_f079600ee336row4_col9\" class=\"data row4 col9\" >1951</td>\n",
       "            </tr>\n",
       "            <tr>\n",
       "                        <th id=\"T_3c73861a_f8c4_11eb_9f14_f079600ee336level0_row5\" class=\"row_heading level0 row5\" >50%</th>\n",
       "                        <td id=\"T_3c73861a_f8c4_11eb_9f14_f079600ee336row5_col0\" class=\"data row5 col0\" >             450,000</td>\n",
       "                        <td id=\"T_3c73861a_f8c4_11eb_9f14_f079600ee336row5_col1\" class=\"data row5 col1\" >3.00</td>\n",
       "                        <td id=\"T_3c73861a_f8c4_11eb_9f14_f079600ee336row5_col2\" class=\"data row5 col2\" >2.25</td>\n",
       "                        <td id=\"T_3c73861a_f8c4_11eb_9f14_f079600ee336row5_col3\" class=\"data row5 col3\" >            1,910.00</td>\n",
       "                        <td id=\"T_3c73861a_f8c4_11eb_9f14_f079600ee336row5_col4\" class=\"data row5 col4\" >0.17</td>\n",
       "                        <td id=\"T_3c73861a_f8c4_11eb_9f14_f079600ee336row5_col5\" class=\"data row5 col5\" >1.50</td>\n",
       "                        <td id=\"T_3c73861a_f8c4_11eb_9f14_f079600ee336row5_col6\" class=\"data row5 col6\" >0.00000</td>\n",
       "                        <td id=\"T_3c73861a_f8c4_11eb_9f14_f079600ee336row5_col7\" class=\"data row5 col7\" >3.00</td>\n",
       "                        <td id=\"T_3c73861a_f8c4_11eb_9f14_f079600ee336row5_col8\" class=\"data row5 col8\" >7.00</td>\n",
       "                        <td id=\"T_3c73861a_f8c4_11eb_9f14_f079600ee336row5_col9\" class=\"data row5 col9\" >1975</td>\n",
       "            </tr>\n",
       "            <tr>\n",
       "                        <th id=\"T_3c73861a_f8c4_11eb_9f14_f079600ee336level0_row6\" class=\"row_heading level0 row6\" >75%</th>\n",
       "                        <td id=\"T_3c73861a_f8c4_11eb_9f14_f079600ee336row6_col0\" class=\"data row6 col0\" >             645,000</td>\n",
       "                        <td id=\"T_3c73861a_f8c4_11eb_9f14_f079600ee336row6_col1\" class=\"data row6 col1\" >4.00</td>\n",
       "                        <td id=\"T_3c73861a_f8c4_11eb_9f14_f079600ee336row6_col2\" class=\"data row6 col2\" >2.50</td>\n",
       "                        <td id=\"T_3c73861a_f8c4_11eb_9f14_f079600ee336row6_col3\" class=\"data row6 col3\" >            2,550.00</td>\n",
       "                        <td id=\"T_3c73861a_f8c4_11eb_9f14_f079600ee336row6_col4\" class=\"data row6 col4\" >0.25</td>\n",
       "                        <td id=\"T_3c73861a_f8c4_11eb_9f14_f079600ee336row6_col5\" class=\"data row6 col5\" >2.00</td>\n",
       "                        <td id=\"T_3c73861a_f8c4_11eb_9f14_f079600ee336row6_col6\" class=\"data row6 col6\" >0.00000</td>\n",
       "                        <td id=\"T_3c73861a_f8c4_11eb_9f14_f079600ee336row6_col7\" class=\"data row6 col7\" >4.00</td>\n",
       "                        <td id=\"T_3c73861a_f8c4_11eb_9f14_f079600ee336row6_col8\" class=\"data row6 col8\" >8.00</td>\n",
       "                        <td id=\"T_3c73861a_f8c4_11eb_9f14_f079600ee336row6_col9\" class=\"data row6 col9\" >1997</td>\n",
       "            </tr>\n",
       "            <tr>\n",
       "                        <th id=\"T_3c73861a_f8c4_11eb_9f14_f079600ee336level0_row7\" class=\"row_heading level0 row7\" >max</th>\n",
       "                        <td id=\"T_3c73861a_f8c4_11eb_9f14_f079600ee336row7_col0\" class=\"data row7 col0\" >           7,700,000</td>\n",
       "                        <td id=\"T_3c73861a_f8c4_11eb_9f14_f079600ee336row7_col1\" class=\"data row7 col1\" >33.00</td>\n",
       "                        <td id=\"T_3c73861a_f8c4_11eb_9f14_f079600ee336row7_col2\" class=\"data row7 col2\" >8.00</td>\n",
       "                        <td id=\"T_3c73861a_f8c4_11eb_9f14_f079600ee336row7_col3\" class=\"data row7 col3\" >           13,540.00</td>\n",
       "                        <td id=\"T_3c73861a_f8c4_11eb_9f14_f079600ee336row7_col4\" class=\"data row7 col4\" >37.91</td>\n",
       "                        <td id=\"T_3c73861a_f8c4_11eb_9f14_f079600ee336row7_col5\" class=\"data row7 col5\" >3.50</td>\n",
       "                        <td id=\"T_3c73861a_f8c4_11eb_9f14_f079600ee336row7_col6\" class=\"data row7 col6\" >1.00000</td>\n",
       "                        <td id=\"T_3c73861a_f8c4_11eb_9f14_f079600ee336row7_col7\" class=\"data row7 col7\" >5.00</td>\n",
       "                        <td id=\"T_3c73861a_f8c4_11eb_9f14_f079600ee336row7_col8\" class=\"data row7 col8\" >13.00</td>\n",
       "                        <td id=\"T_3c73861a_f8c4_11eb_9f14_f079600ee336row7_col9\" class=\"data row7 col9\" >2015</td>\n",
       "            </tr>\n",
       "    </tbody></table>"
      ]
     },
     "metadata": {},
     "execution_count": 181
    }
   ],
   "metadata": {}
  },
  {
   "cell_type": "markdown",
   "source": [
    "#### Interpret .describe() \n",
    "- There are no negative values for any of the columns\n",
    "- The year range makes sense: homes were built between 1900 and 2015\n",
    "- sqft_living average is around 2,000, which is close to the US average\n",
    "- The average lot size is 15,099 square feet, or .35 acres\n",
    "- The lot size mean is skewed by our outlier home, which stands on a 37.91 acre lot.\n",
    "- The median sqft_lot size is 7,618 or .17 acres, which is much closer to the national average of 0.188 of an acre.\n",
    "- Condition and Grade: The mean, max, and min all line-up with the scale of the system, described above.\n",
    "    - Mean Grade is 7.66, so between a 7 and 8: \n",
    "        - 7. Average grade of construction and design. Commonly seen in plats and older sub-divisions.\n",
    "        - 8. Just above average in construction and design. Usually better materials in both the exterior and interior finish work.\n",
    "    - Mean Condition is 3.41, closest to a 3: \n",
    "        - 3. Average- Some evidence of deferred maintenance and normal obsolescence with age in that a few minor repairs are needed, along with some refinishing. All major components still functional and contributing toward an extended life expectancy. Effective age and utility is standard for like properties of its class and usage."
   ],
   "metadata": {}
  },
  {
   "cell_type": "markdown",
   "source": [
    "### Price Frequency Histogram"
   ],
   "metadata": {}
  },
  {
   "cell_type": "code",
   "execution_count": 182,
   "source": [
    "ax = df.hist(column='price_millions',\n",
    "             bins='auto',\n",
    "             grid=False,\n",
    "             figsize=(8,5))\n",
    "\n",
    "ax = ax[0]\n",
    "for x in ax:\n",
    "\n",
    "    x.set_title(\"Distribution of Home Sale Price\", size=20)\n",
    "\n",
    "    # Set x-axis label\n",
    "    x.set_xlabel(\"Sale Price of Home\", labelpad=15, weight='bold', size=10)\n",
    "    x.xaxis.set_major_formatter(StrMethodFormatter('{x:,.0f}' + ' Million'))\n",
    "\n",
    "    # Set y-axis label\n",
    "    x.set_ylabel(\"Number of Homes Sold\", labelpad=15, weight='bold', size=10)\n",
    "    x.yaxis.set_major_formatter(StrMethodFormatter('{x:,g}'))\n"
   ],
   "outputs": [
    {
     "output_type": "display_data",
     "data": {
      "text/plain": [
       "<Figure size 576x360 with 1 Axes>"
      ],
      "image/png": "[encoded data removed]"
     },
     "metadata": {
      "needs_background": "light"
     }
    }
   ],
   "metadata": {}
  },
  {
   "cell_type": "markdown",
   "source": [
    "### Narrow dataset for modeling "
   ],
   "metadata": {}
  },
  {
   "cell_type": "code",
   "execution_count": 183,
   "source": [
    "# Remember all columns in df are: \n",
    "df.columns"
   ],
   "outputs": [
    {
     "output_type": "execute_result",
     "data": {
      "text/plain": [
       "Index(['id', 'price', 'bedrooms', 'bathrooms', 'sqft_living', 'sqft_lot',\n",
       "       'floors', 'waterfront', 'condition', 'grade', 'yr_built', 'acres_lot',\n",
       "       'price_millions'],\n",
       "      dtype='object')"
      ]
     },
     "metadata": {},
     "execution_count": 183
    }
   ],
   "metadata": {}
  },
  {
   "cell_type": "code",
   "execution_count": 184,
   "source": [
    "# Select a subset of columns to create matrix:\n",
    "df_model = df.drop(['acres_lot','id'], axis=1)"
   ],
   "outputs": [],
   "metadata": {}
  },
  {
   "cell_type": "code",
   "execution_count": 185,
   "source": [
    "df_model.columns"
   ],
   "outputs": [
    {
     "output_type": "execute_result",
     "data": {
      "text/plain": [
       "Index(['price', 'bedrooms', 'bathrooms', 'sqft_living', 'sqft_lot', 'floors',\n",
       "       'waterfront', 'condition', 'grade', 'yr_built', 'price_millions'],\n",
       "      dtype='object')"
      ]
     },
     "metadata": {},
     "execution_count": 185
    }
   ],
   "metadata": {}
  },
  {
   "cell_type": "markdown",
   "source": [
    "### Scatter Matrix Distribution"
   ],
   "metadata": {}
  },
  {
   "cell_type": "code",
   "execution_count": 186,
   "source": [
    "pd.plotting.scatter_matrix(df_model, figsize=(12,12))\n",
    "plt.show()"
   ],
   "outputs": [
    {
     "output_type": "display_data",
     "data": {
      "text/plain": [
       "<Figure size 864x864 with 121 Axes>"
      ],
      "image/png": "[encoded data removed]"
     },
     "metadata": {
      "needs_background": "light"
     }
    }
   ],
   "metadata": {}
  },
  {
   "cell_type": "markdown",
   "source": [
    "### Notes on Scatter Matrix Dist:\n",
    "- A lot of our data correlated with yr_built does not show a trend.\n",
    "- That's why we need to normalize our data, because \"year\" is on such a different scale than say, bedrooms."
   ],
   "metadata": {}
  },
  {
   "cell_type": "markdown",
   "source": [
    "### Price Density Histogram"
   ],
   "metadata": {}
  },
  {
   "cell_type": "code",
   "execution_count": 187,
   "source": [
    "# From this we can see that generally, most houses are priced below one million dollars\n",
    "# We can also see there is considerable right-skew in the price of the homes in our dataset\n",
    "plt.figure(figsize = (12,8))\n",
    "sns.distplot(df_model.price_millions,kde=True)\n",
    "plt.title('Density Histogram of Housing Prices in Kings County')\n",
    "plt.show()"
   ],
   "outputs": [
    {
     "output_type": "display_data",
     "data": {
      "text/plain": [
       "<Figure size 864x576 with 1 Axes>"
      ],
      "image/png": "[encoded data removed]"
     },
     "metadata": {
      "needs_background": "light"
     }
    }
   ],
   "metadata": {}
  },
  {
   "cell_type": "markdown",
   "source": [
    "### Waterfront-Price Density Histogram\n",
    "Let's show another type of distribution now that we have \"waterfront\" column cleaned up"
   ],
   "metadata": {}
  },
  {
   "cell_type": "code",
   "execution_count": 188,
   "source": [
    "# Density histogram of house price - waterfront vs. non-waterfront:\n",
    "water_df =  df_model.loc[df['waterfront'] == 1]\n",
    "no_water_df =  df_model.loc[df['waterfront'] == 0]"
   ],
   "outputs": [],
   "metadata": {}
  },
  {
   "cell_type": "code",
   "execution_count": 189,
   "source": [
    "# Plot histograms (with densities on the y-axis) for waterfront and non-waterfront house prices:\n",
    "plt.figure(figsize = (12,8))\n",
    "binsize = 10\n",
    "water_df.price_millions.plot.hist(bins = binsize, density = True,  alpha = 0.6, label =\"Waterfront Prices in millions\");\n",
    "no_water_df.price_millions.plot.hist(bins = binsize, density = True, alpha = 0.6, label = 'Non-Waterfront Prices in millions');\n",
    "plt.legend()\n",
    "plt.show()\n"
   ],
   "outputs": [
    {
     "output_type": "display_data",
     "data": {
      "text/plain": [
       "<Figure size 864x576 with 1 Axes>"
      ],
      "image/png": "[encoded data removed]"
     },
     "metadata": {
      "needs_background": "light"
     }
    }
   ],
   "metadata": {}
  },
  {
   "cell_type": "markdown",
   "source": [
    "### Interpret Waterfront-Price Density Histogram\n",
    "- Waterfront properties tend to have higher selling prices than non-waterfront properties\n",
    "- Waterfront properties have a higher spread than non-watefront properties - that's why the waterfront peak is smaller than the non-waterfront peak\n",
    "- Neither price distributions are normally distributed\n",
    "- Waterfront and non-waterfront properties overlap in price from about .3-.7 million"
   ],
   "metadata": {}
  },
  {
   "cell_type": "markdown",
   "source": [
    "### Waterfront-Price KDE"
   ],
   "metadata": {}
  },
  {
   "cell_type": "code",
   "execution_count": 190,
   "source": [
    "# Ok. Now let's draw a smooth curve, given the above data, using KDE (kernal density estimation)\n",
    "# The smooth line in the visualization below is an estimate of the distributions of waterfront and non-waterfront house prices\n",
    "# The parameter bandwidth rules the smoothness of the underlying distribution\n",
    "\n",
    "# The problem with a Probability Density Function plot, is that all \"point probabilities\" are 0\n",
    "# We must calculate the area under the curve for an interval to get the actual probability for an interval of house prices.\n",
    "# Thus, it's not intuitive or easy to \"read\" the y-axis to get probabilities for continuous variables using a PDF like below.\n",
    "\n",
    "plt.figure(figsize = (12,8))\n",
    "sns.distplot(water_df.price_millions,kde=True)\n",
    "sns.distplot(no_water_df.price_millions,kde=True)\n",
    "plt.title('Comparing House Prices: Waterfront vs. Non-Waterfront')\n",
    "plt.show()\n",
    "\n",
    "\n"
   ],
   "outputs": [
    {
     "output_type": "display_data",
     "data": {
      "text/plain": [
       "<Figure size 864x576 with 1 Axes>"
      ],
      "image/png": "[encoded data removed]"
     },
     "metadata": {
      "needs_background": "light"
     }
    }
   ],
   "metadata": {}
  },
  {
   "cell_type": "markdown",
   "source": [
    "### Probability of Waterfront Price 2-4 mill\n",
    "For example, if we wanted to know the probability that a waterfront house price is between 2 and 4 million dollars (inclusive), we would use the following formula to take the integral of this range (AKA area under the curve)\n",
    "$$\\large P(2 \\leq X \\leq 4) = \\int_{2}^{4} f_x(x) dx \\geq 0 $$\n"
   ],
   "metadata": {}
  },
  {
   "cell_type": "markdown",
   "source": [
    "# DATA PREPARATION\n",
    "- Prepping to model\n",
    "- Missing values\n",
    "- Convert categorical data to numeric via one-hot encoding (we didn't need to do this because everything is ordinal and non-text)\n",
    "- Type conversions (this was done in the previous section - price to millions and sqft to acres)\n",
    "- Remove multicollinearity (correlated predictors)\n",
    "- Normalize numeric data\n"
   ],
   "metadata": {}
  },
  {
   "cell_type": "markdown",
   "source": [
    "## Normalize Numeric Data\n",
    "- The z-score normalization method is the most common\n",
    "- If standard deviation is a yardstick, then a z-score is the measurement expressed in terms of that yardstick\n",
    "- For example, if we find the z-score for a given x-value's distance from x-bar  divided by the standard deviation...\n",
    "- We have convereted the distance of x from x-bar to \"standard deviation units\"\n",
    "- If s = 30, then we want to see how many s's (quantities of 30) that x is from x-bar\n",
    "- Basically, a z-score expresses each value of x as a standard unit away from the mean (x-bar)"
   ],
   "metadata": {}
  },
  {
   "cell_type": "code",
   "execution_count": 191,
   "source": [
    "# make copy of df_model for normalization purposes: \n",
    "df_norm = df_model.copy()\n",
    "\n",
    "# Apply z-score normalization:\n",
    "def z_score_norm(my_column):\n",
    "    return (my_column - my_column.mean())/my_column.std()\n",
    "\n",
    "for predictor in ['bedrooms', 'bathrooms', 'sqft_living', 'sqft_lot', 'floors', 'waterfront', 'condition','grade','yr_built']:\n",
    "    df_norm[predictor] = z_score_norm(df_norm[predictor])\n",
    "    \n",
    "# print normalized data: \n",
    "print(df_norm)"
   ],
   "outputs": [
    {
     "output_type": "stream",
     "name": "stdout",
     "text": [
      "          price  bedrooms  bathrooms  sqft_living  sqft_lot    floors  \\\n",
      "0      221900.0 -0.402894  -1.451039    -0.980629 -0.228177 -0.915531   \n",
      "1      538000.0 -0.402894   0.174482     0.533357 -0.189735  0.937409   \n",
      "2      180000.0 -1.482459  -1.451039    -1.427201 -0.123137 -0.915531   \n",
      "3      604000.0  0.676671   1.149794    -0.131054 -0.243873 -0.915531   \n",
      "4      510000.0 -0.402894  -0.150622    -0.436030 -0.169499 -0.915531   \n",
      "...         ...       ...        ...          ...       ...       ...   \n",
      "21592  360000.0 -0.402894   0.499586    -0.599410 -0.337298  2.790349   \n",
      "21593  400000.0  0.676671   0.499586     0.250165 -0.224241  0.937409   \n",
      "21594  402101.0 -1.482459  -1.776143    -1.154901 -0.332010  0.937409   \n",
      "21595  400000.0 -0.402894   0.499586    -0.523166 -0.306945  0.937409   \n",
      "21596  325000.0 -1.482459  -1.776143    -1.154901 -0.338626  0.937409   \n",
      "\n",
      "       waterfront  condition     grade  yr_built  price_millions  \n",
      "0       -0.082498  -0.629972 -0.560787 -0.544665        0.221900  \n",
      "1       -0.082498  -0.629972 -0.560787 -0.680835        0.538000  \n",
      "2       -0.082498  -0.629972 -1.413157 -1.293596        0.180000  \n",
      "3       -0.082498   2.444371 -0.560787 -0.204243        0.604000  \n",
      "4       -0.082498  -0.629972  0.291583  0.544688        0.510000  \n",
      "...           ...        ...       ...       ...             ...  \n",
      "21592   -0.082498  -0.629972  0.291583  1.293618        0.360000  \n",
      "21593   -0.082498  -0.629972  0.291583  1.463829        0.400000  \n",
      "21594   -0.082498  -0.629972 -0.560787  1.293618        0.402101  \n",
      "21595   -0.082498  -0.629972  0.291583  1.123406        0.400000  \n",
      "21596   -0.082498  -0.629972 -0.560787  1.259575        0.325000  \n",
      "\n",
      "[21597 rows x 11 columns]\n"
     ]
    }
   ],
   "metadata": {}
  },
  {
   "cell_type": "markdown",
   "source": [
    "## Explore Multicollinearity\n",
    "- This a phenemonen where two variables we are using as predictors are correlated with each other\n",
    "- This violates one of the assumptions of performing linear regression - that all independent variables are independent from one another\n",
    "- If we left all features in the model without addressing multicollinearity, it would become very hard for the model to estimate the relationship between independent variables and the dependent variable, because rather than change independently, the features would change in pairs or groups."
   ],
   "metadata": {}
  },
  {
   "cell_type": "code",
   "execution_count": 192,
   "source": [
    "correlations = df_norm.drop(['price'],axis = 1).corr()"
   ],
   "outputs": [],
   "metadata": {}
  },
  {
   "cell_type": "code",
   "execution_count": 193,
   "source": [
    "plt.figure(figsize=(12,12)) # Set size of figure\n",
    "# Use df.corr() as your matrix for the heatmap\n",
    "# I set the color scheme to green using cmap\n",
    "# annot= True adds the float value on each square\n",
    "# fmt='.1f' sets the number of decimal places for each float number. If you want 1.00, for example, use fmt='.2f'\n",
    "# cbar_kws={\"shrink\": .77}  - this argument shrinks the side color bar to .77 of its original size\n",
    "# square=True - this argument makes the figure square\n",
    "ax = sns.heatmap(correlations, cmap = \"Greens\", annot=True, fmt='.2f', cbar_kws={\"shrink\": .77}, square=True)\n",
    "# Sets the title\n",
    "ax.set(title='King County House Sales Dataset Correlation Heatmap')\n",
    "# Get the y-axis limit values for the size of the figure:\n",
    "bottom, top = ax.get_ylim()\n",
    "# Add .5 to the bottom and top of the y-axis limits to fix an error where the top and bottom squares are cut off\n",
    "# This is an error for the versions of Seaborne and Matplotlib I'm using\n",
    "ax = ax.set_ylim(bottom + 0.5, top - 0.5)\n",
    "# Rotate the bottom labels by 30 degrees (100-70)\n",
    "plt.xticks(rotation=70)\n",
    "plt.show()\n"
   ],
   "outputs": [
    {
     "output_type": "display_data",
     "data": {
      "text/plain": [
       "<Figure size 864x864 with 2 Axes>"
      ],
      "image/png": "[encoded data removed]"
     },
     "metadata": {
      "needs_background": "light"
     }
    }
   ],
   "metadata": {}
  },
  {
   "cell_type": "code",
   "execution_count": 194,
   "source": [
    "correlations['price_millions'].sort_values(ascending=False)"
   ],
   "outputs": [
    {
     "output_type": "execute_result",
     "data": {
      "text/plain": [
       "price_millions    1.000000\n",
       "sqft_living       0.701917\n",
       "grade             0.667951\n",
       "bathrooms         0.525906\n",
       "bedrooms          0.308787\n",
       "waterfront        0.264306\n",
       "floors            0.256804\n",
       "sqft_lot          0.089876\n",
       "yr_built          0.053953\n",
       "condition         0.036056\n",
       "Name: price_millions, dtype: float64"
      ]
     },
     "metadata": {},
     "execution_count": 194
    }
   ],
   "metadata": {}
  },
  {
   "cell_type": "code",
   "execution_count": 195,
   "source": [
    "correlations[\"sqft_living\"].sort_values(ascending=False)"
   ],
   "outputs": [
    {
     "output_type": "execute_result",
     "data": {
      "text/plain": [
       "sqft_living       1.000000\n",
       "grade             0.762779\n",
       "bathrooms         0.755758\n",
       "price_millions    0.701917\n",
       "bedrooms          0.578212\n",
       "floors            0.353953\n",
       "yr_built          0.318152\n",
       "sqft_lot          0.173453\n",
       "waterfront        0.104637\n",
       "condition        -0.059445\n",
       "Name: sqft_living, dtype: float64"
      ]
     },
     "metadata": {},
     "execution_count": 195
    }
   ],
   "metadata": {}
  },
  {
   "cell_type": "markdown",
   "source": [
    "### Correlations Interpretation \n",
    "- Features highly correlated with price are sqft_living, grade, and bathrooms\n",
    "- Features highly correlated with sqft_living are grade, bathrooms, price_millions, and bedrooms"
   ],
   "metadata": {}
  },
  {
   "cell_type": "markdown",
   "source": [
    "## Address Multicollinearity"
   ],
   "metadata": {}
  },
  {
   "cell_type": "code",
   "execution_count": 197,
   "source": [
    "df_norm.columns"
   ],
   "outputs": [
    {
     "output_type": "execute_result",
     "data": {
      "text/plain": [
       "Index(['price', 'bedrooms', 'bathrooms', 'sqft_living', 'sqft_lot', 'floors',\n",
       "       'waterfront', 'condition', 'grade', 'yr_built', 'price_millions'],\n",
       "      dtype='object')"
      ]
     },
     "metadata": {},
     "execution_count": 197
    }
   ],
   "metadata": {}
  },
  {
   "cell_type": "code",
   "execution_count": 198,
   "source": [
    "df_norm.shape"
   ],
   "outputs": [
    {
     "output_type": "execute_result",
     "data": {
      "text/plain": [
       "(21597, 11)"
      ]
     },
     "metadata": {},
     "execution_count": 198
    }
   ],
   "metadata": {}
  },
  {
   "cell_type": "code",
   "execution_count": 199,
   "source": [
    "house_pred = df_norm.drop(['price','price_millions'], axis=1)"
   ],
   "outputs": [],
   "metadata": {}
  },
  {
   "cell_type": "code",
   "execution_count": 200,
   "source": [
    "# We want to write a simple loop to use statsmodel's variance_inflation_factort method on each array (row) of our dataframe, for each column \n",
    "# That's why we use X.shape[1] as the range in the loop below, since the second term in the output of the .shape method is the number of columns\n",
    "X = sm.add_constant(df_norm.drop(['price','price_millions'], axis=1))\n",
    "pd.Series([variance_inflation_factor(X.values, i) \n",
    "               for i in range(X.shape[1])], \n",
    "              index=X.columns)"
   ],
   "outputs": [
    {
     "output_type": "execute_result",
     "data": {
      "text/plain": [
       "const          1.000000\n",
       "bedrooms       1.628887\n",
       "bathrooms      3.186926\n",
       "sqft_living    4.152240\n",
       "sqft_lot       1.047462\n",
       "floors         1.573844\n",
       "waterfront     1.021879\n",
       "condition      1.182857\n",
       "grade          2.888261\n",
       "yr_built       1.734538\n",
       "dtype: float64"
      ]
     },
     "metadata": {},
     "execution_count": 200
    }
   ],
   "metadata": {}
  },
  {
   "cell_type": "markdown",
   "source": [
    "### sqft_living has a moderately high VIF value, so we can try removing to see if it helps with our model"
   ],
   "metadata": {}
  },
  {
   "cell_type": "markdown",
   "source": [
    "# MODELING\n",
    "- Tune models to get the highest performance possible on our task\n",
    "  - Considerations:\n",
    "    - What kind of task? Classification task? Regression task?\n",
    "    - Which models will we use\n",
    "    - Will be use regularization?\n",
    "    - How will we validate our model?\n",
    "    - Loss functions?\n",
    "    - What is the performance threshold for success?\n"
   ],
   "metadata": {}
  },
  {
   "cell_type": "markdown",
   "source": [
    "# Linear Regression - Ordinary Least Squares"
   ],
   "metadata": {}
  },
  {
   "cell_type": "code",
   "execution_count": 201,
   "source": [
    "df_norm.columns"
   ],
   "outputs": [
    {
     "output_type": "execute_result",
     "data": {
      "text/plain": [
       "Index(['price', 'bedrooms', 'bathrooms', 'sqft_living', 'sqft_lot', 'floors',\n",
       "       'waterfront', 'condition', 'grade', 'yr_built', 'price_millions'],\n",
       "      dtype='object')"
      ]
     },
     "metadata": {},
     "execution_count": 201
    }
   ],
   "metadata": {}
  },
  {
   "cell_type": "markdown",
   "source": [
    "## All Cols - statsmodel"
   ],
   "metadata": {}
  },
  {
   "cell_type": "code",
   "execution_count": 202,
   "source": [
    "house_pred = df_norm.drop(['price','price_millions'], axis=1)\n",
    "house_target = df_norm['price_millions']"
   ],
   "outputs": [],
   "metadata": {}
  },
  {
   "cell_type": "code",
   "execution_count": 203,
   "source": [
    "# Add constant (AKA y-intercept):\n",
    "# The constant is set to 1 as default - with means that our constant coefficient will be equal to 1*Beta(0)\n",
    "# For our other variables (other Betas) will be multiplied by a particular coefficient to predict price\n",
    "predictors = sm.add_constant(house_pred)\n",
    "predictors.head()"
   ],
   "outputs": [
    {
     "output_type": "execute_result",
     "data": {
      "text/plain": [
       "   const  bedrooms  bathrooms  sqft_living  sqft_lot    floors  waterfront  \\\n",
       "0    1.0 -0.402894  -1.451039    -0.980629 -0.228177 -0.915531   -0.082498   \n",
       "1    1.0 -0.402894   0.174482     0.533357 -0.189735  0.937409   -0.082498   \n",
       "2    1.0 -1.482459  -1.451039    -1.427201 -0.123137 -0.915531   -0.082498   \n",
       "3    1.0  0.676671   1.149794    -0.131054 -0.243873 -0.915531   -0.082498   \n",
       "4    1.0 -0.402894  -0.150622    -0.436030 -0.169499 -0.915531   -0.082498   \n",
       "\n",
       "   condition     grade  yr_built  \n",
       "0  -0.629972 -0.560787 -0.544665  \n",
       "1  -0.629972 -0.560787 -0.680835  \n",
       "2  -0.629972 -1.413157 -1.293596  \n",
       "3   2.444371 -0.560787 -0.204243  \n",
       "4  -0.629972  0.291583  0.544688  "
      ],
      "text/html": [
       "<div>\n",
       "<style scoped>\n",
       "    .dataframe tbody tr th:only-of-type {\n",
       "        vertical-align: middle;\n",
       "    }\n",
       "\n",
       "    .dataframe tbody tr th {\n",
       "        vertical-align: top;\n",
       "    }\n",
       "\n",
       "    .dataframe thead th {\n",
       "        text-align: right;\n",
       "    }\n",
       "</style>\n",
       "<table border=\"1\" class=\"dataframe\">\n",
       "  <thead>\n",
       "    <tr style=\"text-align: right;\">\n",
       "      <th></th>\n",
       "      <th>const</th>\n",
       "      <th>bedrooms</th>\n",
       "      <th>bathrooms</th>\n",
       "      <th>sqft_living</th>\n",
       "      <th>sqft_lot</th>\n",
       "      <th>floors</th>\n",
       "      <th>waterfront</th>\n",
       "      <th>condition</th>\n",
       "      <th>grade</th>\n",
       "      <th>yr_built</th>\n",
       "    </tr>\n",
       "  </thead>\n",
       "  <tbody>\n",
       "    <tr>\n",
       "      <th>0</th>\n",
       "      <td>1.0</td>\n",
       "      <td>-0.402894</td>\n",
       "      <td>-1.451039</td>\n",
       "      <td>-0.980629</td>\n",
       "      <td>-0.228177</td>\n",
       "      <td>-0.915531</td>\n",
       "      <td>-0.082498</td>\n",
       "      <td>-0.629972</td>\n",
       "      <td>-0.560787</td>\n",
       "      <td>-0.544665</td>\n",
       "    </tr>\n",
       "    <tr>\n",
       "      <th>1</th>\n",
       "      <td>1.0</td>\n",
       "      <td>-0.402894</td>\n",
       "      <td>0.174482</td>\n",
       "      <td>0.533357</td>\n",
       "      <td>-0.189735</td>\n",
       "      <td>0.937409</td>\n",
       "      <td>-0.082498</td>\n",
       "      <td>-0.629972</td>\n",
       "      <td>-0.560787</td>\n",
       "      <td>-0.680835</td>\n",
       "    </tr>\n",
       "    <tr>\n",
       "      <th>2</th>\n",
       "      <td>1.0</td>\n",
       "      <td>-1.482459</td>\n",
       "      <td>-1.451039</td>\n",
       "      <td>-1.427201</td>\n",
       "      <td>-0.123137</td>\n",
       "      <td>-0.915531</td>\n",
       "      <td>-0.082498</td>\n",
       "      <td>-0.629972</td>\n",
       "      <td>-1.413157</td>\n",
       "      <td>-1.293596</td>\n",
       "    </tr>\n",
       "    <tr>\n",
       "      <th>3</th>\n",
       "      <td>1.0</td>\n",
       "      <td>0.676671</td>\n",
       "      <td>1.149794</td>\n",
       "      <td>-0.131054</td>\n",
       "      <td>-0.243873</td>\n",
       "      <td>-0.915531</td>\n",
       "      <td>-0.082498</td>\n",
       "      <td>2.444371</td>\n",
       "      <td>-0.560787</td>\n",
       "      <td>-0.204243</td>\n",
       "    </tr>\n",
       "    <tr>\n",
       "      <th>4</th>\n",
       "      <td>1.0</td>\n",
       "      <td>-0.402894</td>\n",
       "      <td>-0.150622</td>\n",
       "      <td>-0.436030</td>\n",
       "      <td>-0.169499</td>\n",
       "      <td>-0.915531</td>\n",
       "      <td>-0.082498</td>\n",
       "      <td>-0.629972</td>\n",
       "      <td>0.291583</td>\n",
       "      <td>0.544688</td>\n",
       "    </tr>\n",
       "  </tbody>\n",
       "</table>\n",
       "</div>"
      ]
     },
     "metadata": {},
     "execution_count": 203
    }
   ],
   "metadata": {}
  },
  {
   "cell_type": "code",
   "execution_count": 204,
   "source": [
    "# The order of the parameters is: endogenous response variable(dependent variable), exogenous variables(independent variables)\n",
    "model = sm.OLS(house_target, predictors).fit()"
   ],
   "outputs": [],
   "metadata": {}
  },
  {
   "cell_type": "code",
   "execution_count": 205,
   "source": [
    "model.summary()"
   ],
   "outputs": [
    {
     "output_type": "execute_result",
     "data": {
      "text/plain": [
       "<class 'statsmodels.iolib.summary.Summary'>\n",
       "\"\"\"\n",
       "                            OLS Regression Results                            \n",
       "==============================================================================\n",
       "Dep. Variable:         price_millions   R-squared:                       0.646\n",
       "Model:                            OLS   Adj. R-squared:                  0.645\n",
       "Method:                 Least Squares   F-statistic:                     4370.\n",
       "Date:                Sun, 08 Aug 2021   Prob (F-statistic):               0.00\n",
       "Time:                        20:47:23   Log-Likelihood:                 2185.7\n",
       "No. Observations:               21597   AIC:                            -4351.\n",
       "Df Residuals:                   21587   BIC:                            -4272.\n",
       "Df Model:                           9                                         \n",
       "Covariance Type:            nonrobust                                         \n",
       "===============================================================================\n",
       "                  coef    std err          t      P>|t|      [0.025      0.975]\n",
       "-------------------------------------------------------------------------------\n",
       "const           0.5403      0.001    363.009      0.000       0.537       0.543\n",
       "bedrooms       -0.0394      0.002    -20.757      0.000      -0.043      -0.036\n",
       "bathrooms       0.0390      0.003     14.695      0.000       0.034       0.044\n",
       "sqft_living     0.1627      0.003     53.646      0.000       0.157       0.169\n",
       "sqft_lot       -0.0101      0.002     -6.605      0.000      -0.013      -0.007\n",
       "floors          0.0113      0.002      6.069      0.000       0.008       0.015\n",
       "waterfront      0.0619      0.002     41.124      0.000       0.059       0.065\n",
       "condition       0.0123      0.002      7.620      0.000       0.009       0.016\n",
       "grade           0.1526      0.003     60.319      0.000       0.148       0.158\n",
       "yr_built       -0.1130      0.002    -57.635      0.000      -0.117      -0.109\n",
       "==============================================================================\n",
       "Omnibus:                    15869.187   Durbin-Watson:                   1.976\n",
       "Prob(Omnibus):                  0.000   Jarque-Bera (JB):          1011405.789\n",
       "Skew:                           2.942   Prob(JB):                         0.00\n",
       "Kurtosis:                      36.005   Cond. No.                         4.76\n",
       "==============================================================================\n",
       "\n",
       "Warnings:\n",
       "[1] Standard Errors assume that the covariance matrix of the errors is correctly specified.\n",
       "\"\"\""
      ],
      "text/html": [
       "<table class=\"simpletable\">\n",
       "<caption>OLS Regression Results</caption>\n",
       "<tr>\n",
       "  <th>Dep. Variable:</th>     <td>price_millions</td>  <th>  R-squared:         </th> <td>   0.646</td>\n",
       "</tr>\n",
       "<tr>\n",
       "  <th>Model:</th>                   <td>OLS</td>       <th>  Adj. R-squared:    </th> <td>   0.645</td>\n",
       "</tr>\n",
       "<tr>\n",
       "  <th>Method:</th>             <td>Least Squares</td>  <th>  F-statistic:       </th> <td>   4370.</td>\n",
       "</tr>\n",
       "<tr>\n",
       "  <th>Date:</th>             <td>Sun, 08 Aug 2021</td> <th>  Prob (F-statistic):</th>  <td>  0.00</td> \n",
       "</tr>\n",
       "<tr>\n",
       "  <th>Time:</th>                 <td>20:47:23</td>     <th>  Log-Likelihood:    </th> <td>  2185.7</td>\n",
       "</tr>\n",
       "<tr>\n",
       "  <th>No. Observations:</th>      <td> 21597</td>      <th>  AIC:               </th> <td>  -4351.</td>\n",
       "</tr>\n",
       "<tr>\n",
       "  <th>Df Residuals:</th>          <td> 21587</td>      <th>  BIC:               </th> <td>  -4272.</td>\n",
       "</tr>\n",
       "<tr>\n",
       "  <th>Df Model:</th>              <td>     9</td>      <th>                     </th>     <td> </td>   \n",
       "</tr>\n",
       "<tr>\n",
       "  <th>Covariance Type:</th>      <td>nonrobust</td>    <th>                     </th>     <td> </td>   \n",
       "</tr>\n",
       "</table>\n",
       "<table class=\"simpletable\">\n",
       "<tr>\n",
       "       <td></td>          <th>coef</th>     <th>std err</th>      <th>t</th>      <th>P>|t|</th>  <th>[0.025</th>    <th>0.975]</th>  \n",
       "</tr>\n",
       "<tr>\n",
       "  <th>const</th>       <td>    0.5403</td> <td>    0.001</td> <td>  363.009</td> <td> 0.000</td> <td>    0.537</td> <td>    0.543</td>\n",
       "</tr>\n",
       "<tr>\n",
       "  <th>bedrooms</th>    <td>   -0.0394</td> <td>    0.002</td> <td>  -20.757</td> <td> 0.000</td> <td>   -0.043</td> <td>   -0.036</td>\n",
       "</tr>\n",
       "<tr>\n",
       "  <th>bathrooms</th>   <td>    0.0390</td> <td>    0.003</td> <td>   14.695</td> <td> 0.000</td> <td>    0.034</td> <td>    0.044</td>\n",
       "</tr>\n",
       "<tr>\n",
       "  <th>sqft_living</th> <td>    0.1627</td> <td>    0.003</td> <td>   53.646</td> <td> 0.000</td> <td>    0.157</td> <td>    0.169</td>\n",
       "</tr>\n",
       "<tr>\n",
       "  <th>sqft_lot</th>    <td>   -0.0101</td> <td>    0.002</td> <td>   -6.605</td> <td> 0.000</td> <td>   -0.013</td> <td>   -0.007</td>\n",
       "</tr>\n",
       "<tr>\n",
       "  <th>floors</th>      <td>    0.0113</td> <td>    0.002</td> <td>    6.069</td> <td> 0.000</td> <td>    0.008</td> <td>    0.015</td>\n",
       "</tr>\n",
       "<tr>\n",
       "  <th>waterfront</th>  <td>    0.0619</td> <td>    0.002</td> <td>   41.124</td> <td> 0.000</td> <td>    0.059</td> <td>    0.065</td>\n",
       "</tr>\n",
       "<tr>\n",
       "  <th>condition</th>   <td>    0.0123</td> <td>    0.002</td> <td>    7.620</td> <td> 0.000</td> <td>    0.009</td> <td>    0.016</td>\n",
       "</tr>\n",
       "<tr>\n",
       "  <th>grade</th>       <td>    0.1526</td> <td>    0.003</td> <td>   60.319</td> <td> 0.000</td> <td>    0.148</td> <td>    0.158</td>\n",
       "</tr>\n",
       "<tr>\n",
       "  <th>yr_built</th>    <td>   -0.1130</td> <td>    0.002</td> <td>  -57.635</td> <td> 0.000</td> <td>   -0.117</td> <td>   -0.109</td>\n",
       "</tr>\n",
       "</table>\n",
       "<table class=\"simpletable\">\n",
       "<tr>\n",
       "  <th>Omnibus:</th>       <td>15869.187</td> <th>  Durbin-Watson:     </th>  <td>   1.976</td>  \n",
       "</tr>\n",
       "<tr>\n",
       "  <th>Prob(Omnibus):</th>  <td> 0.000</td>   <th>  Jarque-Bera (JB):  </th> <td>1011405.789</td>\n",
       "</tr>\n",
       "<tr>\n",
       "  <th>Skew:</th>           <td> 2.942</td>   <th>  Prob(JB):          </th>  <td>    0.00</td>  \n",
       "</tr>\n",
       "<tr>\n",
       "  <th>Kurtosis:</th>       <td>36.005</td>   <th>  Cond. No.          </th>  <td>    4.76</td>  \n",
       "</tr>\n",
       "</table><br/><br/>Warnings:<br/>[1] Standard Errors assume that the covariance matrix of the errors is correctly specified."
      ]
     },
     "metadata": {},
     "execution_count": 205
    }
   ],
   "metadata": {}
  },
  {
   "cell_type": "markdown",
   "source": [
    "## All Cols - sklearn"
   ],
   "metadata": {}
  },
  {
   "cell_type": "code",
   "execution_count": 206,
   "source": [
    "# Split normalized data into target/dependent variable and predictors/features/explanatory variables/independent variables\n",
    "X = df_norm.drop(['price','price_millions'], axis=1) # independent variables\n",
    "y = df_norm['price_millions'] # dependent variable"
   ],
   "outputs": [],
   "metadata": {}
  },
  {
   "cell_type": "code",
   "execution_count": 207,
   "source": [
    "# Divide into test and train data\n",
    "# Train data is for us to estimate our OLS model\n",
    "# Test data is to parameterize our model, using that model to predict y values (price)\n",
    "# If test_size = .3, that means 30% of our data is set aside for the testing data\n",
    "# And 70% of that data for training\n",
    "\n",
    "# The parameter \"random_state\" ensures that if there is skew in our data, our 30-70 split is randomly taking from these groups\n",
    "# So we have good proportions of randomly selected data and our 30-70 split has good representation \n",
    "X_train, X_test, y_train, y_test = train_test_split(\n",
    "    X, y, test_size=0.3, random_state=4)"
   ],
   "outputs": [],
   "metadata": {}
  },
  {
   "cell_type": "code",
   "execution_count": 208,
   "source": [
    "# Linear Regressor - Ordinary Least Squares regression-type estimate:\n",
    "lr = LinearRegression()"
   ],
   "outputs": [],
   "metadata": {}
  },
  {
   "cell_type": "code",
   "execution_count": 209,
   "source": [
    "# Train model based on train dataset:\n",
    "# Regressing the X's onto the y:\n",
    "# We're getting a fit here, having used 70% of the data\n",
    "lr.fit(X_train, y_train)\n",
    "coef_list = list(lr.coef_)\n",
    "name_list = list(X_train.columns)"
   ],
   "outputs": [],
   "metadata": {}
  },
  {
   "cell_type": "code",
   "execution_count": 210,
   "source": [
    "# Model prediction based on train dataset:\n",
    "predict_y_train = lr.predict(X_train)"
   ],
   "outputs": [],
   "metadata": {}
  },
  {
   "cell_type": "code",
   "execution_count": 211,
   "source": [
    "# Training Data R-Squared Value:\n",
    "print('The R squared value is: ' + str(metrics.r2_score(y_train, predict_y_train)))"
   ],
   "outputs": [
    {
     "output_type": "stream",
     "name": "stdout",
     "text": [
      "The R squared value is: 0.6418071120403939\n"
     ]
    }
   ],
   "metadata": {}
  },
  {
   "cell_type": "code",
   "execution_count": 212,
   "source": [
    "# Actual Prices vs. Predicted Prices:\n",
    "plt.scatter(y_train, predict_y_train)\n",
    "plt.xlabel('price - millions')\n",
    "plt.ylabel('predicted price - millions')\n",
    "plt.show()"
   ],
   "outputs": [
    {
     "output_type": "display_data",
     "data": {
      "text/plain": [
       "<Figure size 432x288 with 1 Axes>"
      ],
      "image/png": "[encoded data removed]"
     },
     "metadata": {
      "needs_background": "light"
     }
    }
   ],
   "metadata": {}
  },
  {
   "cell_type": "markdown",
   "source": [
    "### Interpret price vs. predicted price scatterplot:\n",
    "- The distribution isn't a straight line, and from that we know that there is something non-linear going on in the relationships we've modeled. \n",
    "- We don't have a good linear relationship between price and our predictors"
   ],
   "metadata": {}
  },
  {
   "cell_type": "code",
   "execution_count": 213,
   "source": [
    "# Predicted Price vs. Residuals\n",
    "# Inspect the amount of error we got from our OLS Linear Regression:\n",
    "# The residual is the amount of error in the estimation (difference between predicted and actual y values)\n",
    "\n",
    "plt.scatter(predict_y_train, y_train - predict_y_train)\n",
    "plt.xlabel('predicted')\n",
    "plt.ylabel('residuals')"
   ],
   "outputs": [
    {
     "output_type": "execute_result",
     "data": {
      "text/plain": [
       "Text(0, 0.5, 'residuals')"
      ]
     },
     "metadata": {},
     "execution_count": 213
    },
    {
     "output_type": "display_data",
     "data": {
      "text/plain": [
       "<Figure size 432x288 with 1 Axes>"
      ],
      "image/png": "[encoded data removed]"
     },
     "metadata": {
      "needs_background": "light"
     }
    }
   ],
   "metadata": {}
  },
  {
   "cell_type": "code",
   "execution_count": 214,
   "source": [
    "# Check Distribution of Errors:\n",
    "# We can see from this that there's some right-skew to the distribution of error\n",
    "sns.distplot(y_train - predict_y_train)\n",
    "plt.xlabel('residuals')\n",
    "plt.ylabel('frequency')"
   ],
   "outputs": [
    {
     "output_type": "execute_result",
     "data": {
      "text/plain": [
       "Text(0, 0.5, 'frequency')"
      ]
     },
     "metadata": {},
     "execution_count": 214
    },
    {
     "output_type": "display_data",
     "data": {
      "text/plain": [
       "<Figure size 432x288 with 1 Axes>"
      ],
      "image/png": "[encoded data removed]"
     },
     "metadata": {
      "needs_background": "light"
     }
    }
   ],
   "metadata": {}
  },
  {
   "cell_type": "code",
   "execution_count": 215,
   "source": [
    "# Finally, we take the 30% of that data we set aside for testing, and examine the error for that:\n",
    "predict_y_test = lr.predict(X_test)\n",
    "print('The R squared value is: ' + str(metrics.r2_score(y_test, predict_y_test)))"
   ],
   "outputs": [
    {
     "output_type": "stream",
     "name": "stdout",
     "text": [
      "The R squared value is: 0.6530001064251156\n"
     ]
    }
   ],
   "metadata": {}
  },
  {
   "cell_type": "markdown",
   "source": [
    "- So looks like in-sample, out-of-sample is not as robust as we might want, \n",
    "- since our R-squared value is less using test data than when using train data"
   ],
   "metadata": {}
  },
  {
   "cell_type": "markdown",
   "source": [
    "## All Cols - Interpret\n",
    "- Using all of our columns to predict price, and not subsetting the data at all:\n",
    "- Our p-values are all 0.00, which is great.\n",
    "- However, this model is violating necessary assumptions\n",
    "    - The scatterplot of predicted price vs. price is clearly not a linear relationship\n",
    "    - The plot of the residuals vs. the predicted price is a clear, trumpet shape, which is highly heteroscedastic.\n",
    "    - What we are aiming for is linearity and homoscedasticity - a fairly even distribution of the residuals vs. predicted price"
   ],
   "metadata": {}
  },
  {
   "cell_type": "markdown",
   "source": [
    "## Removing sqft_living due to Multicollinearity\n",
    "- We will now attempt to remove the colum \"sqft_living\" because it showed moderate multicollinearity when we used the variance inflation factor method to measure multicollinearity."
   ],
   "metadata": {}
  },
  {
   "cell_type": "code",
   "execution_count": 216,
   "source": [
    "house_pred = df_norm.drop(['price','price_millions','sqft_living'], axis=1)\n",
    "house_target = df_norm['price_millions']\n",
    "predictors = sm.add_constant(house_pred)\n",
    "model = sm.OLS(house_target, predictors).fit()\n",
    "model.summary()"
   ],
   "outputs": [
    {
     "output_type": "execute_result",
     "data": {
      "text/plain": [
       "<class 'statsmodels.iolib.summary.Summary'>\n",
       "\"\"\"\n",
       "                            OLS Regression Results                            \n",
       "==============================================================================\n",
       "Dep. Variable:         price_millions   R-squared:                       0.598\n",
       "Model:                            OLS   Adj. R-squared:                  0.598\n",
       "Method:                 Least Squares   F-statistic:                     4021.\n",
       "Date:                Sun, 08 Aug 2021   Prob (F-statistic):               0.00\n",
       "Time:                        20:47:54   Log-Likelihood:                 834.29\n",
       "No. Observations:               21597   AIC:                            -1651.\n",
       "Df Residuals:                   21588   BIC:                            -1579.\n",
       "Df Model:                           8                                         \n",
       "Covariance Type:            nonrobust                                         \n",
       "==============================================================================\n",
       "                 coef    std err          t      P>|t|      [0.025      0.975]\n",
       "------------------------------------------------------------------------------\n",
       "const          0.5403      0.002    340.998      0.000       0.537       0.543\n",
       "bedrooms      -0.0019      0.002     -1.034      0.301      -0.006       0.002\n",
       "bathrooms      0.1019      0.003     40.158      0.000       0.097       0.107\n",
       "sqft_lot       0.0031      0.002      1.966      0.049     9.9e-06       0.006\n",
       "floors         0.0033      0.002      1.654      0.098      -0.001       0.007\n",
       "waterfront     0.0679      0.002     42.528      0.000       0.065       0.071\n",
       "condition      0.0127      0.002      7.356      0.000       0.009       0.016\n",
       "grade          0.2311      0.002    105.179      0.000       0.227       0.235\n",
       "yr_built      -0.1306      0.002    -63.471      0.000      -0.135      -0.127\n",
       "==============================================================================\n",
       "Omnibus:                    18217.556   Durbin-Watson:                   1.969\n",
       "Prob(Omnibus):                  0.000   Jarque-Bera (JB):          1762716.589\n",
       "Skew:                           3.533   Prob(JB):                         0.00\n",
       "Kurtosis:                      46.691   Cond. No.                         3.20\n",
       "==============================================================================\n",
       "\n",
       "Warnings:\n",
       "[1] Standard Errors assume that the covariance matrix of the errors is correctly specified.\n",
       "\"\"\""
      ],
      "text/html": [
       "<table class=\"simpletable\">\n",
       "<caption>OLS Regression Results</caption>\n",
       "<tr>\n",
       "  <th>Dep. Variable:</th>     <td>price_millions</td>  <th>  R-squared:         </th> <td>   0.598</td>\n",
       "</tr>\n",
       "<tr>\n",
       "  <th>Model:</th>                   <td>OLS</td>       <th>  Adj. R-squared:    </th> <td>   0.598</td>\n",
       "</tr>\n",
       "<tr>\n",
       "  <th>Method:</th>             <td>Least Squares</td>  <th>  F-statistic:       </th> <td>   4021.</td>\n",
       "</tr>\n",
       "<tr>\n",
       "  <th>Date:</th>             <td>Sun, 08 Aug 2021</td> <th>  Prob (F-statistic):</th>  <td>  0.00</td> \n",
       "</tr>\n",
       "<tr>\n",
       "  <th>Time:</th>                 <td>20:47:54</td>     <th>  Log-Likelihood:    </th> <td>  834.29</td>\n",
       "</tr>\n",
       "<tr>\n",
       "  <th>No. Observations:</th>      <td> 21597</td>      <th>  AIC:               </th> <td>  -1651.</td>\n",
       "</tr>\n",
       "<tr>\n",
       "  <th>Df Residuals:</th>          <td> 21588</td>      <th>  BIC:               </th> <td>  -1579.</td>\n",
       "</tr>\n",
       "<tr>\n",
       "  <th>Df Model:</th>              <td>     8</td>      <th>                     </th>     <td> </td>   \n",
       "</tr>\n",
       "<tr>\n",
       "  <th>Covariance Type:</th>      <td>nonrobust</td>    <th>                     </th>     <td> </td>   \n",
       "</tr>\n",
       "</table>\n",
       "<table class=\"simpletable\">\n",
       "<tr>\n",
       "       <td></td>         <th>coef</th>     <th>std err</th>      <th>t</th>      <th>P>|t|</th>  <th>[0.025</th>    <th>0.975]</th>  \n",
       "</tr>\n",
       "<tr>\n",
       "  <th>const</th>      <td>    0.5403</td> <td>    0.002</td> <td>  340.998</td> <td> 0.000</td> <td>    0.537</td> <td>    0.543</td>\n",
       "</tr>\n",
       "<tr>\n",
       "  <th>bedrooms</th>   <td>   -0.0019</td> <td>    0.002</td> <td>   -1.034</td> <td> 0.301</td> <td>   -0.006</td> <td>    0.002</td>\n",
       "</tr>\n",
       "<tr>\n",
       "  <th>bathrooms</th>  <td>    0.1019</td> <td>    0.003</td> <td>   40.158</td> <td> 0.000</td> <td>    0.097</td> <td>    0.107</td>\n",
       "</tr>\n",
       "<tr>\n",
       "  <th>sqft_lot</th>   <td>    0.0031</td> <td>    0.002</td> <td>    1.966</td> <td> 0.049</td> <td>  9.9e-06</td> <td>    0.006</td>\n",
       "</tr>\n",
       "<tr>\n",
       "  <th>floors</th>     <td>    0.0033</td> <td>    0.002</td> <td>    1.654</td> <td> 0.098</td> <td>   -0.001</td> <td>    0.007</td>\n",
       "</tr>\n",
       "<tr>\n",
       "  <th>waterfront</th> <td>    0.0679</td> <td>    0.002</td> <td>   42.528</td> <td> 0.000</td> <td>    0.065</td> <td>    0.071</td>\n",
       "</tr>\n",
       "<tr>\n",
       "  <th>condition</th>  <td>    0.0127</td> <td>    0.002</td> <td>    7.356</td> <td> 0.000</td> <td>    0.009</td> <td>    0.016</td>\n",
       "</tr>\n",
       "<tr>\n",
       "  <th>grade</th>      <td>    0.2311</td> <td>    0.002</td> <td>  105.179</td> <td> 0.000</td> <td>    0.227</td> <td>    0.235</td>\n",
       "</tr>\n",
       "<tr>\n",
       "  <th>yr_built</th>   <td>   -0.1306</td> <td>    0.002</td> <td>  -63.471</td> <td> 0.000</td> <td>   -0.135</td> <td>   -0.127</td>\n",
       "</tr>\n",
       "</table>\n",
       "<table class=\"simpletable\">\n",
       "<tr>\n",
       "  <th>Omnibus:</th>       <td>18217.556</td> <th>  Durbin-Watson:     </th>  <td>   1.969</td>  \n",
       "</tr>\n",
       "<tr>\n",
       "  <th>Prob(Omnibus):</th>  <td> 0.000</td>   <th>  Jarque-Bera (JB):  </th> <td>1762716.589</td>\n",
       "</tr>\n",
       "<tr>\n",
       "  <th>Skew:</th>           <td> 3.533</td>   <th>  Prob(JB):          </th>  <td>    0.00</td>  \n",
       "</tr>\n",
       "<tr>\n",
       "  <th>Kurtosis:</th>       <td>46.691</td>   <th>  Cond. No.          </th>  <td>    3.20</td>  \n",
       "</tr>\n",
       "</table><br/><br/>Warnings:<br/>[1] Standard Errors assume that the covariance matrix of the errors is correctly specified."
      ]
     },
     "metadata": {},
     "execution_count": 216
    }
   ],
   "metadata": {}
  },
  {
   "cell_type": "markdown",
   "source": [
    "### Interpret Removal of sqft_living\n",
    "- Removing sqft_lot actually lowered the R-squared value to .598 .646"
   ],
   "metadata": {}
  },
  {
   "cell_type": "markdown",
   "source": [
    "### Modify Business Question:\n",
    "- At this point I'm going to edit my business question. I would now like to find a segment of this data that conforms to the assumptions of linear regression "
   ],
   "metadata": {}
  },
  {
   "cell_type": "markdown",
   "source": [
    "## Waterfront Segment \n",
    "- We want to know if we get a good linear model if we segment the data into waterfront vs. non-waterfront homes"
   ],
   "metadata": {}
  },
  {
   "cell_type": "code",
   "execution_count": 217,
   "source": [
    "df_water =  df_norm.loc[df['waterfront'] == 1]\n",
    "df_no_water =  df_norm.loc[df['waterfront'] == 0]"
   ],
   "outputs": [],
   "metadata": {}
  },
  {
   "cell_type": "code",
   "execution_count": 218,
   "source": [
    "df_water.columns"
   ],
   "outputs": [
    {
     "output_type": "execute_result",
     "data": {
      "text/plain": [
       "Index(['price', 'bedrooms', 'bathrooms', 'sqft_living', 'sqft_lot', 'floors',\n",
       "       'waterfront', 'condition', 'grade', 'yr_built', 'price_millions'],\n",
       "      dtype='object')"
      ]
     },
     "metadata": {},
     "execution_count": 218
    }
   ],
   "metadata": {}
  },
  {
   "cell_type": "code",
   "execution_count": 219,
   "source": [
    "house_pred = df_water.drop(['price','price_millions'], axis=1)\n",
    "house_target = df_water['price_millions']"
   ],
   "outputs": [],
   "metadata": {}
  },
  {
   "cell_type": "code",
   "execution_count": 220,
   "source": [
    "predictors = sm.add_constant(house_pred)\n",
    "model = sm.OLS(house_target, predictors).fit()\n",
    "model.summary()"
   ],
   "outputs": [
    {
     "output_type": "execute_result",
     "data": {
      "text/plain": [
       "<class 'statsmodels.iolib.summary.Summary'>\n",
       "\"\"\"\n",
       "                            OLS Regression Results                            \n",
       "==============================================================================\n",
       "Dep. Variable:         price_millions   R-squared:                       0.799\n",
       "Model:                            OLS   Adj. R-squared:                  0.788\n",
       "Method:                 Least Squares   F-statistic:                     68.28\n",
       "Date:                Sun, 08 Aug 2021   Prob (F-statistic):           4.74e-44\n",
       "Time:                        20:48:15   Log-Likelihood:                -109.18\n",
       "No. Observations:                 146   AIC:                             236.4\n",
       "Df Residuals:                     137   BIC:                             263.2\n",
       "Df Model:                           8                                         \n",
       "Covariance Type:            nonrobust                                         \n",
       "===============================================================================\n",
       "                  coef    std err          t      P>|t|      [0.025      0.975]\n",
       "-------------------------------------------------------------------------------\n",
       "bedrooms        0.0094      0.048      0.195      0.846      -0.086       0.105\n",
       "bathrooms       0.0601      0.056      1.081      0.281      -0.050       0.170\n",
       "sqft_living     0.4775      0.048      9.847      0.000       0.382       0.573\n",
       "sqft_lot       -0.0506      0.041     -1.226      0.222      -0.132       0.031\n",
       "floors         -0.0117      0.051     -0.229      0.819      -0.112       0.089\n",
       "waterfront      0.0779      0.006     12.924      0.000       0.066       0.090\n",
       "condition       0.0580      0.040      1.443      0.151      -0.021       0.137\n",
       "grade           0.1040      0.054      1.915      0.058      -0.003       0.211\n",
       "yr_built       -0.0737      0.064     -1.155      0.250      -0.200       0.052\n",
       "==============================================================================\n",
       "Omnibus:                        1.096   Durbin-Watson:                   2.056\n",
       "Prob(Omnibus):                  0.578   Jarque-Bera (JB):                0.878\n",
       "Skew:                          -0.188   Prob(JB):                        0.645\n",
       "Kurtosis:                       3.052   Cond. No.                         21.8\n",
       "==============================================================================\n",
       "\n",
       "Warnings:\n",
       "[1] Standard Errors assume that the covariance matrix of the errors is correctly specified.\n",
       "\"\"\""
      ],
      "text/html": [
       "<table class=\"simpletable\">\n",
       "<caption>OLS Regression Results</caption>\n",
       "<tr>\n",
       "  <th>Dep. Variable:</th>     <td>price_millions</td>  <th>  R-squared:         </th> <td>   0.799</td>\n",
       "</tr>\n",
       "<tr>\n",
       "  <th>Model:</th>                   <td>OLS</td>       <th>  Adj. R-squared:    </th> <td>   0.788</td>\n",
       "</tr>\n",
       "<tr>\n",
       "  <th>Method:</th>             <td>Least Squares</td>  <th>  F-statistic:       </th> <td>   68.28</td>\n",
       "</tr>\n",
       "<tr>\n",
       "  <th>Date:</th>             <td>Sun, 08 Aug 2021</td> <th>  Prob (F-statistic):</th> <td>4.74e-44</td>\n",
       "</tr>\n",
       "<tr>\n",
       "  <th>Time:</th>                 <td>20:48:15</td>     <th>  Log-Likelihood:    </th> <td> -109.18</td>\n",
       "</tr>\n",
       "<tr>\n",
       "  <th>No. Observations:</th>      <td>   146</td>      <th>  AIC:               </th> <td>   236.4</td>\n",
       "</tr>\n",
       "<tr>\n",
       "  <th>Df Residuals:</th>          <td>   137</td>      <th>  BIC:               </th> <td>   263.2</td>\n",
       "</tr>\n",
       "<tr>\n",
       "  <th>Df Model:</th>              <td>     8</td>      <th>                     </th>     <td> </td>   \n",
       "</tr>\n",
       "<tr>\n",
       "  <th>Covariance Type:</th>      <td>nonrobust</td>    <th>                     </th>     <td> </td>   \n",
       "</tr>\n",
       "</table>\n",
       "<table class=\"simpletable\">\n",
       "<tr>\n",
       "       <td></td>          <th>coef</th>     <th>std err</th>      <th>t</th>      <th>P>|t|</th>  <th>[0.025</th>    <th>0.975]</th>  \n",
       "</tr>\n",
       "<tr>\n",
       "  <th>bedrooms</th>    <td>    0.0094</td> <td>    0.048</td> <td>    0.195</td> <td> 0.846</td> <td>   -0.086</td> <td>    0.105</td>\n",
       "</tr>\n",
       "<tr>\n",
       "  <th>bathrooms</th>   <td>    0.0601</td> <td>    0.056</td> <td>    1.081</td> <td> 0.281</td> <td>   -0.050</td> <td>    0.170</td>\n",
       "</tr>\n",
       "<tr>\n",
       "  <th>sqft_living</th> <td>    0.4775</td> <td>    0.048</td> <td>    9.847</td> <td> 0.000</td> <td>    0.382</td> <td>    0.573</td>\n",
       "</tr>\n",
       "<tr>\n",
       "  <th>sqft_lot</th>    <td>   -0.0506</td> <td>    0.041</td> <td>   -1.226</td> <td> 0.222</td> <td>   -0.132</td> <td>    0.031</td>\n",
       "</tr>\n",
       "<tr>\n",
       "  <th>floors</th>      <td>   -0.0117</td> <td>    0.051</td> <td>   -0.229</td> <td> 0.819</td> <td>   -0.112</td> <td>    0.089</td>\n",
       "</tr>\n",
       "<tr>\n",
       "  <th>waterfront</th>  <td>    0.0779</td> <td>    0.006</td> <td>   12.924</td> <td> 0.000</td> <td>    0.066</td> <td>    0.090</td>\n",
       "</tr>\n",
       "<tr>\n",
       "  <th>condition</th>   <td>    0.0580</td> <td>    0.040</td> <td>    1.443</td> <td> 0.151</td> <td>   -0.021</td> <td>    0.137</td>\n",
       "</tr>\n",
       "<tr>\n",
       "  <th>grade</th>       <td>    0.1040</td> <td>    0.054</td> <td>    1.915</td> <td> 0.058</td> <td>   -0.003</td> <td>    0.211</td>\n",
       "</tr>\n",
       "<tr>\n",
       "  <th>yr_built</th>    <td>   -0.0737</td> <td>    0.064</td> <td>   -1.155</td> <td> 0.250</td> <td>   -0.200</td> <td>    0.052</td>\n",
       "</tr>\n",
       "</table>\n",
       "<table class=\"simpletable\">\n",
       "<tr>\n",
       "  <th>Omnibus:</th>       <td> 1.096</td> <th>  Durbin-Watson:     </th> <td>   2.056</td>\n",
       "</tr>\n",
       "<tr>\n",
       "  <th>Prob(Omnibus):</th> <td> 0.578</td> <th>  Jarque-Bera (JB):  </th> <td>   0.878</td>\n",
       "</tr>\n",
       "<tr>\n",
       "  <th>Skew:</th>          <td>-0.188</td> <th>  Prob(JB):          </th> <td>   0.645</td>\n",
       "</tr>\n",
       "<tr>\n",
       "  <th>Kurtosis:</th>      <td> 3.052</td> <th>  Cond. No.          </th> <td>    21.8</td>\n",
       "</tr>\n",
       "</table><br/><br/>Warnings:<br/>[1] Standard Errors assume that the covariance matrix of the errors is correctly specified."
      ]
     },
     "metadata": {},
     "execution_count": 220
    }
   ],
   "metadata": {}
  },
  {
   "cell_type": "code",
   "execution_count": 221,
   "source": [
    "X = df_water.drop(['price','price_millions'], axis=1)\n",
    "y = df_water['price_millions']"
   ],
   "outputs": [],
   "metadata": {}
  },
  {
   "cell_type": "code",
   "execution_count": 222,
   "source": [
    "X_train, X_test, y_train, y_test = train_test_split(\n",
    "    X, y, test_size=0.3, random_state=4)\n",
    "lr = LinearRegression()\n",
    "lr.fit(X_train, y_train)\n",
    "predict_y_train = lr.predict(X_train)\n",
    "print('The R squared value is: ' + str(metrics.r2_score(y_train, predict_y_train)))"
   ],
   "outputs": [
    {
     "output_type": "stream",
     "name": "stdout",
     "text": [
      "The R squared value is: 0.8213563897907034\n"
     ]
    }
   ],
   "metadata": {}
  },
  {
   "cell_type": "code",
   "execution_count": 223,
   "source": [
    "plt.scatter(y_train, predict_y_train)\n",
    "plt.xlabel('price - millions')\n",
    "plt.ylabel('predicted price - millions')\n",
    "plt.show()"
   ],
   "outputs": [
    {
     "output_type": "display_data",
     "data": {
      "text/plain": [
       "<Figure size 432x288 with 1 Axes>"
      ],
      "image/png": "[encoded data removed]"
     },
     "metadata": {
      "needs_background": "light"
     }
    }
   ],
   "metadata": {}
  },
  {
   "cell_type": "code",
   "execution_count": 224,
   "source": [
    "plt.scatter(predict_y_train, y_train - predict_y_train)\n",
    "plt.xlabel('predicted')\n",
    "plt.ylabel('residuals')"
   ],
   "outputs": [
    {
     "output_type": "execute_result",
     "data": {
      "text/plain": [
       "Text(0, 0.5, 'residuals')"
      ]
     },
     "metadata": {},
     "execution_count": 224
    },
    {
     "output_type": "display_data",
     "data": {
      "text/plain": [
       "<Figure size 432x288 with 1 Axes>"
      ],
      "image/png": "[encoded data removed]"
     },
     "metadata": {
      "needs_background": "light"
     }
    }
   ],
   "metadata": {}
  },
  {
   "cell_type": "markdown",
   "source": [
    "## Waterfront Interpret\n",
    "- We have pretty good linearity, judging from the linear shape of our predicted price vs. price scatterplot\n",
    "- The scatterplot of residuals vs. predicted price is less heteroscedastic than was the scatterplot for all data\n",
    "- Howver, the p-values for our coefficients for the waterfront home segment are very high\n",
    "- The only p-values that are good are sqft_living and grade"
   ],
   "metadata": {}
  },
  {
   "cell_type": "markdown",
   "source": [
    "## Non-Waterfront Segment"
   ],
   "metadata": {}
  },
  {
   "cell_type": "code",
   "execution_count": 225,
   "source": [
    "house_pred = df_no_water.drop(['price','price_millions'], axis=1)\n",
    "house_target = df_no_water['price_millions']"
   ],
   "outputs": [],
   "metadata": {}
  },
  {
   "cell_type": "code",
   "execution_count": 226,
   "source": [
    "predictors = sm.add_constant(house_pred)\n",
    "model = sm.OLS(house_target, predictors).fit()\n",
    "model.summary()"
   ],
   "outputs": [
    {
     "output_type": "execute_result",
     "data": {
      "text/plain": [
       "<class 'statsmodels.iolib.summary.Summary'>\n",
       "\"\"\"\n",
       "                            OLS Regression Results                            \n",
       "==============================================================================\n",
       "Dep. Variable:         price_millions   R-squared:                       0.625\n",
       "Model:                            OLS   Adj. R-squared:                  0.625\n",
       "Method:                 Least Squares   F-statistic:                     4467.\n",
       "Date:                Sun, 08 Aug 2021   Prob (F-statistic):               0.00\n",
       "Time:                        20:48:33   Log-Likelihood:                 3047.0\n",
       "No. Observations:               21451   AIC:                            -6076.\n",
       "Df Residuals:                   21442   BIC:                            -6004.\n",
       "Df Model:                           8                                         \n",
       "Covariance Type:            nonrobust                                         \n",
       "===============================================================================\n",
       "                  coef    std err          t      P>|t|      [0.025      0.975]\n",
       "-------------------------------------------------------------------------------\n",
       "bedrooms       -0.0371      0.002    -20.253      0.000      -0.041      -0.034\n",
       "bathrooms       0.0394      0.003     15.326      0.000       0.034       0.044\n",
       "sqft_living     0.1514      0.003     51.332      0.000       0.146       0.157\n",
       "sqft_lot       -0.0082      0.001     -5.606      0.000      -0.011      -0.005\n",
       "floors          0.0127      0.002      7.081      0.000       0.009       0.016\n",
       "waterfront     -6.4865      0.017   -373.229      0.000      -6.521      -6.452\n",
       "condition       0.0125      0.002      8.007      0.000       0.009       0.016\n",
       "grade           0.1550      0.002     63.352      0.000       0.150       0.160\n",
       "yr_built       -0.1132      0.002    -59.968      0.000      -0.117      -0.110\n",
       "==============================================================================\n",
       "Omnibus:                    16110.243   Durbin-Watson:                   1.971\n",
       "Prob(Omnibus):                  0.000   Jarque-Bera (JB):          1073938.414\n",
       "Skew:                           3.032   Prob(JB):                         0.00\n",
       "Kurtosis:                      37.129   Cond. No.                         22.5\n",
       "==============================================================================\n",
       "\n",
       "Warnings:\n",
       "[1] Standard Errors assume that the covariance matrix of the errors is correctly specified.\n",
       "\"\"\""
      ],
      "text/html": [
       "<table class=\"simpletable\">\n",
       "<caption>OLS Regression Results</caption>\n",
       "<tr>\n",
       "  <th>Dep. Variable:</th>     <td>price_millions</td>  <th>  R-squared:         </th> <td>   0.625</td>\n",
       "</tr>\n",
       "<tr>\n",
       "  <th>Model:</th>                   <td>OLS</td>       <th>  Adj. R-squared:    </th> <td>   0.625</td>\n",
       "</tr>\n",
       "<tr>\n",
       "  <th>Method:</th>             <td>Least Squares</td>  <th>  F-statistic:       </th> <td>   4467.</td>\n",
       "</tr>\n",
       "<tr>\n",
       "  <th>Date:</th>             <td>Sun, 08 Aug 2021</td> <th>  Prob (F-statistic):</th>  <td>  0.00</td> \n",
       "</tr>\n",
       "<tr>\n",
       "  <th>Time:</th>                 <td>20:48:33</td>     <th>  Log-Likelihood:    </th> <td>  3047.0</td>\n",
       "</tr>\n",
       "<tr>\n",
       "  <th>No. Observations:</th>      <td> 21451</td>      <th>  AIC:               </th> <td>  -6076.</td>\n",
       "</tr>\n",
       "<tr>\n",
       "  <th>Df Residuals:</th>          <td> 21442</td>      <th>  BIC:               </th> <td>  -6004.</td>\n",
       "</tr>\n",
       "<tr>\n",
       "  <th>Df Model:</th>              <td>     8</td>      <th>                     </th>     <td> </td>   \n",
       "</tr>\n",
       "<tr>\n",
       "  <th>Covariance Type:</th>      <td>nonrobust</td>    <th>                     </th>     <td> </td>   \n",
       "</tr>\n",
       "</table>\n",
       "<table class=\"simpletable\">\n",
       "<tr>\n",
       "       <td></td>          <th>coef</th>     <th>std err</th>      <th>t</th>      <th>P>|t|</th>  <th>[0.025</th>    <th>0.975]</th>  \n",
       "</tr>\n",
       "<tr>\n",
       "  <th>bedrooms</th>    <td>   -0.0371</td> <td>    0.002</td> <td>  -20.253</td> <td> 0.000</td> <td>   -0.041</td> <td>   -0.034</td>\n",
       "</tr>\n",
       "<tr>\n",
       "  <th>bathrooms</th>   <td>    0.0394</td> <td>    0.003</td> <td>   15.326</td> <td> 0.000</td> <td>    0.034</td> <td>    0.044</td>\n",
       "</tr>\n",
       "<tr>\n",
       "  <th>sqft_living</th> <td>    0.1514</td> <td>    0.003</td> <td>   51.332</td> <td> 0.000</td> <td>    0.146</td> <td>    0.157</td>\n",
       "</tr>\n",
       "<tr>\n",
       "  <th>sqft_lot</th>    <td>   -0.0082</td> <td>    0.001</td> <td>   -5.606</td> <td> 0.000</td> <td>   -0.011</td> <td>   -0.005</td>\n",
       "</tr>\n",
       "<tr>\n",
       "  <th>floors</th>      <td>    0.0127</td> <td>    0.002</td> <td>    7.081</td> <td> 0.000</td> <td>    0.009</td> <td>    0.016</td>\n",
       "</tr>\n",
       "<tr>\n",
       "  <th>waterfront</th>  <td>   -6.4865</td> <td>    0.017</td> <td> -373.229</td> <td> 0.000</td> <td>   -6.521</td> <td>   -6.452</td>\n",
       "</tr>\n",
       "<tr>\n",
       "  <th>condition</th>   <td>    0.0125</td> <td>    0.002</td> <td>    8.007</td> <td> 0.000</td> <td>    0.009</td> <td>    0.016</td>\n",
       "</tr>\n",
       "<tr>\n",
       "  <th>grade</th>       <td>    0.1550</td> <td>    0.002</td> <td>   63.352</td> <td> 0.000</td> <td>    0.150</td> <td>    0.160</td>\n",
       "</tr>\n",
       "<tr>\n",
       "  <th>yr_built</th>    <td>   -0.1132</td> <td>    0.002</td> <td>  -59.968</td> <td> 0.000</td> <td>   -0.117</td> <td>   -0.110</td>\n",
       "</tr>\n",
       "</table>\n",
       "<table class=\"simpletable\">\n",
       "<tr>\n",
       "  <th>Omnibus:</th>       <td>16110.243</td> <th>  Durbin-Watson:     </th>  <td>   1.971</td>  \n",
       "</tr>\n",
       "<tr>\n",
       "  <th>Prob(Omnibus):</th>  <td> 0.000</td>   <th>  Jarque-Bera (JB):  </th> <td>1073938.414</td>\n",
       "</tr>\n",
       "<tr>\n",
       "  <th>Skew:</th>           <td> 3.032</td>   <th>  Prob(JB):          </th>  <td>    0.00</td>  \n",
       "</tr>\n",
       "<tr>\n",
       "  <th>Kurtosis:</th>       <td>37.129</td>   <th>  Cond. No.          </th>  <td>    22.5</td>  \n",
       "</tr>\n",
       "</table><br/><br/>Warnings:<br/>[1] Standard Errors assume that the covariance matrix of the errors is correctly specified."
      ]
     },
     "metadata": {},
     "execution_count": 226
    }
   ],
   "metadata": {}
  },
  {
   "cell_type": "code",
   "execution_count": 227,
   "source": [
    "X = df_no_water.drop(['price','price_millions'], axis=1) # independent variables\n",
    "y = df_no_water['price_millions'] # target variable"
   ],
   "outputs": [],
   "metadata": {}
  },
  {
   "cell_type": "code",
   "execution_count": 228,
   "source": [
    "X_train, X_test, y_train, y_test = train_test_split(\n",
    "    X, y, test_size=0.3, random_state=4)\n",
    "lr = LinearRegression()\n",
    "lr.fit(X_train, y_train)\n",
    "predict_y_train = lr.predict(X_train)\n",
    "print('The R squared value is: ' + str(metrics.r2_score(y_train, predict_y_train)))"
   ],
   "outputs": [
    {
     "output_type": "stream",
     "name": "stdout",
     "text": [
      "The R squared value is: 0.6252639004561333\n"
     ]
    }
   ],
   "metadata": {}
  },
  {
   "cell_type": "code",
   "execution_count": 229,
   "source": [
    "plt.scatter(y_train, predict_y_train)\n",
    "plt.xlabel('price - millions')\n",
    "plt.ylabel('predicted price - millions')\n",
    "plt.show()"
   ],
   "outputs": [
    {
     "output_type": "display_data",
     "data": {
      "text/plain": [
       "<Figure size 432x288 with 1 Axes>"
      ],
      "image/png": "[encoded data removed]"
     },
     "metadata": {
      "needs_background": "light"
     }
    }
   ],
   "metadata": {}
  },
  {
   "cell_type": "code",
   "execution_count": 230,
   "source": [
    "plt.scatter(predict_y_train, y_train - predict_y_train)\n",
    "plt.xlabel('predicted')\n",
    "plt.ylabel('residuals')"
   ],
   "outputs": [
    {
     "output_type": "execute_result",
     "data": {
      "text/plain": [
       "Text(0, 0.5, 'residuals')"
      ]
     },
     "metadata": {},
     "execution_count": 230
    },
    {
     "output_type": "display_data",
     "data": {
      "text/plain": [
       "<Figure size 432x288 with 1 Axes>"
      ],
      "image/png": "[encoded data removed]"
     },
     "metadata": {
      "needs_background": "light"
     }
    }
   ],
   "metadata": {}
  },
  {
   "cell_type": "markdown",
   "source": [
    "## Non-Waterfront Interpret\n",
    "- When we segment the data by non-waterfront view, we get major heteroscedasticy\n",
    "- However, the p-values for various coefficients are great\n",
    "- Though the p-values are good, we can't use a linear regression model that doesn't conform to the assumptions of linearity and homoscedasticity, so we'll have to move on."
   ],
   "metadata": {}
  },
  {
   "cell_type": "markdown",
   "source": [
    "## Remove Outliers\n",
    "- Makes sense to segment our model by only looking at \"average\" american homes, which have about 4 bedrooms"
   ],
   "metadata": {}
  },
  {
   "cell_type": "code",
   "execution_count": 231,
   "source": [
    "# Bedrooms\n",
    "df[['price_millions', 'bedrooms', 'bathrooms', 'sqft_living', 'acres_lot']].sort_values('bedrooms', ascending = False).head(40)"
   ],
   "outputs": [
    {
     "output_type": "execute_result",
     "data": {
      "text/plain": [
       "       price_millions  bedrooms  bathrooms  sqft_living  acres_lot\n",
       "15856        0.640000        33       1.75         1620   0.137741\n",
       "8748         0.520000        11       3.00         3000   0.113866\n",
       "13301        1.150000        10       5.25         4590   0.250689\n",
       "19239        0.660000        10       3.00         2920   0.085973\n",
       "15147        0.650000        10       2.00         3610   0.273508\n",
       "6073         1.280000         9       4.50         3650   0.114784\n",
       "4231         0.700000         9       3.00         3680   0.101010\n",
       "16830        1.400000         9       4.00         4620   0.126446\n",
       "8537         0.450000         9       7.50         4050   0.149311\n",
       "4092         0.599999         9       4.50         3830   0.160422\n",
       "18428        0.934000         9       3.00         2820   0.102847\n",
       "10946        1.650000         8       2.75         4040   0.474426\n",
       "17221        1.970000         8       3.50         4440   0.148760\n",
       "15656        0.680000         8       2.75         2530   0.110193\n",
       "12872        0.808000         8       3.75         3460   0.105601\n",
       "1658         0.490000         8       5.00         2800   0.059229\n",
       "15056        0.430000         8       3.25         4300   0.239692\n",
       "9068         0.700000         8       2.50         2280   0.068871\n",
       "6168         0.340000         8       2.75         2790   0.153696\n",
       "9443         0.900000         8       4.00         4020   0.172176\n",
       "4063         0.373000         8       3.00         2850   0.291873\n",
       "4031         2.150000         8       6.00         4340   0.216139\n",
       "18462        3.300000         8       4.00         7710   0.269743\n",
       "19287        0.575000         8       3.00         3840   0.367080\n",
       "7016         0.770000         7       2.25         3260   0.186983\n",
       "12005        0.936000         7       3.75         5100   0.500505\n",
       "7184         3.200000         7       4.50         6210   0.203306\n",
       "15008        2.450000         7       4.25         4670   0.530647\n",
       "4020         0.800000         7       6.75         7480   0.956474\n",
       "18960        1.240000         7       5.50         6630   0.316391\n",
       "556          1.950000         7       3.50         4640   0.349747\n",
       "15507        0.727160         7       3.75         2310   0.114784\n",
       "3717         0.884900         7       4.75         5370   0.247934\n",
       "18808        0.539000         7       2.25         2620   0.158173\n",
       "18445        0.840000         7       4.50         4290   0.863338\n",
       "9650         0.853800         7       4.00         2960   0.061180\n",
       "10775        0.475000         7       3.50         2870   0.681795\n",
       "10264        0.597157         7       4.00         2690   0.249770\n",
       "9723         0.550000         7       4.00         3440   0.185950\n",
       "16299        0.280000         7       2.50         1940   0.125298"
      ],
      "text/html": [
       "<div>\n",
       "<style scoped>\n",
       "    .dataframe tbody tr th:only-of-type {\n",
       "        vertical-align: middle;\n",
       "    }\n",
       "\n",
       "    .dataframe tbody tr th {\n",
       "        vertical-align: top;\n",
       "    }\n",
       "\n",
       "    .dataframe thead th {\n",
       "        text-align: right;\n",
       "    }\n",
       "</style>\n",
       "<table border=\"1\" class=\"dataframe\">\n",
       "  <thead>\n",
       "    <tr style=\"text-align: right;\">\n",
       "      <th></th>\n",
       "      <th>price_millions</th>\n",
       "      <th>bedrooms</th>\n",
       "      <th>bathrooms</th>\n",
       "      <th>sqft_living</th>\n",
       "      <th>acres_lot</th>\n",
       "    </tr>\n",
       "  </thead>\n",
       "  <tbody>\n",
       "    <tr>\n",
       "      <th>15856</th>\n",
       "      <td>0.640000</td>\n",
       "      <td>33</td>\n",
       "      <td>1.75</td>\n",
       "      <td>1620</td>\n",
       "      <td>0.137741</td>\n",
       "    </tr>\n",
       "    <tr>\n",
       "      <th>8748</th>\n",
       "      <td>0.520000</td>\n",
       "      <td>11</td>\n",
       "      <td>3.00</td>\n",
       "      <td>3000</td>\n",
       "      <td>0.113866</td>\n",
       "    </tr>\n",
       "    <tr>\n",
       "      <th>13301</th>\n",
       "      <td>1.150000</td>\n",
       "      <td>10</td>\n",
       "      <td>5.25</td>\n",
       "      <td>4590</td>\n",
       "      <td>0.250689</td>\n",
       "    </tr>\n",
       "    <tr>\n",
       "      <th>19239</th>\n",
       "      <td>0.660000</td>\n",
       "      <td>10</td>\n",
       "      <td>3.00</td>\n",
       "      <td>2920</td>\n",
       "      <td>0.085973</td>\n",
       "    </tr>\n",
       "    <tr>\n",
       "      <th>15147</th>\n",
       "      <td>0.650000</td>\n",
       "      <td>10</td>\n",
       "      <td>2.00</td>\n",
       "      <td>3610</td>\n",
       "      <td>0.273508</td>\n",
       "    </tr>\n",
       "    <tr>\n",
       "      <th>6073</th>\n",
       "      <td>1.280000</td>\n",
       "      <td>9</td>\n",
       "      <td>4.50</td>\n",
       "      <td>3650</td>\n",
       "      <td>0.114784</td>\n",
       "    </tr>\n",
       "    <tr>\n",
       "      <th>4231</th>\n",
       "      <td>0.700000</td>\n",
       "      <td>9</td>\n",
       "      <td>3.00</td>\n",
       "      <td>3680</td>\n",
       "      <td>0.101010</td>\n",
       "    </tr>\n",
       "    <tr>\n",
       "      <th>16830</th>\n",
       "      <td>1.400000</td>\n",
       "      <td>9</td>\n",
       "      <td>4.00</td>\n",
       "      <td>4620</td>\n",
       "      <td>0.126446</td>\n",
       "    </tr>\n",
       "    <tr>\n",
       "      <th>8537</th>\n",
       "      <td>0.450000</td>\n",
       "      <td>9</td>\n",
       "      <td>7.50</td>\n",
       "      <td>4050</td>\n",
       "      <td>0.149311</td>\n",
       "    </tr>\n",
       "    <tr>\n",
       "      <th>4092</th>\n",
       "      <td>0.599999</td>\n",
       "      <td>9</td>\n",
       "      <td>4.50</td>\n",
       "      <td>3830</td>\n",
       "      <td>0.160422</td>\n",
       "    </tr>\n",
       "    <tr>\n",
       "      <th>18428</th>\n",
       "      <td>0.934000</td>\n",
       "      <td>9</td>\n",
       "      <td>3.00</td>\n",
       "      <td>2820</td>\n",
       "      <td>0.102847</td>\n",
       "    </tr>\n",
       "    <tr>\n",
       "      <th>10946</th>\n",
       "      <td>1.650000</td>\n",
       "      <td>8</td>\n",
       "      <td>2.75</td>\n",
       "      <td>4040</td>\n",
       "      <td>0.474426</td>\n",
       "    </tr>\n",
       "    <tr>\n",
       "      <th>17221</th>\n",
       "      <td>1.970000</td>\n",
       "      <td>8</td>\n",
       "      <td>3.50</td>\n",
       "      <td>4440</td>\n",
       "      <td>0.148760</td>\n",
       "    </tr>\n",
       "    <tr>\n",
       "      <th>15656</th>\n",
       "      <td>0.680000</td>\n",
       "      <td>8</td>\n",
       "      <td>2.75</td>\n",
       "      <td>2530</td>\n",
       "      <td>0.110193</td>\n",
       "    </tr>\n",
       "    <tr>\n",
       "      <th>12872</th>\n",
       "      <td>0.808000</td>\n",
       "      <td>8</td>\n",
       "      <td>3.75</td>\n",
       "      <td>3460</td>\n",
       "      <td>0.105601</td>\n",
       "    </tr>\n",
       "    <tr>\n",
       "      <th>1658</th>\n",
       "      <td>0.490000</td>\n",
       "      <td>8</td>\n",
       "      <td>5.00</td>\n",
       "      <td>2800</td>\n",
       "      <td>0.059229</td>\n",
       "    </tr>\n",
       "    <tr>\n",
       "      <th>15056</th>\n",
       "      <td>0.430000</td>\n",
       "      <td>8</td>\n",
       "      <td>3.25</td>\n",
       "      <td>4300</td>\n",
       "      <td>0.239692</td>\n",
       "    </tr>\n",
       "    <tr>\n",
       "      <th>9068</th>\n",
       "      <td>0.700000</td>\n",
       "      <td>8</td>\n",
       "      <td>2.50</td>\n",
       "      <td>2280</td>\n",
       "      <td>0.068871</td>\n",
       "    </tr>\n",
       "    <tr>\n",
       "      <th>6168</th>\n",
       "      <td>0.340000</td>\n",
       "      <td>8</td>\n",
       "      <td>2.75</td>\n",
       "      <td>2790</td>\n",
       "      <td>0.153696</td>\n",
       "    </tr>\n",
       "    <tr>\n",
       "      <th>9443</th>\n",
       "      <td>0.900000</td>\n",
       "      <td>8</td>\n",
       "      <td>4.00</td>\n",
       "      <td>4020</td>\n",
       "      <td>0.172176</td>\n",
       "    </tr>\n",
       "    <tr>\n",
       "      <th>4063</th>\n",
       "      <td>0.373000</td>\n",
       "      <td>8</td>\n",
       "      <td>3.00</td>\n",
       "      <td>2850</td>\n",
       "      <td>0.291873</td>\n",
       "    </tr>\n",
       "    <tr>\n",
       "      <th>4031</th>\n",
       "      <td>2.150000</td>\n",
       "      <td>8</td>\n",
       "      <td>6.00</td>\n",
       "      <td>4340</td>\n",
       "      <td>0.216139</td>\n",
       "    </tr>\n",
       "    <tr>\n",
       "      <th>18462</th>\n",
       "      <td>3.300000</td>\n",
       "      <td>8</td>\n",
       "      <td>4.00</td>\n",
       "      <td>7710</td>\n",
       "      <td>0.269743</td>\n",
       "    </tr>\n",
       "    <tr>\n",
       "      <th>19287</th>\n",
       "      <td>0.575000</td>\n",
       "      <td>8</td>\n",
       "      <td>3.00</td>\n",
       "      <td>3840</td>\n",
       "      <td>0.367080</td>\n",
       "    </tr>\n",
       "    <tr>\n",
       "      <th>7016</th>\n",
       "      <td>0.770000</td>\n",
       "      <td>7</td>\n",
       "      <td>2.25</td>\n",
       "      <td>3260</td>\n",
       "      <td>0.186983</td>\n",
       "    </tr>\n",
       "    <tr>\n",
       "      <th>12005</th>\n",
       "      <td>0.936000</td>\n",
       "      <td>7</td>\n",
       "      <td>3.75</td>\n",
       "      <td>5100</td>\n",
       "      <td>0.500505</td>\n",
       "    </tr>\n",
       "    <tr>\n",
       "      <th>7184</th>\n",
       "      <td>3.200000</td>\n",
       "      <td>7</td>\n",
       "      <td>4.50</td>\n",
       "      <td>6210</td>\n",
       "      <td>0.203306</td>\n",
       "    </tr>\n",
       "    <tr>\n",
       "      <th>15008</th>\n",
       "      <td>2.450000</td>\n",
       "      <td>7</td>\n",
       "      <td>4.25</td>\n",
       "      <td>4670</td>\n",
       "      <td>0.530647</td>\n",
       "    </tr>\n",
       "    <tr>\n",
       "      <th>4020</th>\n",
       "      <td>0.800000</td>\n",
       "      <td>7</td>\n",
       "      <td>6.75</td>\n",
       "      <td>7480</td>\n",
       "      <td>0.956474</td>\n",
       "    </tr>\n",
       "    <tr>\n",
       "      <th>18960</th>\n",
       "      <td>1.240000</td>\n",
       "      <td>7</td>\n",
       "      <td>5.50</td>\n",
       "      <td>6630</td>\n",
       "      <td>0.316391</td>\n",
       "    </tr>\n",
       "    <tr>\n",
       "      <th>556</th>\n",
       "      <td>1.950000</td>\n",
       "      <td>7</td>\n",
       "      <td>3.50</td>\n",
       "      <td>4640</td>\n",
       "      <td>0.349747</td>\n",
       "    </tr>\n",
       "    <tr>\n",
       "      <th>15507</th>\n",
       "      <td>0.727160</td>\n",
       "      <td>7</td>\n",
       "      <td>3.75</td>\n",
       "      <td>2310</td>\n",
       "      <td>0.114784</td>\n",
       "    </tr>\n",
       "    <tr>\n",
       "      <th>3717</th>\n",
       "      <td>0.884900</td>\n",
       "      <td>7</td>\n",
       "      <td>4.75</td>\n",
       "      <td>5370</td>\n",
       "      <td>0.247934</td>\n",
       "    </tr>\n",
       "    <tr>\n",
       "      <th>18808</th>\n",
       "      <td>0.539000</td>\n",
       "      <td>7</td>\n",
       "      <td>2.25</td>\n",
       "      <td>2620</td>\n",
       "      <td>0.158173</td>\n",
       "    </tr>\n",
       "    <tr>\n",
       "      <th>18445</th>\n",
       "      <td>0.840000</td>\n",
       "      <td>7</td>\n",
       "      <td>4.50</td>\n",
       "      <td>4290</td>\n",
       "      <td>0.863338</td>\n",
       "    </tr>\n",
       "    <tr>\n",
       "      <th>9650</th>\n",
       "      <td>0.853800</td>\n",
       "      <td>7</td>\n",
       "      <td>4.00</td>\n",
       "      <td>2960</td>\n",
       "      <td>0.061180</td>\n",
       "    </tr>\n",
       "    <tr>\n",
       "      <th>10775</th>\n",
       "      <td>0.475000</td>\n",
       "      <td>7</td>\n",
       "      <td>3.50</td>\n",
       "      <td>2870</td>\n",
       "      <td>0.681795</td>\n",
       "    </tr>\n",
       "    <tr>\n",
       "      <th>10264</th>\n",
       "      <td>0.597157</td>\n",
       "      <td>7</td>\n",
       "      <td>4.00</td>\n",
       "      <td>2690</td>\n",
       "      <td>0.249770</td>\n",
       "    </tr>\n",
       "    <tr>\n",
       "      <th>9723</th>\n",
       "      <td>0.550000</td>\n",
       "      <td>7</td>\n",
       "      <td>4.00</td>\n",
       "      <td>3440</td>\n",
       "      <td>0.185950</td>\n",
       "    </tr>\n",
       "    <tr>\n",
       "      <th>16299</th>\n",
       "      <td>0.280000</td>\n",
       "      <td>7</td>\n",
       "      <td>2.50</td>\n",
       "      <td>1940</td>\n",
       "      <td>0.125298</td>\n",
       "    </tr>\n",
       "  </tbody>\n",
       "</table>\n",
       "</div>"
      ]
     },
     "metadata": {},
     "execution_count": 231
    }
   ],
   "metadata": {}
  },
  {
   "cell_type": "code",
   "execution_count": 232,
   "source": [
    "df_model.head()"
   ],
   "outputs": [
    {
     "output_type": "execute_result",
     "data": {
      "text/plain": [
       "      price  bedrooms  bathrooms  sqft_living  sqft_lot  floors  waterfront  \\\n",
       "0  221900.0         3       1.00         1180      5650     1.0           0   \n",
       "1  538000.0         3       2.25         2570      7242     2.0           0   \n",
       "2  180000.0         2       1.00          770     10000     1.0           0   \n",
       "3  604000.0         4       3.00         1960      5000     1.0           0   \n",
       "4  510000.0         3       2.00         1680      8080     1.0           0   \n",
       "\n",
       "   condition  grade  yr_built  price_millions  \n",
       "0          3      7      1955          0.2219  \n",
       "1          3      7      1951          0.5380  \n",
       "2          3      6      1933          0.1800  \n",
       "3          5      7      1965          0.6040  \n",
       "4          3      8      1987          0.5100  "
      ],
      "text/html": [
       "<div>\n",
       "<style scoped>\n",
       "    .dataframe tbody tr th:only-of-type {\n",
       "        vertical-align: middle;\n",
       "    }\n",
       "\n",
       "    .dataframe tbody tr th {\n",
       "        vertical-align: top;\n",
       "    }\n",
       "\n",
       "    .dataframe thead th {\n",
       "        text-align: right;\n",
       "    }\n",
       "</style>\n",
       "<table border=\"1\" class=\"dataframe\">\n",
       "  <thead>\n",
       "    <tr style=\"text-align: right;\">\n",
       "      <th></th>\n",
       "      <th>price</th>\n",
       "      <th>bedrooms</th>\n",
       "      <th>bathrooms</th>\n",
       "      <th>sqft_living</th>\n",
       "      <th>sqft_lot</th>\n",
       "      <th>floors</th>\n",
       "      <th>waterfront</th>\n",
       "      <th>condition</th>\n",
       "      <th>grade</th>\n",
       "      <th>yr_built</th>\n",
       "      <th>price_millions</th>\n",
       "    </tr>\n",
       "  </thead>\n",
       "  <tbody>\n",
       "    <tr>\n",
       "      <th>0</th>\n",
       "      <td>221900.0</td>\n",
       "      <td>3</td>\n",
       "      <td>1.00</td>\n",
       "      <td>1180</td>\n",
       "      <td>5650</td>\n",
       "      <td>1.0</td>\n",
       "      <td>0</td>\n",
       "      <td>3</td>\n",
       "      <td>7</td>\n",
       "      <td>1955</td>\n",
       "      <td>0.2219</td>\n",
       "    </tr>\n",
       "    <tr>\n",
       "      <th>1</th>\n",
       "      <td>538000.0</td>\n",
       "      <td>3</td>\n",
       "      <td>2.25</td>\n",
       "      <td>2570</td>\n",
       "      <td>7242</td>\n",
       "      <td>2.0</td>\n",
       "      <td>0</td>\n",
       "      <td>3</td>\n",
       "      <td>7</td>\n",
       "      <td>1951</td>\n",
       "      <td>0.5380</td>\n",
       "    </tr>\n",
       "    <tr>\n",
       "      <th>2</th>\n",
       "      <td>180000.0</td>\n",
       "      <td>2</td>\n",
       "      <td>1.00</td>\n",
       "      <td>770</td>\n",
       "      <td>10000</td>\n",
       "      <td>1.0</td>\n",
       "      <td>0</td>\n",
       "      <td>3</td>\n",
       "      <td>6</td>\n",
       "      <td>1933</td>\n",
       "      <td>0.1800</td>\n",
       "    </tr>\n",
       "    <tr>\n",
       "      <th>3</th>\n",
       "      <td>604000.0</td>\n",
       "      <td>4</td>\n",
       "      <td>3.00</td>\n",
       "      <td>1960</td>\n",
       "      <td>5000</td>\n",
       "      <td>1.0</td>\n",
       "      <td>0</td>\n",
       "      <td>5</td>\n",
       "      <td>7</td>\n",
       "      <td>1965</td>\n",
       "      <td>0.6040</td>\n",
       "    </tr>\n",
       "    <tr>\n",
       "      <th>4</th>\n",
       "      <td>510000.0</td>\n",
       "      <td>3</td>\n",
       "      <td>2.00</td>\n",
       "      <td>1680</td>\n",
       "      <td>8080</td>\n",
       "      <td>1.0</td>\n",
       "      <td>0</td>\n",
       "      <td>3</td>\n",
       "      <td>8</td>\n",
       "      <td>1987</td>\n",
       "      <td>0.5100</td>\n",
       "    </tr>\n",
       "  </tbody>\n",
       "</table>\n",
       "</div>"
      ]
     },
     "metadata": {},
     "execution_count": 232
    }
   ],
   "metadata": {}
  },
  {
   "cell_type": "code",
   "execution_count": 234,
   "source": [
    "df_trim =  df_model.loc[df_model['bedrooms'] <= 4]"
   ],
   "outputs": [],
   "metadata": {}
  },
  {
   "cell_type": "code",
   "execution_count": 235,
   "source": [
    "df_trim.head()"
   ],
   "outputs": [
    {
     "output_type": "execute_result",
     "data": {
      "text/plain": [
       "      price  bedrooms  bathrooms  sqft_living  sqft_lot  floors  waterfront  \\\n",
       "0  221900.0         3       1.00         1180      5650     1.0           0   \n",
       "1  538000.0         3       2.25         2570      7242     2.0           0   \n",
       "2  180000.0         2       1.00          770     10000     1.0           0   \n",
       "3  604000.0         4       3.00         1960      5000     1.0           0   \n",
       "4  510000.0         3       2.00         1680      8080     1.0           0   \n",
       "\n",
       "   condition  grade  yr_built  price_millions  \n",
       "0          3      7      1955          0.2219  \n",
       "1          3      7      1951          0.5380  \n",
       "2          3      6      1933          0.1800  \n",
       "3          5      7      1965          0.6040  \n",
       "4          3      8      1987          0.5100  "
      ],
      "text/html": [
       "<div>\n",
       "<style scoped>\n",
       "    .dataframe tbody tr th:only-of-type {\n",
       "        vertical-align: middle;\n",
       "    }\n",
       "\n",
       "    .dataframe tbody tr th {\n",
       "        vertical-align: top;\n",
       "    }\n",
       "\n",
       "    .dataframe thead th {\n",
       "        text-align: right;\n",
       "    }\n",
       "</style>\n",
       "<table border=\"1\" class=\"dataframe\">\n",
       "  <thead>\n",
       "    <tr style=\"text-align: right;\">\n",
       "      <th></th>\n",
       "      <th>price</th>\n",
       "      <th>bedrooms</th>\n",
       "      <th>bathrooms</th>\n",
       "      <th>sqft_living</th>\n",
       "      <th>sqft_lot</th>\n",
       "      <th>floors</th>\n",
       "      <th>waterfront</th>\n",
       "      <th>condition</th>\n",
       "      <th>grade</th>\n",
       "      <th>yr_built</th>\n",
       "      <th>price_millions</th>\n",
       "    </tr>\n",
       "  </thead>\n",
       "  <tbody>\n",
       "    <tr>\n",
       "      <th>0</th>\n",
       "      <td>221900.0</td>\n",
       "      <td>3</td>\n",
       "      <td>1.00</td>\n",
       "      <td>1180</td>\n",
       "      <td>5650</td>\n",
       "      <td>1.0</td>\n",
       "      <td>0</td>\n",
       "      <td>3</td>\n",
       "      <td>7</td>\n",
       "      <td>1955</td>\n",
       "      <td>0.2219</td>\n",
       "    </tr>\n",
       "    <tr>\n",
       "      <th>1</th>\n",
       "      <td>538000.0</td>\n",
       "      <td>3</td>\n",
       "      <td>2.25</td>\n",
       "      <td>2570</td>\n",
       "      <td>7242</td>\n",
       "      <td>2.0</td>\n",
       "      <td>0</td>\n",
       "      <td>3</td>\n",
       "      <td>7</td>\n",
       "      <td>1951</td>\n",
       "      <td>0.5380</td>\n",
       "    </tr>\n",
       "    <tr>\n",
       "      <th>2</th>\n",
       "      <td>180000.0</td>\n",
       "      <td>2</td>\n",
       "      <td>1.00</td>\n",
       "      <td>770</td>\n",
       "      <td>10000</td>\n",
       "      <td>1.0</td>\n",
       "      <td>0</td>\n",
       "      <td>3</td>\n",
       "      <td>6</td>\n",
       "      <td>1933</td>\n",
       "      <td>0.1800</td>\n",
       "    </tr>\n",
       "    <tr>\n",
       "      <th>3</th>\n",
       "      <td>604000.0</td>\n",
       "      <td>4</td>\n",
       "      <td>3.00</td>\n",
       "      <td>1960</td>\n",
       "      <td>5000</td>\n",
       "      <td>1.0</td>\n",
       "      <td>0</td>\n",
       "      <td>5</td>\n",
       "      <td>7</td>\n",
       "      <td>1965</td>\n",
       "      <td>0.6040</td>\n",
       "    </tr>\n",
       "    <tr>\n",
       "      <th>4</th>\n",
       "      <td>510000.0</td>\n",
       "      <td>3</td>\n",
       "      <td>2.00</td>\n",
       "      <td>1680</td>\n",
       "      <td>8080</td>\n",
       "      <td>1.0</td>\n",
       "      <td>0</td>\n",
       "      <td>3</td>\n",
       "      <td>8</td>\n",
       "      <td>1987</td>\n",
       "      <td>0.5100</td>\n",
       "    </tr>\n",
       "  </tbody>\n",
       "</table>\n",
       "</div>"
      ]
     },
     "metadata": {},
     "execution_count": 235
    }
   ],
   "metadata": {}
  },
  {
   "cell_type": "code",
   "execution_count": 236,
   "source": [
    "# make copy of df_model for normalization purposes: \n",
    "df_norm_trim = df_trim.copy()\n",
    "\n",
    "# Apply z-score normalization:\n",
    "def z_score_norm(my_column):\n",
    "    return (my_column - my_column.mean())/my_column.std()\n",
    "\n",
    "for predictor in ['bedrooms', 'bathrooms', 'sqft_living', 'sqft_lot', 'floors', 'waterfront', 'condition','grade','yr_built']:\n",
    "    df_norm_trim[predictor] = z_score_norm(df_norm_trim[predictor])\n",
    "# print normalized data: \n",
    "print(df_norm_trim)"
   ],
   "outputs": [
    {
     "output_type": "stream",
     "name": "stdout",
     "text": [
      "          price  bedrooms  bathrooms  sqft_living  sqft_lot    floors  \\\n",
      "0      221900.0 -0.269828  -1.460980    -0.967279 -0.223874 -0.893632   \n",
      "1      538000.0 -0.269828   0.288544     0.714793 -0.185398  0.949792   \n",
      "2      180000.0 -1.692175  -1.460980    -1.463430 -0.118741 -0.893632   \n",
      "3      604000.0  1.152519   1.338258    -0.023383 -0.239584 -0.893632   \n",
      "4      510000.0 -0.269828  -0.061361    -0.362217 -0.165145 -0.893632   \n",
      "...         ...       ...        ...          ...       ...       ...   \n",
      "21592  360000.0 -0.269828   0.638449    -0.543736 -0.333092  2.793216   \n",
      "21593  400000.0  1.152519   0.638449     0.400161 -0.219935  0.949792   \n",
      "21594  402101.0 -1.692175  -1.810884    -1.160899 -0.327799  0.949792   \n",
      "21595  400000.0 -0.269828   0.638449    -0.459027 -0.302712  0.949792   \n",
      "21596  325000.0 -1.692175  -1.810884    -1.160899 -0.334421  0.949792   \n",
      "\n",
      "       waterfront  condition     grade  yr_built  price_millions  \n",
      "0        -0.07934  -0.625075 -0.527434 -0.542525        0.221900  \n",
      "1        -0.07934  -0.625075 -0.527434 -0.679078        0.538000  \n",
      "2        -0.07934  -0.625075 -1.406133 -1.293568        0.180000  \n",
      "3        -0.07934   2.456727 -0.527434 -0.201142        0.604000  \n",
      "4        -0.07934  -0.625075  0.351265  0.549901        0.510000  \n",
      "...           ...        ...       ...       ...             ...  \n",
      "21592    -0.07934  -0.625075  0.351265  1.300944        0.360000  \n",
      "21593    -0.07934  -0.625075  0.351265  1.471635        0.400000  \n",
      "21594    -0.07934  -0.625075 -0.527434  1.300944        0.402101  \n",
      "21595    -0.07934  -0.625075  0.351265  1.130252        0.400000  \n",
      "21596    -0.07934  -0.625075 -0.527434  1.266805        0.325000  \n",
      "\n",
      "[19662 rows x 11 columns]\n"
     ]
    }
   ],
   "metadata": {}
  },
  {
   "cell_type": "code",
   "execution_count": 237,
   "source": [
    "house_pred = df_trim.drop(['price_millions','price'], axis=1)\n",
    "house_target = df_trim['price_millions']"
   ],
   "outputs": [],
   "metadata": {}
  },
  {
   "cell_type": "code",
   "execution_count": 238,
   "source": [
    "predictors = sm.add_constant(house_pred)\n",
    "model = sm.OLS(house_target, predictors).fit()\n",
    "model.summary()"
   ],
   "outputs": [
    {
     "output_type": "execute_result",
     "data": {
      "text/plain": [
       "<class 'statsmodels.iolib.summary.Summary'>\n",
       "\"\"\"\n",
       "                            OLS Regression Results                            \n",
       "==============================================================================\n",
       "Dep. Variable:         price_millions   R-squared:                       0.633\n",
       "Model:                            OLS   Adj. R-squared:                  0.633\n",
       "Method:                 Least Squares   F-statistic:                     3763.\n",
       "Date:                Sun, 08 Aug 2021   Prob (F-statistic):               0.00\n",
       "Time:                        20:49:23   Log-Likelihood:                 4432.0\n",
       "No. Observations:               19662   AIC:                            -8844.\n",
       "Df Residuals:                   19652   BIC:                            -8765.\n",
       "Df Model:                           9                                         \n",
       "Covariance Type:            nonrobust                                         \n",
       "===============================================================================\n",
       "                  coef    std err          t      P>|t|      [0.025      0.975]\n",
       "-------------------------------------------------------------------------------\n",
       "const           6.1741      0.122     50.413      0.000       5.934       6.414\n",
       "bedrooms       -0.0501      0.002    -20.553      0.000      -0.055      -0.045\n",
       "bathrooms       0.0446      0.003     13.380      0.000       0.038       0.051\n",
       "sqft_living     0.0002   3.23e-06     48.463      0.000       0.000       0.000\n",
       "sqft_lot    -1.268e-07   3.41e-08     -3.716      0.000   -1.94e-07   -5.99e-08\n",
       "floors          0.0256      0.003      7.918      0.000       0.019       0.032\n",
       "waterfront      0.6492      0.018     36.781      0.000       0.615       0.684\n",
       "condition       0.0214      0.002      9.274      0.000       0.017       0.026\n",
       "grade           0.1283      0.002     62.853      0.000       0.124       0.132\n",
       "yr_built       -0.0035   6.32e-05    -56.118      0.000      -0.004      -0.003\n",
       "==============================================================================\n",
       "Omnibus:                    10213.530   Durbin-Watson:                   1.961\n",
       "Prob(Omnibus):                  0.000   Jarque-Bera (JB):           192405.986\n",
       "Skew:                           2.070   Prob(JB):                         0.00\n",
       "Kurtosis:                      17.756   Cond. No.                     3.91e+06\n",
       "==============================================================================\n",
       "\n",
       "Warnings:\n",
       "[1] Standard Errors assume that the covariance matrix of the errors is correctly specified.\n",
       "[2] The condition number is large, 3.91e+06. This might indicate that there are\n",
       "strong multicollinearity or other numerical problems.\n",
       "\"\"\""
      ],
      "text/html": [
       "<table class=\"simpletable\">\n",
       "<caption>OLS Regression Results</caption>\n",
       "<tr>\n",
       "  <th>Dep. Variable:</th>     <td>price_millions</td>  <th>  R-squared:         </th> <td>   0.633</td>\n",
       "</tr>\n",
       "<tr>\n",
       "  <th>Model:</th>                   <td>OLS</td>       <th>  Adj. R-squared:    </th> <td>   0.633</td>\n",
       "</tr>\n",
       "<tr>\n",
       "  <th>Method:</th>             <td>Least Squares</td>  <th>  F-statistic:       </th> <td>   3763.</td>\n",
       "</tr>\n",
       "<tr>\n",
       "  <th>Date:</th>             <td>Sun, 08 Aug 2021</td> <th>  Prob (F-statistic):</th>  <td>  0.00</td> \n",
       "</tr>\n",
       "<tr>\n",
       "  <th>Time:</th>                 <td>20:49:23</td>     <th>  Log-Likelihood:    </th> <td>  4432.0</td>\n",
       "</tr>\n",
       "<tr>\n",
       "  <th>No. Observations:</th>      <td> 19662</td>      <th>  AIC:               </th> <td>  -8844.</td>\n",
       "</tr>\n",
       "<tr>\n",
       "  <th>Df Residuals:</th>          <td> 19652</td>      <th>  BIC:               </th> <td>  -8765.</td>\n",
       "</tr>\n",
       "<tr>\n",
       "  <th>Df Model:</th>              <td>     9</td>      <th>                     </th>     <td> </td>   \n",
       "</tr>\n",
       "<tr>\n",
       "  <th>Covariance Type:</th>      <td>nonrobust</td>    <th>                     </th>     <td> </td>   \n",
       "</tr>\n",
       "</table>\n",
       "<table class=\"simpletable\">\n",
       "<tr>\n",
       "       <td></td>          <th>coef</th>     <th>std err</th>      <th>t</th>      <th>P>|t|</th>  <th>[0.025</th>    <th>0.975]</th>  \n",
       "</tr>\n",
       "<tr>\n",
       "  <th>const</th>       <td>    6.1741</td> <td>    0.122</td> <td>   50.413</td> <td> 0.000</td> <td>    5.934</td> <td>    6.414</td>\n",
       "</tr>\n",
       "<tr>\n",
       "  <th>bedrooms</th>    <td>   -0.0501</td> <td>    0.002</td> <td>  -20.553</td> <td> 0.000</td> <td>   -0.055</td> <td>   -0.045</td>\n",
       "</tr>\n",
       "<tr>\n",
       "  <th>bathrooms</th>   <td>    0.0446</td> <td>    0.003</td> <td>   13.380</td> <td> 0.000</td> <td>    0.038</td> <td>    0.051</td>\n",
       "</tr>\n",
       "<tr>\n",
       "  <th>sqft_living</th> <td>    0.0002</td> <td> 3.23e-06</td> <td>   48.463</td> <td> 0.000</td> <td>    0.000</td> <td>    0.000</td>\n",
       "</tr>\n",
       "<tr>\n",
       "  <th>sqft_lot</th>    <td>-1.268e-07</td> <td> 3.41e-08</td> <td>   -3.716</td> <td> 0.000</td> <td>-1.94e-07</td> <td>-5.99e-08</td>\n",
       "</tr>\n",
       "<tr>\n",
       "  <th>floors</th>      <td>    0.0256</td> <td>    0.003</td> <td>    7.918</td> <td> 0.000</td> <td>    0.019</td> <td>    0.032</td>\n",
       "</tr>\n",
       "<tr>\n",
       "  <th>waterfront</th>  <td>    0.6492</td> <td>    0.018</td> <td>   36.781</td> <td> 0.000</td> <td>    0.615</td> <td>    0.684</td>\n",
       "</tr>\n",
       "<tr>\n",
       "  <th>condition</th>   <td>    0.0214</td> <td>    0.002</td> <td>    9.274</td> <td> 0.000</td> <td>    0.017</td> <td>    0.026</td>\n",
       "</tr>\n",
       "<tr>\n",
       "  <th>grade</th>       <td>    0.1283</td> <td>    0.002</td> <td>   62.853</td> <td> 0.000</td> <td>    0.124</td> <td>    0.132</td>\n",
       "</tr>\n",
       "<tr>\n",
       "  <th>yr_built</th>    <td>   -0.0035</td> <td> 6.32e-05</td> <td>  -56.118</td> <td> 0.000</td> <td>   -0.004</td> <td>   -0.003</td>\n",
       "</tr>\n",
       "</table>\n",
       "<table class=\"simpletable\">\n",
       "<tr>\n",
       "  <th>Omnibus:</th>       <td>10213.530</td> <th>  Durbin-Watson:     </th>  <td>   1.961</td> \n",
       "</tr>\n",
       "<tr>\n",
       "  <th>Prob(Omnibus):</th>  <td> 0.000</td>   <th>  Jarque-Bera (JB):  </th> <td>192405.986</td>\n",
       "</tr>\n",
       "<tr>\n",
       "  <th>Skew:</th>           <td> 2.070</td>   <th>  Prob(JB):          </th>  <td>    0.00</td> \n",
       "</tr>\n",
       "<tr>\n",
       "  <th>Kurtosis:</th>       <td>17.756</td>   <th>  Cond. No.          </th>  <td>3.91e+06</td> \n",
       "</tr>\n",
       "</table><br/><br/>Warnings:<br/>[1] Standard Errors assume that the covariance matrix of the errors is correctly specified.<br/>[2] The condition number is large, 3.91e+06. This might indicate that there are<br/>strong multicollinearity or other numerical problems."
      ]
     },
     "metadata": {},
     "execution_count": 238
    }
   ],
   "metadata": {}
  },
  {
   "cell_type": "code",
   "execution_count": 239,
   "source": [
    "X = house_pred = df_trim.drop(['price_millions','price'], axis=1)\n",
    "y = house_target = df_trim['price_millions']"
   ],
   "outputs": [],
   "metadata": {}
  },
  {
   "cell_type": "code",
   "execution_count": 240,
   "source": [
    "X_train, X_test, y_train, y_test = train_test_split(\n",
    "    X, y, test_size=0.3, random_state=4)\n",
    "lr = LinearRegression()\n",
    "lr.fit(X_train, y_train)\n",
    "predict_y_train = lr.predict(X_train)\n",
    "print('The R squared value is: ' + str(metrics.r2_score(y_train, predict_y_train)))"
   ],
   "outputs": [
    {
     "output_type": "stream",
     "name": "stdout",
     "text": [
      "The R squared value is: 0.6367176777041468\n"
     ]
    }
   ],
   "metadata": {}
  },
  {
   "cell_type": "code",
   "execution_count": 241,
   "source": [
    "plt.scatter(y_train, predict_y_train)\n",
    "plt.xlabel('price - millions')\n",
    "plt.ylabel('predicted price - millions')\n",
    "plt.show()"
   ],
   "outputs": [
    {
     "output_type": "display_data",
     "data": {
      "text/plain": [
       "<Figure size 432x288 with 1 Axes>"
      ],
      "image/png": "[encoded data removed]"
     },
     "metadata": {
      "needs_background": "light"
     }
    }
   ],
   "metadata": {}
  },
  {
   "cell_type": "code",
   "execution_count": 242,
   "source": [
    "plt.scatter(predict_y_train, y_train - predict_y_train)\n",
    "plt.xlabel('predicted')\n",
    "plt.ylabel('residuals')"
   ],
   "outputs": [
    {
     "output_type": "execute_result",
     "data": {
      "text/plain": [
       "Text(0, 0.5, 'residuals')"
      ]
     },
     "metadata": {},
     "execution_count": 242
    },
    {
     "output_type": "display_data",
     "data": {
      "text/plain": [
       "<Figure size 432x288 with 1 Axes>"
      ],
      "image/png": "[encoded data removed]"
     },
     "metadata": {
      "needs_background": "light"
     }
    }
   ],
   "metadata": {}
  },
  {
   "cell_type": "markdown",
   "source": [
    "## Waterfront Segment Wins\n",
    "- Out of all iterations, the waterfront segment had the highest linearity, highest homoscedasticity, and best p-values\n",
    "- We can use sqft_living and grade in order to advise home owners who have waterfront properties, what kinds of improvements to their homes they should make"
   ],
   "metadata": {}
  },
  {
   "cell_type": "code",
   "execution_count": 243,
   "source": [
    "house_pred = df_water.drop(['price','price_millions'], axis=1)\n",
    "house_target = df_water['price_millions']"
   ],
   "outputs": [],
   "metadata": {}
  },
  {
   "cell_type": "code",
   "execution_count": 244,
   "source": [
    "predictors = sm.add_constant(house_pred)\n",
    "model = sm.OLS(house_target, predictors).fit()\n",
    "model.summary()"
   ],
   "outputs": [
    {
     "output_type": "execute_result",
     "data": {
      "text/plain": [
       "<class 'statsmodels.iolib.summary.Summary'>\n",
       "\"\"\"\n",
       "                            OLS Regression Results                            \n",
       "==============================================================================\n",
       "Dep. Variable:         price_millions   R-squared:                       0.799\n",
       "Model:                            OLS   Adj. R-squared:                  0.788\n",
       "Method:                 Least Squares   F-statistic:                     68.28\n",
       "Date:                Sun, 08 Aug 2021   Prob (F-statistic):           4.74e-44\n",
       "Time:                        20:49:42   Log-Likelihood:                -109.18\n",
       "No. Observations:                 146   AIC:                             236.4\n",
       "Df Residuals:                     137   BIC:                             263.2\n",
       "Df Model:                           8                                         \n",
       "Covariance Type:            nonrobust                                         \n",
       "===============================================================================\n",
       "                  coef    std err          t      P>|t|      [0.025      0.975]\n",
       "-------------------------------------------------------------------------------\n",
       "bedrooms        0.0094      0.048      0.195      0.846      -0.086       0.105\n",
       "bathrooms       0.0601      0.056      1.081      0.281      -0.050       0.170\n",
       "sqft_living     0.4775      0.048      9.847      0.000       0.382       0.573\n",
       "sqft_lot       -0.0506      0.041     -1.226      0.222      -0.132       0.031\n",
       "floors         -0.0117      0.051     -0.229      0.819      -0.112       0.089\n",
       "waterfront      0.0779      0.006     12.924      0.000       0.066       0.090\n",
       "condition       0.0580      0.040      1.443      0.151      -0.021       0.137\n",
       "grade           0.1040      0.054      1.915      0.058      -0.003       0.211\n",
       "yr_built       -0.0737      0.064     -1.155      0.250      -0.200       0.052\n",
       "==============================================================================\n",
       "Omnibus:                        1.096   Durbin-Watson:                   2.056\n",
       "Prob(Omnibus):                  0.578   Jarque-Bera (JB):                0.878\n",
       "Skew:                          -0.188   Prob(JB):                        0.645\n",
       "Kurtosis:                       3.052   Cond. No.                         21.8\n",
       "==============================================================================\n",
       "\n",
       "Warnings:\n",
       "[1] Standard Errors assume that the covariance matrix of the errors is correctly specified.\n",
       "\"\"\""
      ],
      "text/html": [
       "<table class=\"simpletable\">\n",
       "<caption>OLS Regression Results</caption>\n",
       "<tr>\n",
       "  <th>Dep. Variable:</th>     <td>price_millions</td>  <th>  R-squared:         </th> <td>   0.799</td>\n",
       "</tr>\n",
       "<tr>\n",
       "  <th>Model:</th>                   <td>OLS</td>       <th>  Adj. R-squared:    </th> <td>   0.788</td>\n",
       "</tr>\n",
       "<tr>\n",
       "  <th>Method:</th>             <td>Least Squares</td>  <th>  F-statistic:       </th> <td>   68.28</td>\n",
       "</tr>\n",
       "<tr>\n",
       "  <th>Date:</th>             <td>Sun, 08 Aug 2021</td> <th>  Prob (F-statistic):</th> <td>4.74e-44</td>\n",
       "</tr>\n",
       "<tr>\n",
       "  <th>Time:</th>                 <td>20:49:42</td>     <th>  Log-Likelihood:    </th> <td> -109.18</td>\n",
       "</tr>\n",
       "<tr>\n",
       "  <th>No. Observations:</th>      <td>   146</td>      <th>  AIC:               </th> <td>   236.4</td>\n",
       "</tr>\n",
       "<tr>\n",
       "  <th>Df Residuals:</th>          <td>   137</td>      <th>  BIC:               </th> <td>   263.2</td>\n",
       "</tr>\n",
       "<tr>\n",
       "  <th>Df Model:</th>              <td>     8</td>      <th>                     </th>     <td> </td>   \n",
       "</tr>\n",
       "<tr>\n",
       "  <th>Covariance Type:</th>      <td>nonrobust</td>    <th>                     </th>     <td> </td>   \n",
       "</tr>\n",
       "</table>\n",
       "<table class=\"simpletable\">\n",
       "<tr>\n",
       "       <td></td>          <th>coef</th>     <th>std err</th>      <th>t</th>      <th>P>|t|</th>  <th>[0.025</th>    <th>0.975]</th>  \n",
       "</tr>\n",
       "<tr>\n",
       "  <th>bedrooms</th>    <td>    0.0094</td> <td>    0.048</td> <td>    0.195</td> <td> 0.846</td> <td>   -0.086</td> <td>    0.105</td>\n",
       "</tr>\n",
       "<tr>\n",
       "  <th>bathrooms</th>   <td>    0.0601</td> <td>    0.056</td> <td>    1.081</td> <td> 0.281</td> <td>   -0.050</td> <td>    0.170</td>\n",
       "</tr>\n",
       "<tr>\n",
       "  <th>sqft_living</th> <td>    0.4775</td> <td>    0.048</td> <td>    9.847</td> <td> 0.000</td> <td>    0.382</td> <td>    0.573</td>\n",
       "</tr>\n",
       "<tr>\n",
       "  <th>sqft_lot</th>    <td>   -0.0506</td> <td>    0.041</td> <td>   -1.226</td> <td> 0.222</td> <td>   -0.132</td> <td>    0.031</td>\n",
       "</tr>\n",
       "<tr>\n",
       "  <th>floors</th>      <td>   -0.0117</td> <td>    0.051</td> <td>   -0.229</td> <td> 0.819</td> <td>   -0.112</td> <td>    0.089</td>\n",
       "</tr>\n",
       "<tr>\n",
       "  <th>waterfront</th>  <td>    0.0779</td> <td>    0.006</td> <td>   12.924</td> <td> 0.000</td> <td>    0.066</td> <td>    0.090</td>\n",
       "</tr>\n",
       "<tr>\n",
       "  <th>condition</th>   <td>    0.0580</td> <td>    0.040</td> <td>    1.443</td> <td> 0.151</td> <td>   -0.021</td> <td>    0.137</td>\n",
       "</tr>\n",
       "<tr>\n",
       "  <th>grade</th>       <td>    0.1040</td> <td>    0.054</td> <td>    1.915</td> <td> 0.058</td> <td>   -0.003</td> <td>    0.211</td>\n",
       "</tr>\n",
       "<tr>\n",
       "  <th>yr_built</th>    <td>   -0.0737</td> <td>    0.064</td> <td>   -1.155</td> <td> 0.250</td> <td>   -0.200</td> <td>    0.052</td>\n",
       "</tr>\n",
       "</table>\n",
       "<table class=\"simpletable\">\n",
       "<tr>\n",
       "  <th>Omnibus:</th>       <td> 1.096</td> <th>  Durbin-Watson:     </th> <td>   2.056</td>\n",
       "</tr>\n",
       "<tr>\n",
       "  <th>Prob(Omnibus):</th> <td> 0.578</td> <th>  Jarque-Bera (JB):  </th> <td>   0.878</td>\n",
       "</tr>\n",
       "<tr>\n",
       "  <th>Skew:</th>          <td>-0.188</td> <th>  Prob(JB):          </th> <td>   0.645</td>\n",
       "</tr>\n",
       "<tr>\n",
       "  <th>Kurtosis:</th>      <td> 3.052</td> <th>  Cond. No.          </th> <td>    21.8</td>\n",
       "</tr>\n",
       "</table><br/><br/>Warnings:<br/>[1] Standard Errors assume that the covariance matrix of the errors is correctly specified."
      ]
     },
     "metadata": {},
     "execution_count": 244
    }
   ],
   "metadata": {}
  },
  {
   "cell_type": "code",
   "execution_count": 245,
   "source": [
    "X = df_water.drop(['price','price_millions'], axis=1) # independent variables\n",
    "y = df_water['price_millions'] # target variable"
   ],
   "outputs": [],
   "metadata": {}
  },
  {
   "cell_type": "code",
   "execution_count": 246,
   "source": [
    "X_train, X_test, y_train, y_test = train_test_split(\n",
    "    X, y, test_size=0.3, random_state=4)\n",
    "lr = LinearRegression()\n",
    "lr.fit(X_train, y_train)\n",
    "predict_y_train = lr.predict(X_train)\n",
    "print('The R squared value is: ' + str(metrics.r2_score(y_train, predict_y_train)))"
   ],
   "outputs": [
    {
     "output_type": "stream",
     "name": "stdout",
     "text": [
      "The R squared value is: 0.8213563897907034\n"
     ]
    }
   ],
   "metadata": {}
  },
  {
   "cell_type": "code",
   "execution_count": 247,
   "source": [
    "# Check linearity\n",
    "plt.scatter(y_train, predict_y_train)\n",
    "plt.xlabel('price - millions')\n",
    "plt.ylabel('predicted price - millions')\n",
    "plt.show()"
   ],
   "outputs": [
    {
     "output_type": "display_data",
     "data": {
      "text/plain": [
       "<Figure size 432x288 with 1 Axes>"
      ],
      "image/png": "[encoded data removed]"
     },
     "metadata": {
      "needs_background": "light"
     }
    }
   ],
   "metadata": {}
  },
  {
   "cell_type": "code",
   "execution_count": 248,
   "source": [
    "# Check level of homoscedasticity/heteroscedasticity\n",
    "plt.scatter(predict_y_train, y_train - predict_y_train)\n",
    "plt.xlabel('predicted')\n",
    "plt.ylabel('residuals')"
   ],
   "outputs": [
    {
     "output_type": "execute_result",
     "data": {
      "text/plain": [
       "Text(0, 0.5, 'residuals')"
      ]
     },
     "metadata": {},
     "execution_count": 248
    },
    {
     "output_type": "display_data",
     "data": {
      "text/plain": [
       "<Figure size 432x288 with 1 Axes>"
      ],
      "image/png": "[encoded data removed]"
     },
     "metadata": {
      "needs_background": "light"
     }
    }
   ],
   "metadata": {}
  },
  {
   "cell_type": "code",
   "execution_count": 249,
   "source": [
    "# Check Distribution of Errors:\n",
    "sns.distplot(y_train - predict_y_train)\n",
    "plt.xlabel('residuals')\n",
    "plt.ylabel('frequency')"
   ],
   "outputs": [
    {
     "output_type": "execute_result",
     "data": {
      "text/plain": [
       "Text(0, 0.5, 'frequency')"
      ]
     },
     "metadata": {},
     "execution_count": 249
    },
    {
     "output_type": "display_data",
     "data": {
      "text/plain": [
       "<Figure size 432x288 with 1 Axes>"
      ],
      "image/png": "[encoded data removed]"
     },
     "metadata": {
      "needs_background": "light"
     }
    }
   ],
   "metadata": {}
  },
  {
   "cell_type": "markdown",
   "source": [
    "## Interpret Coefficient List:"
   ],
   "metadata": {}
  },
  {
   "cell_type": "code",
   "execution_count": 250,
   "source": [
    "# Create pandas data frame\n",
    "waterfront_coef_list = pd.Series([0.0094, 0.0601, 0.4775, -0.0506, -0.0117, 0.0779, 0.058, 0.104, -0.0737], index=[\n",
    "                                'bedrooms', 'bathrooms', 'sqft_living', 'sqft_lot', 'floors', 'waterfront', 'condition', 'grade', 'yr_built'])"
   ],
   "outputs": [],
   "metadata": {}
  },
  {
   "cell_type": "code",
   "execution_count": 251,
   "source": [
    "waterfront_coef_list"
   ],
   "outputs": [
    {
     "output_type": "execute_result",
     "data": {
      "text/plain": [
       "bedrooms       0.0094\n",
       "bathrooms      0.0601\n",
       "sqft_living    0.4775\n",
       "sqft_lot      -0.0506\n",
       "floors        -0.0117\n",
       "waterfront     0.0779\n",
       "condition      0.0580\n",
       "grade          0.1040\n",
       "yr_built      -0.0737\n",
       "dtype: float64"
      ]
     },
     "metadata": {},
     "execution_count": 251
    }
   ],
   "metadata": {}
  },
  {
   "cell_type": "code",
   "execution_count": 252,
   "source": [
    "# reverse transformation of z-score normalization:\n",
    "trans_coef_list = (waterfront_coef_list + waterfront_coef_list.mean()) * waterfront_coef_list.std() "
   ],
   "outputs": [],
   "metadata": {}
  },
  {
   "cell_type": "code",
   "execution_count": 253,
   "source": [
    "# Remember these units are millions\n",
    "trans_coef_list"
   ],
   "outputs": [
    {
     "output_type": "execute_result",
     "data": {
      "text/plain": [
       "bedrooms       0.013335\n",
       "bathrooms      0.021608\n",
       "sqft_living    0.089717\n",
       "sqft_lot       0.003545\n",
       "floors         0.009892\n",
       "waterfront     0.024513\n",
       "condition      0.021265\n",
       "grade          0.028771\n",
       "yr_built      -0.000225\n",
       "dtype: float64"
      ]
     },
     "metadata": {},
     "execution_count": 253
    }
   ],
   "metadata": {}
  },
  {
   "cell_type": "markdown",
   "source": [
    "# Conclusion\n",
    "- For every increase in grade, the house will sell for approximately $28,771 more.\n",
    "- For every square-foot increase, the house will sell for approximately $89,717 more.\n",
    "- Recommendations to home-owners in Kings County who have Waterfront properties:\n",
    "    - Increase square-footage as much as possible\n",
    "    - Make improvements that put home that give home a better grade according to King County's Grading System for Buildings such as:\n",
    "        - Finish work is better and more design quality is seen in the floor plans. Generally have a larger square footage.\n",
    "        - Custom design and higher quality finish work with added amenities of solid woods, bathroom fixtures and more luxurious options.\n",
    "        - Large amount of highest quality cabinet work, wood trim, marble, entry ways etc\n"
   ],
   "metadata": {}
  }
 ],
 "metadata": {
  "kernelspec": {
   "name": "python3",
   "display_name": "Python 3.6.9 64-bit ('learn-env': conda)"
  },
  "language_info": {
   "codemirror_mode": {
    "name": "ipython",
    "version": 3
   },
   "file_extension": ".py",
   "mimetype": "text/x-python",
   "name": "python",
   "nbconvert_exporter": "python",
   "pygments_lexer": "ipython3",
   "version": "3.6.9"
  },
  "interpreter": {
   "hash": "5d1f83e9c63cec2de7bdeb43eb17fdae110b98c2255761b9e5cd119be6dbfe82"
  }
 },
 "nbformat": 4,
 "nbformat_minor": 2
}