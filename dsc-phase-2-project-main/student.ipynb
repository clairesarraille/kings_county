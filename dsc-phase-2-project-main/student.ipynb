{
 "cells": [
  {
   "cell_type": "markdown",
   "metadata": {},
   "source": [
    "## final project submission\n",
    "\n",
    "Please fill out:\n",
    "* Student name: Claire Sarraille\n",
    "* Student pace: self paced\n",
    "* Scheduled project review date/time: Fri, Feb 11, 2022, 02:00 PM - 02:45 PM\n",
    "* Instructor name: Matt Carr\n",
    "* Blog post URL: https://clairesarraille.github.io/2021/08/08/kings_county_housing.html\n"
   ]
  },
  {
   "cell_type": "code",
   "execution_count": 84,
   "metadata": {},
   "outputs": [],
   "source": [
    "import numpy as np\n",
    "from scipy import stats\n",
    "import pandas as pd\n",
    "import matplotlib.pyplot as plt\n",
    "from matplotlib.ticker import StrMethodFormatter\n",
    "import seaborn as sns\n",
    "\n",
    "import statsmodels.api as sm\n",
    "from statsmodels.stats.outliers_influence import variance_inflation_factor\n",
    "\n",
    "from sklearn.model_selection import train_test_split\n",
    "from sklearn import metrics\n",
    "from sklearn import linear_model\n",
    "from sklearn.linear_model import LinearRegression\n",
    "from sklearn.metrics import mean_squared_error\n",
    "\n",
    "%matplotlib inline\n"
   ]
  },
  {
   "cell_type": "markdown",
   "metadata": {},
   "source": [
    "## CRISP-DM -- CRoss Industry Standard Process for Data Mining\n",
    "- Following this process ensures that the requirements and organization of formal hypothesis testing are met (broadly speaking, an iterative approach to modeling)\n",
    "- Not every step was necessary, or was in scope for this particular exercise. \n",
    "----------\n",
    "- Business Understanding\n",
    "    - Who will be  using the model\n",
    "    - How will the model be used\n",
    "    - How will using the model help our business\n",
    "    - clarify requirements\n",
    "    - What problems are in and out of scope\n",
    "\n",
    "- Understand Data\n",
    "    - What is target\n",
    "    - What are predictors\n",
    "    - Distribution of Data\n",
    "    - How many observations - and is this a small, medium or large collection?\n",
    "    - What is the quality? - What errors could be in the data, or inaccuracy?\n",
    "\n",
    "- Data Preparation - Prepping to model\n",
    "    - Missing values\n",
    "    - Type conversions\n",
    "    - Remove multicollinearity (correlated predictors)\n",
    "    - Standardize numeric data\n",
    "    - Convert categorical data to numeric via one-hot encoding\n",
    "\n",
    "- Modeling:\n",
    "    - Tune models to get the highest performance possible on our task\n",
    "    - Considerations:\n",
    "        - What kind of task? Classification task? Regression task?\n",
    "        - Which models will we use\n",
    "        - Will we use regularization?\n",
    "        - How will we validate our model?\n",
    "        - Loss functions?\n",
    "        - What is the performance threshold for success?\n",
    "\n",
    "- Evaluation:\n",
    "    - Does the model solve business problem outlined in step 1?\n",
    "    - At this point, we may want to start over at the business understanding step, now that we have a deeper understanding\n",
    "    - Things we may learn at this stage:\n",
    "        - Need different data\n",
    "        - Need more data\n",
    "        - Should be going in a different direction\n",
    "        - Should use classificaion rather than regression, or vice versa\n",
    "        - Use different approach\n",
    "\n",
    "- Deployment:\n",
    "    - Move the model into production\n",
    "    - Set up ETL - how much of preprocessing and cleaning can be automated?\n"
   ]
  },
  {
   "cell_type": "markdown",
   "metadata": {},
   "source": [
    "# BUSINESS UNDERSTANDING\n",
    "- Who will be  using the model?\n",
    "    - The hypothetical real estate agency I work for\n",
    "    - Our clients are typically people trying to sell their family home - this business case is not for apartment buildings or hotel real estate\n",
    "- How will the model be used?\n",
    "    - It will help us understand which variables (number of bedrooms, square footage) contribute the most to a positive increase in home selling price\n",
    "- How will using the model help our business?\n",
    "    - It will provide the evidence we need to give data-driven advice to our clients\n",
    "    - Helping our clients make decisions to maximize selling price will increase our commissions \n",
    "    - We also have the option of charging our clients for a home-renovation consultation which would include access to the data from our model\n",
    "- Clarify Requirements:\n",
    "    - Coefficients for each independent variable: these coefficients represent the dollar amount impact on selling price associated with a one-unit increase of a given variable.\n",
    "- What problems are in and out of scope?\n",
    "    - In scope: How do home renovations impact the selling price of a home.\n",
    "    - Out of scope: What selling price the model would predict given new data (data we haven't seen yet) "
   ]
  },
  {
   "cell_type": "markdown",
   "metadata": {},
   "source": [
    "# UNDERSTAND DATA\n",
    "- What is **target**\n",
    ">'price'\n",
    "- What are **predictors**\n",
    ">'bedrooms', 'bathrooms', 'sqft_living', 'sqft_lot', 'floors', 'waterfront', 'condition', 'grade', 'yr_built'\n",
    "- Distribution of Data - See section \"DISTRIBUTIONS\" \n",
    "- How many observations - and is this a small, medium or large collection?\n",
    "    - 21,597 entries\n",
    "    - According to Frank Harrell in his book Regression Modeling Strategies, you need at least 10-20 observations per predictor\n",
    "    - We have many, many more observations than 20 * (6 - num covariates) = 120\n",
    "    - Our dataset would be considered large\n",
    "- What is the quality? - What errors could be in the data, or inaccuracy? - See section \"Data Quality\" "
   ]
  },
  {
   "cell_type": "markdown",
   "metadata": {},
   "source": [
    "## Read in Data"
   ]
  },
  {
   "cell_type": "code",
   "execution_count": 87,
   "metadata": {},
   "outputs": [],
   "source": [
    "df = pd.read_csv('data/kc_house_data.csv')"
   ]
  },
  {
   "cell_type": "markdown",
   "metadata": {},
   "source": [
    "## Remove Features\n",
    "- date (no explanatory value)\n",
    "- view ( has been viewed, this wouldn't help us predict prices) \n",
    "- Note: **sqft_above + sqft_basement = sqft_living**, according to meta-data:\n",
    "    - sqft_above (is redundant -- repeats sqft_living)\n",
    "    - sqft_basement (is redundant -- repeats sqft_living)\n",
    "- yr_renovated (doesn't add very much information we don't already have by including yr_built, grade, and condition) \n",
    "- Not helpful to have geographic features becuase we're not realistically expecting home owners to re-locate a home as part of their renovations \n",
    "    - zipcode\n",
    "    - lat\n",
    "    - long\n",
    "- sqft_living15 (is redundant - repeats sqft_living)\n",
    "- sqft_lot15 (is redundant - repeats sqft_lot)"
   ]
  },
  {
   "cell_type": "code",
   "execution_count": 88,
   "metadata": {},
   "outputs": [],
   "source": [
    "# Why reduce features?\n",
    "# I narrowed my list of features to avoid over-fit of the training dataset\n",
    "# Reducing redundancy in features increases the accuracy of the model\n",
    "# Note: The brief for this project also recommended dropping these features.\n",
    "\n",
    "df = df.drop(['date','view', 'sqft_above', 'sqft_basement', 'yr_renovated', 'zipcode', 'lat', 'long', 'sqft_living15', 'sqft_lot15'], axis=1)"
   ]
  },
  {
   "cell_type": "code",
   "execution_count": 89,
   "metadata": {},
   "outputs": [
    {
     "data": {
      "text/plain": [
       "Index(['id', 'price', 'bedrooms', 'bathrooms', 'sqft_living', 'sqft_lot',\n",
       "       'floors', 'waterfront', 'condition', 'grade', 'yr_built'],\n",
       "      dtype='object')"
      ]
     },
     "execution_count": 89,
     "metadata": {},
     "output_type": "execute_result"
    }
   ],
   "source": [
    "# Note: sqft_living includes a finished basement, if present\n",
    "# Grade is the construction quality of improvements, according to a King County grading system\n",
    "# Condition is overall condition of house\n",
    "df.columns"
   ]
  },
  {
   "cell_type": "markdown",
   "metadata": {},
   "source": [
    "## Data Quality"
   ]
  },
  {
   "cell_type": "markdown",
   "metadata": {},
   "source": [
    "- There could be outliers - such as hundreds of bathrooms -- this wouldn't make sense considering a given home's square-footage \n",
    "- Year could be in the future\n",
    "- price could be a negative number\n",
    "- datatype could be wrong - such as string for number of bedrooms"
   ]
  },
  {
   "cell_type": "markdown",
   "metadata": {},
   "source": [
    "### Waterfront Missing Values"
   ]
  },
  {
   "cell_type": "code",
   "execution_count": 90,
   "metadata": {},
   "outputs": [
    {
     "data": {
      "text/plain": [
       "id                0\n",
       "price             0\n",
       "bedrooms          0\n",
       "bathrooms         0\n",
       "sqft_living       0\n",
       "sqft_lot          0\n",
       "floors            0\n",
       "waterfront     2376\n",
       "condition         0\n",
       "grade             0\n",
       "yr_built          0\n",
       "dtype: int64"
      ]
     },
     "execution_count": 90,
     "metadata": {},
     "output_type": "execute_result"
    }
   ],
   "source": [
    "# Waterfront is our only variable containing NULL values:\n",
    "df.isnull().sum()"
   ]
  },
  {
   "cell_type": "markdown",
   "metadata": {},
   "source": [
    "- I filled in NaN values for 'waterfront' with 0. Now, 'waterfront' has a 1 value if there is a view, and 0 value if there is not.\n",
    "- I also cast this column as an integer type since there are no other options besides the integers 1 and 0."
   ]
  },
  {
   "cell_type": "code",
   "execution_count": 91,
   "metadata": {},
   "outputs": [
    {
     "data": {
      "text/plain": [
       "array([0, 1])"
      ]
     },
     "execution_count": 91,
     "metadata": {},
     "output_type": "execute_result"
    }
   ],
   "source": [
    "# Note: waterfront is our only categorical value.\n",
    "# We don't need to use dummy coding or any other coding system because it's already dichotomous (1 or 0) \n",
    "df['waterfront'] = df['waterfront'].fillna(0)\n",
    "df['waterfront'] = df['waterfront'].astype(int)\n",
    "df['waterfront'].unique()"
   ]
  },
  {
   "cell_type": "markdown",
   "metadata": {},
   "source": [
    "## Cast Features -- at a Different Scale for Visualization "
   ]
  },
  {
   "cell_type": "code",
   "execution_count": 92,
   "metadata": {},
   "outputs": [],
   "source": [
    "# Create lot size in acres:\n",
    "df['acres_lot'] = df['sqft_lot'] / 43560"
   ]
  },
  {
   "cell_type": "code",
   "execution_count": 93,
   "metadata": {},
   "outputs": [],
   "source": [
    "# Create price column in millions:\n",
    "df['price_millions'] = df['price'] / 1000000"
   ]
  },
  {
   "cell_type": "code",
   "execution_count": 94,
   "metadata": {},
   "outputs": [
    {
     "data": {
      "text/html": [
       "<div>\n",
       "<style scoped>\n",
       "    .dataframe tbody tr th:only-of-type {\n",
       "        vertical-align: middle;\n",
       "    }\n",
       "\n",
       "    .dataframe tbody tr th {\n",
       "        vertical-align: top;\n",
       "    }\n",
       "\n",
       "    .dataframe thead th {\n",
       "        text-align: right;\n",
       "    }\n",
       "</style>\n",
       "<table border=\"1\" class=\"dataframe\">\n",
       "  <thead>\n",
       "    <tr style=\"text-align: right;\">\n",
       "      <th></th>\n",
       "      <th>price_millions</th>\n",
       "      <th>price</th>\n",
       "      <th>acres_lot</th>\n",
       "    </tr>\n",
       "  </thead>\n",
       "  <tbody>\n",
       "    <tr>\n",
       "      <th>0</th>\n",
       "      <td>0.221900</td>\n",
       "      <td>221900.0</td>\n",
       "      <td>0.129706</td>\n",
       "    </tr>\n",
       "    <tr>\n",
       "      <th>1</th>\n",
       "      <td>0.538000</td>\n",
       "      <td>538000.0</td>\n",
       "      <td>0.166253</td>\n",
       "    </tr>\n",
       "    <tr>\n",
       "      <th>2</th>\n",
       "      <td>0.180000</td>\n",
       "      <td>180000.0</td>\n",
       "      <td>0.229568</td>\n",
       "    </tr>\n",
       "    <tr>\n",
       "      <th>3</th>\n",
       "      <td>0.604000</td>\n",
       "      <td>604000.0</td>\n",
       "      <td>0.114784</td>\n",
       "    </tr>\n",
       "    <tr>\n",
       "      <th>4</th>\n",
       "      <td>0.510000</td>\n",
       "      <td>510000.0</td>\n",
       "      <td>0.185491</td>\n",
       "    </tr>\n",
       "    <tr>\n",
       "      <th>...</th>\n",
       "      <td>...</td>\n",
       "      <td>...</td>\n",
       "      <td>...</td>\n",
       "    </tr>\n",
       "    <tr>\n",
       "      <th>21592</th>\n",
       "      <td>0.360000</td>\n",
       "      <td>360000.0</td>\n",
       "      <td>0.025964</td>\n",
       "    </tr>\n",
       "    <tr>\n",
       "      <th>21593</th>\n",
       "      <td>0.400000</td>\n",
       "      <td>400000.0</td>\n",
       "      <td>0.133448</td>\n",
       "    </tr>\n",
       "    <tr>\n",
       "      <th>21594</th>\n",
       "      <td>0.402101</td>\n",
       "      <td>402101.0</td>\n",
       "      <td>0.030992</td>\n",
       "    </tr>\n",
       "    <tr>\n",
       "      <th>21595</th>\n",
       "      <td>0.400000</td>\n",
       "      <td>400000.0</td>\n",
       "      <td>0.054821</td>\n",
       "    </tr>\n",
       "    <tr>\n",
       "      <th>21596</th>\n",
       "      <td>0.325000</td>\n",
       "      <td>325000.0</td>\n",
       "      <td>0.024702</td>\n",
       "    </tr>\n",
       "  </tbody>\n",
       "</table>\n",
       "<p>21597 rows × 3 columns</p>\n",
       "</div>"
      ],
      "text/plain": [
       "       price_millions     price  acres_lot\n",
       "0            0.221900  221900.0   0.129706\n",
       "1            0.538000  538000.0   0.166253\n",
       "2            0.180000  180000.0   0.229568\n",
       "3            0.604000  604000.0   0.114784\n",
       "4            0.510000  510000.0   0.185491\n",
       "...               ...       ...        ...\n",
       "21592        0.360000  360000.0   0.025964\n",
       "21593        0.400000  400000.0   0.133448\n",
       "21594        0.402101  402101.0   0.030992\n",
       "21595        0.400000  400000.0   0.054821\n",
       "21596        0.325000  325000.0   0.024702\n",
       "\n",
       "[21597 rows x 3 columns]"
      ]
     },
     "execution_count": 94,
     "metadata": {},
     "output_type": "execute_result"
    }
   ],
   "source": [
    "df[['price_millions','price', 'acres_lot']]"
   ]
  },
  {
   "cell_type": "code",
   "execution_count": 95,
   "metadata": {},
   "outputs": [
    {
     "name": "stdout",
     "output_type": "stream",
     "text": [
      "The max price is 7.7 million, min price is 78000.0\n"
     ]
    }
   ],
   "source": [
    "print(f\"The max price is {df['price_millions'].max()} million, min price is {df['price'].min()}\")"
   ]
  },
  {
   "cell_type": "markdown",
   "metadata": {},
   "source": [
    "## DISTRIBUTIONS"
   ]
  },
  {
   "cell_type": "markdown",
   "metadata": {},
   "source": [
    "### Clarify Grade and Condition Columns"
   ]
  },
  {
   "cell_type": "markdown",
   "metadata": {},
   "source": [
    "#### King County's Grading System for Buildings:\n",
    "##### Represents the construction quality of improvements. Grades run from grade 1 to 13. Generally defined as:\n",
    "\n",
    "1. Falls short of minimum building standards. Normally cabin or inferior structure.\n",
    "\n",
    "2. Falls short of minimum building standards. Normally cabin or inferior structure.\n",
    "\n",
    "3. Falls short of minimum building standards. Normally cabin or inferior structure.\n",
    "\n",
    "4. Generally older, low quality construction. Does not meet code.\n",
    "\n",
    "5. Low construction costs and workmanship. Small, simple design.\n",
    "\n",
    "6. Lowest grade currently meeting building code. Low quality materials and simple designs.\n",
    "\n",
    "7. Average grade of construction and design. Commonly seen in plats and older sub-divisions.\n",
    "\n",
    "8. Just above average in construction and design. Usually better materials in both the exterior and interior finish work.\n",
    "\n",
    "9. Better architectural design with extra interior and exterior design and quality.\n",
    "\n",
    "10. Homes of this quality generally have high quality features. Finish work is better and more design quality is seen in the floor plans. Generally have a larger square footage.\n",
    "\n",
    "11. Custom design and higher quality finish work with added amenities of solid woods, bathroom fixtures and more luxurious options.\n",
    "\n",
    "12. Custom design and excellent builders. All materials are of the highest quality and all conveniences are present.\n",
    "\n",
    "13. Generally custom designed and built. Mansion level. Large amount of highest quality cabinet work, wood trim, marble, entry ways etc.\n",
    "\n",
    "#### King County's Condition Scale: \n",
    "##### Relative to age and grade. Coded 1-5.\n",
    "\n",
    "1. Poor- Worn out. Repair and overhaul needed on painted surfaces, roofing, plumbing, heating and numerous functional inadequacies. Excessive deferred maintenance and abuse, limited value-in-use, approaching abandonment or major reconstruction; reuse or change in occupancy is imminent. Effective age is near the end of the scale regardless of the actual chronological age.\n",
    "\n",
    "2. Fair- Badly worn. Much repair needed. Many items need refinishing or overhauling, deferred maintenance obvious, inadequate building utility and systems all shortening the life expectancy and increasing the effective age.\n",
    "\n",
    "3. Average- Some evidence of deferred maintenance and normal obsolescence with age in that a few minor repairs are needed, along with some refinishing. All major components still functional and contributing toward an extended life expectancy. Effective age and utility is standard for like properties of its class and usage.\n",
    "\n",
    "4. Good- No obvious maintenance required but neither is everything new. Appearance and utility are above the standard and the overall effective age will be lower than the typical property.\n",
    "\n",
    "5. Very Good- All items well maintained, many having been overhauled and repaired as they have shown signs of wear, increasing the life expectancy and lowering the effective age with little deterioration or obsolescence evident with a high degree of utility."
   ]
  },
  {
   "cell_type": "markdown",
   "metadata": {},
   "source": [
    "### Describe Data - Descriptive Statistics"
   ]
  },
  {
   "cell_type": "code",
   "execution_count": 96,
   "metadata": {},
   "outputs": [],
   "source": [
    "#Markdown Version of Below Table:\n",
    "#df_markdown = df[['price', 'bedrooms', 'bathrooms', 'sqft_living', 'acres_lot', 'floors', 'waterfront', 'condition', 'grade', 'yr_built']].describe()\n",
    "#print(df_markdown.to_markdown())"
   ]
  },
  {
   "cell_type": "code",
   "execution_count": 99,
   "metadata": {},
   "outputs": [
    {
     "data": {
      "text/html": [
       "<style  type=\"text/css\" >\n",
       "</style><table id=\"T_a763db58_8b7b_11ec_9b94_f079600ee336\" ><thead>    <tr>        <th class=\"blank level0\" ></th>        <th class=\"col_heading level0 col0\" >price</th>        <th class=\"col_heading level0 col1\" >bedrooms</th>        <th class=\"col_heading level0 col2\" >bathrooms</th>        <th class=\"col_heading level0 col3\" >sqft_living</th>        <th class=\"col_heading level0 col4\" >acres_lot</th>        <th class=\"col_heading level0 col5\" >floors</th>        <th class=\"col_heading level0 col6\" >waterfront</th>        <th class=\"col_heading level0 col7\" >condition</th>        <th class=\"col_heading level0 col8\" >grade</th>        <th class=\"col_heading level0 col9\" >yr_built</th>    </tr></thead><tbody>\n",
       "                <tr>\n",
       "                        <th id=\"T_a763db58_8b7b_11ec_9b94_f079600ee336level0_row0\" class=\"row_heading level0 row0\" >count</th>\n",
       "                        <td id=\"T_a763db58_8b7b_11ec_9b94_f079600ee336row0_col0\" class=\"data row0 col0\" >              21,597</td>\n",
       "                        <td id=\"T_a763db58_8b7b_11ec_9b94_f079600ee336row0_col1\" class=\"data row0 col1\" >21597.00</td>\n",
       "                        <td id=\"T_a763db58_8b7b_11ec_9b94_f079600ee336row0_col2\" class=\"data row0 col2\" >21597.00</td>\n",
       "                        <td id=\"T_a763db58_8b7b_11ec_9b94_f079600ee336row0_col3\" class=\"data row0 col3\" >           21,597.00</td>\n",
       "                        <td id=\"T_a763db58_8b7b_11ec_9b94_f079600ee336row0_col4\" class=\"data row0 col4\" >21597.00</td>\n",
       "                        <td id=\"T_a763db58_8b7b_11ec_9b94_f079600ee336row0_col5\" class=\"data row0 col5\" >21597.00</td>\n",
       "                        <td id=\"T_a763db58_8b7b_11ec_9b94_f079600ee336row0_col6\" class=\"data row0 col6\" >21597.00000</td>\n",
       "                        <td id=\"T_a763db58_8b7b_11ec_9b94_f079600ee336row0_col7\" class=\"data row0 col7\" >21597.00</td>\n",
       "                        <td id=\"T_a763db58_8b7b_11ec_9b94_f079600ee336row0_col8\" class=\"data row0 col8\" >21597.00</td>\n",
       "                        <td id=\"T_a763db58_8b7b_11ec_9b94_f079600ee336row0_col9\" class=\"data row0 col9\" >21597</td>\n",
       "            </tr>\n",
       "            <tr>\n",
       "                        <th id=\"T_a763db58_8b7b_11ec_9b94_f079600ee336level0_row1\" class=\"row_heading level0 row1\" >mean</th>\n",
       "                        <td id=\"T_a763db58_8b7b_11ec_9b94_f079600ee336row1_col0\" class=\"data row1 col0\" >             540,297</td>\n",
       "                        <td id=\"T_a763db58_8b7b_11ec_9b94_f079600ee336row1_col1\" class=\"data row1 col1\" >3.37</td>\n",
       "                        <td id=\"T_a763db58_8b7b_11ec_9b94_f079600ee336row1_col2\" class=\"data row1 col2\" >2.12</td>\n",
       "                        <td id=\"T_a763db58_8b7b_11ec_9b94_f079600ee336row1_col3\" class=\"data row1 col3\" >            2,080.32</td>\n",
       "                        <td id=\"T_a763db58_8b7b_11ec_9b94_f079600ee336row1_col4\" class=\"data row1 col4\" >0.35</td>\n",
       "                        <td id=\"T_a763db58_8b7b_11ec_9b94_f079600ee336row1_col5\" class=\"data row1 col5\" >1.49</td>\n",
       "                        <td id=\"T_a763db58_8b7b_11ec_9b94_f079600ee336row1_col6\" class=\"data row1 col6\" >0.00676</td>\n",
       "                        <td id=\"T_a763db58_8b7b_11ec_9b94_f079600ee336row1_col7\" class=\"data row1 col7\" >3.41</td>\n",
       "                        <td id=\"T_a763db58_8b7b_11ec_9b94_f079600ee336row1_col8\" class=\"data row1 col8\" >7.66</td>\n",
       "                        <td id=\"T_a763db58_8b7b_11ec_9b94_f079600ee336row1_col9\" class=\"data row1 col9\" >1971</td>\n",
       "            </tr>\n",
       "            <tr>\n",
       "                        <th id=\"T_a763db58_8b7b_11ec_9b94_f079600ee336level0_row2\" class=\"row_heading level0 row2\" >std</th>\n",
       "                        <td id=\"T_a763db58_8b7b_11ec_9b94_f079600ee336row2_col0\" class=\"data row2 col0\" >             367,368</td>\n",
       "                        <td id=\"T_a763db58_8b7b_11ec_9b94_f079600ee336row2_col1\" class=\"data row2 col1\" >0.93</td>\n",
       "                        <td id=\"T_a763db58_8b7b_11ec_9b94_f079600ee336row2_col2\" class=\"data row2 col2\" >0.77</td>\n",
       "                        <td id=\"T_a763db58_8b7b_11ec_9b94_f079600ee336row2_col3\" class=\"data row2 col3\" >              918.11</td>\n",
       "                        <td id=\"T_a763db58_8b7b_11ec_9b94_f079600ee336row2_col4\" class=\"data row2 col4\" >0.95</td>\n",
       "                        <td id=\"T_a763db58_8b7b_11ec_9b94_f079600ee336row2_col5\" class=\"data row2 col5\" >0.54</td>\n",
       "                        <td id=\"T_a763db58_8b7b_11ec_9b94_f079600ee336row2_col6\" class=\"data row2 col6\" >0.08194</td>\n",
       "                        <td id=\"T_a763db58_8b7b_11ec_9b94_f079600ee336row2_col7\" class=\"data row2 col7\" >0.65</td>\n",
       "                        <td id=\"T_a763db58_8b7b_11ec_9b94_f079600ee336row2_col8\" class=\"data row2 col8\" >1.17</td>\n",
       "                        <td id=\"T_a763db58_8b7b_11ec_9b94_f079600ee336row2_col9\" class=\"data row2 col9\" >29</td>\n",
       "            </tr>\n",
       "            <tr>\n",
       "                        <th id=\"T_a763db58_8b7b_11ec_9b94_f079600ee336level0_row3\" class=\"row_heading level0 row3\" >min</th>\n",
       "                        <td id=\"T_a763db58_8b7b_11ec_9b94_f079600ee336row3_col0\" class=\"data row3 col0\" >              78,000</td>\n",
       "                        <td id=\"T_a763db58_8b7b_11ec_9b94_f079600ee336row3_col1\" class=\"data row3 col1\" >1.00</td>\n",
       "                        <td id=\"T_a763db58_8b7b_11ec_9b94_f079600ee336row3_col2\" class=\"data row3 col2\" >0.50</td>\n",
       "                        <td id=\"T_a763db58_8b7b_11ec_9b94_f079600ee336row3_col3\" class=\"data row3 col3\" >              370.00</td>\n",
       "                        <td id=\"T_a763db58_8b7b_11ec_9b94_f079600ee336row3_col4\" class=\"data row3 col4\" >0.01</td>\n",
       "                        <td id=\"T_a763db58_8b7b_11ec_9b94_f079600ee336row3_col5\" class=\"data row3 col5\" >1.00</td>\n",
       "                        <td id=\"T_a763db58_8b7b_11ec_9b94_f079600ee336row3_col6\" class=\"data row3 col6\" >0.00000</td>\n",
       "                        <td id=\"T_a763db58_8b7b_11ec_9b94_f079600ee336row3_col7\" class=\"data row3 col7\" >1.00</td>\n",
       "                        <td id=\"T_a763db58_8b7b_11ec_9b94_f079600ee336row3_col8\" class=\"data row3 col8\" >3.00</td>\n",
       "                        <td id=\"T_a763db58_8b7b_11ec_9b94_f079600ee336row3_col9\" class=\"data row3 col9\" >1900</td>\n",
       "            </tr>\n",
       "            <tr>\n",
       "                        <th id=\"T_a763db58_8b7b_11ec_9b94_f079600ee336level0_row4\" class=\"row_heading level0 row4\" >25%</th>\n",
       "                        <td id=\"T_a763db58_8b7b_11ec_9b94_f079600ee336row4_col0\" class=\"data row4 col0\" >             322,000</td>\n",
       "                        <td id=\"T_a763db58_8b7b_11ec_9b94_f079600ee336row4_col1\" class=\"data row4 col1\" >3.00</td>\n",
       "                        <td id=\"T_a763db58_8b7b_11ec_9b94_f079600ee336row4_col2\" class=\"data row4 col2\" >1.75</td>\n",
       "                        <td id=\"T_a763db58_8b7b_11ec_9b94_f079600ee336row4_col3\" class=\"data row4 col3\" >            1,430.00</td>\n",
       "                        <td id=\"T_a763db58_8b7b_11ec_9b94_f079600ee336row4_col4\" class=\"data row4 col4\" >0.12</td>\n",
       "                        <td id=\"T_a763db58_8b7b_11ec_9b94_f079600ee336row4_col5\" class=\"data row4 col5\" >1.00</td>\n",
       "                        <td id=\"T_a763db58_8b7b_11ec_9b94_f079600ee336row4_col6\" class=\"data row4 col6\" >0.00000</td>\n",
       "                        <td id=\"T_a763db58_8b7b_11ec_9b94_f079600ee336row4_col7\" class=\"data row4 col7\" >3.00</td>\n",
       "                        <td id=\"T_a763db58_8b7b_11ec_9b94_f079600ee336row4_col8\" class=\"data row4 col8\" >7.00</td>\n",
       "                        <td id=\"T_a763db58_8b7b_11ec_9b94_f079600ee336row4_col9\" class=\"data row4 col9\" >1951</td>\n",
       "            </tr>\n",
       "            <tr>\n",
       "                        <th id=\"T_a763db58_8b7b_11ec_9b94_f079600ee336level0_row5\" class=\"row_heading level0 row5\" >50%</th>\n",
       "                        <td id=\"T_a763db58_8b7b_11ec_9b94_f079600ee336row5_col0\" class=\"data row5 col0\" >             450,000</td>\n",
       "                        <td id=\"T_a763db58_8b7b_11ec_9b94_f079600ee336row5_col1\" class=\"data row5 col1\" >3.00</td>\n",
       "                        <td id=\"T_a763db58_8b7b_11ec_9b94_f079600ee336row5_col2\" class=\"data row5 col2\" >2.25</td>\n",
       "                        <td id=\"T_a763db58_8b7b_11ec_9b94_f079600ee336row5_col3\" class=\"data row5 col3\" >            1,910.00</td>\n",
       "                        <td id=\"T_a763db58_8b7b_11ec_9b94_f079600ee336row5_col4\" class=\"data row5 col4\" >0.17</td>\n",
       "                        <td id=\"T_a763db58_8b7b_11ec_9b94_f079600ee336row5_col5\" class=\"data row5 col5\" >1.50</td>\n",
       "                        <td id=\"T_a763db58_8b7b_11ec_9b94_f079600ee336row5_col6\" class=\"data row5 col6\" >0.00000</td>\n",
       "                        <td id=\"T_a763db58_8b7b_11ec_9b94_f079600ee336row5_col7\" class=\"data row5 col7\" >3.00</td>\n",
       "                        <td id=\"T_a763db58_8b7b_11ec_9b94_f079600ee336row5_col8\" class=\"data row5 col8\" >7.00</td>\n",
       "                        <td id=\"T_a763db58_8b7b_11ec_9b94_f079600ee336row5_col9\" class=\"data row5 col9\" >1975</td>\n",
       "            </tr>\n",
       "            <tr>\n",
       "                        <th id=\"T_a763db58_8b7b_11ec_9b94_f079600ee336level0_row6\" class=\"row_heading level0 row6\" >75%</th>\n",
       "                        <td id=\"T_a763db58_8b7b_11ec_9b94_f079600ee336row6_col0\" class=\"data row6 col0\" >             645,000</td>\n",
       "                        <td id=\"T_a763db58_8b7b_11ec_9b94_f079600ee336row6_col1\" class=\"data row6 col1\" >4.00</td>\n",
       "                        <td id=\"T_a763db58_8b7b_11ec_9b94_f079600ee336row6_col2\" class=\"data row6 col2\" >2.50</td>\n",
       "                        <td id=\"T_a763db58_8b7b_11ec_9b94_f079600ee336row6_col3\" class=\"data row6 col3\" >            2,550.00</td>\n",
       "                        <td id=\"T_a763db58_8b7b_11ec_9b94_f079600ee336row6_col4\" class=\"data row6 col4\" >0.25</td>\n",
       "                        <td id=\"T_a763db58_8b7b_11ec_9b94_f079600ee336row6_col5\" class=\"data row6 col5\" >2.00</td>\n",
       "                        <td id=\"T_a763db58_8b7b_11ec_9b94_f079600ee336row6_col6\" class=\"data row6 col6\" >0.00000</td>\n",
       "                        <td id=\"T_a763db58_8b7b_11ec_9b94_f079600ee336row6_col7\" class=\"data row6 col7\" >4.00</td>\n",
       "                        <td id=\"T_a763db58_8b7b_11ec_9b94_f079600ee336row6_col8\" class=\"data row6 col8\" >8.00</td>\n",
       "                        <td id=\"T_a763db58_8b7b_11ec_9b94_f079600ee336row6_col9\" class=\"data row6 col9\" >1997</td>\n",
       "            </tr>\n",
       "            <tr>\n",
       "                        <th id=\"T_a763db58_8b7b_11ec_9b94_f079600ee336level0_row7\" class=\"row_heading level0 row7\" >max</th>\n",
       "                        <td id=\"T_a763db58_8b7b_11ec_9b94_f079600ee336row7_col0\" class=\"data row7 col0\" >           7,700,000</td>\n",
       "                        <td id=\"T_a763db58_8b7b_11ec_9b94_f079600ee336row7_col1\" class=\"data row7 col1\" >33.00</td>\n",
       "                        <td id=\"T_a763db58_8b7b_11ec_9b94_f079600ee336row7_col2\" class=\"data row7 col2\" >8.00</td>\n",
       "                        <td id=\"T_a763db58_8b7b_11ec_9b94_f079600ee336row7_col3\" class=\"data row7 col3\" >           13,540.00</td>\n",
       "                        <td id=\"T_a763db58_8b7b_11ec_9b94_f079600ee336row7_col4\" class=\"data row7 col4\" >37.91</td>\n",
       "                        <td id=\"T_a763db58_8b7b_11ec_9b94_f079600ee336row7_col5\" class=\"data row7 col5\" >3.50</td>\n",
       "                        <td id=\"T_a763db58_8b7b_11ec_9b94_f079600ee336row7_col6\" class=\"data row7 col6\" >1.00000</td>\n",
       "                        <td id=\"T_a763db58_8b7b_11ec_9b94_f079600ee336row7_col7\" class=\"data row7 col7\" >5.00</td>\n",
       "                        <td id=\"T_a763db58_8b7b_11ec_9b94_f079600ee336row7_col8\" class=\"data row7 col8\" >13.00</td>\n",
       "                        <td id=\"T_a763db58_8b7b_11ec_9b94_f079600ee336row7_col9\" class=\"data row7 col9\" >2015</td>\n",
       "            </tr>\n",
       "    </tbody></table>"
      ],
      "text/plain": [
       "<pandas.io.formats.style.Styler at 0x7f92e81725f8>"
      ]
     },
     "execution_count": 99,
     "metadata": {},
     "output_type": "execute_result"
    }
   ],
   "source": [
    "format_dict = {'bedrooms': '{:.2f}', 'bathrooms': '{:.2f}', 'floors': '{:.2f}', 'sqft_living': '{:20,.2f}', 'sqft_lot': '{:20,.2f}',\n",
    "               'acres_lot': '{:.2f}',  'price': '{:20,.0f}', 'yr_built': '{:.0f}', 'condition': '{:.2f}', 'grade': '{:.2f}', 'waterfront': '{:.5f}'}\n",
    "df[['price', 'bedrooms', 'bathrooms', 'sqft_living', 'acres_lot', 'floors',\n",
    "    'waterfront', 'condition', 'grade', 'yr_built']].describe().style.format(format_dict)"
   ]
  },
  {
   "cell_type": "markdown",
   "metadata": {},
   "source": [
    "#### Interpret .describe() \n",
    "- There are no negative values for any of the columns\n",
    "- The year range makes sense: homes were built between 1900 and 2015\n",
    "- sqft_living average is around 2,000, which is close to the US average\n",
    "- The average lot size is 15,099 square feet, or .35 acres\n",
    "- The lot size mean is skewed by our outlier home, which stands on a 37.91 acre lot.\n",
    "- The median sqft_lot size is 7,618 or .17 acres, which is much closer to the national average of 0.188 of an acre.\n",
    "- Condition and Grade: The mean, max, and min all line-up with the scale of the system, described above.\n",
    "    - Mean Grade is 7.66, so between a 7 and 8: \n",
    "        - 7. Average grade of construction and design. Commonly seen in plats and older sub-divisions.\n",
    "        - 8. Just above average in construction and design. Usually better materials in both the exterior and interior finish work.\n",
    "    - Mean Condition is 3.41, closest to a 3: \n",
    "        - 3. Average- Some evidence of deferred maintenance and normal obsolescence with age in that a few minor repairs are needed, along with some refinishing. All major components still functional and contributing toward an extended life expectancy. Effective age and utility is standard for like properties of its class and usage."
   ]
  },
  {
   "cell_type": "markdown",
   "metadata": {},
   "source": [
    "### Price Frequency Histogram"
   ]
  },
  {
   "cell_type": "code",
   "execution_count": 98,
   "metadata": {},
   "outputs": [
    {
     "data": {
      "image/png": "[encoded data removed]",
      "text/plain": [
       "<Figure size 576x360 with 1 Axes>"
      ]
     },
     "metadata": {
      "needs_background": "light"
     },
     "output_type": "display_data"
    }
   ],
   "source": [
    "# Price Frequency Histogram before removing outliers, for context:\n",
    "# Here we can see that the distribution of price, our target variable, has considerable right-skew\n",
    "ax = df.hist(column='price_millions',\n",
    "             bins='auto',\n",
    "             grid=False,\n",
    "             figsize=(8,5))\n",
    "\n",
    "ax = ax[0]\n",
    "for x in ax:\n",
    "\n",
    "    x.set_title(\"Distribution of Home Sale Price\", size=20)\n",
    "\n",
    "    # Set x-axis label\n",
    "    x.set_xlabel(\"Sale Price of Home\", labelpad=15, weight='bold', size=10)\n",
    "    x.xaxis.set_major_formatter(StrMethodFormatter('{x:,.0f}' + ' Million'))\n",
    "\n",
    "    # Set y-axis label\n",
    "    x.set_ylabel(\"Number of Homes Sold\", labelpad=15, weight='bold', size=10)\n",
    "    x.yaxis.set_major_formatter(StrMethodFormatter('{x:,g}'))\n"
   ]
  },
  {
   "cell_type": "markdown",
   "metadata": {},
   "source": [
    "### Price Density Histogram"
   ]
  },
  {
   "cell_type": "code",
   "execution_count": 28,
   "metadata": {},
   "outputs": [
    {
     "data": {
      "image/png": "[encoded data removed]",
      "text/plain": [
       "<Figure size 864x576 with 1 Axes>"
      ]
     },
     "metadata": {
      "needs_background": "light"
     },
     "output_type": "display_data"
    }
   ],
   "source": [
    "# Ok. Now let's draw a smooth curve, given the above data, using KDE (kernal density estimation)\n",
    "# The smooth line in the visualization below is an estimate of the distributions of house prices\n",
    "# The parameter bandwidth rules the smoothness of the underlying distribution\n",
    "\n",
    "# The problem with a Probability Density Function plot, is that all \"point probabilities\" are 0\n",
    "# We must calculate the area under the curve for an interval to get the actual probability that a home selling price is in a given range. \n",
    "# Thus, it's not intuitive or easy to \"read\" the y-axis to get probabilities for continuous variables using a PDF like below.\n",
    "\n",
    "plt.figure(figsize = (12,8))\n",
    "sns.distplot(df.price_millions,kde=True)\n",
    "plt.title('Density Histogram of Housing Prices in Kings County')\n",
    "plt.show()"
   ]
  },
  {
   "cell_type": "markdown",
   "metadata": {},
   "source": [
    "For example, if we wanted to know the probability that a house price is between 1.00 and 1.75 million dollars (inclusive), we would use the following formula to take the integral of this range (AKA area under the curve)\n",
    "$$\\large P(1 \\leq X \\leq 1.75) = \\int_{1}^{1.75} f_x(x) dx \\geq 0 $$\n"
   ]
  },
  {
   "cell_type": "markdown",
   "metadata": {},
   "source": [
    "### Narrow dataset for modeling "
   ]
  },
  {
   "cell_type": "code",
   "execution_count": 100,
   "metadata": {},
   "outputs": [
    {
     "data": {
      "text/plain": [
       "Index(['id', 'price', 'bedrooms', 'bathrooms', 'sqft_living', 'sqft_lot',\n",
       "       'floors', 'waterfront', 'condition', 'grade', 'yr_built', 'acres_lot',\n",
       "       'price_millions'],\n",
       "      dtype='object')"
      ]
     },
     "execution_count": 100,
     "metadata": {},
     "output_type": "execute_result"
    }
   ],
   "source": [
    "# Remember all columns in df are: \n",
    "df.columns"
   ]
  },
  {
   "cell_type": "code",
   "execution_count": 101,
   "metadata": {},
   "outputs": [],
   "source": [
    "# Select a subset of columns to create matrix:\n",
    "df_all_cols = df.drop(['acres_lot','id'], axis=1)"
   ]
  },
  {
   "cell_type": "code",
   "execution_count": 102,
   "metadata": {},
   "outputs": [
    {
     "data": {
      "text/plain": [
       "Index(['price', 'bedrooms', 'bathrooms', 'sqft_living', 'sqft_lot', 'floors',\n",
       "       'waterfront', 'condition', 'grade', 'yr_built', 'price_millions'],\n",
       "      dtype='object')"
      ]
     },
     "execution_count": 102,
     "metadata": {},
     "output_type": "execute_result"
    }
   ],
   "source": [
    "df_all_cols.columns"
   ]
  },
  {
   "cell_type": "markdown",
   "metadata": {},
   "source": [
    "# DATA PREPARATION\n",
    "- Prepping to model and addressing missing values -- completed in previous section \"Data Quality\"\n",
    "- Convert categorical data to numeric via one-hot encoding (we didn't need to do this because everything is numeric and ordinal)\n",
    "- Type conversions (this was done in the previous section - price to millions and sqft to acres)\n",
    "- Remove multicollinearity (correlated predictors)\n",
    "- Standardize numeric data -- We're not going to standardize our independent variables using z-score normalization because it's not necessary unless we're using logistic regression. \n"
   ]
  },
  {
   "cell_type": "markdown",
   "metadata": {},
   "source": [
    "## Explore Multicollinearity\n",
    "- This a phenemonen where two variables we are using as predictors are correlated with each other\n",
    "- This violates one of the assumptions of performing linear regression - that all independent variables are independent from one another\n",
    "- If we left all features in the model without addressing multicollinearity, it would become very hard for the model to estimate the relationship between independent variables and the dependent variable, because rather than change independently, the features would change in pairs or groups."
   ]
  },
  {
   "cell_type": "code",
   "execution_count": 103,
   "metadata": {},
   "outputs": [],
   "source": [
    "correlations = df_all_cols.drop(['price'],axis = 1).corr()"
   ]
  },
  {
   "cell_type": "code",
   "execution_count": 104,
   "metadata": {},
   "outputs": [
    {
     "data": {
      "image/png": "[encoded data removed]",
      "text/plain": [
       "<Figure size 864x864 with 2 Axes>"
      ]
     },
     "metadata": {
      "needs_background": "light"
     },
     "output_type": "display_data"
    }
   ],
   "source": [
    "plt.figure(figsize=(12,12)) # Set size of figure\n",
    "# Use df.corr() as your matrix for the heatmap\n",
    "# I set the color scheme to green using cmap\n",
    "# annot= True adds the float value on each square\n",
    "# fmt='.1f' sets the number of decimal places for each float number. If you want 1.00, for example, use fmt='.2f'\n",
    "# cbar_kws={\"shrink\": .77}  - this argument shrinks the side color bar to .77 of its original size\n",
    "# square=True - this argument makes the figure square\n",
    "ax = sns.heatmap(correlations, cmap = \"Greens\", annot=True, fmt='.2f', cbar_kws={\"shrink\": .77}, square=True)\n",
    "# Sets the title\n",
    "ax.set(title='King County House Sales Dataset Correlation Heatmap')\n",
    "# Get the y-axis limit values for the size of the figure:\n",
    "bottom, top = ax.get_ylim()\n",
    "# Add .5 to the bottom and top of the y-axis limits to fix an error where the top and bottom squares are cut off\n",
    "# This is an error for the versions of Seaborne and Matplotlib I'm using\n",
    "ax = ax.set_ylim(bottom + 0.5, top - 0.5)\n",
    "# Rotate the bottom labels by 30 degrees (100-70)\n",
    "plt.xticks(rotation=70)\n",
    "plt.show()\n"
   ]
  },
  {
   "cell_type": "code",
   "execution_count": 34,
   "metadata": {},
   "outputs": [
    {
     "data": {
      "text/plain": [
       "price_millions    1.000000\n",
       "sqft_living       0.701917\n",
       "grade             0.667951\n",
       "bathrooms         0.525906\n",
       "bedrooms          0.308787\n",
       "waterfront        0.264306\n",
       "floors            0.256804\n",
       "sqft_lot          0.089876\n",
       "yr_built          0.053953\n",
       "condition         0.036056\n",
       "Name: price_millions, dtype: float64"
      ]
     },
     "execution_count": 34,
     "metadata": {},
     "output_type": "execute_result"
    }
   ],
   "source": [
    "correlations['price_millions'].sort_values(ascending=False)"
   ]
  },
  {
   "cell_type": "code",
   "execution_count": 35,
   "metadata": {},
   "outputs": [
    {
     "data": {
      "text/plain": [
       "sqft_living       1.000000\n",
       "grade             0.762779\n",
       "bathrooms         0.755758\n",
       "price_millions    0.701917\n",
       "bedrooms          0.578212\n",
       "floors            0.353953\n",
       "yr_built          0.318152\n",
       "sqft_lot          0.173453\n",
       "waterfront        0.104637\n",
       "condition        -0.059445\n",
       "Name: sqft_living, dtype: float64"
      ]
     },
     "execution_count": 35,
     "metadata": {},
     "output_type": "execute_result"
    }
   ],
   "source": [
    "correlations[\"sqft_living\"].sort_values(ascending=False)"
   ]
  },
  {
   "cell_type": "markdown",
   "metadata": {},
   "source": [
    "### Correlations Interpretation \n",
    "- Features highly correlated with price are sqft_living, grade, and bathrooms\n",
    "- Features highly correlated with sqft_living are grade, bathrooms, price_millions, and bedrooms"
   ]
  },
  {
   "cell_type": "markdown",
   "metadata": {},
   "source": [
    "## Address Multicollinearity\n",
    "- First, review the columns and shape of the dataframe we will be using -- \"df_all_cols\"\n",
    "- Next, use Variance Inflation Factor to detect high multicollinearity in our set of independent variables"
   ]
  },
  {
   "cell_type": "code",
   "execution_count": 105,
   "metadata": {},
   "outputs": [
    {
     "data": {
      "text/plain": [
       "Index(['price', 'bedrooms', 'bathrooms', 'sqft_living', 'sqft_lot', 'floors',\n",
       "       'waterfront', 'condition', 'grade', 'yr_built', 'price_millions'],\n",
       "      dtype='object')"
      ]
     },
     "execution_count": 105,
     "metadata": {},
     "output_type": "execute_result"
    }
   ],
   "source": [
    "df_all_cols.columns"
   ]
  },
  {
   "cell_type": "code",
   "execution_count": 106,
   "metadata": {},
   "outputs": [
    {
     "data": {
      "text/plain": [
       "(21597, 11)"
      ]
     },
     "execution_count": 106,
     "metadata": {},
     "output_type": "execute_result"
    }
   ],
   "source": [
    "df_all_cols.shape"
   ]
  },
  {
   "cell_type": "code",
   "execution_count": 108,
   "metadata": {},
   "outputs": [
    {
     "data": {
      "text/plain": [
       "const          7601.443966\n",
       "bedrooms          1.628887\n",
       "bathrooms         3.186926\n",
       "sqft_living       4.152240\n",
       "sqft_lot          1.047462\n",
       "floors            1.573844\n",
       "waterfront        1.021879\n",
       "condition         1.182857\n",
       "grade             2.888261\n",
       "yr_built          1.734538\n",
       "dtype: float64"
      ]
     },
     "execution_count": 108,
     "metadata": {},
     "output_type": "execute_result"
    }
   ],
   "source": [
    "# We want to write a simple loop to use statsmodel's variance_inflation_factor method on each array (row) of our dataframe, for each column \n",
    "# That's why we use X.shape[1] as the range in the loop below, since the second term in the output of the .shape method is the number of columns\n",
    "X = sm.add_constant(df_all_cols.drop(['price','price_millions'], axis=1))\n",
    "pd.Series([variance_inflation_factor(X.values, i) \n",
    "               for i in range(X.shape[1])], \n",
    "              index=X.columns)"
   ]
  },
  {
   "cell_type": "markdown",
   "metadata": {},
   "source": [
    "### sqft_living has a moderately high VIF value, followed by grade\n",
    "- We can try removing sqft_living or grade to see if it improves our R-squared and Root Mean Squared Error values."
   ]
  },
  {
   "cell_type": "markdown",
   "metadata": {},
   "source": [
    "# df_all_cols - Linear Regression\n",
    "- Tune models to get the highest performance possible on our task\n",
    "  - Considerations:\n",
    "    - What kind of task? Classification task? Regression task?\n",
    "      - This will be a regression task\n",
    "    - Which models will we use\n",
    "      - Linear Regression\n",
    "    - Will be use regularization?\n",
    "      - Out of scope for this exercise\n",
    "    - How will we validate our model?\n",
    "      - R-squared, Mean Squared Error, and the p-values of each coefficient.\n",
    "    - Loss functions?\n",
    "      - Out of scope for this exercise\n",
    "    - What is the performance threshold for success?\n",
    "      - We want to make sure to satisfy the assumptions of linear regression, and get a respectable R-squared value (at least .5)\n"
   ]
  },
  {
   "cell_type": "markdown",
   "metadata": {},
   "source": [
    "## df_all_cols - statsmodels \n",
    "- First we'll use statsmodels.api to run a linear regression and examine model validation scores.\n",
    "- We'll use all the independent variables (df_all_cols) for now."
   ]
  },
  {
   "cell_type": "code",
   "execution_count": 109,
   "metadata": {},
   "outputs": [
    {
     "data": {
      "text/plain": [
       "Index(['price', 'bedrooms', 'bathrooms', 'sqft_living', 'sqft_lot', 'floors',\n",
       "       'waterfront', 'condition', 'grade', 'yr_built', 'price_millions'],\n",
       "      dtype='object')"
      ]
     },
     "execution_count": 109,
     "metadata": {},
     "output_type": "execute_result"
    }
   ],
   "source": [
    "df_all_cols.columns"
   ]
  },
  {
   "cell_type": "code",
   "execution_count": 110,
   "metadata": {},
   "outputs": [
    {
     "data": {
      "text/html": [
       "<div>\n",
       "<style scoped>\n",
       "    .dataframe tbody tr th:only-of-type {\n",
       "        vertical-align: middle;\n",
       "    }\n",
       "\n",
       "    .dataframe tbody tr th {\n",
       "        vertical-align: top;\n",
       "    }\n",
       "\n",
       "    .dataframe thead th {\n",
       "        text-align: right;\n",
       "    }\n",
       "</style>\n",
       "<table border=\"1\" class=\"dataframe\">\n",
       "  <thead>\n",
       "    <tr style=\"text-align: right;\">\n",
       "      <th></th>\n",
       "      <th>const</th>\n",
       "      <th>bedrooms</th>\n",
       "      <th>bathrooms</th>\n",
       "      <th>sqft_living</th>\n",
       "      <th>sqft_lot</th>\n",
       "      <th>floors</th>\n",
       "      <th>waterfront</th>\n",
       "      <th>condition</th>\n",
       "      <th>grade</th>\n",
       "      <th>yr_built</th>\n",
       "    </tr>\n",
       "  </thead>\n",
       "  <tbody>\n",
       "    <tr>\n",
       "      <th>0</th>\n",
       "      <td>1.0</td>\n",
       "      <td>3</td>\n",
       "      <td>1.00</td>\n",
       "      <td>1180</td>\n",
       "      <td>5650</td>\n",
       "      <td>1.0</td>\n",
       "      <td>0</td>\n",
       "      <td>3</td>\n",
       "      <td>7</td>\n",
       "      <td>1955</td>\n",
       "    </tr>\n",
       "    <tr>\n",
       "      <th>1</th>\n",
       "      <td>1.0</td>\n",
       "      <td>3</td>\n",
       "      <td>2.25</td>\n",
       "      <td>2570</td>\n",
       "      <td>7242</td>\n",
       "      <td>2.0</td>\n",
       "      <td>0</td>\n",
       "      <td>3</td>\n",
       "      <td>7</td>\n",
       "      <td>1951</td>\n",
       "    </tr>\n",
       "    <tr>\n",
       "      <th>2</th>\n",
       "      <td>1.0</td>\n",
       "      <td>2</td>\n",
       "      <td>1.00</td>\n",
       "      <td>770</td>\n",
       "      <td>10000</td>\n",
       "      <td>1.0</td>\n",
       "      <td>0</td>\n",
       "      <td>3</td>\n",
       "      <td>6</td>\n",
       "      <td>1933</td>\n",
       "    </tr>\n",
       "    <tr>\n",
       "      <th>3</th>\n",
       "      <td>1.0</td>\n",
       "      <td>4</td>\n",
       "      <td>3.00</td>\n",
       "      <td>1960</td>\n",
       "      <td>5000</td>\n",
       "      <td>1.0</td>\n",
       "      <td>0</td>\n",
       "      <td>5</td>\n",
       "      <td>7</td>\n",
       "      <td>1965</td>\n",
       "    </tr>\n",
       "    <tr>\n",
       "      <th>4</th>\n",
       "      <td>1.0</td>\n",
       "      <td>3</td>\n",
       "      <td>2.00</td>\n",
       "      <td>1680</td>\n",
       "      <td>8080</td>\n",
       "      <td>1.0</td>\n",
       "      <td>0</td>\n",
       "      <td>3</td>\n",
       "      <td>8</td>\n",
       "      <td>1987</td>\n",
       "    </tr>\n",
       "  </tbody>\n",
       "</table>\n",
       "</div>"
      ],
      "text/plain": [
       "   const  bedrooms  bathrooms  sqft_living  sqft_lot  floors  waterfront  \\\n",
       "0    1.0         3       1.00         1180      5650     1.0           0   \n",
       "1    1.0         3       2.25         2570      7242     2.0           0   \n",
       "2    1.0         2       1.00          770     10000     1.0           0   \n",
       "3    1.0         4       3.00         1960      5000     1.0           0   \n",
       "4    1.0         3       2.00         1680      8080     1.0           0   \n",
       "\n",
       "   condition  grade  yr_built  \n",
       "0          3      7      1955  \n",
       "1          3      7      1951  \n",
       "2          3      6      1933  \n",
       "3          5      7      1965  \n",
       "4          3      8      1987  "
      ]
     },
     "execution_count": 110,
     "metadata": {},
     "output_type": "execute_result"
    }
   ],
   "source": [
    "# Add constant (AKA y-intercept):\n",
    "# The constant is set to 1 as default - with means that our constant coefficient will be equal to 1*Beta(0)\n",
    "# Our other variables (other Betas) will be multiplied by a particular coefficient to predict price\n",
    "X = sm.add_constant(df_all_cols.drop(['price','price_millions'], axis=1))\n",
    "y = df_all_cols['price_millions']\n",
    "X.head()"
   ]
  },
  {
   "cell_type": "code",
   "execution_count": 111,
   "metadata": {},
   "outputs": [],
   "source": [
    "# The order of the parameters is: endogenous response variable(dependent variable), exogenous variables(independent variables)\n",
    "model_all_cols = sm.OLS(y,X).fit()"
   ]
  },
  {
   "cell_type": "code",
   "execution_count": 112,
   "metadata": {},
   "outputs": [
    {
     "data": {
      "text/html": [
       "<table class=\"simpletable\">\n",
       "<caption>OLS Regression Results</caption>\n",
       "<tr>\n",
       "  <th>Dep. Variable:</th>     <td>price_millions</td>  <th>  R-squared:         </th> <td>   0.646</td>\n",
       "</tr>\n",
       "<tr>\n",
       "  <th>Model:</th>                   <td>OLS</td>       <th>  Adj. R-squared:    </th> <td>   0.645</td>\n",
       "</tr>\n",
       "<tr>\n",
       "  <th>Method:</th>             <td>Least Squares</td>  <th>  F-statistic:       </th> <td>   4370.</td>\n",
       "</tr>\n",
       "<tr>\n",
       "  <th>Date:</th>             <td>Fri, 11 Feb 2022</td> <th>  Prob (F-statistic):</th>  <td>  0.00</td> \n",
       "</tr>\n",
       "<tr>\n",
       "  <th>Time:</th>                 <td>13:16:34</td>     <th>  Log-Likelihood:    </th> <td>  2185.7</td>\n",
       "</tr>\n",
       "<tr>\n",
       "  <th>No. Observations:</th>      <td> 21597</td>      <th>  AIC:               </th> <td>  -4351.</td>\n",
       "</tr>\n",
       "<tr>\n",
       "  <th>Df Residuals:</th>          <td> 21587</td>      <th>  BIC:               </th> <td>  -4272.</td>\n",
       "</tr>\n",
       "<tr>\n",
       "  <th>Df Model:</th>              <td>     9</td>      <th>                     </th>     <td> </td>   \n",
       "</tr>\n",
       "<tr>\n",
       "  <th>Covariance Type:</th>      <td>nonrobust</td>    <th>                     </th>     <td> </td>   \n",
       "</tr>\n",
       "</table>\n",
       "<table class=\"simpletable\">\n",
       "<tr>\n",
       "       <td></td>          <th>coef</th>     <th>std err</th>      <th>t</th>      <th>P>|t|</th>  <th>[0.025</th>    <th>0.975]</th>  \n",
       "</tr>\n",
       "<tr>\n",
       "  <th>const</th>       <td>    6.6950</td> <td>    0.130</td> <td>   51.593</td> <td> 0.000</td> <td>    6.441</td> <td>    6.949</td>\n",
       "</tr>\n",
       "<tr>\n",
       "  <th>bedrooms</th>    <td>   -0.0426</td> <td>    0.002</td> <td>  -20.757</td> <td> 0.000</td> <td>   -0.047</td> <td>   -0.039</td>\n",
       "</tr>\n",
       "<tr>\n",
       "  <th>bathrooms</th>   <td>    0.0508</td> <td>    0.003</td> <td>   14.695</td> <td> 0.000</td> <td>    0.044</td> <td>    0.058</td>\n",
       "</tr>\n",
       "<tr>\n",
       "  <th>sqft_living</th> <td>    0.0002</td> <td>  3.3e-06</td> <td>   53.646</td> <td> 0.000</td> <td>    0.000</td> <td>    0.000</td>\n",
       "</tr>\n",
       "<tr>\n",
       "  <th>sqft_lot</th>    <td> -2.43e-07</td> <td> 3.68e-08</td> <td>   -6.605</td> <td> 0.000</td> <td>-3.15e-07</td> <td>-1.71e-07</td>\n",
       "</tr>\n",
       "<tr>\n",
       "  <th>floors</th>      <td>    0.0210</td> <td>    0.003</td> <td>    6.069</td> <td> 0.000</td> <td>    0.014</td> <td>    0.028</td>\n",
       "</tr>\n",
       "<tr>\n",
       "  <th>waterfront</th>  <td>    0.7551</td> <td>    0.018</td> <td>   41.124</td> <td> 0.000</td> <td>    0.719</td> <td>    0.791</td>\n",
       "</tr>\n",
       "<tr>\n",
       "  <th>condition</th>   <td>    0.0190</td> <td>    0.002</td> <td>    7.620</td> <td> 0.000</td> <td>    0.014</td> <td>    0.024</td>\n",
       "</tr>\n",
       "<tr>\n",
       "  <th>grade</th>       <td>    0.1301</td> <td>    0.002</td> <td>   60.319</td> <td> 0.000</td> <td>    0.126</td> <td>    0.134</td>\n",
       "</tr>\n",
       "<tr>\n",
       "  <th>yr_built</th>    <td>   -0.0038</td> <td> 6.67e-05</td> <td>  -57.635</td> <td> 0.000</td> <td>   -0.004</td> <td>   -0.004</td>\n",
       "</tr>\n",
       "</table>\n",
       "<table class=\"simpletable\">\n",
       "<tr>\n",
       "  <th>Omnibus:</th>       <td>15869.187</td> <th>  Durbin-Watson:     </th>  <td>   1.976</td>  \n",
       "</tr>\n",
       "<tr>\n",
       "  <th>Prob(Omnibus):</th>  <td> 0.000</td>   <th>  Jarque-Bera (JB):  </th> <td>1011405.789</td>\n",
       "</tr>\n",
       "<tr>\n",
       "  <th>Skew:</th>           <td> 2.942</td>   <th>  Prob(JB):          </th>  <td>    0.00</td>  \n",
       "</tr>\n",
       "<tr>\n",
       "  <th>Kurtosis:</th>       <td>36.005</td>   <th>  Cond. No.          </th>  <td>3.84e+06</td>  \n",
       "</tr>\n",
       "</table><br/><br/>Warnings:<br/>[1] Standard Errors assume that the covariance matrix of the errors is correctly specified.<br/>[2] The condition number is large, 3.84e+06. This might indicate that there are<br/>strong multicollinearity or other numerical problems."
      ],
      "text/plain": [
       "<class 'statsmodels.iolib.summary.Summary'>\n",
       "\"\"\"\n",
       "                            OLS Regression Results                            \n",
       "==============================================================================\n",
       "Dep. Variable:         price_millions   R-squared:                       0.646\n",
       "Model:                            OLS   Adj. R-squared:                  0.645\n",
       "Method:                 Least Squares   F-statistic:                     4370.\n",
       "Date:                Fri, 11 Feb 2022   Prob (F-statistic):               0.00\n",
       "Time:                        13:16:34   Log-Likelihood:                 2185.7\n",
       "No. Observations:               21597   AIC:                            -4351.\n",
       "Df Residuals:                   21587   BIC:                            -4272.\n",
       "Df Model:                           9                                         \n",
       "Covariance Type:            nonrobust                                         \n",
       "===============================================================================\n",
       "                  coef    std err          t      P>|t|      [0.025      0.975]\n",
       "-------------------------------------------------------------------------------\n",
       "const           6.6950      0.130     51.593      0.000       6.441       6.949\n",
       "bedrooms       -0.0426      0.002    -20.757      0.000      -0.047      -0.039\n",
       "bathrooms       0.0508      0.003     14.695      0.000       0.044       0.058\n",
       "sqft_living     0.0002    3.3e-06     53.646      0.000       0.000       0.000\n",
       "sqft_lot     -2.43e-07   3.68e-08     -6.605      0.000   -3.15e-07   -1.71e-07\n",
       "floors          0.0210      0.003      6.069      0.000       0.014       0.028\n",
       "waterfront      0.7551      0.018     41.124      0.000       0.719       0.791\n",
       "condition       0.0190      0.002      7.620      0.000       0.014       0.024\n",
       "grade           0.1301      0.002     60.319      0.000       0.126       0.134\n",
       "yr_built       -0.0038   6.67e-05    -57.635      0.000      -0.004      -0.004\n",
       "==============================================================================\n",
       "Omnibus:                    15869.187   Durbin-Watson:                   1.976\n",
       "Prob(Omnibus):                  0.000   Jarque-Bera (JB):          1011405.789\n",
       "Skew:                           2.942   Prob(JB):                         0.00\n",
       "Kurtosis:                      36.005   Cond. No.                     3.84e+06\n",
       "==============================================================================\n",
       "\n",
       "Warnings:\n",
       "[1] Standard Errors assume that the covariance matrix of the errors is correctly specified.\n",
       "[2] The condition number is large, 3.84e+06. This might indicate that there are\n",
       "strong multicollinearity or other numerical problems.\n",
       "\"\"\""
      ]
     },
     "execution_count": 112,
     "metadata": {},
     "output_type": "execute_result"
    }
   ],
   "source": [
    "model_all_cols.summary()"
   ]
  },
  {
   "cell_type": "code",
   "execution_count": 113,
   "metadata": {},
   "outputs": [
    {
     "data": {
      "text/plain": [
       "0.04782134337581508"
      ]
     },
     "execution_count": 113,
     "metadata": {},
     "output_type": "execute_result"
    }
   ],
   "source": [
    "# In addition to R-Squared, we'll use Root Mean Squared Error to validate our model\n",
    "# Here, our RMSE value is .047821 (million dollars) -- which heuristically can be thought of...\n",
    "# ...as the normalized distance between our y values and our y-predicted values\n",
    "# Thus, for any given prediction we make for a home price, we can expect to be about $47,821 off.\n",
    "# Our model is failing to account for some important features underlying the data.\n",
    "yhat = model_all_cols.predict(X)\n",
    "model_rmse = mean_squared_error(y, yhat)\n",
    "model_rmse"
   ]
  },
  {
   "cell_type": "markdown",
   "metadata": {},
   "source": [
    "## df_all_cols - sklearn "
   ]
  },
  {
   "cell_type": "code",
   "execution_count": 114,
   "metadata": {},
   "outputs": [],
   "source": [
    "# Divide into test and train data\n",
    "# Train data is for us to estimate our OLS model\n",
    "# Test data is to parameterize our model, using that model to predict y values (price)\n",
    "# If test_size = .3, that means 30% of our data is set aside for the testing data\n",
    "# And 70% of that data for training\n",
    "\n",
    "# The parameter \"random_state\" ensures that if there is skew in our data, our 30-70 split is randomly taking from these groups...\n",
    "# ...so we can have good proportions of randomly selected data and our 30-70 split has good representation \n",
    "X_train, X_test, y_train, y_test = train_test_split(\n",
    "    X, y, test_size=0.3, random_state=4)"
   ]
  },
  {
   "cell_type": "code",
   "execution_count": 115,
   "metadata": {},
   "outputs": [],
   "source": [
    "# Linear Regressor - Ordinary Least Squares regression-type estimate:\n",
    "# Library used: sklearn.linear_model\n",
    "lr = LinearRegression(fit_intercept=True)"
   ]
  },
  {
   "cell_type": "code",
   "execution_count": 116,
   "metadata": {},
   "outputs": [
    {
     "name": "stdout",
     "output_type": "stream",
     "text": [
      "[(0.0, 'const'), (-0.05127590241064849, 'bedrooms'), (0.05358859821330117, 'bathrooms'), (0.00018224659259546863, 'sqft_living'), (-2.6721880690143437e-07, 'sqft_lot'), (0.01897427187788452, 'floors'), (0.7384002610545074, 'waterfront'), (0.015523561005594141, 'condition'), (0.12797929074492664, 'grade'), (-0.003851573269913127, 'yr_built')]\n"
     ]
    }
   ],
   "source": [
    "# Train model based on train dataset:\n",
    "# Regressing the X's onto the y:\n",
    "# We're getting a fit here, having used 70% of the data\n",
    "lr.fit(X_train, y_train)\n",
    "# coef_list = list(lr.coef_)\n",
    "# name_list = list(X_train.columns)\n",
    "print(list(zip(lr.coef_, X_train.columns)))\n"
   ]
  },
  {
   "cell_type": "code",
   "execution_count": 117,
   "metadata": {},
   "outputs": [],
   "source": [
    "# Model prediction based on train dataset:\n",
    "predict_y_train = lr.predict(X_train)"
   ]
  },
  {
   "cell_type": "code",
   "execution_count": 118,
   "metadata": {},
   "outputs": [
    {
     "name": "stdout",
     "output_type": "stream",
     "text": [
      "The R squared value is: 0.6418071120403939\n"
     ]
    }
   ],
   "source": [
    "# Training Data R-Squared Value:\n",
    "print('The R squared value is: ' + str(metrics.r2_score(y_train, predict_y_train)))"
   ]
  },
  {
   "cell_type": "code",
   "execution_count": 119,
   "metadata": {},
   "outputs": [
    {
     "data": {
      "image/png": "[encoded data removed]",
      "text/plain": [
       "<Figure size 432x288 with 1 Axes>"
      ]
     },
     "metadata": {
      "needs_background": "light"
     },
     "output_type": "display_data"
    }
   ],
   "source": [
    "# Actual Prices vs. Predicted Prices:\n",
    "plt.scatter(y_train, predict_y_train)\n",
    "plt.xlabel('price - millions')\n",
    "plt.ylabel('predicted price - millions')\n",
    "plt.show()"
   ]
  },
  {
   "cell_type": "markdown",
   "metadata": {},
   "source": [
    "### Interpret price vs. predicted price scatterplot:\n",
    "- The distribution isn't a straight line, and from that we know that there is something non-linear going on in the relationships we've modeled. \n",
    "- Thus, we don't have a good linear relationship between price and our predictors"
   ]
  },
  {
   "cell_type": "code",
   "execution_count": 120,
   "metadata": {},
   "outputs": [
    {
     "data": {
      "text/plain": [
       "Text(0, 0.5, 'residuals')"
      ]
     },
     "execution_count": 120,
     "metadata": {},
     "output_type": "execute_result"
    },
    {
     "data": {
      "image/png": "[encoded data removed]",
      "text/plain": [
       "<Figure size 432x288 with 1 Axes>"
      ]
     },
     "metadata": {
      "needs_background": "light"
     },
     "output_type": "display_data"
    }
   ],
   "source": [
    "# Predicted Price vs. Residuals\n",
    "# Inspect the amount of error we got from our OLS Linear Regression:\n",
    "# The residual is the amount of error in the estimation (difference between predicted and actual y values)\n",
    "\n",
    "plt.scatter(predict_y_train, y_train - predict_y_train)\n",
    "plt.xlabel('predicted')\n",
    "plt.ylabel('residuals')"
   ]
  },
  {
   "cell_type": "code",
   "execution_count": 121,
   "metadata": {},
   "outputs": [
    {
     "data": {
      "text/plain": [
       "Text(0, 0.5, 'frequency')"
      ]
     },
     "execution_count": 121,
     "metadata": {},
     "output_type": "execute_result"
    },
    {
     "data": {
      "image/png": "[encoded data removed]",
      "text/plain": [
       "<Figure size 432x288 with 1 Axes>"
      ]
     },
     "metadata": {
      "needs_background": "light"
     },
     "output_type": "display_data"
    }
   ],
   "source": [
    "# Check Distribution of Errors:\n",
    "# We can see from this that there's some right-skew to the distribution of error\n",
    "sns.distplot(y_train - predict_y_train)\n",
    "plt.xlabel('residuals')\n",
    "plt.ylabel('frequency')"
   ]
  },
  {
   "cell_type": "code",
   "execution_count": 122,
   "metadata": {},
   "outputs": [
    {
     "name": "stdout",
     "output_type": "stream",
     "text": [
      "The R squared value is: 0.6530001064251036\n"
     ]
    }
   ],
   "source": [
    "# Finally, we take the 30% of that data we set aside for testing, and examine the R-squared value.\n",
    "# We could take this R-squared value (.653), compare it to the R-squared value we got for the training data (.646), and use them to make assumptions about the fit of our model.\n",
    "# However, becasue plotting our residuals showed we haven't fulfilled some critical assumptions of linear regression...\n",
    "# ... we can't really trust these values of R-squared.\n",
    "predict_y_test = lr.predict(X_test)\n",
    "print('The R squared value is: ' + str(metrics.r2_score(y_test, predict_y_test)))"
   ]
  },
  {
   "cell_type": "markdown",
   "metadata": {},
   "source": [
    "Note:\n",
    "Ultimately, if our model has a relatively low R-squared value (close to 50%), but we have:\n",
    "1. fulfilled the assumptions of linear regression \n",
    "2. have normally distributed error \n",
    "3. coefficients have good p-values\n",
    "\n",
    "... then we can still draw meaningful conclusions re: the relationships between the independent and dependent variables. Our coefficients will still represent the mean flucuation in the dependent variable for every 1-unit change in a given independent variable. "
   ]
  },
  {
   "cell_type": "markdown",
   "metadata": {},
   "source": [
    "## df_all_cols - Interpret\n",
    "- Using all of our columns to predict price, and not subsetting the data at all:\n",
    "- Our p-values are all 0.00, which is great.\n",
    "- However, this model is violating necessary assumptions\n",
    "    - The scatterplot of predicted price vs. price is clearly not a linear relationship\n",
    "    - The plot of the residuals vs. the predicted price is trumpet-shaped, which is highly heteroscedastic.\n",
    "    - What we are aiming for is linearity and homoscedasticity - a fairly even distribution of the residuals vs. predicted price"
   ]
  },
  {
   "cell_type": "markdown",
   "metadata": {},
   "source": [
    "# Log of Dependent Variable - Linear Regression "
   ]
  },
  {
   "cell_type": "markdown",
   "metadata": {},
   "source": [
    "## Log of Dependent Variable - statsmodels\n",
    "If the distribution of the dependent variable is skewed, and doesn't follow a normal distribution, we can try to predict log(dependent variable) to improve our results.   "
   ]
  },
  {
   "cell_type": "code",
   "execution_count": 123,
   "metadata": {},
   "outputs": [],
   "source": [
    "## Remember what X and y are:\n",
    "X = sm.add_constant(df_all_cols.drop(['price','price_millions'], axis=1))\n",
    "y = df_all_cols['price_millions']"
   ]
  },
  {
   "cell_type": "code",
   "execution_count": 124,
   "metadata": {},
   "outputs": [
    {
     "data": {
      "text/plain": [
       "<matplotlib.axes._subplots.AxesSubplot at 0x7f92ce7c2748>"
      ]
     },
     "execution_count": 124,
     "metadata": {},
     "output_type": "execute_result"
    },
    {
     "data": {
      "image/png": "[encoded data removed]",
      "text/plain": [
       "<Figure size 432x288 with 1 Axes>"
      ]
     },
     "metadata": {
      "needs_background": "light"
     },
     "output_type": "display_data"
    }
   ],
   "source": [
    "# As we saw in our very first plot, the distribution of price has significant right-skew\n",
    "y.hist()"
   ]
  },
  {
   "cell_type": "code",
   "execution_count": 125,
   "metadata": {},
   "outputs": [
    {
     "data": {
      "image/png": "[encoded data removed]",
      "text/plain": [
       "<Figure size 432x288 with 1 Axes>"
      ]
     },
     "metadata": {
      "needs_background": "light"
     },
     "output_type": "display_data"
    }
   ],
   "source": [
    "# When we plot the natural logarithm of price, the distribution is now more normally distributed\n",
    "y_scld = np.log(y)\n",
    "y_scld.hist();"
   ]
  },
  {
   "cell_type": "code",
   "execution_count": 126,
   "metadata": {},
   "outputs": [
    {
     "data": {
      "text/html": [
       "<table class=\"simpletable\">\n",
       "<caption>OLS Regression Results</caption>\n",
       "<tr>\n",
       "  <th>Dep. Variable:</th>     <td>price_millions</td>  <th>  R-squared:         </th> <td>   0.641</td> \n",
       "</tr>\n",
       "<tr>\n",
       "  <th>Model:</th>                   <td>OLS</td>       <th>  Adj. R-squared:    </th> <td>   0.640</td> \n",
       "</tr>\n",
       "<tr>\n",
       "  <th>Method:</th>             <td>Least Squares</td>  <th>  F-statistic:       </th> <td>   4275.</td> \n",
       "</tr>\n",
       "<tr>\n",
       "  <th>Date:</th>             <td>Fri, 11 Feb 2022</td> <th>  Prob (F-statistic):</th>  <td>  0.00</td>  \n",
       "</tr>\n",
       "<tr>\n",
       "  <th>Time:</th>                 <td>13:20:26</td>     <th>  Log-Likelihood:    </th> <td> -5742.5</td> \n",
       "</tr>\n",
       "<tr>\n",
       "  <th>No. Observations:</th>      <td> 21597</td>      <th>  AIC:               </th> <td>1.151e+04</td>\n",
       "</tr>\n",
       "<tr>\n",
       "  <th>Df Residuals:</th>          <td> 21587</td>      <th>  BIC:               </th> <td>1.158e+04</td>\n",
       "</tr>\n",
       "<tr>\n",
       "  <th>Df Model:</th>              <td>     9</td>      <th>                     </th>     <td> </td>    \n",
       "</tr>\n",
       "<tr>\n",
       "  <th>Covariance Type:</th>      <td>nonrobust</td>    <th>                     </th>     <td> </td>    \n",
       "</tr>\n",
       "</table>\n",
       "<table class=\"simpletable\">\n",
       "<tr>\n",
       "       <td></td>          <th>coef</th>     <th>std err</th>      <th>t</th>      <th>P>|t|</th>  <th>[0.025</th>    <th>0.975]</th>  \n",
       "</tr>\n",
       "<tr>\n",
       "  <th>const</th>       <td>    8.1235</td> <td>    0.187</td> <td>   43.366</td> <td> 0.000</td> <td>    7.756</td> <td>    8.491</td>\n",
       "</tr>\n",
       "<tr>\n",
       "  <th>bedrooms</th>    <td>   -0.0266</td> <td>    0.003</td> <td>   -8.999</td> <td> 0.000</td> <td>   -0.032</td> <td>   -0.021</td>\n",
       "</tr>\n",
       "<tr>\n",
       "  <th>bathrooms</th>   <td>    0.0892</td> <td>    0.005</td> <td>   17.891</td> <td> 0.000</td> <td>    0.079</td> <td>    0.099</td>\n",
       "</tr>\n",
       "<tr>\n",
       "  <th>sqft_living</th> <td>    0.0002</td> <td> 4.77e-06</td> <td>   36.511</td> <td> 0.000</td> <td>    0.000</td> <td>    0.000</td>\n",
       "</tr>\n",
       "<tr>\n",
       "  <th>sqft_lot</th>    <td>-6.346e-08</td> <td> 5.31e-08</td> <td>   -1.195</td> <td> 0.232</td> <td>-1.68e-07</td> <td> 4.06e-08</td>\n",
       "</tr>\n",
       "<tr>\n",
       "  <th>floors</th>      <td>    0.0797</td> <td>    0.005</td> <td>   15.954</td> <td> 0.000</td> <td>    0.070</td> <td>    0.089</td>\n",
       "</tr>\n",
       "<tr>\n",
       "  <th>waterfront</th>  <td>    0.5005</td> <td>    0.027</td> <td>   18.883</td> <td> 0.000</td> <td>    0.449</td> <td>    0.552</td>\n",
       "</tr>\n",
       "<tr>\n",
       "  <th>condition</th>   <td>    0.0433</td> <td>    0.004</td> <td>   12.059</td> <td> 0.000</td> <td>    0.036</td> <td>    0.050</td>\n",
       "</tr>\n",
       "<tr>\n",
       "  <th>grade</th>       <td>    0.2293</td> <td>    0.003</td> <td>   73.661</td> <td> 0.000</td> <td>    0.223</td> <td>    0.235</td>\n",
       "</tr>\n",
       "<tr>\n",
       "  <th>yr_built</th>    <td>   -0.0058</td> <td> 9.63e-05</td> <td>  -59.920</td> <td> 0.000</td> <td>   -0.006</td> <td>   -0.006</td>\n",
       "</tr>\n",
       "</table>\n",
       "<table class=\"simpletable\">\n",
       "<tr>\n",
       "  <th>Omnibus:</th>       <td>97.303</td> <th>  Durbin-Watson:     </th> <td>   1.963</td>\n",
       "</tr>\n",
       "<tr>\n",
       "  <th>Prob(Omnibus):</th> <td> 0.000</td> <th>  Jarque-Bera (JB):  </th> <td> 114.897</td>\n",
       "</tr>\n",
       "<tr>\n",
       "  <th>Skew:</th>          <td>-0.103</td> <th>  Prob(JB):          </th> <td>1.12e-25</td>\n",
       "</tr>\n",
       "<tr>\n",
       "  <th>Kurtosis:</th>      <td> 3.291</td> <th>  Cond. No.          </th> <td>3.84e+06</td>\n",
       "</tr>\n",
       "</table><br/><br/>Warnings:<br/>[1] Standard Errors assume that the covariance matrix of the errors is correctly specified.<br/>[2] The condition number is large, 3.84e+06. This might indicate that there are<br/>strong multicollinearity or other numerical problems."
      ],
      "text/plain": [
       "<class 'statsmodels.iolib.summary.Summary'>\n",
       "\"\"\"\n",
       "                            OLS Regression Results                            \n",
       "==============================================================================\n",
       "Dep. Variable:         price_millions   R-squared:                       0.641\n",
       "Model:                            OLS   Adj. R-squared:                  0.640\n",
       "Method:                 Least Squares   F-statistic:                     4275.\n",
       "Date:                Fri, 11 Feb 2022   Prob (F-statistic):               0.00\n",
       "Time:                        13:20:26   Log-Likelihood:                -5742.5\n",
       "No. Observations:               21597   AIC:                         1.151e+04\n",
       "Df Residuals:                   21587   BIC:                         1.158e+04\n",
       "Df Model:                           9                                         \n",
       "Covariance Type:            nonrobust                                         \n",
       "===============================================================================\n",
       "                  coef    std err          t      P>|t|      [0.025      0.975]\n",
       "-------------------------------------------------------------------------------\n",
       "const           8.1235      0.187     43.366      0.000       7.756       8.491\n",
       "bedrooms       -0.0266      0.003     -8.999      0.000      -0.032      -0.021\n",
       "bathrooms       0.0892      0.005     17.891      0.000       0.079       0.099\n",
       "sqft_living     0.0002   4.77e-06     36.511      0.000       0.000       0.000\n",
       "sqft_lot    -6.346e-08   5.31e-08     -1.195      0.232   -1.68e-07    4.06e-08\n",
       "floors          0.0797      0.005     15.954      0.000       0.070       0.089\n",
       "waterfront      0.5005      0.027     18.883      0.000       0.449       0.552\n",
       "condition       0.0433      0.004     12.059      0.000       0.036       0.050\n",
       "grade           0.2293      0.003     73.661      0.000       0.223       0.235\n",
       "yr_built       -0.0058   9.63e-05    -59.920      0.000      -0.006      -0.006\n",
       "==============================================================================\n",
       "Omnibus:                       97.303   Durbin-Watson:                   1.963\n",
       "Prob(Omnibus):                  0.000   Jarque-Bera (JB):              114.897\n",
       "Skew:                          -0.103   Prob(JB):                     1.12e-25\n",
       "Kurtosis:                       3.291   Cond. No.                     3.84e+06\n",
       "==============================================================================\n",
       "\n",
       "Warnings:\n",
       "[1] Standard Errors assume that the covariance matrix of the errors is correctly specified.\n",
       "[2] The condition number is large, 3.84e+06. This might indicate that there are\n",
       "strong multicollinearity or other numerical problems.\n",
       "\"\"\""
      ]
     },
     "execution_count": 126,
     "metadata": {},
     "output_type": "execute_result"
    }
   ],
   "source": [
    "model_log = sm.OLS(y_scld, X).fit()\n",
    "model_log.summary()"
   ]
  },
  {
   "cell_type": "code",
   "execution_count": 127,
   "metadata": {},
   "outputs": [
    {
     "data": {
      "text/plain": [
       "1.1047843931961807"
      ]
     },
     "execution_count": 127,
     "metadata": {},
     "output_type": "execute_result"
    }
   ],
   "source": [
    "# For any given prediction we make for a home price, we can expect to be about 1.10 million off. \n",
    "yhat = model_log.predict(X)\n",
    "model_rmse_unscld = np.exp(mean_squared_error(y_scld, yhat))\n",
    "model_rmse_unscld"
   ]
  },
  {
   "cell_type": "markdown",
   "metadata": {},
   "source": [
    "## Log of Dependent Variable - sklearn"
   ]
  },
  {
   "cell_type": "code",
   "execution_count": 128,
   "metadata": {},
   "outputs": [],
   "source": [
    "X_train, X_test, y_train, y_test = train_test_split(\n",
    "    X, y_scld, test_size=0.3, random_state=4)"
   ]
  },
  {
   "cell_type": "code",
   "execution_count": 129,
   "metadata": {},
   "outputs": [
    {
     "name": "stdout",
     "output_type": "stream",
     "text": [
      "[(0.0, 'const'), (-0.035254046296276535, 'bedrooms'), (0.09281188818454528, 'bathrooms'), (0.0001781136721027233, 'sqft_living'), (-1.0506226615530032e-07, 'sqft_lot'), (0.08039950132916493, 'floors'), (0.532223764329006, 'waterfront'), (0.0418658660592447, 'condition'), (0.22696296910017819, 'grade'), (-0.005821955118784636, 'yr_built')]\n"
     ]
    }
   ],
   "source": [
    "lr.fit(X_train, y_train)\n",
    "print(list(zip(lr.coef_, X_train.columns)))"
   ]
  },
  {
   "cell_type": "code",
   "execution_count": 130,
   "metadata": {},
   "outputs": [],
   "source": [
    "# Model prediction based on train dataset:\n",
    "predict_y_train = lr.predict(X_train)"
   ]
  },
  {
   "cell_type": "code",
   "execution_count": 131,
   "metadata": {},
   "outputs": [
    {
     "name": "stdout",
     "output_type": "stream",
     "text": [
      "The R squared value is: 0.638805044310891\n"
     ]
    }
   ],
   "source": [
    "# Training Data R-Squared Value:\n",
    "print('The R squared value is: ' + str(metrics.r2_score(y_train, predict_y_train)))"
   ]
  },
  {
   "cell_type": "code",
   "execution_count": 132,
   "metadata": {},
   "outputs": [
    {
     "data": {
      "image/png": "[encoded data removed]",
      "text/plain": [
       "<Figure size 432x288 with 1 Axes>"
      ]
     },
     "metadata": {
      "needs_background": "light"
     },
     "output_type": "display_data"
    }
   ],
   "source": [
    "# Actual Prices vs. Predicted Prices:\n",
    "plt.scatter(y_train, predict_y_train)\n",
    "plt.xlabel('price - millions')\n",
    "plt.ylabel('predicted price - millions')\n",
    "plt.show()"
   ]
  },
  {
   "cell_type": "code",
   "execution_count": 133,
   "metadata": {},
   "outputs": [
    {
     "data": {
      "text/plain": [
       "Text(0, 0.5, 'residuals')"
      ]
     },
     "execution_count": 133,
     "metadata": {},
     "output_type": "execute_result"
    },
    {
     "data": {
      "image/png": "[encoded data removed]",
      "text/plain": [
       "<Figure size 432x288 with 1 Axes>"
      ]
     },
     "metadata": {
      "needs_background": "light"
     },
     "output_type": "display_data"
    }
   ],
   "source": [
    "# Predicted Price vs. Residuals\n",
    "plt.scatter(predict_y_train, y_train - predict_y_train)\n",
    "plt.xlabel('predicted')\n",
    "plt.ylabel('residuals')"
   ]
  },
  {
   "cell_type": "code",
   "execution_count": 134,
   "metadata": {},
   "outputs": [
    {
     "data": {
      "text/plain": [
       "Text(0, 0.5, 'frequency')"
      ]
     },
     "execution_count": 134,
     "metadata": {},
     "output_type": "execute_result"
    },
    {
     "data": {
      "image/png": "[encoded data removed]",
      "text/plain": [
       "<Figure size 432x288 with 1 Axes>"
      ]
     },
     "metadata": {
      "needs_background": "light"
     },
     "output_type": "display_data"
    }
   ],
   "source": [
    "# Check Distribution of Errors:\n",
    "sns.distplot(y_train - predict_y_train)\n",
    "plt.xlabel('residuals')\n",
    "plt.ylabel('frequency')"
   ]
  },
  {
   "cell_type": "code",
   "execution_count": 135,
   "metadata": {},
   "outputs": [
    {
     "name": "stdout",
     "output_type": "stream",
     "text": [
      "The R squared value is: 0.6436848228908654\n"
     ]
    }
   ],
   "source": [
    "# R-Squared value for Testing Data:\n",
    "predict_y_test = lr.predict(X_test)\n",
    "print('The R squared value is: ' + str(metrics.r2_score(y_test, predict_y_test)))"
   ]
  },
  {
   "cell_type": "markdown",
   "metadata": {},
   "source": [
    "## Log of Dependent Variable - interpret\n",
    "\n",
    "- The R-squared value for model_log (0.641) is slightly lower than that of df_all_cols (0.646)\n",
    "- Our p-values are all 0.00 except for sqft_lot, which is 0.232\n",
    "- Necessary assumptions for linear regression remain less than ideally fulfilled: \n",
    "    - The scatterplot of predicted price vs. price has some non-linearity \n",
    "    - The plot of the residuals vs. the predicted price is cone shaped"
   ]
  },
  {
   "cell_type": "markdown",
   "metadata": {},
   "source": [
    "# Outliers Removed - Linear Regression\n",
    "- Removing outliers can be a bit of an art, but given that my business case is to offer advice to mostly average, middle-class home owners, it makes sense to eliminate the priciest and lowest cost homes. \n",
    "- From the descriptive statistics we ran in the Understanding Data --> Distributions section, I surmised that the independent variables with the most unusual values were price and number of bedrooms. "
   ]
  },
  {
   "cell_type": "markdown",
   "metadata": {},
   "source": [
    "## Outliers Removed - statsmodels"
   ]
  },
  {
   "cell_type": "code",
   "execution_count": 136,
   "metadata": {},
   "outputs": [],
   "source": [
    "df_rm_outliers = df_all_cols.drop(['sqft_lot'], axis=1)"
   ]
  },
  {
   "cell_type": "code",
   "execution_count": 137,
   "metadata": {},
   "outputs": [],
   "source": [
    "# Here we take the absolute value of the z-scores for each value in columns \"price\" and \"bedrooms\" and filter our df by...\n",
    "# ...only those values which have a z-score < 3\n",
    "\n",
    "df_rm_outliers = df_rm_outliers[(np.abs(stats.zscore(df_rm_outliers[['bedrooms']])) < 3) & (np.abs(stats.zscore(df_rm_outliers[['price']])) < 3)]"
   ]
  },
  {
   "cell_type": "code",
   "execution_count": 138,
   "metadata": {},
   "outputs": [
    {
     "data": {
      "text/html": [
       "<div>\n",
       "<style scoped>\n",
       "    .dataframe tbody tr th:only-of-type {\n",
       "        vertical-align: middle;\n",
       "    }\n",
       "\n",
       "    .dataframe tbody tr th {\n",
       "        vertical-align: top;\n",
       "    }\n",
       "\n",
       "    .dataframe thead th {\n",
       "        text-align: right;\n",
       "    }\n",
       "</style>\n",
       "<table border=\"1\" class=\"dataframe\">\n",
       "  <thead>\n",
       "    <tr style=\"text-align: right;\">\n",
       "      <th></th>\n",
       "      <th>price_millions</th>\n",
       "      <th>bedrooms</th>\n",
       "      <th>bathrooms</th>\n",
       "    </tr>\n",
       "  </thead>\n",
       "  <tbody>\n",
       "    <tr>\n",
       "      <th>15120</th>\n",
       "      <td>0.2300</td>\n",
       "      <td>6</td>\n",
       "      <td>1.50</td>\n",
       "    </tr>\n",
       "    <tr>\n",
       "      <th>17090</th>\n",
       "      <td>0.3759</td>\n",
       "      <td>6</td>\n",
       "      <td>1.50</td>\n",
       "    </tr>\n",
       "    <tr>\n",
       "      <th>7273</th>\n",
       "      <td>0.8000</td>\n",
       "      <td>6</td>\n",
       "      <td>4.25</td>\n",
       "    </tr>\n",
       "    <tr>\n",
       "      <th>18641</th>\n",
       "      <td>0.6650</td>\n",
       "      <td>6</td>\n",
       "      <td>3.00</td>\n",
       "    </tr>\n",
       "    <tr>\n",
       "      <th>4251</th>\n",
       "      <td>1.3000</td>\n",
       "      <td>6</td>\n",
       "      <td>4.50</td>\n",
       "    </tr>\n",
       "    <tr>\n",
       "      <th>9601</th>\n",
       "      <td>0.7600</td>\n",
       "      <td>6</td>\n",
       "      <td>3.75</td>\n",
       "    </tr>\n",
       "    <tr>\n",
       "      <th>9604</th>\n",
       "      <td>0.7300</td>\n",
       "      <td>6</td>\n",
       "      <td>2.75</td>\n",
       "    </tr>\n",
       "    <tr>\n",
       "      <th>2380</th>\n",
       "      <td>0.4000</td>\n",
       "      <td>6</td>\n",
       "      <td>2.00</td>\n",
       "    </tr>\n",
       "    <tr>\n",
       "      <th>2364</th>\n",
       "      <td>0.6650</td>\n",
       "      <td>6</td>\n",
       "      <td>3.00</td>\n",
       "    </tr>\n",
       "    <tr>\n",
       "      <th>16540</th>\n",
       "      <td>0.4500</td>\n",
       "      <td>6</td>\n",
       "      <td>2.25</td>\n",
       "    </tr>\n",
       "  </tbody>\n",
       "</table>\n",
       "</div>"
      ],
      "text/plain": [
       "       price_millions  bedrooms  bathrooms\n",
       "15120          0.2300         6       1.50\n",
       "17090          0.3759         6       1.50\n",
       "7273           0.8000         6       4.25\n",
       "18641          0.6650         6       3.00\n",
       "4251           1.3000         6       4.50\n",
       "9601           0.7600         6       3.75\n",
       "9604           0.7300         6       2.75\n",
       "2380           0.4000         6       2.00\n",
       "2364           0.6650         6       3.00\n",
       "16540          0.4500         6       2.25"
      ]
     },
     "execution_count": 138,
     "metadata": {},
     "output_type": "execute_result"
    }
   ],
   "source": [
    "# Sort by Bedrooms:\n",
    "df_rm_outliers[['price_millions', 'bedrooms', 'bathrooms']].sort_values('bedrooms', ascending = False).head(10)"
   ]
  },
  {
   "cell_type": "code",
   "execution_count": 139,
   "metadata": {},
   "outputs": [
    {
     "data": {
      "text/plain": [
       "Index(['price', 'bedrooms', 'bathrooms', 'sqft_living', 'floors', 'waterfront',\n",
       "       'condition', 'grade', 'yr_built', 'price_millions'],\n",
       "      dtype='object')"
      ]
     },
     "execution_count": 139,
     "metadata": {},
     "output_type": "execute_result"
    }
   ],
   "source": [
    "df_rm_outliers.columns"
   ]
  },
  {
   "cell_type": "code",
   "execution_count": 140,
   "metadata": {},
   "outputs": [],
   "source": [
    "#Markdown Version of Below Table:\n",
    "#df_markdown_rm_outliers = df_rm_outliers[['price', 'bedrooms', 'bathrooms', 'sqft_living', 'acres_lot', 'floors', 'waterfront', 'condition', 'grade', 'yr_built']].describe()\n",
    "#print(df_markdown_rm_outliers.to_markdown())"
   ]
  },
  {
   "cell_type": "code",
   "execution_count": 141,
   "metadata": {},
   "outputs": [
    {
     "data": {
      "text/html": [
       "<style  type=\"text/css\" >\n",
       "</style><table id=\"T_b980f6c0_8b80_11ec_a52a_f079600ee336\" ><thead>    <tr>        <th class=\"blank level0\" ></th>        <th class=\"col_heading level0 col0\" >price_millions</th>        <th class=\"col_heading level0 col1\" >bedrooms</th>        <th class=\"col_heading level0 col2\" >bathrooms</th>        <th class=\"col_heading level0 col3\" >sqft_living</th>        <th class=\"col_heading level0 col4\" >floors</th>        <th class=\"col_heading level0 col5\" >waterfront</th>        <th class=\"col_heading level0 col6\" >condition</th>        <th class=\"col_heading level0 col7\" >grade</th>        <th class=\"col_heading level0 col8\" >yr_built</th>    </tr></thead><tbody>\n",
       "                <tr>\n",
       "                        <th id=\"T_b980f6c0_8b80_11ec_a52a_f079600ee336level0_row0\" class=\"row_heading level0 row0\" >count</th>\n",
       "                        <td id=\"T_b980f6c0_8b80_11ec_a52a_f079600ee336row0_col0\" class=\"data row0 col0\" >21,139.00000000</td>\n",
       "                        <td id=\"T_b980f6c0_8b80_11ec_a52a_f079600ee336row0_col1\" class=\"data row0 col1\" >21139.00</td>\n",
       "                        <td id=\"T_b980f6c0_8b80_11ec_a52a_f079600ee336row0_col2\" class=\"data row0 col2\" >21139.00</td>\n",
       "                        <td id=\"T_b980f6c0_8b80_11ec_a52a_f079600ee336row0_col3\" class=\"data row0 col3\" >           21,139.00</td>\n",
       "                        <td id=\"T_b980f6c0_8b80_11ec_a52a_f079600ee336row0_col4\" class=\"data row0 col4\" >21139.00</td>\n",
       "                        <td id=\"T_b980f6c0_8b80_11ec_a52a_f079600ee336row0_col5\" class=\"data row0 col5\" >21139.00000</td>\n",
       "                        <td id=\"T_b980f6c0_8b80_11ec_a52a_f079600ee336row0_col6\" class=\"data row0 col6\" >21139.00</td>\n",
       "                        <td id=\"T_b980f6c0_8b80_11ec_a52a_f079600ee336row0_col7\" class=\"data row0 col7\" >21139.00</td>\n",
       "                        <td id=\"T_b980f6c0_8b80_11ec_a52a_f079600ee336row0_col8\" class=\"data row0 col8\" >21139</td>\n",
       "            </tr>\n",
       "            <tr>\n",
       "                        <th id=\"T_b980f6c0_8b80_11ec_a52a_f079600ee336level0_row1\" class=\"row_heading level0 row1\" >mean</th>\n",
       "                        <td id=\"T_b980f6c0_8b80_11ec_a52a_f079600ee336row1_col0\" class=\"data row1 col0\" >0.50658452</td>\n",
       "                        <td id=\"T_b980f6c0_8b80_11ec_a52a_f079600ee336row1_col1\" class=\"data row1 col1\" >3.34</td>\n",
       "                        <td id=\"T_b980f6c0_8b80_11ec_a52a_f079600ee336row1_col2\" class=\"data row1 col2\" >2.08</td>\n",
       "                        <td id=\"T_b980f6c0_8b80_11ec_a52a_f079600ee336row1_col3\" class=\"data row1 col3\" >            2,029.04</td>\n",
       "                        <td id=\"T_b980f6c0_8b80_11ec_a52a_f079600ee336row1_col4\" class=\"data row1 col4\" >1.49</td>\n",
       "                        <td id=\"T_b980f6c0_8b80_11ec_a52a_f079600ee336row1_col5\" class=\"data row1 col5\" >0.00378</td>\n",
       "                        <td id=\"T_b980f6c0_8b80_11ec_a52a_f079600ee336row1_col6\" class=\"data row1 col6\" >3.41</td>\n",
       "                        <td id=\"T_b980f6c0_8b80_11ec_a52a_f079600ee336row1_col7\" class=\"data row1 col7\" >7.60</td>\n",
       "                        <td id=\"T_b980f6c0_8b80_11ec_a52a_f079600ee336row1_col8\" class=\"data row1 col8\" >1971</td>\n",
       "            </tr>\n",
       "            <tr>\n",
       "                        <th id=\"T_b980f6c0_8b80_11ec_a52a_f079600ee336level0_row2\" class=\"row_heading level0 row2\" >std</th>\n",
       "                        <td id=\"T_b980f6c0_8b80_11ec_a52a_f079600ee336row2_col0\" class=\"data row2 col0\" >0.25931508</td>\n",
       "                        <td id=\"T_b980f6c0_8b80_11ec_a52a_f079600ee336row2_col1\" class=\"data row2 col1\" >0.87</td>\n",
       "                        <td id=\"T_b980f6c0_8b80_11ec_a52a_f079600ee336row2_col2\" class=\"data row2 col2\" >0.73</td>\n",
       "                        <td id=\"T_b980f6c0_8b80_11ec_a52a_f079600ee336row2_col3\" class=\"data row2 col3\" >              833.21</td>\n",
       "                        <td id=\"T_b980f6c0_8b80_11ec_a52a_f079600ee336row2_col4\" class=\"data row2 col4\" >0.54</td>\n",
       "                        <td id=\"T_b980f6c0_8b80_11ec_a52a_f079600ee336row2_col5\" class=\"data row2 col5\" >0.06140</td>\n",
       "                        <td id=\"T_b980f6c0_8b80_11ec_a52a_f079600ee336row2_col6\" class=\"data row2 col6\" >0.65</td>\n",
       "                        <td id=\"T_b980f6c0_8b80_11ec_a52a_f079600ee336row2_col7\" class=\"data row2 col7\" >1.11</td>\n",
       "                        <td id=\"T_b980f6c0_8b80_11ec_a52a_f079600ee336row2_col8\" class=\"data row2 col8\" >29</td>\n",
       "            </tr>\n",
       "            <tr>\n",
       "                        <th id=\"T_b980f6c0_8b80_11ec_a52a_f079600ee336level0_row3\" class=\"row_heading level0 row3\" >min</th>\n",
       "                        <td id=\"T_b980f6c0_8b80_11ec_a52a_f079600ee336row3_col0\" class=\"data row3 col0\" >0.07800000</td>\n",
       "                        <td id=\"T_b980f6c0_8b80_11ec_a52a_f079600ee336row3_col1\" class=\"data row3 col1\" >1.00</td>\n",
       "                        <td id=\"T_b980f6c0_8b80_11ec_a52a_f079600ee336row3_col2\" class=\"data row3 col2\" >0.50</td>\n",
       "                        <td id=\"T_b980f6c0_8b80_11ec_a52a_f079600ee336row3_col3\" class=\"data row3 col3\" >              370.00</td>\n",
       "                        <td id=\"T_b980f6c0_8b80_11ec_a52a_f079600ee336row3_col4\" class=\"data row3 col4\" >1.00</td>\n",
       "                        <td id=\"T_b980f6c0_8b80_11ec_a52a_f079600ee336row3_col5\" class=\"data row3 col5\" >0.00000</td>\n",
       "                        <td id=\"T_b980f6c0_8b80_11ec_a52a_f079600ee336row3_col6\" class=\"data row3 col6\" >1.00</td>\n",
       "                        <td id=\"T_b980f6c0_8b80_11ec_a52a_f079600ee336row3_col7\" class=\"data row3 col7\" >3.00</td>\n",
       "                        <td id=\"T_b980f6c0_8b80_11ec_a52a_f079600ee336row3_col8\" class=\"data row3 col8\" >1900</td>\n",
       "            </tr>\n",
       "            <tr>\n",
       "                        <th id=\"T_b980f6c0_8b80_11ec_a52a_f079600ee336level0_row4\" class=\"row_heading level0 row4\" >25%</th>\n",
       "                        <td id=\"T_b980f6c0_8b80_11ec_a52a_f079600ee336row4_col0\" class=\"data row4 col0\" >0.32000000</td>\n",
       "                        <td id=\"T_b980f6c0_8b80_11ec_a52a_f079600ee336row4_col1\" class=\"data row4 col1\" >3.00</td>\n",
       "                        <td id=\"T_b980f6c0_8b80_11ec_a52a_f079600ee336row4_col2\" class=\"data row4 col2\" >1.50</td>\n",
       "                        <td id=\"T_b980f6c0_8b80_11ec_a52a_f079600ee336row4_col3\" class=\"data row4 col3\" >            1,410.00</td>\n",
       "                        <td id=\"T_b980f6c0_8b80_11ec_a52a_f079600ee336row4_col4\" class=\"data row4 col4\" >1.00</td>\n",
       "                        <td id=\"T_b980f6c0_8b80_11ec_a52a_f079600ee336row4_col5\" class=\"data row4 col5\" >0.00000</td>\n",
       "                        <td id=\"T_b980f6c0_8b80_11ec_a52a_f079600ee336row4_col6\" class=\"data row4 col6\" >3.00</td>\n",
       "                        <td id=\"T_b980f6c0_8b80_11ec_a52a_f079600ee336row4_col7\" class=\"data row4 col7\" >7.00</td>\n",
       "                        <td id=\"T_b980f6c0_8b80_11ec_a52a_f079600ee336row4_col8\" class=\"data row4 col8\" >1952</td>\n",
       "            </tr>\n",
       "            <tr>\n",
       "                        <th id=\"T_b980f6c0_8b80_11ec_a52a_f079600ee336level0_row5\" class=\"row_heading level0 row5\" >50%</th>\n",
       "                        <td id=\"T_b980f6c0_8b80_11ec_a52a_f079600ee336row5_col0\" class=\"data row5 col0\" >0.44600000</td>\n",
       "                        <td id=\"T_b980f6c0_8b80_11ec_a52a_f079600ee336row5_col1\" class=\"data row5 col1\" >3.00</td>\n",
       "                        <td id=\"T_b980f6c0_8b80_11ec_a52a_f079600ee336row5_col2\" class=\"data row5 col2\" >2.25</td>\n",
       "                        <td id=\"T_b980f6c0_8b80_11ec_a52a_f079600ee336row5_col3\" class=\"data row5 col3\" >            1,890.00</td>\n",
       "                        <td id=\"T_b980f6c0_8b80_11ec_a52a_f079600ee336row5_col4\" class=\"data row5 col4\" >1.00</td>\n",
       "                        <td id=\"T_b980f6c0_8b80_11ec_a52a_f079600ee336row5_col5\" class=\"data row5 col5\" >0.00000</td>\n",
       "                        <td id=\"T_b980f6c0_8b80_11ec_a52a_f079600ee336row5_col6\" class=\"data row5 col6\" >3.00</td>\n",
       "                        <td id=\"T_b980f6c0_8b80_11ec_a52a_f079600ee336row5_col7\" class=\"data row5 col7\" >7.00</td>\n",
       "                        <td id=\"T_b980f6c0_8b80_11ec_a52a_f079600ee336row5_col8\" class=\"data row5 col8\" >1975</td>\n",
       "            </tr>\n",
       "            <tr>\n",
       "                        <th id=\"T_b980f6c0_8b80_11ec_a52a_f079600ee336level0_row6\" class=\"row_heading level0 row6\" >75%</th>\n",
       "                        <td id=\"T_b980f6c0_8b80_11ec_a52a_f079600ee336row6_col0\" class=\"data row6 col0\" >0.62605000</td>\n",
       "                        <td id=\"T_b980f6c0_8b80_11ec_a52a_f079600ee336row6_col1\" class=\"data row6 col1\" >4.00</td>\n",
       "                        <td id=\"T_b980f6c0_8b80_11ec_a52a_f079600ee336row6_col2\" class=\"data row6 col2\" >2.50</td>\n",
       "                        <td id=\"T_b980f6c0_8b80_11ec_a52a_f079600ee336row6_col3\" class=\"data row6 col3\" >            2,500.00</td>\n",
       "                        <td id=\"T_b980f6c0_8b80_11ec_a52a_f079600ee336row6_col4\" class=\"data row6 col4\" >2.00</td>\n",
       "                        <td id=\"T_b980f6c0_8b80_11ec_a52a_f079600ee336row6_col5\" class=\"data row6 col5\" >0.00000</td>\n",
       "                        <td id=\"T_b980f6c0_8b80_11ec_a52a_f079600ee336row6_col6\" class=\"data row6 col6\" >4.00</td>\n",
       "                        <td id=\"T_b980f6c0_8b80_11ec_a52a_f079600ee336row6_col7\" class=\"data row6 col7\" >8.00</td>\n",
       "                        <td id=\"T_b980f6c0_8b80_11ec_a52a_f079600ee336row6_col8\" class=\"data row6 col8\" >1996</td>\n",
       "            </tr>\n",
       "            <tr>\n",
       "                        <th id=\"T_b980f6c0_8b80_11ec_a52a_f079600ee336level0_row7\" class=\"row_heading level0 row7\" >max</th>\n",
       "                        <td id=\"T_b980f6c0_8b80_11ec_a52a_f079600ee336row7_col0\" class=\"data row7 col0\" >1.64000000</td>\n",
       "                        <td id=\"T_b980f6c0_8b80_11ec_a52a_f079600ee336row7_col1\" class=\"data row7 col1\" >6.00</td>\n",
       "                        <td id=\"T_b980f6c0_8b80_11ec_a52a_f079600ee336row7_col2\" class=\"data row7 col2\" >6.50</td>\n",
       "                        <td id=\"T_b980f6c0_8b80_11ec_a52a_f079600ee336row7_col3\" class=\"data row7 col3\" >            7,350.00</td>\n",
       "                        <td id=\"T_b980f6c0_8b80_11ec_a52a_f079600ee336row7_col4\" class=\"data row7 col4\" >3.50</td>\n",
       "                        <td id=\"T_b980f6c0_8b80_11ec_a52a_f079600ee336row7_col5\" class=\"data row7 col5\" >1.00000</td>\n",
       "                        <td id=\"T_b980f6c0_8b80_11ec_a52a_f079600ee336row7_col6\" class=\"data row7 col6\" >5.00</td>\n",
       "                        <td id=\"T_b980f6c0_8b80_11ec_a52a_f079600ee336row7_col7\" class=\"data row7 col7\" >12.00</td>\n",
       "                        <td id=\"T_b980f6c0_8b80_11ec_a52a_f079600ee336row7_col8\" class=\"data row7 col8\" >2015</td>\n",
       "            </tr>\n",
       "    </tbody></table>"
      ],
      "text/plain": [
       "<pandas.io.formats.style.Styler at 0x7f92ce9ed2b0>"
      ]
     },
     "execution_count": 141,
     "metadata": {},
     "output_type": "execute_result"
    }
   ],
   "source": [
    "# These values make a lot more sense\n",
    "# The minimum and maximum values for price, bedrooms, and bathrooms are conceivable attributes of a middle class person's home.\n",
    "# We didn't sacrifice on the size of our dataset, having only shed only about 4% of the number of rows in the original dataset.\n",
    "format_dict = {'bedrooms': '{:.2f}', 'bathrooms': '{:.2f}', 'floors': '{:.2f}', 'sqft_living': '{:20,.2f}', 'sqft_lot': '{:20,.2f}',\n",
    "               'price_millions': '{:,.8f}', 'yr_built': '{:.0f}', 'condition': '{:.2f}', 'grade': '{:.2f}', 'waterfront': '{:.5f}'}\n",
    "df_rm_outliers[['price_millions', 'bedrooms', 'bathrooms', 'sqft_living', 'floors',\n",
    "    'waterfront', 'condition', 'grade', 'yr_built']].describe().style.format(format_dict)"
   ]
  },
  {
   "cell_type": "code",
   "execution_count": 142,
   "metadata": {},
   "outputs": [
    {
     "data": {
      "text/html": [
       "<div>\n",
       "<style scoped>\n",
       "    .dataframe tbody tr th:only-of-type {\n",
       "        vertical-align: middle;\n",
       "    }\n",
       "\n",
       "    .dataframe tbody tr th {\n",
       "        vertical-align: top;\n",
       "    }\n",
       "\n",
       "    .dataframe thead th {\n",
       "        text-align: right;\n",
       "    }\n",
       "</style>\n",
       "<table border=\"1\" class=\"dataframe\">\n",
       "  <thead>\n",
       "    <tr style=\"text-align: right;\">\n",
       "      <th></th>\n",
       "      <th>const</th>\n",
       "      <th>bedrooms</th>\n",
       "      <th>bathrooms</th>\n",
       "      <th>sqft_living</th>\n",
       "      <th>floors</th>\n",
       "      <th>waterfront</th>\n",
       "      <th>condition</th>\n",
       "      <th>grade</th>\n",
       "      <th>yr_built</th>\n",
       "    </tr>\n",
       "  </thead>\n",
       "  <tbody>\n",
       "    <tr>\n",
       "      <th>0</th>\n",
       "      <td>1.0</td>\n",
       "      <td>3</td>\n",
       "      <td>1.00</td>\n",
       "      <td>1180</td>\n",
       "      <td>1.0</td>\n",
       "      <td>0</td>\n",
       "      <td>3</td>\n",
       "      <td>7</td>\n",
       "      <td>1955</td>\n",
       "    </tr>\n",
       "    <tr>\n",
       "      <th>1</th>\n",
       "      <td>1.0</td>\n",
       "      <td>3</td>\n",
       "      <td>2.25</td>\n",
       "      <td>2570</td>\n",
       "      <td>2.0</td>\n",
       "      <td>0</td>\n",
       "      <td>3</td>\n",
       "      <td>7</td>\n",
       "      <td>1951</td>\n",
       "    </tr>\n",
       "    <tr>\n",
       "      <th>2</th>\n",
       "      <td>1.0</td>\n",
       "      <td>2</td>\n",
       "      <td>1.00</td>\n",
       "      <td>770</td>\n",
       "      <td>1.0</td>\n",
       "      <td>0</td>\n",
       "      <td>3</td>\n",
       "      <td>6</td>\n",
       "      <td>1933</td>\n",
       "    </tr>\n",
       "    <tr>\n",
       "      <th>3</th>\n",
       "      <td>1.0</td>\n",
       "      <td>4</td>\n",
       "      <td>3.00</td>\n",
       "      <td>1960</td>\n",
       "      <td>1.0</td>\n",
       "      <td>0</td>\n",
       "      <td>5</td>\n",
       "      <td>7</td>\n",
       "      <td>1965</td>\n",
       "    </tr>\n",
       "    <tr>\n",
       "      <th>4</th>\n",
       "      <td>1.0</td>\n",
       "      <td>3</td>\n",
       "      <td>2.00</td>\n",
       "      <td>1680</td>\n",
       "      <td>1.0</td>\n",
       "      <td>0</td>\n",
       "      <td>3</td>\n",
       "      <td>8</td>\n",
       "      <td>1987</td>\n",
       "    </tr>\n",
       "  </tbody>\n",
       "</table>\n",
       "</div>"
      ],
      "text/plain": [
       "   const  bedrooms  bathrooms  sqft_living  floors  waterfront  condition  \\\n",
       "0    1.0         3       1.00         1180     1.0           0          3   \n",
       "1    1.0         3       2.25         2570     2.0           0          3   \n",
       "2    1.0         2       1.00          770     1.0           0          3   \n",
       "3    1.0         4       3.00         1960     1.0           0          5   \n",
       "4    1.0         3       2.00         1680     1.0           0          3   \n",
       "\n",
       "   grade  yr_built  \n",
       "0      7      1955  \n",
       "1      7      1951  \n",
       "2      6      1933  \n",
       "3      7      1965  \n",
       "4      8      1987  "
      ]
     },
     "execution_count": 142,
     "metadata": {},
     "output_type": "execute_result"
    }
   ],
   "source": [
    "# For our other variables (other Betas) will be multiplied by a particular coefficient to predict price\n",
    "X = sm.add_constant(df_rm_outliers.drop(['price','price_millions'], axis=1))\n",
    "y = df_rm_outliers['price_millions']\n",
    "X.head()"
   ]
  },
  {
   "cell_type": "code",
   "execution_count": 143,
   "metadata": {},
   "outputs": [],
   "source": [
    "model_rm_outliers = sm.OLS(y, X).fit() "
   ]
  },
  {
   "cell_type": "code",
   "execution_count": 144,
   "metadata": {},
   "outputs": [
    {
     "data": {
      "text/html": [
       "<table class=\"simpletable\">\n",
       "<caption>OLS Regression Results</caption>\n",
       "<tr>\n",
       "  <th>Dep. Variable:</th>     <td>price_millions</td>  <th>  R-squared:         </th>  <td>   0.616</td> \n",
       "</tr>\n",
       "<tr>\n",
       "  <th>Model:</th>                   <td>OLS</td>       <th>  Adj. R-squared:    </th>  <td>   0.616</td> \n",
       "</tr>\n",
       "<tr>\n",
       "  <th>Method:</th>             <td>Least Squares</td>  <th>  F-statistic:       </th>  <td>   4246.</td> \n",
       "</tr>\n",
       "<tr>\n",
       "  <th>Date:</th>             <td>Fri, 11 Feb 2022</td> <th>  Prob (F-statistic):</th>   <td>  0.00</td>  \n",
       "</tr>\n",
       "<tr>\n",
       "  <th>Time:</th>                 <td>13:22:50</td>     <th>  Log-Likelihood:    </th>  <td>  8666.8</td> \n",
       "</tr>\n",
       "<tr>\n",
       "  <th>No. Observations:</th>      <td> 21139</td>      <th>  AIC:               </th> <td>-1.732e+04</td>\n",
       "</tr>\n",
       "<tr>\n",
       "  <th>Df Residuals:</th>          <td> 21130</td>      <th>  BIC:               </th> <td>-1.724e+04</td>\n",
       "</tr>\n",
       "<tr>\n",
       "  <th>Df Model:</th>              <td>     8</td>      <th>                     </th>      <td> </td>    \n",
       "</tr>\n",
       "<tr>\n",
       "  <th>Covariance Type:</th>      <td>nonrobust</td>    <th>                     </th>      <td> </td>    \n",
       "</tr>\n",
       "</table>\n",
       "<table class=\"simpletable\">\n",
       "<tr>\n",
       "       <td></td>          <th>coef</th>     <th>std err</th>      <th>t</th>      <th>P>|t|</th>  <th>[0.025</th>    <th>0.975]</th>  \n",
       "</tr>\n",
       "<tr>\n",
       "  <th>const</th>       <td>    5.5885</td> <td>    0.098</td> <td>   57.193</td> <td> 0.000</td> <td>    5.397</td> <td>    5.780</td>\n",
       "</tr>\n",
       "<tr>\n",
       "  <th>bedrooms</th>    <td>   -0.0238</td> <td>    0.002</td> <td>  -14.456</td> <td> 0.000</td> <td>   -0.027</td> <td>   -0.021</td>\n",
       "</tr>\n",
       "<tr>\n",
       "  <th>bathrooms</th>   <td>    0.0388</td> <td>    0.003</td> <td>   14.817</td> <td> 0.000</td> <td>    0.034</td> <td>    0.044</td>\n",
       "</tr>\n",
       "<tr>\n",
       "  <th>sqft_living</th> <td>    0.0001</td> <td> 2.56e-06</td> <td>   43.338</td> <td> 0.000</td> <td>    0.000</td> <td>    0.000</td>\n",
       "</tr>\n",
       "<tr>\n",
       "  <th>floors</th>      <td>    0.0345</td> <td>    0.003</td> <td>   13.381</td> <td> 0.000</td> <td>    0.029</td> <td>    0.040</td>\n",
       "</tr>\n",
       "<tr>\n",
       "  <th>waterfront</th>  <td>    0.3013</td> <td>    0.018</td> <td>   16.695</td> <td> 0.000</td> <td>    0.266</td> <td>    0.337</td>\n",
       "</tr>\n",
       "<tr>\n",
       "  <th>condition</th>   <td>    0.0194</td> <td>    0.002</td> <td>   10.496</td> <td> 0.000</td> <td>    0.016</td> <td>    0.023</td>\n",
       "</tr>\n",
       "<tr>\n",
       "  <th>grade</th>       <td>    0.1198</td> <td>    0.002</td> <td>   73.457</td> <td> 0.000</td> <td>    0.117</td> <td>    0.123</td>\n",
       "</tr>\n",
       "<tr>\n",
       "  <th>yr_built</th>    <td>   -0.0032</td> <td> 5.03e-05</td> <td>  -63.873</td> <td> 0.000</td> <td>   -0.003</td> <td>   -0.003</td>\n",
       "</tr>\n",
       "</table>\n",
       "<table class=\"simpletable\">\n",
       "<tr>\n",
       "  <th>Omnibus:</th>       <td>3269.379</td> <th>  Durbin-Watson:     </th> <td>   1.960</td>\n",
       "</tr>\n",
       "<tr>\n",
       "  <th>Prob(Omnibus):</th>  <td> 0.000</td>  <th>  Jarque-Bera (JB):  </th> <td>9100.564</td>\n",
       "</tr>\n",
       "<tr>\n",
       "  <th>Skew:</th>           <td> 0.837</td>  <th>  Prob(JB):          </th> <td>    0.00</td>\n",
       "</tr>\n",
       "<tr>\n",
       "  <th>Kurtosis:</th>       <td> 5.744</td>  <th>  Cond. No.          </th> <td>2.56e+05</td>\n",
       "</tr>\n",
       "</table><br/><br/>Warnings:<br/>[1] Standard Errors assume that the covariance matrix of the errors is correctly specified.<br/>[2] The condition number is large, 2.56e+05. This might indicate that there are<br/>strong multicollinearity or other numerical problems."
      ],
      "text/plain": [
       "<class 'statsmodels.iolib.summary.Summary'>\n",
       "\"\"\"\n",
       "                            OLS Regression Results                            \n",
       "==============================================================================\n",
       "Dep. Variable:         price_millions   R-squared:                       0.616\n",
       "Model:                            OLS   Adj. R-squared:                  0.616\n",
       "Method:                 Least Squares   F-statistic:                     4246.\n",
       "Date:                Fri, 11 Feb 2022   Prob (F-statistic):               0.00\n",
       "Time:                        13:22:50   Log-Likelihood:                 8666.8\n",
       "No. Observations:               21139   AIC:                        -1.732e+04\n",
       "Df Residuals:                   21130   BIC:                        -1.724e+04\n",
       "Df Model:                           8                                         \n",
       "Covariance Type:            nonrobust                                         \n",
       "===============================================================================\n",
       "                  coef    std err          t      P>|t|      [0.025      0.975]\n",
       "-------------------------------------------------------------------------------\n",
       "const           5.5885      0.098     57.193      0.000       5.397       5.780\n",
       "bedrooms       -0.0238      0.002    -14.456      0.000      -0.027      -0.021\n",
       "bathrooms       0.0388      0.003     14.817      0.000       0.034       0.044\n",
       "sqft_living     0.0001   2.56e-06     43.338      0.000       0.000       0.000\n",
       "floors          0.0345      0.003     13.381      0.000       0.029       0.040\n",
       "waterfront      0.3013      0.018     16.695      0.000       0.266       0.337\n",
       "condition       0.0194      0.002     10.496      0.000       0.016       0.023\n",
       "grade           0.1198      0.002     73.457      0.000       0.117       0.123\n",
       "yr_built       -0.0032   5.03e-05    -63.873      0.000      -0.003      -0.003\n",
       "==============================================================================\n",
       "Omnibus:                     3269.379   Durbin-Watson:                   1.960\n",
       "Prob(Omnibus):                  0.000   Jarque-Bera (JB):             9100.564\n",
       "Skew:                           0.837   Prob(JB):                         0.00\n",
       "Kurtosis:                       5.744   Cond. No.                     2.56e+05\n",
       "==============================================================================\n",
       "\n",
       "Warnings:\n",
       "[1] Standard Errors assume that the covariance matrix of the errors is correctly specified.\n",
       "[2] The condition number is large, 2.56e+05. This might indicate that there are\n",
       "strong multicollinearity or other numerical problems.\n",
       "\"\"\""
      ]
     },
     "execution_count": 144,
     "metadata": {},
     "output_type": "execute_result"
    }
   ],
   "source": [
    "model_rm_outliers.summary()"
   ]
  },
  {
   "cell_type": "code",
   "execution_count": 146,
   "metadata": {},
   "outputs": [
    {
     "data": {
      "text/plain": [
       "0.025787552371068608"
      ]
     },
     "execution_count": 146,
     "metadata": {},
     "output_type": "execute_result"
    }
   ],
   "source": [
    "# For any given prediction we make for a home price, we can expect to be about $25,790 off. \n",
    "yhat = model_rm_outliers.predict(X)\n",
    "model_rmse = mean_squared_error(y,yhat)\n",
    "model_rmse"
   ]
  },
  {
   "cell_type": "markdown",
   "metadata": {},
   "source": [
    "## Outliers Removed  - sklearn"
   ]
  },
  {
   "cell_type": "code",
   "execution_count": 147,
   "metadata": {},
   "outputs": [],
   "source": [
    "X_train, X_test, y_train, y_test = train_test_split(\n",
    "    X, y, test_size=0.3, random_state=4)"
   ]
  },
  {
   "cell_type": "code",
   "execution_count": 148,
   "metadata": {},
   "outputs": [
    {
     "name": "stdout",
     "output_type": "stream",
     "text": [
      "[(0.0, 'const'), (-0.023120726261630947, 'bedrooms'), (0.03776946676406125, 'bathrooms'), (0.00011080880224360217, 'sqft_living'), (0.0392415583862586, 'floors'), (0.32900561873079553, 'waterfront'), (0.020165302181521724, 'condition'), (0.11935691598337234, 'grade'), (-0.0032180766803797506, 'yr_built')]\n"
     ]
    }
   ],
   "source": [
    "lr.fit(X_train, y_train)\n",
    "print(list(zip(lr.coef_, X_train.columns)))"
   ]
  },
  {
   "cell_type": "code",
   "execution_count": 149,
   "metadata": {},
   "outputs": [],
   "source": [
    "predict_y_train = lr.predict(X_train)"
   ]
  },
  {
   "cell_type": "code",
   "execution_count": 150,
   "metadata": {},
   "outputs": [
    {
     "name": "stdout",
     "output_type": "stream",
     "text": [
      "The R squared value is: 0.6180374222444134\n"
     ]
    }
   ],
   "source": [
    "print('The R squared value is: ' + str(metrics.r2_score(y_train, predict_y_train)))"
   ]
  },
  {
   "cell_type": "code",
   "execution_count": 151,
   "metadata": {},
   "outputs": [
    {
     "data": {
      "image/png": "[encoded data removed]",
      "text/plain": [
       "<Figure size 432x288 with 1 Axes>"
      ]
     },
     "metadata": {
      "needs_background": "light"
     },
     "output_type": "display_data"
    }
   ],
   "source": [
    "# Actual Prices vs. Predicted Prices:\n",
    "plt.scatter(y_train, predict_y_train)\n",
    "plt.xlabel('price - millions')\n",
    "plt.ylabel('predicted price - millions')\n",
    "plt.show()"
   ]
  },
  {
   "cell_type": "code",
   "execution_count": 152,
   "metadata": {},
   "outputs": [
    {
     "data": {
      "text/plain": [
       "Text(0, 0.5, 'residuals')"
      ]
     },
     "execution_count": 152,
     "metadata": {},
     "output_type": "execute_result"
    },
    {
     "data": {
      "image/png": "[encoded data removed]",
      "text/plain": [
       "<Figure size 432x288 with 1 Axes>"
      ]
     },
     "metadata": {
      "needs_background": "light"
     },
     "output_type": "display_data"
    }
   ],
   "source": [
    "# Predicted Price vs. Residuals\n",
    "plt.scatter(predict_y_train, y_train - predict_y_train)\n",
    "plt.xlabel('predicted')\n",
    "plt.ylabel('residuals')"
   ]
  },
  {
   "cell_type": "code",
   "execution_count": 153,
   "metadata": {},
   "outputs": [
    {
     "data": {
      "text/plain": [
       "Text(0, 0.5, 'frequency')"
      ]
     },
     "execution_count": 153,
     "metadata": {},
     "output_type": "execute_result"
    },
    {
     "data": {
      "image/png": "[encoded data removed]",
      "text/plain": [
       "<Figure size 432x288 with 1 Axes>"
      ]
     },
     "metadata": {
      "needs_background": "light"
     },
     "output_type": "display_data"
    }
   ],
   "source": [
    "# Check Distribution of Errors:\n",
    "sns.distplot(y_train - predict_y_train)\n",
    "plt.xlabel('residuals')\n",
    "plt.ylabel('frequency')"
   ]
  },
  {
   "cell_type": "code",
   "execution_count": 154,
   "metadata": {},
   "outputs": [
    {
     "name": "stdout",
     "output_type": "stream",
     "text": [
      "The R squared value is: 0.6124112999508387\n"
     ]
    }
   ],
   "source": [
    "# R-Squared value for Testing Data:\n",
    "predict_y_test = lr.predict(X_test)\n",
    "print('The R squared value is: ' + str(metrics.r2_score(y_test, predict_y_test)))"
   ]
  },
  {
   "cell_type": "markdown",
   "metadata": {},
   "source": [
    "## Outliers Removed  - interpret\n",
    "\n",
    "- The R-squared value for model_log is 0.62\n",
    "- Our p-values are all 0.00\n",
    "- Model RMSE: For any given prediction we make for a home price, we can expect to be about $25,790 off\n",
    "- Necessary assumptions for linear regression are better fulfilled than our last two iterations of linear regression modeling: \n",
    "    - The scatterplot of predicted price vs. price has a mostly linear shape\n",
    "    - The plot of the residuals vs. the predicted price is almost evenly spread over the horizontal axis\n",
    "\n",
    "Dropping sqft_lot and removing outliers based on the value of the z-scores for each value in columns \"price\" and \"bedrooms\" has improved our results compared to our last two iterations. Based on our p-values, R-squared value, and RMSE, as well as our assumptions of linear regression, we can be reasonably confident that we can interpret our coefficients as giving us the price increase of our home for every unit increase of the variable.\n",
    "My real estate company can therefore advise clients that they should install a roof deck if it would add a waterfront view, as well as increase the quality of any improvements in their home, using this scale as their guide to quality craftmanship:\n",
    "9. Better architectural design with extra interior and exterior design and quality.\n",
    "\n",
    "10. Homes of this quality generally have high quality features. Finish work is better and more design quality is seen in the floor plans. Generally have a larger square footage.\n",
    "\n",
    "11. Custom design and higher quality finish work with added amenities of solid woods, bathroom fixtures and more luxurious options.\n",
    "\n",
    "12. Custom design and excellent builders. All materials are of the highest quality and all conveniences are present.\n",
    "\n",
    "13. Generally custom designed and built. Mansion level. Large amount of highest quality cabinet work, wood trim, marble, entry ways etc.\n"
   ]
  }
 ],
 "metadata": {
  "interpreter": {
   "hash": "f419b20f77b4527721f30319cfafe3c70960cd81ca56dc600db40ecc08624f04"
  },
  "kernelspec": {
   "display_name": "Python 3.6.9 64-bit ('learn-env': conda)",
   "name": "python3"
  },
  "language_info": {
   "codemirror_mode": {
    "name": "ipython",
    "version": 3
   },
   "file_extension": ".py",
   "mimetype": "text/x-python",
   "name": "python",
   "nbconvert_exporter": "python",
   "pygments_lexer": "ipython3",
   "version": "3.6.9"
  }
 },
 "nbformat": 4,
 "nbformat_minor": 2
}
