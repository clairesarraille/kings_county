{
 "cells": [
  {
   "cell_type": "code",
   "execution_count": 8,
   "source": [
    "import pickle\n",
    "import numpy as np\n",
    "import pandas as pd\n",
    "import matplotlib.pyplot as plt\n",
    "from matplotlib.ticker import StrMethodFormatter\n",
    "import seaborn as sns\n",
    "\n",
    "\n",
    "from sklearn.model_selection import train_test_split\n",
    "from sklearn.preprocessing import StandardScaler\n",
    "from sklearn.model_selection import cross_val_score\n",
    "\n",
    "from sklearn import metrics\n",
    "from sklearn import linear_model\n",
    "from sklearn.linear_model import LinearRegression\n",
    "\n",
    "from sklearn.ensemble import RandomForestRegressor\n",
    "\n",
    "from statsmodels.stats.outliers_influence import variance_inflation_factor\n",
    "\n",
    "\n",
    "\n",
    "\n",
    "%matplotlib inline"
   ],
   "outputs": [],
   "metadata": {}
  },
  {
   "cell_type": "code",
   "execution_count": 9,
   "source": [
    "# Read in Data:\n",
    "df = pd.read_csv('data/kc_house_data.csv')"
   ],
   "outputs": [],
   "metadata": {}
  },
  {
   "cell_type": "markdown",
   "source": [
    "# Business Understanding"
   ],
   "metadata": {}
  },
  {
   "cell_type": "markdown",
   "source": [
    "### Define median american home:\n",
    "- According to the Atlantic, \"According to the real-estate firms Zillow and Redfin, the median size of an American single-family home is in the neighborhood of 1,600 or 1,650 square feet.\"\n",
    "- Trulia: average homes have 4 bedrooms\n",
    "- Business Problem: Help average home owner pin-point what types of renovations work best for 1600-1650 square foot, 4-bedroom homes"
   ],
   "metadata": {}
  },
  {
   "cell_type": "markdown",
   "source": [
    "### King County, Washington Residential Glossary of Terms:\n",
    "- https://info.kingcounty.gov/assessor/esales/Glossary.aspx?type=r#s\n"
   ],
   "metadata": {}
  },
  {
   "cell_type": "markdown",
   "source": [
    "### King County's Grading System for Buildings:\n",
    "#### Represents the construction quality of improvements. Grades run from grade 1 to 13. Generally defined as:\n",
    "\n",
    "1. Falls short of minimum building standards. Normally cabin or inferior structure.\n",
    "\n",
    "2. Falls short of minimum building standards. Normally cabin or inferior structure.\n",
    "\n",
    "3. Falls short of minimum building standards. Normally cabin or inferior structure.\n",
    "\n",
    "4. Generally older, low quality construction. Does not meet code.\n",
    "\n",
    "5. Low construction costs and workmanship. Small, simple design.\n",
    "\n",
    "6. Lowest grade currently meeting building code. Low quality materials and simple designs.\n",
    "\n",
    "7. Average grade of construction and design. Commonly seen in plats and older sub-divisions.\n",
    "\n",
    "8. Just above average in construction and design. Usually better materials in both the exterior and interior finish work.\n",
    "\n",
    "9. Better architectural design with extra interior and exterior design and quality.\n",
    "\n",
    "10. Homes of this quality generally have high quality features. Finish work is better and more design quality is seen in the floor plans. Generally have a larger square footage.\n",
    "\n",
    "11. Custom design and higher quality finish work with added amenities of solid woods, bathroom fixtures and more luxurious options.\n",
    "\n",
    "12. Custom design and excellent builders. All materials are of the highest quality and all conveniences are present.\n",
    "\n",
    "13. Generally custom designed and built. Mansion level. Large amount of highest quality cabinet work, wood trim, marble, entry ways etc.\n",
    "\n",
    "### BUILDING CONDITION\n",
    "#### Relative to age and grade. Coded 1-5.\n",
    "\n",
    "1. Poor- Worn out. Repair and overhaul needed on painted surfaces, roofing, plumbing, heating and numerous functional inadequacies. Excessive deferred maintenance and abuse, limited value-in-use, approaching abandonment or major reconstruction; reuse or change in occupancy is imminent. Effective age is near the end of the scale regardless of the actual chronological age.\n",
    "\n",
    "2. Fair- Badly worn. Much repair needed. Many items need refinishing or overhauling, deferred maintenance obvious, inadequate building utility and systems all shortening the life expectancy and increasing the effective age.\n",
    "\n",
    "3. Average- Some evidence of deferred maintenance and normal obsolescence with age in that a few minor repairs are needed, along with some refinishing. All major components still functional and contributing toward an extended life expectancy. Effective age and utility is standard for like properties of its class and usage.\n",
    "\n",
    "4. Good- No obvious maintenance required but neither is everything new. Appearance and utility are above the standard and the overall effective age will be lower than the typical property.\n",
    "\n",
    "5. Very Good- All items well maintained, many having been overhauled and repaired as they have shown signs of wear, increasing the life expectancy and lowering the effective age with little deterioration or obsolescence evident with a high degree of utility."
   ],
   "metadata": {}
  },
  {
   "cell_type": "markdown",
   "source": [
    "### Business Case:\n",
    "- Goal is to be able to suggest house improvements for owners of average, single family dwellings \n",
    "    - Definition of average single family home:\n",
    "    - What types of renovations are worth the investment?\n",
    "        - Would the cost of adding a bathroom be worth the increase in selling price?"
   ],
   "metadata": {}
  },
  {
   "cell_type": "markdown",
   "source": [
    "# Data Preparation"
   ],
   "metadata": {}
  },
  {
   "cell_type": "markdown",
   "source": [
    "### Duplicate ID"
   ],
   "metadata": {}
  },
  {
   "cell_type": "code",
   "execution_count": 6,
   "source": [
    "df.id.value_counts()[df.id.value_counts() > 1]"
   ],
   "outputs": [
    {
     "output_type": "execute_result",
     "data": {
      "text/plain": [
       "795000620     3\n",
       "1825069031    2\n",
       "2019200220    2\n",
       "7129304540    2\n",
       "1781500435    2\n",
       "             ..\n",
       "7893805650    2\n",
       "8161020060    2\n",
       "1432400120    2\n",
       "7701960990    2\n",
       "1788900230    2\n",
       "Name: id, Length: 176, dtype: int64"
      ]
     },
     "metadata": {},
     "execution_count": 6
    }
   ],
   "metadata": {}
  },
  {
   "cell_type": "code",
   "execution_count": 15,
   "source": [
    "id_dupe_bools = df['id'].duplicated(keep = False)\n",
    "df_dupe_id = df[id_dupe_bools] "
   ],
   "outputs": [],
   "metadata": {}
  },
  {
   "cell_type": "code",
   "execution_count": 17,
   "source": [
    "df_dupe_id[['id', 'date', 'condition', 'grade', 'bathrooms', 'bedrooms', 'sqft_living']]"
   ],
   "outputs": [
    {
     "output_type": "execute_result",
     "data": {
      "text/plain": [
       "               id        date  condition  grade  bathrooms  bedrooms  \\\n",
       "93     6021501535   7/25/2014          3      8       1.50         3   \n",
       "94     6021501535  12/23/2014          3      8       1.50         3   \n",
       "313    4139480200   6/18/2014          3     11       3.25         4   \n",
       "314    4139480200   12/9/2014          3     11       3.25         4   \n",
       "324    7520000520    9/5/2014          3      6       1.00         2   \n",
       "...           ...         ...        ...    ...        ...       ...   \n",
       "20654  8564860270   3/30/2015          3      8       2.50         4   \n",
       "20763  6300000226   6/26/2014          3      7       1.00         4   \n",
       "20764  6300000226    5/4/2015          3      7       1.00         4   \n",
       "21564  7853420110   10/3/2014          3      9       3.00         3   \n",
       "21565  7853420110    5/4/2015          3      9       3.00         3   \n",
       "\n",
       "       sqft_living  \n",
       "93            1580  \n",
       "94            1580  \n",
       "313           4290  \n",
       "314           4290  \n",
       "324           1240  \n",
       "...            ...  \n",
       "20654         2680  \n",
       "20763         1200  \n",
       "20764         1200  \n",
       "21564         2780  \n",
       "21565         2780  \n",
       "\n",
       "[353 rows x 7 columns]"
      ],
      "text/html": [
       "<div>\n",
       "<style scoped>\n",
       "    .dataframe tbody tr th:only-of-type {\n",
       "        vertical-align: middle;\n",
       "    }\n",
       "\n",
       "    .dataframe tbody tr th {\n",
       "        vertical-align: top;\n",
       "    }\n",
       "\n",
       "    .dataframe thead th {\n",
       "        text-align: right;\n",
       "    }\n",
       "</style>\n",
       "<table border=\"1\" class=\"dataframe\">\n",
       "  <thead>\n",
       "    <tr style=\"text-align: right;\">\n",
       "      <th></th>\n",
       "      <th>id</th>\n",
       "      <th>date</th>\n",
       "      <th>condition</th>\n",
       "      <th>grade</th>\n",
       "      <th>bathrooms</th>\n",
       "      <th>bedrooms</th>\n",
       "      <th>sqft_living</th>\n",
       "    </tr>\n",
       "  </thead>\n",
       "  <tbody>\n",
       "    <tr>\n",
       "      <th>93</th>\n",
       "      <td>6021501535</td>\n",
       "      <td>7/25/2014</td>\n",
       "      <td>3</td>\n",
       "      <td>8</td>\n",
       "      <td>1.50</td>\n",
       "      <td>3</td>\n",
       "      <td>1580</td>\n",
       "    </tr>\n",
       "    <tr>\n",
       "      <th>94</th>\n",
       "      <td>6021501535</td>\n",
       "      <td>12/23/2014</td>\n",
       "      <td>3</td>\n",
       "      <td>8</td>\n",
       "      <td>1.50</td>\n",
       "      <td>3</td>\n",
       "      <td>1580</td>\n",
       "    </tr>\n",
       "    <tr>\n",
       "      <th>313</th>\n",
       "      <td>4139480200</td>\n",
       "      <td>6/18/2014</td>\n",
       "      <td>3</td>\n",
       "      <td>11</td>\n",
       "      <td>3.25</td>\n",
       "      <td>4</td>\n",
       "      <td>4290</td>\n",
       "    </tr>\n",
       "    <tr>\n",
       "      <th>314</th>\n",
       "      <td>4139480200</td>\n",
       "      <td>12/9/2014</td>\n",
       "      <td>3</td>\n",
       "      <td>11</td>\n",
       "      <td>3.25</td>\n",
       "      <td>4</td>\n",
       "      <td>4290</td>\n",
       "    </tr>\n",
       "    <tr>\n",
       "      <th>324</th>\n",
       "      <td>7520000520</td>\n",
       "      <td>9/5/2014</td>\n",
       "      <td>3</td>\n",
       "      <td>6</td>\n",
       "      <td>1.00</td>\n",
       "      <td>2</td>\n",
       "      <td>1240</td>\n",
       "    </tr>\n",
       "    <tr>\n",
       "      <th>...</th>\n",
       "      <td>...</td>\n",
       "      <td>...</td>\n",
       "      <td>...</td>\n",
       "      <td>...</td>\n",
       "      <td>...</td>\n",
       "      <td>...</td>\n",
       "      <td>...</td>\n",
       "    </tr>\n",
       "    <tr>\n",
       "      <th>20654</th>\n",
       "      <td>8564860270</td>\n",
       "      <td>3/30/2015</td>\n",
       "      <td>3</td>\n",
       "      <td>8</td>\n",
       "      <td>2.50</td>\n",
       "      <td>4</td>\n",
       "      <td>2680</td>\n",
       "    </tr>\n",
       "    <tr>\n",
       "      <th>20763</th>\n",
       "      <td>6300000226</td>\n",
       "      <td>6/26/2014</td>\n",
       "      <td>3</td>\n",
       "      <td>7</td>\n",
       "      <td>1.00</td>\n",
       "      <td>4</td>\n",
       "      <td>1200</td>\n",
       "    </tr>\n",
       "    <tr>\n",
       "      <th>20764</th>\n",
       "      <td>6300000226</td>\n",
       "      <td>5/4/2015</td>\n",
       "      <td>3</td>\n",
       "      <td>7</td>\n",
       "      <td>1.00</td>\n",
       "      <td>4</td>\n",
       "      <td>1200</td>\n",
       "    </tr>\n",
       "    <tr>\n",
       "      <th>21564</th>\n",
       "      <td>7853420110</td>\n",
       "      <td>10/3/2014</td>\n",
       "      <td>3</td>\n",
       "      <td>9</td>\n",
       "      <td>3.00</td>\n",
       "      <td>3</td>\n",
       "      <td>2780</td>\n",
       "    </tr>\n",
       "    <tr>\n",
       "      <th>21565</th>\n",
       "      <td>7853420110</td>\n",
       "      <td>5/4/2015</td>\n",
       "      <td>3</td>\n",
       "      <td>9</td>\n",
       "      <td>3.00</td>\n",
       "      <td>3</td>\n",
       "      <td>2780</td>\n",
       "    </tr>\n",
       "  </tbody>\n",
       "</table>\n",
       "<p>353 rows × 7 columns</p>\n",
       "</div>"
      ]
     },
     "metadata": {},
     "execution_count": 17
    }
   ],
   "metadata": {}
  },
  {
   "cell_type": "code",
   "execution_count": 4,
   "source": [
    "df.columns"
   ],
   "outputs": [
    {
     "output_type": "execute_result",
     "data": {
      "text/plain": [
       "Index(['id', 'date', 'price', 'bedrooms', 'bathrooms', 'sqft_living',\n",
       "       'sqft_lot', 'floors', 'waterfront', 'view', 'condition', 'grade',\n",
       "       'sqft_above', 'sqft_basement', 'yr_built', 'yr_renovated', 'zipcode',\n",
       "       'lat', 'long', 'sqft_living15', 'sqft_lot15'],\n",
       "      dtype='object')"
      ]
     },
     "metadata": {},
     "execution_count": 4
    }
   ],
   "metadata": {}
  },
  {
   "cell_type": "markdown",
   "source": [
    "## PostgreSQL Data Cleaning"
   ],
   "metadata": {}
  },
  {
   "cell_type": "markdown",
   "source": [
    "### Bring data into PostgreSQL:\n",
    "> CREATE TABLE original (id text,date text,price text,bedrooms text,bathrooms text,sqft_living text,sqft_lot text,floors text,waterfront text,view text,condition text,grade text,sqft_above text,sq ft_basement text,yr_built text,yr_renovated text,zipcode text,lat text,long text,sqft_living15 text,sqft_lot15 text);\n",
    "\n",
    ">  \\copy original FROM 'ph2finproj/dsc-phase-2-project-main/data/kc_house_data.csv' WITH DELIMITER ',' CSV HEADER;"
   ],
   "metadata": {}
  },
  {
   "cell_type": "markdown",
   "source": [
    "### Clean up 'sqft_basement', which included '?' characters along with numeric data\n",
    "\n",
    "> UPDATE original SET sqft_basement = replace(sqft_basement, '?', '0.0');"
   ],
   "metadata": {}
  },
  {
   "cell_type": "markdown",
   "source": [
    "### Convert columns to appropriate data types:"
   ],
   "metadata": {}
  }
 ],
 "metadata": {
  "orig_nbformat": 4,
  "language_info": {
   "name": "python",
   "version": "3.6.9",
   "mimetype": "text/x-python",
   "codemirror_mode": {
    "name": "ipython",
    "version": 3
   },
   "pygments_lexer": "ipython3",
   "nbconvert_exporter": "python",
   "file_extension": ".py"
  },
  "kernelspec": {
   "name": "python3",
   "display_name": "Python 3.6.9 64-bit ('learn-env': conda)"
  },
  "interpreter": {
   "hash": "5d1f83e9c63cec2de7bdeb43eb17fdae110b98c2255761b9e5cd119be6dbfe82"
  }
 },
 "nbformat": 4,
 "nbformat_minor": 2
}