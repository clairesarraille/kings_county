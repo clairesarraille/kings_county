{
 "cells": [
  {
   "cell_type": "code",
   "execution_count": 2,
   "source": [
    "import numpy as np\n",
    "import pandas as pd\n",
    "from matplotlib import pyplot as plt\n",
    "import seaborn as sns\n",
    "import statsmodels.api as sm\n",
    "from sklearn.preprocessing import OneHotEncoder, StandardScaler\n",
    "from sklearn.datasets import make_regression\n",
    "from sklearn.linear_model import LinearRegression\n",
    "import sklearn.metrics as metrics\n",
    "from random import gauss\n",
    "from mpl_toolkits.mplot3d import Axes3D\n",
    "from scipy import stats as stats\n",
    "\n",
    "%matplotlib inline"
   ],
   "outputs": [],
   "metadata": {}
  },
  {
   "cell_type": "code",
   "execution_count": 3,
   "source": [
    "import numpy as np\n",
    "import pandas as pd\n",
    "import matplotlib.pyplot as plt\n",
    "from matplotlib.ticker import StrMethodFormatter\n",
    "import seaborn as sns\n",
    "\n",
    "\n",
    "from sklearn.model_selection import train_test_split\n",
    "from sklearn.model_selection import cross_val_score\n",
    "\n",
    "from sklearn import metrics\n",
    "# from sklearn import linear_model\n",
    "from sklearn.linear_model import LinearRegression\n",
    "\n",
    "from sklearn.ensemble import RandomForestRegressor\n",
    "\n",
    "# from statsmodels.stats.outliers_influence import variance_inflation_factor\n",
    "\n",
    "\n",
    "\n",
    "%matplotlib inline"
   ],
   "outputs": [],
   "metadata": {}
  },
  {
   "cell_type": "code",
   "execution_count": 4,
   "source": [
    "df = pd.read_csv('data/kc_house_data.csv')"
   ],
   "outputs": [],
   "metadata": {}
  },
  {
   "cell_type": "code",
   "execution_count": 5,
   "source": [
    "# Why reduce features?\n",
    "# I narrowed my list of features to avoid over-fit of the training dataset\n",
    "# Reducing redundancy in features increases the accuracy of the model\n",
    "\n",
    "df = df.drop(['date','view', 'sqft_above', 'sqft_basement', 'yr_renovated', 'zipcode', 'lat', 'long', 'sqft_living15', 'sqft_lot15'], axis=1)"
   ],
   "outputs": [],
   "metadata": {}
  },
  {
   "cell_type": "code",
   "execution_count": 6,
   "source": [
    "df.columns"
   ],
   "outputs": [
    {
     "output_type": "execute_result",
     "data": {
      "text/plain": [
       "Index(['id', 'price', 'bedrooms', 'bathrooms', 'sqft_living', 'sqft_lot',\n",
       "       'floors', 'waterfront', 'condition', 'grade', 'yr_built'],\n",
       "      dtype='object')"
      ]
     },
     "metadata": {},
     "execution_count": 6
    }
   ],
   "metadata": {}
  },
  {
   "cell_type": "markdown",
   "source": [
    "# Waterfront Null Values"
   ],
   "metadata": {}
  },
  {
   "cell_type": "code",
   "execution_count": 7,
   "source": [
    "# The only field that I retained containing NaN values is waterfront:\n",
    "df.isnull().sum()"
   ],
   "outputs": [
    {
     "output_type": "execute_result",
     "data": {
      "text/plain": [
       "id                0\n",
       "price             0\n",
       "bedrooms          0\n",
       "bathrooms         0\n",
       "sqft_living       0\n",
       "sqft_lot          0\n",
       "floors            0\n",
       "waterfront     2376\n",
       "condition         0\n",
       "grade             0\n",
       "yr_built          0\n",
       "dtype: int64"
      ]
     },
     "metadata": {},
     "execution_count": 7
    }
   ],
   "metadata": {}
  },
  {
   "cell_type": "code",
   "execution_count": 8,
   "source": [
    "df['waterfront'] = df['waterfront'].fillna(0)\n",
    "df['waterfront'] = df[\"waterfront\"].astype(int)\n",
    "# Note: waterfront is our only categorical value.\n",
    "# We don't need to use dummy coding or any other coding system because it's already dichotomous (1 or 0) \n",
    "df['waterfront'].unique()"
   ],
   "outputs": [
    {
     "output_type": "execute_result",
     "data": {
      "text/plain": [
       "array([0, 1])"
      ]
     },
     "metadata": {},
     "execution_count": 8
    }
   ],
   "metadata": {}
  },
  {
   "cell_type": "markdown",
   "source": [
    "# Narrow to Waterfront Homes"
   ],
   "metadata": {}
  },
  {
   "cell_type": "code",
   "execution_count": 9,
   "source": [
    "df =  df.loc[df['waterfront'] == 1]"
   ],
   "outputs": [],
   "metadata": {}
  },
  {
   "cell_type": "markdown",
   "source": [
    "# Distributions"
   ],
   "metadata": {}
  },
  {
   "cell_type": "code",
   "execution_count": 10,
   "source": [
    "df.info()"
   ],
   "outputs": [
    {
     "output_type": "stream",
     "name": "stdout",
     "text": [
      "<class 'pandas.core.frame.DataFrame'>\n",
      "Int64Index: 146 entries, 49 to 21560\n",
      "Data columns (total 11 columns):\n",
      " #   Column       Non-Null Count  Dtype  \n",
      "---  ------       --------------  -----  \n",
      " 0   id           146 non-null    int64  \n",
      " 1   price        146 non-null    float64\n",
      " 2   bedrooms     146 non-null    int64  \n",
      " 3   bathrooms    146 non-null    float64\n",
      " 4   sqft_living  146 non-null    int64  \n",
      " 5   sqft_lot     146 non-null    int64  \n",
      " 6   floors       146 non-null    float64\n",
      " 7   waterfront   146 non-null    int64  \n",
      " 8   condition    146 non-null    int64  \n",
      " 9   grade        146 non-null    int64  \n",
      " 10  yr_built     146 non-null    int64  \n",
      "dtypes: float64(3), int64(8)\n",
      "memory usage: 13.7 KB\n"
     ]
    }
   ],
   "metadata": {}
  },
  {
   "cell_type": "markdown",
   "source": [
    "# Scale y values to Log"
   ],
   "metadata": {}
  },
  {
   "cell_type": "code",
   "execution_count": 11,
   "source": [
    "# Create price column - log of millions\n",
    "df['price_millions'] = np.log(df['price'] / 1000000)\n"
   ],
   "outputs": [],
   "metadata": {}
  },
  {
   "cell_type": "code",
   "execution_count": 12,
   "source": [
    "# Create lot size in acres:\n",
    "df['acres_lot'] = df['sqft_lot'] / 43560 "
   ],
   "outputs": [],
   "metadata": {}
  },
  {
   "cell_type": "code",
   "execution_count": 13,
   "source": [
    "format_dict = {'bedrooms': '{:.2f}', 'bathrooms': '{:.2f}', 'floors': '{:.2f}', 'sqft_living': '{:20,.2f}', 'sqft_lot': '{:20,.2f}',\n",
    "               'acres_lot': '{:.2f}',  'price': '${:20,.0f}', 'yr_built': '{:.0f}', 'condition': '{:.2f}', 'grade': '{:.2f}', 'waterfront': '{:.5f}'}\n",
    "df[['price', 'bedrooms', 'bathrooms', 'sqft_living', 'acres_lot', 'floors',\n",
    "    'waterfront', 'condition', 'grade', 'yr_built']].describe().style.format(format_dict)"
   ],
   "outputs": [
    {
     "output_type": "execute_result",
     "data": {
      "text/plain": [
       "<pandas.io.formats.style.Styler at 0x7fe028391b00>"
      ],
      "text/html": [
       "<style  type=\"text/css\" >\n",
       "</style><table id=\"T_a76c85a4_f755_11eb_926a_f079600ee336\" ><thead>    <tr>        <th class=\"blank level0\" ></th>        <th class=\"col_heading level0 col0\" >price</th>        <th class=\"col_heading level0 col1\" >bedrooms</th>        <th class=\"col_heading level0 col2\" >bathrooms</th>        <th class=\"col_heading level0 col3\" >sqft_living</th>        <th class=\"col_heading level0 col4\" >acres_lot</th>        <th class=\"col_heading level0 col5\" >floors</th>        <th class=\"col_heading level0 col6\" >waterfront</th>        <th class=\"col_heading level0 col7\" >condition</th>        <th class=\"col_heading level0 col8\" >grade</th>        <th class=\"col_heading level0 col9\" >yr_built</th>    </tr></thead><tbody>\n",
       "                <tr>\n",
       "                        <th id=\"T_a76c85a4_f755_11eb_926a_f079600ee336level0_row0\" class=\"row_heading level0 row0\" >count</th>\n",
       "                        <td id=\"T_a76c85a4_f755_11eb_926a_f079600ee336row0_col0\" class=\"data row0 col0\" >$                 146</td>\n",
       "                        <td id=\"T_a76c85a4_f755_11eb_926a_f079600ee336row0_col1\" class=\"data row0 col1\" >146.00</td>\n",
       "                        <td id=\"T_a76c85a4_f755_11eb_926a_f079600ee336row0_col2\" class=\"data row0 col2\" >146.00</td>\n",
       "                        <td id=\"T_a76c85a4_f755_11eb_926a_f079600ee336row0_col3\" class=\"data row0 col3\" >              146.00</td>\n",
       "                        <td id=\"T_a76c85a4_f755_11eb_926a_f079600ee336row0_col4\" class=\"data row0 col4\" >146.00</td>\n",
       "                        <td id=\"T_a76c85a4_f755_11eb_926a_f079600ee336row0_col5\" class=\"data row0 col5\" >146.00</td>\n",
       "                        <td id=\"T_a76c85a4_f755_11eb_926a_f079600ee336row0_col6\" class=\"data row0 col6\" >146.00000</td>\n",
       "                        <td id=\"T_a76c85a4_f755_11eb_926a_f079600ee336row0_col7\" class=\"data row0 col7\" >146.00</td>\n",
       "                        <td id=\"T_a76c85a4_f755_11eb_926a_f079600ee336row0_col8\" class=\"data row0 col8\" >146.00</td>\n",
       "                        <td id=\"T_a76c85a4_f755_11eb_926a_f079600ee336row0_col9\" class=\"data row0 col9\" >146</td>\n",
       "            </tr>\n",
       "            <tr>\n",
       "                        <th id=\"T_a76c85a4_f755_11eb_926a_f079600ee336level0_row1\" class=\"row_heading level0 row1\" >mean</th>\n",
       "                        <td id=\"T_a76c85a4_f755_11eb_926a_f079600ee336row1_col0\" class=\"data row1 col0\" >$           1,717,215</td>\n",
       "                        <td id=\"T_a76c85a4_f755_11eb_926a_f079600ee336row1_col1\" class=\"data row1 col1\" >3.35</td>\n",
       "                        <td id=\"T_a76c85a4_f755_11eb_926a_f079600ee336row1_col2\" class=\"data row1 col2\" >2.71</td>\n",
       "                        <td id=\"T_a76c85a4_f755_11eb_926a_f079600ee336row1_col3\" class=\"data row1 col3\" >            3,244.75</td>\n",
       "                        <td id=\"T_a76c85a4_f755_11eb_926a_f079600ee336row1_col4\" class=\"data row1 col4\" >0.59</td>\n",
       "                        <td id=\"T_a76c85a4_f755_11eb_926a_f079600ee336row1_col5\" class=\"data row1 col5\" >1.63</td>\n",
       "                        <td id=\"T_a76c85a4_f755_11eb_926a_f079600ee336row1_col6\" class=\"data row1 col6\" >1.00000</td>\n",
       "                        <td id=\"T_a76c85a4_f755_11eb_926a_f079600ee336row1_col7\" class=\"data row1 col7\" >3.54</td>\n",
       "                        <td id=\"T_a76c85a4_f755_11eb_926a_f079600ee336row1_col8\" class=\"data row1 col8\" >8.84</td>\n",
       "                        <td id=\"T_a76c85a4_f755_11eb_926a_f079600ee336row1_col9\" class=\"data row1 col9\" >1962</td>\n",
       "            </tr>\n",
       "            <tr>\n",
       "                        <th id=\"T_a76c85a4_f755_11eb_926a_f079600ee336level0_row2\" class=\"row_heading level0 row2\" >std</th>\n",
       "                        <td id=\"T_a76c85a4_f755_11eb_926a_f079600ee336row2_col0\" class=\"data row2 col0\" >$           1,145,385</td>\n",
       "                        <td id=\"T_a76c85a4_f755_11eb_926a_f079600ee336row2_col1\" class=\"data row2 col1\" >1.10</td>\n",
       "                        <td id=\"T_a76c85a4_f755_11eb_926a_f079600ee336row2_col2\" class=\"data row2 col2\" >1.12</td>\n",
       "                        <td id=\"T_a76c85a4_f755_11eb_926a_f079600ee336row2_col3\" class=\"data row2 col3\" >            1,652.13</td>\n",
       "                        <td id=\"T_a76c85a4_f755_11eb_926a_f079600ee336row2_col4\" class=\"data row2 col4\" >1.02</td>\n",
       "                        <td id=\"T_a76c85a4_f755_11eb_926a_f079600ee336row2_col5\" class=\"data row2 col5\" >0.55</td>\n",
       "                        <td id=\"T_a76c85a4_f755_11eb_926a_f079600ee336row2_col6\" class=\"data row2 col6\" >0.00000</td>\n",
       "                        <td id=\"T_a76c85a4_f755_11eb_926a_f079600ee336row2_col7\" class=\"data row2 col7\" >0.74</td>\n",
       "                        <td id=\"T_a76c85a4_f755_11eb_926a_f079600ee336row2_col8\" class=\"data row2 col8\" >1.78</td>\n",
       "                        <td id=\"T_a76c85a4_f755_11eb_926a_f079600ee336row2_col9\" class=\"data row2 col9\" >27</td>\n",
       "            </tr>\n",
       "            <tr>\n",
       "                        <th id=\"T_a76c85a4_f755_11eb_926a_f079600ee336level0_row3\" class=\"row_heading level0 row3\" >min</th>\n",
       "                        <td id=\"T_a76c85a4_f755_11eb_926a_f079600ee336row3_col0\" class=\"data row3 col0\" >$             285,000</td>\n",
       "                        <td id=\"T_a76c85a4_f755_11eb_926a_f079600ee336row3_col1\" class=\"data row3 col1\" >1.00</td>\n",
       "                        <td id=\"T_a76c85a4_f755_11eb_926a_f079600ee336row3_col2\" class=\"data row3 col2\" >0.75</td>\n",
       "                        <td id=\"T_a76c85a4_f755_11eb_926a_f079600ee336row3_col3\" class=\"data row3 col3\" >              440.00</td>\n",
       "                        <td id=\"T_a76c85a4_f755_11eb_926a_f079600ee336row3_col4\" class=\"data row3 col4\" >0.05</td>\n",
       "                        <td id=\"T_a76c85a4_f755_11eb_926a_f079600ee336row3_col5\" class=\"data row3 col5\" >1.00</td>\n",
       "                        <td id=\"T_a76c85a4_f755_11eb_926a_f079600ee336row3_col6\" class=\"data row3 col6\" >1.00000</td>\n",
       "                        <td id=\"T_a76c85a4_f755_11eb_926a_f079600ee336row3_col7\" class=\"data row3 col7\" >1.00</td>\n",
       "                        <td id=\"T_a76c85a4_f755_11eb_926a_f079600ee336row3_col8\" class=\"data row3 col8\" >5.00</td>\n",
       "                        <td id=\"T_a76c85a4_f755_11eb_926a_f079600ee336row3_col9\" class=\"data row3 col9\" >1905</td>\n",
       "            </tr>\n",
       "            <tr>\n",
       "                        <th id=\"T_a76c85a4_f755_11eb_926a_f079600ee336level0_row4\" class=\"row_heading level0 row4\" >25%</th>\n",
       "                        <td id=\"T_a76c85a4_f755_11eb_926a_f079600ee336row4_col0\" class=\"data row4 col0\" >$             827,500</td>\n",
       "                        <td id=\"T_a76c85a4_f755_11eb_926a_f079600ee336row4_col1\" class=\"data row4 col1\" >3.00</td>\n",
       "                        <td id=\"T_a76c85a4_f755_11eb_926a_f079600ee336row4_col2\" class=\"data row4 col2\" >1.81</td>\n",
       "                        <td id=\"T_a76c85a4_f755_11eb_926a_f079600ee336row4_col3\" class=\"data row4 col3\" >            2,082.50</td>\n",
       "                        <td id=\"T_a76c85a4_f755_11eb_926a_f079600ee336row4_col4\" class=\"data row4 col4\" >0.27</td>\n",
       "                        <td id=\"T_a76c85a4_f755_11eb_926a_f079600ee336row4_col5\" class=\"data row4 col5\" >1.00</td>\n",
       "                        <td id=\"T_a76c85a4_f755_11eb_926a_f079600ee336row4_col6\" class=\"data row4 col6\" >1.00000</td>\n",
       "                        <td id=\"T_a76c85a4_f755_11eb_926a_f079600ee336row4_col7\" class=\"data row4 col7\" >3.00</td>\n",
       "                        <td id=\"T_a76c85a4_f755_11eb_926a_f079600ee336row4_col8\" class=\"data row4 col8\" >8.00</td>\n",
       "                        <td id=\"T_a76c85a4_f755_11eb_926a_f079600ee336row4_col9\" class=\"data row4 col9\" >1941</td>\n",
       "            </tr>\n",
       "            <tr>\n",
       "                        <th id=\"T_a76c85a4_f755_11eb_926a_f079600ee336level0_row5\" class=\"row_heading level0 row5\" >50%</th>\n",
       "                        <td id=\"T_a76c85a4_f755_11eb_926a_f079600ee336row5_col0\" class=\"data row5 col0\" >$           1,510,000</td>\n",
       "                        <td id=\"T_a76c85a4_f755_11eb_926a_f079600ee336row5_col1\" class=\"data row5 col1\" >3.00</td>\n",
       "                        <td id=\"T_a76c85a4_f755_11eb_926a_f079600ee336row5_col2\" class=\"data row5 col2\" >2.50</td>\n",
       "                        <td id=\"T_a76c85a4_f755_11eb_926a_f079600ee336row5_col3\" class=\"data row5 col3\" >            2,900.00</td>\n",
       "                        <td id=\"T_a76c85a4_f755_11eb_926a_f079600ee336row5_col4\" class=\"data row5 col4\" >0.41</td>\n",
       "                        <td id=\"T_a76c85a4_f755_11eb_926a_f079600ee336row5_col5\" class=\"data row5 col5\" >2.00</td>\n",
       "                        <td id=\"T_a76c85a4_f755_11eb_926a_f079600ee336row5_col6\" class=\"data row5 col6\" >1.00000</td>\n",
       "                        <td id=\"T_a76c85a4_f755_11eb_926a_f079600ee336row5_col7\" class=\"data row5 col7\" >3.00</td>\n",
       "                        <td id=\"T_a76c85a4_f755_11eb_926a_f079600ee336row5_col8\" class=\"data row5 col8\" >9.00</td>\n",
       "                        <td id=\"T_a76c85a4_f755_11eb_926a_f079600ee336row5_col9\" class=\"data row5 col9\" >1960</td>\n",
       "            </tr>\n",
       "            <tr>\n",
       "                        <th id=\"T_a76c85a4_f755_11eb_926a_f079600ee336level0_row6\" class=\"row_heading level0 row6\" >75%</th>\n",
       "                        <td id=\"T_a76c85a4_f755_11eb_926a_f079600ee336row6_col0\" class=\"data row6 col0\" >$           2,282,500</td>\n",
       "                        <td id=\"T_a76c85a4_f755_11eb_926a_f079600ee336row6_col1\" class=\"data row6 col1\" >4.00</td>\n",
       "                        <td id=\"T_a76c85a4_f755_11eb_926a_f079600ee336row6_col2\" class=\"data row6 col2\" >3.25</td>\n",
       "                        <td id=\"T_a76c85a4_f755_11eb_926a_f079600ee336row6_col3\" class=\"data row6 col3\" >            4,117.50</td>\n",
       "                        <td id=\"T_a76c85a4_f755_11eb_926a_f079600ee336row6_col4\" class=\"data row6 col4\" >0.61</td>\n",
       "                        <td id=\"T_a76c85a4_f755_11eb_926a_f079600ee336row6_col5\" class=\"data row6 col5\" >2.00</td>\n",
       "                        <td id=\"T_a76c85a4_f755_11eb_926a_f079600ee336row6_col6\" class=\"data row6 col6\" >1.00000</td>\n",
       "                        <td id=\"T_a76c85a4_f755_11eb_926a_f079600ee336row6_col7\" class=\"data row6 col7\" >4.00</td>\n",
       "                        <td id=\"T_a76c85a4_f755_11eb_926a_f079600ee336row6_col8\" class=\"data row6 col8\" >10.00</td>\n",
       "                        <td id=\"T_a76c85a4_f755_11eb_926a_f079600ee336row6_col9\" class=\"data row6 col9\" >1985</td>\n",
       "            </tr>\n",
       "            <tr>\n",
       "                        <th id=\"T_a76c85a4_f755_11eb_926a_f079600ee336level0_row7\" class=\"row_heading level0 row7\" >max</th>\n",
       "                        <td id=\"T_a76c85a4_f755_11eb_926a_f079600ee336row7_col0\" class=\"data row7 col0\" >$           7,060,000</td>\n",
       "                        <td id=\"T_a76c85a4_f755_11eb_926a_f079600ee336row7_col1\" class=\"data row7 col1\" >6.00</td>\n",
       "                        <td id=\"T_a76c85a4_f755_11eb_926a_f079600ee336row7_col2\" class=\"data row7 col2\" >6.75</td>\n",
       "                        <td id=\"T_a76c85a4_f755_11eb_926a_f079600ee336row7_col3\" class=\"data row7 col3\" >           10,040.00</td>\n",
       "                        <td id=\"T_a76c85a4_f755_11eb_926a_f079600ee336row7_col4\" class=\"data row7 col4\" >11.60</td>\n",
       "                        <td id=\"T_a76c85a4_f755_11eb_926a_f079600ee336row7_col5\" class=\"data row7 col5\" >3.00</td>\n",
       "                        <td id=\"T_a76c85a4_f755_11eb_926a_f079600ee336row7_col6\" class=\"data row7 col6\" >1.00000</td>\n",
       "                        <td id=\"T_a76c85a4_f755_11eb_926a_f079600ee336row7_col7\" class=\"data row7 col7\" >5.00</td>\n",
       "                        <td id=\"T_a76c85a4_f755_11eb_926a_f079600ee336row7_col8\" class=\"data row7 col8\" >12.00</td>\n",
       "                        <td id=\"T_a76c85a4_f755_11eb_926a_f079600ee336row7_col9\" class=\"data row7 col9\" >2014</td>\n",
       "            </tr>\n",
       "    </tbody></table>"
      ]
     },
     "metadata": {},
     "execution_count": 13
    }
   ],
   "metadata": {}
  },
  {
   "cell_type": "markdown",
   "source": [
    "## Drop Unnecessary Columns"
   ],
   "metadata": {}
  },
  {
   "cell_type": "code",
   "execution_count": 14,
   "source": [
    "# Remove id because it has no predicting power, waterfront because it's all one value, and sqft_lot & year since they can't be altered.\n",
    "df_model = df.drop(['acres_lot','id','price','waterfront'], axis=1)"
   ],
   "outputs": [],
   "metadata": {}
  },
  {
   "cell_type": "code",
   "execution_count": 15,
   "source": [
    "df_model.columns"
   ],
   "outputs": [
    {
     "output_type": "execute_result",
     "data": {
      "text/plain": [
       "Index(['bedrooms', 'bathrooms', 'sqft_living', 'sqft_lot', 'floors',\n",
       "       'condition', 'grade', 'yr_built', 'price_millions'],\n",
       "      dtype='object')"
      ]
     },
     "metadata": {},
     "execution_count": 15
    }
   ],
   "metadata": {}
  },
  {
   "cell_type": "code",
   "execution_count": 16,
   "source": [
    "df_model['sqft_living'].plot.kde()\n",
    "plt.title(\"distribution check for Square Footage Living\") \n",
    "plt.show()"
   ],
   "outputs": [
    {
     "output_type": "display_data",
     "data": {
      "text/plain": [
       "<Figure size 432x288 with 1 Axes>"
      ],
      "image/png": "[encoded data removed]"
     },
     "metadata": {
      "needs_background": "light"
     }
    }
   ],
   "metadata": {}
  },
  {
   "cell_type": "code",
   "execution_count": 17,
   "source": [
    "df_model['condition'].plot.kde()\n",
    "plt.title(\"distribution check for condition\") \n",
    "plt.show()"
   ],
   "outputs": [
    {
     "output_type": "display_data",
     "data": {
      "text/plain": [
       "<Figure size 432x288 with 1 Axes>"
      ],
      "image/png": "[encoded data removed]"
     },
     "metadata": {
      "needs_background": "light"
     }
    }
   ],
   "metadata": {}
  },
  {
   "cell_type": "code",
   "execution_count": 18,
   "source": [
    "df_model['grade'].plot.kde()\n",
    "plt.title(\"distribution check for grade\") \n",
    "plt.show()"
   ],
   "outputs": [
    {
     "output_type": "display_data",
     "data": {
      "text/plain": [
       "<Figure size 432x288 with 1 Axes>"
      ],
      "image/png": "[encoded data removed]"
     },
     "metadata": {
      "needs_background": "light"
     }
    }
   ],
   "metadata": {}
  },
  {
   "cell_type": "code",
   "execution_count": 19,
   "source": [
    "# From this we can see that generally, most houses are priced below one million dollars\n",
    "plt.figure(figsize = (12,8))\n",
    "sns.distplot(df_model.price_millions,kde=True)\n",
    "plt.title('Density Histogram of Housing Prices in Kings County')\n",
    "plt.show()"
   ],
   "outputs": [
    {
     "output_type": "display_data",
     "data": {
      "text/plain": [
       "<Figure size 864x576 with 1 Axes>"
      ],
      "image/png": "[encoded data removed]"
     },
     "metadata": {
      "needs_background": "light"
     }
    }
   ],
   "metadata": {}
  },
  {
   "cell_type": "markdown",
   "source": [
    "# Standardize Data:"
   ],
   "metadata": {}
  },
  {
   "cell_type": "code",
   "execution_count": 20,
   "source": [
    "# make copy of df_model for normalization purposes: \n",
    "df_norm = df_model.copy()\n",
    "\n",
    "# Apply z-score normalization:\n",
    "def z_score_norm(my_column):\n",
    "    return (my_column - my_column.mean())/my_column.std()\n",
    "\n",
    "for predictor in ['bedrooms', 'bathrooms', 'sqft_living', 'floors',  'condition','grade']:\n",
    "    df_norm[predictor] = z_score_norm(df_norm[predictor])\n",
    "# print normalized data: \n",
    "print(df_norm)"
   ],
   "outputs": [
    {
     "output_type": "stream",
     "name": "stdout",
     "text": [
      "       bedrooms  bathrooms  sqft_living  sqft_lot    floors  condition  \\\n",
      "49    -0.317799  -0.186271    -0.297647     65005 -1.150105   1.961006   \n",
      "230   -1.227578  -0.855012    -1.086324     15798  0.675062  -0.727322   \n",
      "246    0.591979  -0.186271     0.245287      8354 -1.150105  -0.727322   \n",
      "264   -2.137356  -1.746668    -1.503965     10079 -1.150105   1.961006   \n",
      "300    0.591979   2.042869     0.790036     18641 -1.150105  -0.727322   \n",
      "...         ...        ...          ...       ...       ...        ...   \n",
      "19968 -0.317799  -0.186271    -0.251041      4334  2.500229  -0.727322   \n",
      "20309 -0.317799   0.705385     0.705297     10756  0.675062  -0.727322   \n",
      "20751  0.591979   1.151213     0.675034      8175  1.587645  -0.727322   \n",
      "21185 -0.317799   0.705385     0.311867      5634  0.675062  -0.727322   \n",
      "21560  1.501758   1.597041     0.971620     10584  0.675062  -0.727322   \n",
      "\n",
      "          grade  yr_built  price_millions  \n",
      "49     0.092286      1953        0.300105  \n",
      "230   -1.030531      1915       -0.423120  \n",
      "246    0.092286      2000        0.875469  \n",
      "264   -2.153349      1936       -0.994523  \n",
      "300    0.653695      2002        1.124930  \n",
      "...         ...       ...             ...  \n",
      "19968  0.653695      2006        0.641854  \n",
      "20309  1.215104      2014        1.098612  \n",
      "20751  0.653695      2007        0.832909  \n",
      "21185  1.215104      2014        0.802002  \n",
      "21560  0.653695      2007        1.272566  \n",
      "\n",
      "[146 rows x 9 columns]\n"
     ]
    }
   ],
   "metadata": {}
  },
  {
   "cell_type": "markdown",
   "source": [
    "## Linear Regression - Ordinary Least Squares"
   ],
   "metadata": {}
  },
  {
   "cell_type": "code",
   "execution_count": 21,
   "source": [
    "# Split normalized data into target variable and predictors/explanatory variables/independent variables\n",
    "X = df_norm.drop(['price_millions'], axis=1) # independent variables\n",
    "y = df_norm['price_millions'] # target variable"
   ],
   "outputs": [],
   "metadata": {}
  },
  {
   "cell_type": "code",
   "execution_count": 22,
   "source": [
    "# Divide into test and train data\n",
    "# Train data is for us to estimate our OLS model\n",
    "# Test data is to parameterize our model, using that model to predict y values (price)\n",
    "# If test_size = .3, that means 30% of our data is set aside for teh testing data\n",
    "# And 70% of that data for training\n",
    "\n",
    "# The parameter \"random_state\" ensures that if there is skew in our data, our 30-70 split is randomly taking from these groups\n",
    "# So we have good proportions of randomly selected data and our 30-70 split has good representation \n",
    "\n",
    "X_train, X_test, y_train, y_test = train_test_split(\n",
    "    X, y, test_size=0.3, random_state=4)\n"
   ],
   "outputs": [],
   "metadata": {}
  },
  {
   "cell_type": "code",
   "execution_count": 23,
   "source": [
    "# Linear Regressor - Ordinary Least Squares regression-type estimate:\n",
    "lr = LinearRegression()"
   ],
   "outputs": [],
   "metadata": {}
  },
  {
   "cell_type": "markdown",
   "source": [],
   "metadata": {}
  },
  {
   "cell_type": "code",
   "execution_count": 24,
   "source": [
    "# Train model based on train dataset:\n",
    "# Regressing the X's onto the y:\n",
    "# We're getting a fit here, having used 70% of the data\n",
    "lr.fit(X_train, y_train)\n",
    "coef_list = list(lr.coef_)\n",
    "name_list = list(X_train.columns)\n",
    "pd.Series(coef_list, index=name_list)"
   ],
   "outputs": [
    {
     "output_type": "execute_result",
     "data": {
      "text/plain": [
       "bedrooms       4.495003e-02\n",
       "bathrooms      1.261401e-01\n",
       "sqft_living    2.543238e-01\n",
       "sqft_lot      -5.782591e-07\n",
       "floors         3.975722e-02\n",
       "condition      3.507235e-02\n",
       "grade          3.003674e-01\n",
       "yr_built      -3.783871e-03\n",
       "dtype: float64"
      ]
     },
     "metadata": {},
     "execution_count": 24
    }
   ],
   "metadata": {}
  },
  {
   "cell_type": "code",
   "execution_count": 25,
   "source": [
    "# Model prediction based on train dataset:\n",
    "predict_y_train = lr.predict(X_train)"
   ],
   "outputs": [],
   "metadata": {}
  },
  {
   "cell_type": "code",
   "execution_count": 26,
   "source": [
    "# Model Evaluation:\n",
    "# In this case, our model only explains 64% of the variation in our data \n",
    "print('The R squared value is: ' + str(metrics.r2_score(y_train, predict_y_train)))"
   ],
   "outputs": [
    {
     "output_type": "stream",
     "name": "stdout",
     "text": [
      "The R squared value is: 0.7683389307932318\n"
     ]
    }
   ],
   "metadata": {}
  },
  {
   "cell_type": "code",
   "execution_count": 27,
   "source": [
    "# Actual Prices vs. Predicted Prices:\n",
    "plt.scatter(y_train, predict_y_train)\n",
    "plt.xlabel('price - millions')\n",
    "plt.ylabel('predicted price - millions')\n",
    "plt.show()"
   ],
   "outputs": [
    {
     "output_type": "display_data",
     "data": {
      "text/plain": [
       "<Figure size 432x288 with 1 Axes>"
      ],
      "image/png": "[encoded data removed]"
     },
     "metadata": {
      "needs_background": "light"
     }
    }
   ],
   "metadata": {}
  },
  {
   "cell_type": "code",
   "execution_count": 28,
   "source": [
    "# Inspect the amount of error we got from our OLS Linear Regression:\n",
    "# The residual is the amount of error in the estimation \n",
    "# Residual = Observed – Predicted\n",
    "# Positive Y-values indicate the value by which the prediction was too low\n",
    "# Negative Y-values indicate the value by which the prediction was too high\n",
    "# Here, the model was anywhere from 5 million too low, to -2 million too high, which is quite a lot\n",
    "# Additionally, the distribution of the residuals follows a clear pattern and therefore exhibits heteroscedasticity\n",
    "# One of the required assumptions for linear regression is homoscedasticity (equally distributed residuals across the regression line), which we clearly do not have here\n",
    "\n",
    "\n",
    "plt.scatter(predict_y_train, y_train - predict_y_train)\n",
    "plt.xlabel('predicted')\n",
    "plt.ylabel('residuals')"
   ],
   "outputs": [
    {
     "output_type": "execute_result",
     "data": {
      "text/plain": [
       "Text(0, 0.5, 'residuals')"
      ]
     },
     "metadata": {},
     "execution_count": 28
    },
    {
     "output_type": "display_data",
     "data": {
      "text/plain": [
       "<Figure size 432x288 with 1 Axes>"
      ],
      "image/png": "[encoded data removed]"
     },
     "metadata": {
      "needs_background": "light"
     }
    }
   ],
   "metadata": {}
  },
  {
   "cell_type": "code",
   "execution_count": 29,
   "source": [
    "# See if a model of our residuals (error) follows a normal distribution:\n",
    "# We can see from this that there's some right-skew to the distribution of error\n",
    "sns.distplot(y_train - predict_y_train)\n",
    "plt.xlabel('residuals')\n",
    "plt.ylabel('frequency')"
   ],
   "outputs": [
    {
     "output_type": "execute_result",
     "data": {
      "text/plain": [
       "Text(0, 0.5, 'frequency')"
      ]
     },
     "metadata": {},
     "execution_count": 29
    },
    {
     "output_type": "display_data",
     "data": {
      "text/plain": [
       "<Figure size 432x288 with 1 Axes>"
      ],
      "image/png": "[encoded data removed]"
     },
     "metadata": {
      "needs_background": "light"
     }
    }
   ],
   "metadata": {}
  },
  {
   "cell_type": "code",
   "execution_count": 30,
   "source": [
    "# Finally, we take the 30% of that data we set aside for testing, and examine the error for that:\n",
    "predict_y_test = lr.predict(X_test)\n",
    "print('The R squared value is: ' + str(metrics.r2_score(y_test, predict_y_test)))\n",
    "\n"
   ],
   "outputs": [
    {
     "output_type": "stream",
     "name": "stdout",
     "text": [
      "The R squared value is: 0.6991061045622797\n"
     ]
    }
   ],
   "metadata": {}
  },
  {
   "cell_type": "code",
   "execution_count": null,
   "source": [],
   "outputs": [],
   "metadata": {}
  }
 ],
 "metadata": {
  "orig_nbformat": 4,
  "language_info": {
   "name": "python",
   "version": "3.6.9",
   "mimetype": "text/x-python",
   "codemirror_mode": {
    "name": "ipython",
    "version": 3
   },
   "pygments_lexer": "ipython3",
   "nbconvert_exporter": "python",
   "file_extension": ".py"
  },
  "kernelspec": {
   "name": "python3",
   "display_name": "Python 3.6.9 64-bit ('learn-env': conda)"
  },
  "interpreter": {
   "hash": "5d1f83e9c63cec2de7bdeb43eb17fdae110b98c2255761b9e5cd119be6dbfe82"
  }
 },
 "nbformat": 4,
 "nbformat_minor": 2
}