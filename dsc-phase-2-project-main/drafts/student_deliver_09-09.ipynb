{
 "cells": [
  {
   "cell_type": "code",
   "execution_count": null,
   "source": [],
   "outputs": [],
   "metadata": {}
  },
  {
   "cell_type": "markdown",
   "source": [
    "## final project submission\n",
    "\n",
    "Please fill out:\n",
    "* Student name: Claire Sarraille\n",
    "* Student pace: self paced\n",
    "* Scheduled project review date/time: \n",
    "* Instructor name: Jeff Herman\n",
    "* Blog post URL: https://clairesarraille.github.io/2021/08/08/kings_county_housing.html\n"
   ],
   "metadata": {}
  },
  {
   "cell_type": "markdown",
   "source": [
    "Jeff Suggestions:\n",
    "- Removing some of the outliers and try normalizing your features if you are still having a problem with heteroscedascity. \n",
    "- Most people on this project are getting a R^2 between 0.55 and 0.75\n",
    "- Use another metric to measure model performance: Mean Squared Error"
   ],
   "metadata": {}
  },
  {
   "cell_type": "code",
   "execution_count": null,
   "source": [
    "import numpy as np\n",
    "from scipy import stats\n",
    "import pandas as pd\n",
    "import matplotlib.pyplot as plt\n",
    "from matplotlib.ticker import StrMethodFormatter\n",
    "import seaborn as sns\n",
    "from patsy import dmatrices\n",
    "\n",
    "import statsmodels.api as sm\n",
    "from statsmodels.stats.outliers_influence import variance_inflation_factor\n",
    "\n",
    "from sklearn.model_selection import train_test_split\n",
    "from sklearn import metrics\n",
    "from sklearn import linear_model\n",
    "from sklearn.linear_model import LinearRegression\n",
    "from sklearn.ensemble import RandomForestRegressor\n",
    "from sklearn.metrics import mean_squared_error\n",
    "\n",
    "%matplotlib inline\n"
   ],
   "outputs": [],
   "metadata": {}
  },
  {
   "cell_type": "markdown",
   "source": [
    "## crisp-dm:\n",
    "\n",
    "- Business Understanding\n",
    "    - Who will be  using the model\n",
    "    - How will the model be used\n",
    "    - How will using the model help our business\n",
    "    - clarify requirements\n",
    "    - What problems are in and out of scope\n",
    "\n",
    "- Understand Data\n",
    "    - What is target\n",
    "    - What are predictors\n",
    "    - Distribution of Data\n",
    "    - How many observations - and is this a small, medium or large collection?\n",
    "    - What is the quality? - What errors could be in the data, or inaccuracy?\n",
    "\n",
    "- Data Preparation - Prepping to model\n",
    "    - Missing values\n",
    "    - Type conversions\n",
    "    - Remove multicollinearity (correlated predictors)\n",
    "    - Normalize numeric data\n",
    "    - Convert categorical data to numeric via one-hot encoding\n",
    "\n",
    "- Modeling:\n",
    "    - Tune models to get the highest performance possible on our task\n",
    "    - Considerations:\n",
    "        - What kind of task? Classification task? Regression task?\n",
    "        - Which models will we use\n",
    "        - Will we use regularization?\n",
    "        - How will we validate our model?\n",
    "        - Loss functions?\n",
    "        - What is the performance threshold for success?\n",
    "\n",
    "- Evaluation:\n",
    "    - Does the model solve business problem outlined in step 1?\n",
    "    - At this point, we may want to start over at the business understanding step, now that we have a deeper understanding\n",
    "    - Things we may learn at this stage:\n",
    "        - Need different data\n",
    "        - Need more data\n",
    "        - Should be going in a different direction\n",
    "        - Should use classificaion rather than regression, or vice versa\n",
    "        - Use different approach\n",
    "\n",
    "- Deployment:\n",
    "    - Move the model into production\n",
    "    - Set up ETL - how much of preprocessing and cleaning can be automated?\n"
   ],
   "metadata": {}
  },
  {
   "cell_type": "markdown",
   "source": [
    "# BUSINESS UNDERSTANDING\n",
    "- Who will be  using the model\n",
    "    - The real estate agency I work for\n",
    "- How will the model be used\n",
    "    - Help a sub-set of home owners sell homes, by suggesting the most lucrative home renovations by their impact on home selling price.\n",
    "- How will using the model help our business\n",
    "    - We can give good advice to homeowners about how home renovations might increase the estimate value of their homes, and by how much\n",
    "    - This will increase the amount of sales, thus increasing both our's and the home owner's profits\n",
    "- clarify requirements\n",
    "    - Find the features that are highest correlated with a higher sell price. Find how many dollars each unit of each feature adds to price\n",
    "    - Use these correlations to recommend home renovations, ranked by the most to least positive impact on price.\n",
    "- What problems are in and out of scope\n",
    "    - How do home renovations impact the sell price of a home.\n",
    "    - How locational factors impact price: homeowners cannot re-locate homes and we are assuming they can't change view of waterfront "
   ],
   "metadata": {}
  },
  {
   "cell_type": "markdown",
   "source": [
    "## Business Questions:\n",
    "- Useful to subset data into waterfront vs. non-waterfront models?\n",
    "- Remove outliers so that we're looking at average homes?\n",
    "    - Average home in America has about 4 bedrooms\n",
    "- If we normalize all of our predictors so they are on the same scale (z-score normalization), how do we un-normalize these features to interpret how they impact price?"
   ],
   "metadata": {}
  },
  {
   "cell_type": "markdown",
   "source": [
    "# UNDERSTAND DATA\n",
    "- What is **target**\n",
    ">'price'\n",
    "- What are **predictors**\n",
    ">'bedrooms', 'bathrooms', 'sqft_living', 'sqft_lot', 'floors', 'waterfront', 'condition', 'grade', 'yr_built'\n",
    "- Distribution of Data - See Distribution Section\n",
    "- How many observations - and is this a small, medium or large collection?\n",
    "    - 21,597 entries\n",
    "    - According to Frank Harrell in his book Regression Modeling Strategies, you need at least 10-20 observations per predictor\n",
    "    - We have many, many more observations than 20 * (6 - num covariates) = 120\n",
    "    - Our dataset would be considered large\n",
    "- What is the quality? - What errors could be in the data, or inaccuracy? - See Data Quality Section"
   ],
   "metadata": {}
  },
  {
   "cell_type": "markdown",
   "source": [
    "## Read in Data"
   ],
   "metadata": {}
  },
  {
   "cell_type": "code",
   "execution_count": null,
   "source": [
    "df = pd.read_csv('data/kc_house_data.csv')"
   ],
   "outputs": [],
   "metadata": {}
  },
  {
   "cell_type": "markdown",
   "source": [
    "## Remove Features - recommended by Flatiron to remove\n",
    "- date (no explanatory value)\n",
    "- view ( has been viewed, this wouldn't help us predict prices) \n",
    "- Note: **sqft_above + sqft_basement = sqft_living**, according to meta-data:\n",
    "    - sqft_above (repeating sqft_living)\n",
    "    - sqft_basement (repeating sqft_living)\n",
    "- yr_renovated (repeating yr_built)\n",
    "- Not helpful to have geographic features becuase renovation can't inclue re-locating house (ostensibly)\n",
    "    - zipcode\n",
    "    - lat\n",
    "    - long\n",
    "- sqft_living15 (repeating sqft_living)\n",
    "- sqft_lot15 (repeating sqft_lot)"
   ],
   "metadata": {}
  },
  {
   "cell_type": "code",
   "execution_count": null,
   "source": [
    "# Why reduce features?\n",
    "# I narrowed my list of features to avoid over-fit of the training dataset\n",
    "# Reducing redundancy in features increases the accuracy of the model\n",
    "# Note: The brief for this project also recommended dropping these features.\n",
    "\n",
    "df = df.drop(['date','view', 'sqft_above', 'sqft_basement', 'yr_renovated', 'zipcode', 'lat', 'long', 'sqft_living15', 'sqft_lot15'], axis=1)"
   ],
   "outputs": [],
   "metadata": {}
  },
  {
   "cell_type": "code",
   "execution_count": null,
   "source": [
    "# Note:sqft_living includes a finished basement, if present\n",
    "# Grade is the construction quality of improvements, according to a King County grading system\n",
    "# Condition is overall condition of house\n",
    "df.columns"
   ],
   "outputs": [],
   "metadata": {}
  },
  {
   "cell_type": "markdown",
   "source": [
    "## Data Quality"
   ],
   "metadata": {}
  },
  {
   "cell_type": "markdown",
   "source": [
    "- There could be outliers - such as hundreds of bathrooms - which doesn't make sense with square footage\n",
    "- Year could be in the future\n",
    "- price could be a negative number\n",
    "- datatype could be wrong - such as string for number of bedrooms"
   ],
   "metadata": {}
  },
  {
   "cell_type": "markdown",
   "source": [
    "### Waterfront Missing Values \n",
    "I filled in NaN values for 'waterfront' with 0. Now, 'waterfront' has a 1 value if there is a view, and 0 value if there is not.\n",
    "I also cast this column as an integer type since there are no other options besides the integers 1 and 0."
   ],
   "metadata": {}
  },
  {
   "cell_type": "code",
   "execution_count": null,
   "source": [
    "# The only field that I retained containing NaN values is waterfront:\n",
    "df.isnull().sum()"
   ],
   "outputs": [],
   "metadata": {}
  },
  {
   "cell_type": "code",
   "execution_count": null,
   "source": [
    "# Note: waterfront is our only categorical value.\n",
    "# We don't need to use dummy coding or any other coding system because it's already dichotomous (1 or 0) \n",
    "df['waterfront'] = df['waterfront'].fillna(0)\n",
    "df['waterfront'] = df['waterfront'].astype(int)\n",
    "df['waterfront'].unique()"
   ],
   "outputs": [],
   "metadata": {}
  },
  {
   "cell_type": "markdown",
   "source": [
    "## Cast Features -- at a Different Scale for Visualization "
   ],
   "metadata": {}
  },
  {
   "cell_type": "code",
   "execution_count": null,
   "source": [
    "# Create lot size in acres:\n",
    "df['acres_lot'] = df['sqft_lot'] / 43560 "
   ],
   "outputs": [],
   "metadata": {}
  },
  {
   "cell_type": "code",
   "execution_count": null,
   "source": [
    "# Create price column in millions:\n",
    "df['price_millions'] = df['price'] / 1000000"
   ],
   "outputs": [],
   "metadata": {}
  },
  {
   "cell_type": "code",
   "execution_count": null,
   "source": [
    "df[['price_millions','price', 'acres_lot']]"
   ],
   "outputs": [],
   "metadata": {}
  },
  {
   "cell_type": "code",
   "execution_count": null,
   "source": [
    "print(f\"The max price is {df['price_millions'].max()} million, min price is {df['price'].min()}\")"
   ],
   "outputs": [],
   "metadata": {}
  },
  {
   "cell_type": "markdown",
   "source": [
    "## DISTRIBUTIONS"
   ],
   "metadata": {}
  },
  {
   "cell_type": "markdown",
   "source": [
    "### Clarify Grade and Condition Columns"
   ],
   "metadata": {}
  },
  {
   "cell_type": "markdown",
   "source": [
    "#### King County's Grading System for Buildings:\n",
    "##### Represents the construction quality of improvements. Grades run from grade 1 to 13. Generally defined as:\n",
    "\n",
    "1. Falls short of minimum building standards. Normally cabin or inferior structure.\n",
    "\n",
    "2. Falls short of minimum building standards. Normally cabin or inferior structure.\n",
    "\n",
    "3. Falls short of minimum building standards. Normally cabin or inferior structure.\n",
    "\n",
    "4. Generally older, low quality construction. Does not meet code.\n",
    "\n",
    "5. Low construction costs and workmanship. Small, simple design.\n",
    "\n",
    "6. Lowest grade currently meeting building code. Low quality materials and simple designs.\n",
    "\n",
    "7. Average grade of construction and design. Commonly seen in plats and older sub-divisions.\n",
    "\n",
    "8. Just above average in construction and design. Usually better materials in both the exterior and interior finish work.\n",
    "\n",
    "9. Better architectural design with extra interior and exterior design and quality.\n",
    "\n",
    "10. Homes of this quality generally have high quality features. Finish work is better and more design quality is seen in the floor plans. Generally have a larger square footage.\n",
    "\n",
    "11. Custom design and higher quality finish work with added amenities of solid woods, bathroom fixtures and more luxurious options.\n",
    "\n",
    "12. Custom design and excellent builders. All materials are of the highest quality and all conveniences are present.\n",
    "\n",
    "13. Generally custom designed and built. Mansion level. Large amount of highest quality cabinet work, wood trim, marble, entry ways etc.\n",
    "\n",
    "#### King County's Condition Scale: \n",
    "##### Relative to age and grade. Coded 1-5.\n",
    "\n",
    "1. Poor- Worn out. Repair and overhaul needed on painted surfaces, roofing, plumbing, heating and numerous functional inadequacies. Excessive deferred maintenance and abuse, limited value-in-use, approaching abandonment or major reconstruction; reuse or change in occupancy is imminent. Effective age is near the end of the scale regardless of the actual chronological age.\n",
    "\n",
    "2. Fair- Badly worn. Much repair needed. Many items need refinishing or overhauling, deferred maintenance obvious, inadequate building utility and systems all shortening the life expectancy and increasing the effective age.\n",
    "\n",
    "3. Average- Some evidence of deferred maintenance and normal obsolescence with age in that a few minor repairs are needed, along with some refinishing. All major components still functional and contributing toward an extended life expectancy. Effective age and utility is standard for like properties of its class and usage.\n",
    "\n",
    "4. Good- No obvious maintenance required but neither is everything new. Appearance and utility are above the standard and the overall effective age will be lower than the typical property.\n",
    "\n",
    "5. Very Good- All items well maintained, many having been overhauled and repaired as they have shown signs of wear, increasing the life expectancy and lowering the effective age with little deterioration or obsolescence evident with a high degree of utility."
   ],
   "metadata": {}
  },
  {
   "cell_type": "markdown",
   "source": [
    "### Describe Data - Descriptive Statistics"
   ],
   "metadata": {}
  },
  {
   "cell_type": "code",
   "execution_count": null,
   "source": [
    "format_dict = {'bedrooms': '{:.2f}', 'bathrooms': '{:.2f}', 'floors': '{:.2f}', 'sqft_living': '{:20,.2f}', 'sqft_lot': '{:20,.2f}',\n",
    "               'acres_lot': '{:.2f}',  'price': '{:20,.0f}', 'yr_built': '{:.0f}', 'condition': '{:.2f}', 'grade': '{:.2f}', 'waterfront': '{:.5f}'}\n",
    "df[['price', 'bedrooms', 'bathrooms', 'sqft_living', 'acres_lot', 'floors',\n",
    "    'waterfront', 'condition', 'grade', 'yr_built']].describe().style.format(format_dict)"
   ],
   "outputs": [],
   "metadata": {}
  },
  {
   "cell_type": "markdown",
   "source": [
    "#### Interpret .describe() \n",
    "- There are no negative values for any of the columns\n",
    "- The year range makes sense: homes were built between 1900 and 2015\n",
    "- sqft_living average is around 2,000, which is close to the US average\n",
    "- The average lot size is 15,099 square feet, or .35 acres\n",
    "- The lot size mean is skewed by our outlier home, which stands on a 37.91 acre lot.\n",
    "- The median sqft_lot size is 7,618 or .17 acres, which is much closer to the national average of 0.188 of an acre.\n",
    "- Condition and Grade: The mean, max, and min all line-up with the scale of the system, described above.\n",
    "    - Mean Grade is 7.66, so between a 7 and 8: \n",
    "        - 7. Average grade of construction and design. Commonly seen in plats and older sub-divisions.\n",
    "        - 8. Just above average in construction and design. Usually better materials in both the exterior and interior finish work.\n",
    "    - Mean Condition is 3.41, closest to a 3: \n",
    "        - 3. Average- Some evidence of deferred maintenance and normal obsolescence with age in that a few minor repairs are needed, along with some refinishing. All major components still functional and contributing toward an extended life expectancy. Effective age and utility is standard for like properties of its class and usage."
   ],
   "metadata": {}
  },
  {
   "cell_type": "code",
   "execution_count": null,
   "source": [
    "# Price Frequency Histogram before removing outliers, for context:\n",
    "# Here we can see that the distribution of price, our target variable, has considerable right-skew\n",
    "ax = df.hist(column='price_millions',\n",
    "             bins='auto',\n",
    "             grid=False,\n",
    "             figsize=(8,5))\n",
    "\n",
    "ax = ax[0]\n",
    "for x in ax:\n",
    "\n",
    "    x.set_title(\"Distribution of Home Sale Price\", size=20)\n",
    "\n",
    "    # Set x-axis label\n",
    "    x.set_xlabel(\"Sale Price of Home\", labelpad=15, weight='bold', size=10)\n",
    "    x.xaxis.set_major_formatter(StrMethodFormatter('{x:,.0f}' + ' Million'))\n",
    "\n",
    "    # Set y-axis label\n",
    "    x.set_ylabel(\"Number of Homes Sold\", labelpad=15, weight='bold', size=10)\n",
    "    x.yaxis.set_major_formatter(StrMethodFormatter('{x:,g}'))\n"
   ],
   "outputs": [],
   "metadata": {}
  },
  {
   "cell_type": "markdown",
   "source": [
    "### Price Density Histogram"
   ],
   "metadata": {}
  },
  {
   "cell_type": "code",
   "execution_count": null,
   "source": [
    "# Ok. Now let's draw a smooth curve, given the above data, using KDE (kernal density estimation)\n",
    "# The smooth line in the visualization below is an estimate of the distributions of house prices\n",
    "# The parameter bandwidth rules the smoothness of the underlying distribution\n",
    "\n",
    "# The problem with a Probability Density Function plot, is that all \"point probabilities\" are 0\n",
    "# We must calculate the area under the curve for an interval to get the actual probability for an interval of house prices.\n",
    "# Thus, it's not intuitive or easy to \"read\" the y-axis to get probabilities for continuous variables using a PDF like below.\n",
    "\n",
    "plt.figure(figsize = (12,8))\n",
    "sns.distplot(df.price_millions,kde=True)\n",
    "plt.title('Density Histogram of Housing Prices in Kings County')\n",
    "plt.show()"
   ],
   "outputs": [],
   "metadata": {}
  },
  {
   "cell_type": "markdown",
   "source": [
    "For example, if we wanted to know the probability that a waterfront house price is between 1.00 and 1.75 million dollars (inclusive), we would use the following formula to take the integral of this range (AKA area under the curve)\n",
    "$$\\large P(1 \\leq X \\leq 1.75) = \\int_{1}^{1.75} f_x(x) dx \\geq 0 $$\n"
   ],
   "metadata": {}
  },
  {
   "cell_type": "markdown",
   "source": [
    "### Narrow dataset for modeling "
   ],
   "metadata": {}
  },
  {
   "cell_type": "code",
   "execution_count": null,
   "source": [
    "# Remember all columns in df are: \n",
    "df.columns"
   ],
   "outputs": [],
   "metadata": {}
  },
  {
   "cell_type": "code",
   "execution_count": null,
   "source": [
    "# Select a subset of columns to create matrix:\n",
    "df_all_cols = df.drop(['acres_lot','id'], axis=1)"
   ],
   "outputs": [],
   "metadata": {}
  },
  {
   "cell_type": "code",
   "execution_count": null,
   "source": [
    "df_all_cols.columns"
   ],
   "outputs": [],
   "metadata": {}
  },
  {
   "cell_type": "markdown",
   "source": [
    "# DATA PREPARATION\n",
    "- Prepping to model\n",
    "- Missing values\n",
    "- Convert categorical data to numeric via one-hot encoding (we didn't need to do this because everything is ordinal and non-text)\n",
    "- Type conversions (this was done in the previous section - price to millions and sqft to acres)\n",
    "- Remove multicollinearity (correlated predictors)\n",
    "- Normalize numeric data\n"
   ],
   "metadata": {}
  },
  {
   "cell_type": "markdown",
   "source": [
    "## Explore Multicollinearity\n",
    "- This a phenemonen where two variables we are using as predictors are correlated with each other\n",
    "- This violates one of the assumptions of performing linear regression - that all independent variables are independent from one another\n",
    "- If we left all features in the model without addressing multicollinearity, it would become very hard for the model to estimate the relationship between independent variables and the dependent variable, because rather than change independently, the features would change in pairs or groups."
   ],
   "metadata": {}
  },
  {
   "cell_type": "code",
   "execution_count": null,
   "source": [
    "correlations = df_all_cols.drop(['price'],axis = 1).corr()"
   ],
   "outputs": [],
   "metadata": {}
  },
  {
   "cell_type": "code",
   "execution_count": null,
   "source": [
    "plt.figure(figsize=(12,12)) # Set size of figure\n",
    "# Use df.corr() as your matrix for the heatmap\n",
    "# I set the color scheme to green using cmap\n",
    "# annot= True adds the float value on each square\n",
    "# fmt='.1f' sets the number of decimal places for each float number. If you want 1.00, for example, use fmt='.2f'\n",
    "# cbar_kws={\"shrink\": .77}  - this argument shrinks the side color bar to .77 of its original size\n",
    "# square=True - this argument makes the figure square\n",
    "ax = sns.heatmap(correlations, cmap = \"Greens\", annot=True, fmt='.2f', cbar_kws={\"shrink\": .77}, square=True)\n",
    "# Sets the title\n",
    "ax.set(title='King County House Sales Dataset Correlation Heatmap')\n",
    "# Get the y-axis limit values for the size of the figure:\n",
    "bottom, top = ax.get_ylim()\n",
    "# Add .5 to the bottom and top of the y-axis limits to fix an error where the top and bottom squares are cut off\n",
    "# This is an error for the versions of Seaborne and Matplotlib I'm using\n",
    "ax = ax.set_ylim(bottom + 0.5, top - 0.5)\n",
    "# Rotate the bottom labels by 30 degrees (100-70)\n",
    "plt.xticks(rotation=70)\n",
    "plt.show()\n"
   ],
   "outputs": [],
   "metadata": {}
  },
  {
   "cell_type": "code",
   "execution_count": null,
   "source": [
    "correlations['price_millions'].sort_values(ascending=False)"
   ],
   "outputs": [],
   "metadata": {}
  },
  {
   "cell_type": "code",
   "execution_count": null,
   "source": [
    "correlations[\"sqft_living\"].sort_values(ascending=False)"
   ],
   "outputs": [],
   "metadata": {}
  },
  {
   "cell_type": "markdown",
   "source": [
    "### Correlations Interpretation \n",
    "- Features highly correlated with price are sqft_living, grade, and bathrooms\n",
    "- Features highly correlated with sqft_living are grade, bathrooms, price_millions, and bedrooms"
   ],
   "metadata": {}
  },
  {
   "cell_type": "markdown",
   "source": [
    "## Address Multicollinearity"
   ],
   "metadata": {}
  },
  {
   "cell_type": "code",
   "execution_count": null,
   "source": [
    "df_all_cols.columns"
   ],
   "outputs": [],
   "metadata": {}
  },
  {
   "cell_type": "code",
   "execution_count": null,
   "source": [
    "df_all_cols.shape"
   ],
   "outputs": [],
   "metadata": {}
  },
  {
   "cell_type": "code",
   "execution_count": 286,
   "source": [
    "# We want to write a simple loop to use statsmodel's variance_inflation_factort method on each array (row) of our dataframe, for each column \n",
    "# That's why we use X.shape[1] as the range in the loop below, since the second term in the output of the .shape method is the number of columns\n",
    "X = sm.add_constant(df_all_cols.drop(['price','price_millions'], axis=1))\n",
    "pd.Series([variance_inflation_factor(X.values, i) \n",
    "               for i in range(X.shape[1])], \n",
    "              index=X.columns)"
   ],
   "outputs": [
    {
     "output_type": "execute_result",
     "data": {
      "text/plain": [
       "const          7601.443966\n",
       "bedrooms          1.628887\n",
       "bathrooms         3.186926\n",
       "sqft_living       4.152240\n",
       "sqft_lot          1.047462\n",
       "floors            1.573844\n",
       "waterfront        1.021879\n",
       "condition         1.182857\n",
       "grade             2.888261\n",
       "yr_built          1.734538\n",
       "dtype: float64"
      ]
     },
     "metadata": {},
     "execution_count": 286
    }
   ],
   "metadata": {}
  },
  {
   "cell_type": "markdown",
   "source": [
    "### sqft_living has a moderately high VIF value, followed by grade\n",
    "- We can try removing sqft_living or grade to see if it improves our R-squared and Root Mean Squared Error values."
   ],
   "metadata": {}
  },
  {
   "cell_type": "markdown",
   "source": [
    "# df_all_cols - Linear Regression\n",
    "- Tune models to get the highest performance possible on our task\n",
    "  - Considerations:\n",
    "    - What kind of task? Classification task? Regression task?\n",
    "    - Which models will we use\n",
    "    - Will be use regularization?\n",
    "    - How will we validate our model?\n",
    "    - Loss functions?\n",
    "    - What is the performance threshold for success?\n"
   ],
   "metadata": {}
  },
  {
   "cell_type": "markdown",
   "source": [
    "## df_all_cols - statsmodels \n",
    "- First we'll use statsmodels.api to run a linear regression and examine model validation scores.\n",
    "- We'll use all the independent variables (df_all_cols) for now."
   ],
   "metadata": {}
  },
  {
   "cell_type": "code",
   "execution_count": null,
   "source": [
    "df_all_cols.columns"
   ],
   "outputs": [],
   "metadata": {}
  },
  {
   "cell_type": "code",
   "execution_count": null,
   "source": [
    "# Add constant (AKA y-intercept):\n",
    "# The constant is set to 1 as default - with means that our constant coefficient will be equal to 1*Beta(0)\n",
    "# For our other variables (other Betas) will be multiplied by a particular coefficient to predict price\n",
    "X = sm.add_constant(df_all_cols.drop(['price','price_millions'], axis=1))\n",
    "y = df_all_cols['price_millions']\n",
    "X.head()"
   ],
   "outputs": [],
   "metadata": {}
  },
  {
   "cell_type": "code",
   "execution_count": null,
   "source": [
    "# The order of the parameters is: endogenous response variable(dependent variable), exogenous variables(independent variables)\n",
    "model_all_cols = sm.OLS(y,X).fit()"
   ],
   "outputs": [],
   "metadata": {}
  },
  {
   "cell_type": "code",
   "execution_count": null,
   "source": [
    "model_all_cols.summary()"
   ],
   "outputs": [],
   "metadata": {}
  },
  {
   "cell_type": "code",
   "execution_count": null,
   "source": [
    "# In addition to R-Squared and Adjusted R-Squared, we'll use Root Mean Squared Error to validate our model\n",
    "# Here, our RMSE value is .047821 (million dollars) -- which heuristically can be thought of...\n",
    "# ...as the normalized distance between our y values and our y-predicted values\n",
    "# Thus, for any given prediction we make for a home price, we can expect to be about $47,821 off.\n",
    "# Our model is failing to account for some important features underlying the data.\n",
    "yhat = model_all_cols.predict(X)\n",
    "model_rmse = mean_squared_error(y, yhat)\n",
    "model_rmse"
   ],
   "outputs": [],
   "metadata": {}
  },
  {
   "cell_type": "markdown",
   "source": [
    "## df_all_cols - sklearn "
   ],
   "metadata": {}
  },
  {
   "cell_type": "code",
   "execution_count": null,
   "source": [
    "# Divide into test and train data\n",
    "# Train data is for us to estimate our OLS model\n",
    "# Test data is to parameterize our model, using that model to predict y values (price)\n",
    "# If test_size = .3, that means 30% of our data is set aside for the testing data\n",
    "# And 70% of that data for training\n",
    "\n",
    "# The parameter \"random_state\" ensures that if there is skew in our data, our 30-70 split is randomly taking from these groups\n",
    "# So we have good proportions of randomly selected data and our 30-70 split has good representation \n",
    "X_train, X_test, y_train, y_test = train_test_split(\n",
    "    X, y, test_size=0.3, random_state=4)"
   ],
   "outputs": [],
   "metadata": {}
  },
  {
   "cell_type": "code",
   "execution_count": null,
   "source": [
    "# Linear Regressor - Ordinary Least Squares regression-type estimate:\n",
    "# Library used: sklearn.linear_model\n",
    "lr = LinearRegression(fit_intercept=True)"
   ],
   "outputs": [],
   "metadata": {}
  },
  {
   "cell_type": "code",
   "execution_count": null,
   "source": [
    "# Train model based on train dataset:\n",
    "# Regressing the X's onto the y:\n",
    "# We're getting a fit here, having used 70% of the data\n",
    "lr.fit(X_train, y_train)\n",
    "# coef_list = list(lr.coef_)\n",
    "# name_list = list(X_train.columns)\n",
    "print(list(zip(lr.coef_, X_train.columns)))\n"
   ],
   "outputs": [],
   "metadata": {}
  },
  {
   "cell_type": "code",
   "execution_count": null,
   "source": [
    "# Model prediction based on train dataset:\n",
    "predict_y_train = lr.predict(X_train)"
   ],
   "outputs": [],
   "metadata": {}
  },
  {
   "cell_type": "code",
   "execution_count": null,
   "source": [
    "# Training Data R-Squared Value:\n",
    "print('The R squared value is: ' + str(metrics.r2_score(y_train, predict_y_train)))"
   ],
   "outputs": [],
   "metadata": {}
  },
  {
   "cell_type": "code",
   "execution_count": null,
   "source": [
    "# Actual Prices vs. Predicted Prices:\n",
    "plt.scatter(y_train, predict_y_train)\n",
    "plt.xlabel('price - millions')\n",
    "plt.ylabel('predicted price - millions')\n",
    "plt.show()"
   ],
   "outputs": [],
   "metadata": {}
  },
  {
   "cell_type": "markdown",
   "source": [
    "### Interpret price vs. predicted price scatterplot:\n",
    "- The distribution isn't a straight line, and from that we know that there is something non-linear going on in the relationships we've modeled. \n",
    "- We don't have a good linear relationship between price and our predictors"
   ],
   "metadata": {}
  },
  {
   "cell_type": "code",
   "execution_count": null,
   "source": [
    "# Predicted Price vs. Residuals\n",
    "# Inspect the amount of error we got from our OLS Linear Regression:\n",
    "# The residual is the amount of error in the estimation (difference between predicted and actual y values)\n",
    "\n",
    "plt.scatter(predict_y_train, y_train - predict_y_train)\n",
    "plt.xlabel('predicted')\n",
    "plt.ylabel('residuals')"
   ],
   "outputs": [],
   "metadata": {}
  },
  {
   "cell_type": "code",
   "execution_count": null,
   "source": [
    "# Check Distribution of Errors:\n",
    "# We can see from this that there's some right-skew to the distribution of error\n",
    "sns.distplot(y_train - predict_y_train)\n",
    "plt.xlabel('residuals')\n",
    "plt.ylabel('frequency')"
   ],
   "outputs": [],
   "metadata": {}
  },
  {
   "cell_type": "code",
   "execution_count": null,
   "source": [
    "# Finally, we take the 30% of that data we set aside for testing, and examine the R-squared value.\n",
    "# Because the result (.653) is lower for our test data than our train data (.646), we could hypothesize that our model is under-fitting our data\n",
    "# However, becasue plotting our residuals showed we haven't fulfilled some critical assumptions of linear regression...\n",
    "# ... we can't really trust these values of R-squared.\n",
    "predict_y_test = lr.predict(X_test)\n",
    "print('The R squared value is: ' + str(metrics.r2_score(y_test, predict_y_test)))"
   ],
   "outputs": [],
   "metadata": {}
  },
  {
   "cell_type": "markdown",
   "source": [
    "Note:\n",
    "Ultimately, if our model has a relatively low R-squared value (close to 50%), but we have:\n",
    "1. fulfilled the assumptions of linear regression \n",
    "2. have normally distributed error \n",
    "3. coefficients have good p-values\n",
    "\n",
    "... then we can still draw meaningful conclusions re: the relationships between the independent and dependent variables. Our coefficients will still represent the mean flucuation in the dependent variable for every one unit change in a given independent variable. "
   ],
   "metadata": {}
  },
  {
   "cell_type": "markdown",
   "source": [
    "## df_all_cols - Interpret\n",
    "- Using all of our columns to predict price, and not subsetting the data at all:\n",
    "- Our p-values are all 0.00, which is great.\n",
    "- However, this model is violating necessary assumptions\n",
    "    - The scatterplot of predicted price vs. price is clearly not a linear relationship\n",
    "    - The plot of the residuals vs. the predicted price is a clear trumpet shape, which is highly heteroscedastic.\n",
    "    - What we are aiming for is linearity and homoscedasticity - a fairly even distribution of the residuals vs. predicted price"
   ],
   "metadata": {}
  },
  {
   "cell_type": "markdown",
   "source": [
    "# Log of Dependent Variable - Linear Regression "
   ],
   "metadata": {}
  },
  {
   "cell_type": "markdown",
   "source": [
    "## Log of Dependent Variable - statsmodels\n",
    "If the distribution of the dependent variable is skewed, and doesn't follow a normal distribution, we can try to predict log(dependent variable) to improve our results.   "
   ],
   "metadata": {}
  },
  {
   "cell_type": "code",
   "execution_count": null,
   "source": [
    "# As we saw in our very first plot, the distribution of price has significant right-skew\n",
    "y.hist()"
   ],
   "outputs": [],
   "metadata": {}
  },
  {
   "cell_type": "code",
   "execution_count": null,
   "source": [
    "# When we plot the natural logarithm of price, the distribution is now more normally distributed\n",
    "y_scld = np.log(y)\n",
    "y_scld.hist();"
   ],
   "outputs": [],
   "metadata": {}
  },
  {
   "cell_type": "code",
   "execution_count": null,
   "source": [
    "model_log = sm.OLS(y_scld, X).fit()\n",
    "model_log.summary()"
   ],
   "outputs": [],
   "metadata": {}
  },
  {
   "cell_type": "code",
   "execution_count": null,
   "source": [
    "# For any given prediction we make for a home price, we can expect to be about 1.10 million off. \n",
    "yhat = model_log.predict(X)\n",
    "model_rmse_unscld = np.exp(mean_squared_error(y_scld, yhat))\n",
    "model_rmse_unscld"
   ],
   "outputs": [],
   "metadata": {}
  },
  {
   "cell_type": "markdown",
   "source": [
    "## Log of Dependent Variable - sklearn"
   ],
   "metadata": {}
  },
  {
   "cell_type": "code",
   "execution_count": null,
   "source": [
    "X_train, X_test, y_train, y_test = train_test_split(\n",
    "    X, y_scld, test_size=0.3, random_state=4)"
   ],
   "outputs": [],
   "metadata": {}
  },
  {
   "cell_type": "code",
   "execution_count": null,
   "source": [
    "lr.fit(X_train, y_train)\n",
    "print(list(zip(lr.coef_, X_train.columns)))"
   ],
   "outputs": [],
   "metadata": {}
  },
  {
   "cell_type": "code",
   "execution_count": null,
   "source": [
    "# Model prediction based on train dataset:\n",
    "predict_y_train = lr.predict(X_train)"
   ],
   "outputs": [],
   "metadata": {}
  },
  {
   "cell_type": "code",
   "execution_count": null,
   "source": [
    "# Training Data R-Squared Value:\n",
    "print('The R squared value is: ' + str(metrics.r2_score(y_train, predict_y_train)))"
   ],
   "outputs": [],
   "metadata": {}
  },
  {
   "cell_type": "code",
   "execution_count": null,
   "source": [
    "# Actual Prices vs. Predicted Prices:\n",
    "plt.scatter(y_train, predict_y_train)\n",
    "plt.xlabel('price - millions')\n",
    "plt.ylabel('predicted price - millions')\n",
    "plt.show()"
   ],
   "outputs": [],
   "metadata": {}
  },
  {
   "cell_type": "code",
   "execution_count": null,
   "source": [
    "# Predicted Price vs. Residuals\n",
    "plt.scatter(predict_y_train, y_train - predict_y_train)\n",
    "plt.xlabel('predicted')\n",
    "plt.ylabel('residuals')"
   ],
   "outputs": [],
   "metadata": {}
  },
  {
   "cell_type": "code",
   "execution_count": null,
   "source": [
    "# Check Distribution of Errors:\n",
    "sns.distplot(y_train - predict_y_train)\n",
    "plt.xlabel('residuals')\n",
    "plt.ylabel('frequency')"
   ],
   "outputs": [],
   "metadata": {}
  },
  {
   "cell_type": "code",
   "execution_count": null,
   "source": [
    "# R-Squared value for Testing Data:\n",
    "predict_y_test = lr.predict(X_test)\n",
    "print('The R squared value is: ' + str(metrics.r2_score(y_test, predict_y_test)))"
   ],
   "outputs": [],
   "metadata": {}
  },
  {
   "cell_type": "markdown",
   "source": [
    "## Log of Dependent Variable - interpret\n",
    "\n",
    "- The R-squared value for model_log (0.641) is slightly lower than that of df_all_cols (0.646)\n",
    "- Our p-values are all 0.00 except for sqft_lot, which is 0.232\n",
    "- Necessary assumptions for linear regression remain less than ideally fulfilled: \n",
    "    - The scatterplot of predicted price vs. price has some non-linearity \n",
    "    - The plot of the residuals vs. the predicted price is cone shaped"
   ],
   "metadata": {}
  },
  {
   "cell_type": "markdown",
   "source": [
    "# Outliers Removed  \n",
    "- Removing outliers can be a bit of an art, but given that my business case is to offer advice to mostly average, middle-class home owners, it makes sense to eliminate the priciest and lowest cost homes. \n",
    "- From the descriptive statistics we ran in the Understanding Data --> Distributions section, I surmised that the independent variables with the most unusual values were price and number of bedrooms. "
   ],
   "metadata": {}
  },
  {
   "cell_type": "code",
   "execution_count": null,
   "source": [
    "# Here we take the absolute value of the z-scores for each value in columns \"price\" and \"bedrooms\" and filter our df by...\n",
    "# ...only those values which have a z-score < 3\n",
    "# df_rm_outliers = df_all_cols[(np.abs(stats.zscore(df_all_cols[['bedrooms']])) < 3)] \n",
    "# df_rm_outliers = df_all_cols[(np.abs(stats.zscore(df_all_cols[['price']])) < 2)]\n",
    "# df = df[(np.abs(stats.zscore(df[['']])) < 2)] \n",
    "# df_rm_outliers = df_all_cols.loc[    (df_all_cols[(np.abs(stats.zscore(df_all_cols[['bedrooms']])) < 3)]) & (df_all_cols[(np.abs(stats.zscore(df_all_cols[['price']])) < 2)])]\n",
    "\n",
    "df_rm_outliers = df_all_cols[ (np.abs(stats.zscore(df_all_cols[['bedrooms']])) < 1) & (np.abs(stats.zscore(df_all_cols[['price']])) < 2)]"
   ],
   "outputs": [],
   "metadata": {}
  },
  {
   "cell_type": "code",
   "execution_count": null,
   "source": [
    "# Sort by Bedrooms:\n",
    "df_rm_outliers[['price_millions', 'bedrooms', 'bathrooms', 'sqft_living']].sort_values('bedrooms', ascending = False).head(10)"
   ],
   "outputs": [],
   "metadata": {}
  },
  {
   "cell_type": "code",
   "execution_count": 310,
   "source": [
    "df_rm_outliers.columns"
   ],
   "outputs": [
    {
     "output_type": "execute_result",
     "data": {
      "text/plain": [
       "Index(['price', 'bedrooms', 'bathrooms', 'sqft_living', 'sqft_lot', 'floors',\n",
       "       'waterfront', 'condition', 'grade', 'yr_built', 'price_millions'],\n",
       "      dtype='object')"
      ]
     },
     "metadata": {},
     "execution_count": 310
    }
   ],
   "metadata": {}
  },
  {
   "cell_type": "code",
   "execution_count": 312,
   "source": [
    "format_dict = {'bedrooms': '{:.2f}', 'bathrooms': '{:.2f}', 'floors': '{:.2f}', 'sqft_living': '{:20,.2f}', 'sqft_lot': '{:20,.2f}',\n",
    "               'price_millions': '{:,.8f}', 'yr_built': '{:.0f}', 'condition': '{:.2f}', 'grade': '{:.2f}', 'waterfront': '{:.5f}'}\n",
    "df_rm_outliers[['price_millions', 'bedrooms', 'bathrooms', 'sqft_living', 'floors',\n",
    "    'waterfront', 'condition', 'grade', 'yr_built']].describe().style.format(format_dict)"
   ],
   "outputs": [
    {
     "output_type": "execute_result",
     "data": {
      "text/html": [
       "<style  type=\"text/css\" >\n",
       "</style><table id=\"T_9bfb8766_2594_11ec_92ff_f079600ee336\" ><thead>    <tr>        <th class=\"blank level0\" ></th>        <th class=\"col_heading level0 col0\" >price_millions</th>        <th class=\"col_heading level0 col1\" >bedrooms</th>        <th class=\"col_heading level0 col2\" >bathrooms</th>        <th class=\"col_heading level0 col3\" >sqft_living</th>        <th class=\"col_heading level0 col4\" >floors</th>        <th class=\"col_heading level0 col5\" >waterfront</th>        <th class=\"col_heading level0 col6\" >condition</th>        <th class=\"col_heading level0 col7\" >grade</th>        <th class=\"col_heading level0 col8\" >yr_built</th>    </tr></thead><tbody>\n",
       "                <tr>\n",
       "                        <th id=\"T_9bfb8766_2594_11ec_92ff_f079600ee336level0_row0\" class=\"row_heading level0 row0\" >count</th>\n",
       "                        <td id=\"T_9bfb8766_2594_11ec_92ff_f079600ee336row0_col0\" class=\"data row0 col0\" >20,756.00000000</td>\n",
       "                        <td id=\"T_9bfb8766_2594_11ec_92ff_f079600ee336row0_col1\" class=\"data row0 col1\" >20756.00</td>\n",
       "                        <td id=\"T_9bfb8766_2594_11ec_92ff_f079600ee336row0_col2\" class=\"data row0 col2\" >20756.00</td>\n",
       "                        <td id=\"T_9bfb8766_2594_11ec_92ff_f079600ee336row0_col3\" class=\"data row0 col3\" >           20,756.00</td>\n",
       "                        <td id=\"T_9bfb8766_2594_11ec_92ff_f079600ee336row0_col4\" class=\"data row0 col4\" >20756.00</td>\n",
       "                        <td id=\"T_9bfb8766_2594_11ec_92ff_f079600ee336row0_col5\" class=\"data row0 col5\" >20756.00000</td>\n",
       "                        <td id=\"T_9bfb8766_2594_11ec_92ff_f079600ee336row0_col6\" class=\"data row0 col6\" >20756.00</td>\n",
       "                        <td id=\"T_9bfb8766_2594_11ec_92ff_f079600ee336row0_col7\" class=\"data row0 col7\" >20756.00</td>\n",
       "                        <td id=\"T_9bfb8766_2594_11ec_92ff_f079600ee336row0_col8\" class=\"data row0 col8\" >20756</td>\n",
       "            </tr>\n",
       "            <tr>\n",
       "                        <th id=\"T_9bfb8766_2594_11ec_92ff_f079600ee336level0_row1\" class=\"row_heading level0 row1\" >mean</th>\n",
       "                        <td id=\"T_9bfb8766_2594_11ec_92ff_f079600ee336row1_col0\" class=\"data row1 col0\" >0.48772620</td>\n",
       "                        <td id=\"T_9bfb8766_2594_11ec_92ff_f079600ee336row1_col1\" class=\"data row1 col1\" >3.34</td>\n",
       "                        <td id=\"T_9bfb8766_2594_11ec_92ff_f079600ee336row1_col2\" class=\"data row1 col2\" >2.07</td>\n",
       "                        <td id=\"T_9bfb8766_2594_11ec_92ff_f079600ee336row1_col3\" class=\"data row1 col3\" >            1,998.13</td>\n",
       "                        <td id=\"T_9bfb8766_2594_11ec_92ff_f079600ee336row1_col4\" class=\"data row1 col4\" >1.48</td>\n",
       "                        <td id=\"T_9bfb8766_2594_11ec_92ff_f079600ee336row1_col5\" class=\"data row1 col5\" >0.00299</td>\n",
       "                        <td id=\"T_9bfb8766_2594_11ec_92ff_f079600ee336row1_col6\" class=\"data row1 col6\" >3.41</td>\n",
       "                        <td id=\"T_9bfb8766_2594_11ec_92ff_f079600ee336row1_col7\" class=\"data row1 col7\" >7.56</td>\n",
       "                        <td id=\"T_9bfb8766_2594_11ec_92ff_f079600ee336row1_col8\" class=\"data row1 col8\" >1971</td>\n",
       "            </tr>\n",
       "            <tr>\n",
       "                        <th id=\"T_9bfb8766_2594_11ec_92ff_f079600ee336level0_row2\" class=\"row_heading level0 row2\" >std</th>\n",
       "                        <td id=\"T_9bfb8766_2594_11ec_92ff_f079600ee336row2_col0\" class=\"data row2 col0\" >0.22445433</td>\n",
       "                        <td id=\"T_9bfb8766_2594_11ec_92ff_f079600ee336row2_col1\" class=\"data row2 col1\" >0.91</td>\n",
       "                        <td id=\"T_9bfb8766_2594_11ec_92ff_f079600ee336row2_col2\" class=\"data row2 col2\" >0.72</td>\n",
       "                        <td id=\"T_9bfb8766_2594_11ec_92ff_f079600ee336row2_col3\" class=\"data row2 col3\" >              798.49</td>\n",
       "                        <td id=\"T_9bfb8766_2594_11ec_92ff_f079600ee336row2_col4\" class=\"data row2 col4\" >0.54</td>\n",
       "                        <td id=\"T_9bfb8766_2594_11ec_92ff_f079600ee336row2_col5\" class=\"data row2 col5\" >0.05457</td>\n",
       "                        <td id=\"T_9bfb8766_2594_11ec_92ff_f079600ee336row2_col6\" class=\"data row2 col6\" >0.65</td>\n",
       "                        <td id=\"T_9bfb8766_2594_11ec_92ff_f079600ee336row2_col7\" class=\"data row2 col7\" >1.06</td>\n",
       "                        <td id=\"T_9bfb8766_2594_11ec_92ff_f079600ee336row2_col8\" class=\"data row2 col8\" >29</td>\n",
       "            </tr>\n",
       "            <tr>\n",
       "                        <th id=\"T_9bfb8766_2594_11ec_92ff_f079600ee336level0_row3\" class=\"row_heading level0 row3\" >min</th>\n",
       "                        <td id=\"T_9bfb8766_2594_11ec_92ff_f079600ee336row3_col0\" class=\"data row3 col0\" >0.07800000</td>\n",
       "                        <td id=\"T_9bfb8766_2594_11ec_92ff_f079600ee336row3_col1\" class=\"data row3 col1\" >1.00</td>\n",
       "                        <td id=\"T_9bfb8766_2594_11ec_92ff_f079600ee336row3_col2\" class=\"data row3 col2\" >0.50</td>\n",
       "                        <td id=\"T_9bfb8766_2594_11ec_92ff_f079600ee336row3_col3\" class=\"data row3 col3\" >              370.00</td>\n",
       "                        <td id=\"T_9bfb8766_2594_11ec_92ff_f079600ee336row3_col4\" class=\"data row3 col4\" >1.00</td>\n",
       "                        <td id=\"T_9bfb8766_2594_11ec_92ff_f079600ee336row3_col5\" class=\"data row3 col5\" >0.00000</td>\n",
       "                        <td id=\"T_9bfb8766_2594_11ec_92ff_f079600ee336row3_col6\" class=\"data row3 col6\" >1.00</td>\n",
       "                        <td id=\"T_9bfb8766_2594_11ec_92ff_f079600ee336row3_col7\" class=\"data row3 col7\" >3.00</td>\n",
       "                        <td id=\"T_9bfb8766_2594_11ec_92ff_f079600ee336row3_col8\" class=\"data row3 col8\" >1900</td>\n",
       "            </tr>\n",
       "            <tr>\n",
       "                        <th id=\"T_9bfb8766_2594_11ec_92ff_f079600ee336level0_row4\" class=\"row_heading level0 row4\" >25%</th>\n",
       "                        <td id=\"T_9bfb8766_2594_11ec_92ff_f079600ee336row4_col0\" class=\"data row4 col0\" >0.31700000</td>\n",
       "                        <td id=\"T_9bfb8766_2594_11ec_92ff_f079600ee336row4_col1\" class=\"data row4 col1\" >3.00</td>\n",
       "                        <td id=\"T_9bfb8766_2594_11ec_92ff_f079600ee336row4_col2\" class=\"data row4 col2\" >1.50</td>\n",
       "                        <td id=\"T_9bfb8766_2594_11ec_92ff_f079600ee336row4_col3\" class=\"data row4 col3\" >            1,407.25</td>\n",
       "                        <td id=\"T_9bfb8766_2594_11ec_92ff_f079600ee336row4_col4\" class=\"data row4 col4\" >1.00</td>\n",
       "                        <td id=\"T_9bfb8766_2594_11ec_92ff_f079600ee336row4_col5\" class=\"data row4 col5\" >0.00000</td>\n",
       "                        <td id=\"T_9bfb8766_2594_11ec_92ff_f079600ee336row4_col6\" class=\"data row4 col6\" >3.00</td>\n",
       "                        <td id=\"T_9bfb8766_2594_11ec_92ff_f079600ee336row4_col7\" class=\"data row4 col7\" >7.00</td>\n",
       "                        <td id=\"T_9bfb8766_2594_11ec_92ff_f079600ee336row4_col8\" class=\"data row4 col8\" >1951</td>\n",
       "            </tr>\n",
       "            <tr>\n",
       "                        <th id=\"T_9bfb8766_2594_11ec_92ff_f079600ee336level0_row5\" class=\"row_heading level0 row5\" >50%</th>\n",
       "                        <td id=\"T_9bfb8766_2594_11ec_92ff_f079600ee336row5_col0\" class=\"data row5 col0\" >0.44000000</td>\n",
       "                        <td id=\"T_9bfb8766_2594_11ec_92ff_f079600ee336row5_col1\" class=\"data row5 col1\" >3.00</td>\n",
       "                        <td id=\"T_9bfb8766_2594_11ec_92ff_f079600ee336row5_col2\" class=\"data row5 col2\" >2.25</td>\n",
       "                        <td id=\"T_9bfb8766_2594_11ec_92ff_f079600ee336row5_col3\" class=\"data row5 col3\" >            1,870.00</td>\n",
       "                        <td id=\"T_9bfb8766_2594_11ec_92ff_f079600ee336row5_col4\" class=\"data row5 col4\" >1.00</td>\n",
       "                        <td id=\"T_9bfb8766_2594_11ec_92ff_f079600ee336row5_col5\" class=\"data row5 col5\" >0.00000</td>\n",
       "                        <td id=\"T_9bfb8766_2594_11ec_92ff_f079600ee336row5_col6\" class=\"data row5 col6\" >3.00</td>\n",
       "                        <td id=\"T_9bfb8766_2594_11ec_92ff_f079600ee336row5_col7\" class=\"data row5 col7\" >7.00</td>\n",
       "                        <td id=\"T_9bfb8766_2594_11ec_92ff_f079600ee336row5_col8\" class=\"data row5 col8\" >1974</td>\n",
       "            </tr>\n",
       "            <tr>\n",
       "                        <th id=\"T_9bfb8766_2594_11ec_92ff_f079600ee336level0_row6\" class=\"row_heading level0 row6\" >75%</th>\n",
       "                        <td id=\"T_9bfb8766_2594_11ec_92ff_f079600ee336row6_col0\" class=\"data row6 col0\" >0.61327500</td>\n",
       "                        <td id=\"T_9bfb8766_2594_11ec_92ff_f079600ee336row6_col1\" class=\"data row6 col1\" >4.00</td>\n",
       "                        <td id=\"T_9bfb8766_2594_11ec_92ff_f079600ee336row6_col2\" class=\"data row6 col2\" >2.50</td>\n",
       "                        <td id=\"T_9bfb8766_2594_11ec_92ff_f079600ee336row6_col3\" class=\"data row6 col3\" >            2,460.00</td>\n",
       "                        <td id=\"T_9bfb8766_2594_11ec_92ff_f079600ee336row6_col4\" class=\"data row6 col4\" >2.00</td>\n",
       "                        <td id=\"T_9bfb8766_2594_11ec_92ff_f079600ee336row6_col5\" class=\"data row6 col5\" >0.00000</td>\n",
       "                        <td id=\"T_9bfb8766_2594_11ec_92ff_f079600ee336row6_col6\" class=\"data row6 col6\" >4.00</td>\n",
       "                        <td id=\"T_9bfb8766_2594_11ec_92ff_f079600ee336row6_col7\" class=\"data row6 col7\" >8.00</td>\n",
       "                        <td id=\"T_9bfb8766_2594_11ec_92ff_f079600ee336row6_col8\" class=\"data row6 col8\" >1996</td>\n",
       "            </tr>\n",
       "            <tr>\n",
       "                        <th id=\"T_9bfb8766_2594_11ec_92ff_f079600ee336level0_row7\" class=\"row_heading level0 row7\" >max</th>\n",
       "                        <td id=\"T_9bfb8766_2594_11ec_92ff_f079600ee336row7_col0\" class=\"data row7 col0\" >1.27000000</td>\n",
       "                        <td id=\"T_9bfb8766_2594_11ec_92ff_f079600ee336row7_col1\" class=\"data row7 col1\" >33.00</td>\n",
       "                        <td id=\"T_9bfb8766_2594_11ec_92ff_f079600ee336row7_col2\" class=\"data row7 col2\" >7.50</td>\n",
       "                        <td id=\"T_9bfb8766_2594_11ec_92ff_f079600ee336row7_col3\" class=\"data row7 col3\" >            7,480.00</td>\n",
       "                        <td id=\"T_9bfb8766_2594_11ec_92ff_f079600ee336row7_col4\" class=\"data row7 col4\" >3.50</td>\n",
       "                        <td id=\"T_9bfb8766_2594_11ec_92ff_f079600ee336row7_col5\" class=\"data row7 col5\" >1.00000</td>\n",
       "                        <td id=\"T_9bfb8766_2594_11ec_92ff_f079600ee336row7_col6\" class=\"data row7 col6\" >5.00</td>\n",
       "                        <td id=\"T_9bfb8766_2594_11ec_92ff_f079600ee336row7_col7\" class=\"data row7 col7\" >12.00</td>\n",
       "                        <td id=\"T_9bfb8766_2594_11ec_92ff_f079600ee336row7_col8\" class=\"data row7 col8\" >2015</td>\n",
       "            </tr>\n",
       "    </tbody></table>"
      ],
      "text/plain": [
       "<pandas.io.formats.style.Styler at 0x7f88c2858b38>"
      ]
     },
     "metadata": {},
     "execution_count": 312
    }
   ],
   "metadata": {}
  },
  {
   "cell_type": "code",
   "execution_count": null,
   "source": [
    "# For our other variables (other Betas) will be multiplied by a particular coefficient to predict price\n",
    "X = sm.add_constant(df_rm_outliers.drop(['price','price_millions'], axis=1))\n",
    "y = df_rm_outliers['price_millions']\n",
    "X.head()"
   ],
   "outputs": [],
   "metadata": {}
  },
  {
   "cell_type": "code",
   "execution_count": null,
   "source": [
    "model_rm_outliers = sm.OLS(y, X).fit() "
   ],
   "outputs": [],
   "metadata": {}
  },
  {
   "cell_type": "code",
   "execution_count": null,
   "source": [
    "model_rm_outliers.summary()"
   ],
   "outputs": [],
   "metadata": {}
  },
  {
   "cell_type": "code",
   "execution_count": null,
   "source": [
    "yhat = model_rm_outliers.predict(X)\n",
    "model_rmse = mean_squared_error(y,yhat)\n",
    "model_rmse"
   ],
   "outputs": [],
   "metadata": {}
  },
  {
   "cell_type": "code",
   "execution_count": null,
   "source": [
    "X_train, X_test, y_train, y_test = train_test_split(\n",
    "    X, y, test_size=0.3, random_state=4)"
   ],
   "outputs": [],
   "metadata": {}
  },
  {
   "cell_type": "code",
   "execution_count": null,
   "source": [
    "lr.fit(X_train, y_train)\n",
    "print(list(zip(lr.coef_, X_train.columns)))"
   ],
   "outputs": [],
   "metadata": {}
  },
  {
   "cell_type": "code",
   "execution_count": null,
   "source": [
    "predict_y_train = lr.predict(X_train)"
   ],
   "outputs": [],
   "metadata": {}
  },
  {
   "cell_type": "code",
   "execution_count": null,
   "source": [
    "print('The R squared value is: ' + str(metrics.r2_score(y_train, predict_y_train)))"
   ],
   "outputs": [],
   "metadata": {}
  },
  {
   "cell_type": "code",
   "execution_count": null,
   "source": [
    "# Actual Prices vs. Predicted Prices:\n",
    "plt.scatter(y_train, predict_y_train)\n",
    "plt.xlabel('price - millions')\n",
    "plt.ylabel('predicted price - millions')\n",
    "plt.show()"
   ],
   "outputs": [],
   "metadata": {}
  },
  {
   "cell_type": "code",
   "execution_count": null,
   "source": [
    "# Predicted Price vs. Residuals\n",
    "plt.scatter(predict_y_train, y_train - predict_y_train)\n",
    "plt.xlabel('predicted')\n",
    "plt.ylabel('residuals')"
   ],
   "outputs": [],
   "metadata": {}
  },
  {
   "cell_type": "code",
   "execution_count": null,
   "source": [
    "# Check Distribution of Errors:\n",
    "sns.distplot(y_train - predict_y_train)\n",
    "plt.xlabel('residuals')\n",
    "plt.ylabel('frequency')"
   ],
   "outputs": [],
   "metadata": {}
  },
  {
   "cell_type": "code",
   "execution_count": null,
   "source": [
    "# R-Squared value for Testing Data:\n",
    "predict_y_test = lr.predict(X_test)\n",
    "print('The R squared value is: ' + str(metrics.r2_score(y_test, predict_y_test)))"
   ],
   "outputs": [],
   "metadata": {}
  },
  {
   "cell_type": "code",
   "execution_count": null,
   "source": [
    "# These values make a lot more sense\n",
    "# The minimum and maximum values for price, bedrooms, and bathrooms are conceivable attributes of a middle class person's home.\n",
    "# We didn't sacrifice on the size of our dataset, having only shed only about 4% of the number of rows in the original dataset.\n",
    "df_rm_outliers[['price', 'bedrooms', 'bathrooms', 'sqft_living', 'floors',\n",
    "    'waterfront', 'condition', 'grade', 'yr_built']].describe().style.format(format_dict)"
   ],
   "outputs": [],
   "metadata": {}
  },
  {
   "cell_type": "markdown",
   "source": [
    "# Remove sqft_living"
   ],
   "metadata": {}
  },
  {
   "cell_type": "code",
   "execution_count": 403,
   "source": [
    "df_rm_outliers = df_all_cols.drop(['sqft_living','bathrooms'], axis=1)"
   ],
   "outputs": [],
   "metadata": {}
  },
  {
   "cell_type": "code",
   "execution_count": 404,
   "source": [
    "# df_rm_outliers = df_all_cols[ (np.abs(stats.zscore(df_all_cols[['sqft_lot']])) < 3) & (np.abs(stats.zscore(df_all_cols[['price']])) < 3)]\n",
    "df_rm_outliers = df_rm_outliers[(np.abs(stats.zscore(df_rm_outliers[['price_millions']])) < 3)]\n",
    "# df_rm_outliers = df_rm_outliers[(np.abs(stats.zscore(df_rm_outliers)) < 3).all(axis=1)]\n",
    "\n",
    "df_rm_outliers[['price_millions', 'bedrooms', 'sqft_lot']].sort_values('price_millions', ascending = False).head(10)"
   ],
   "outputs": [
    {
     "output_type": "execute_result",
     "data": {
      "text/html": [
       "<div>\n",
       "<style scoped>\n",
       "    .dataframe tbody tr th:only-of-type {\n",
       "        vertical-align: middle;\n",
       "    }\n",
       "\n",
       "    .dataframe tbody tr th {\n",
       "        vertical-align: top;\n",
       "    }\n",
       "\n",
       "    .dataframe thead th {\n",
       "        text-align: right;\n",
       "    }\n",
       "</style>\n",
       "<table border=\"1\" class=\"dataframe\">\n",
       "  <thead>\n",
       "    <tr style=\"text-align: right;\">\n",
       "      <th></th>\n",
       "      <th>price_millions</th>\n",
       "      <th>bedrooms</th>\n",
       "      <th>sqft_lot</th>\n",
       "    </tr>\n",
       "  </thead>\n",
       "  <tbody>\n",
       "    <tr>\n",
       "      <th>15910</th>\n",
       "      <td>1.64</td>\n",
       "      <td>3</td>\n",
       "      <td>6765</td>\n",
       "    </tr>\n",
       "    <tr>\n",
       "      <th>2110</th>\n",
       "      <td>1.64</td>\n",
       "      <td>5</td>\n",
       "      <td>26784</td>\n",
       "    </tr>\n",
       "    <tr>\n",
       "      <th>14981</th>\n",
       "      <td>1.64</td>\n",
       "      <td>5</td>\n",
       "      <td>118047</td>\n",
       "    </tr>\n",
       "    <tr>\n",
       "      <th>15678</th>\n",
       "      <td>1.64</td>\n",
       "      <td>3</td>\n",
       "      <td>21164</td>\n",
       "    </tr>\n",
       "    <tr>\n",
       "      <th>13620</th>\n",
       "      <td>1.64</td>\n",
       "      <td>3</td>\n",
       "      <td>5445</td>\n",
       "    </tr>\n",
       "    <tr>\n",
       "      <th>8167</th>\n",
       "      <td>1.63</td>\n",
       "      <td>4</td>\n",
       "      <td>8112</td>\n",
       "    </tr>\n",
       "    <tr>\n",
       "      <th>17310</th>\n",
       "      <td>1.63</td>\n",
       "      <td>5</td>\n",
       "      <td>16583</td>\n",
       "    </tr>\n",
       "    <tr>\n",
       "      <th>14220</th>\n",
       "      <td>1.63</td>\n",
       "      <td>4</td>\n",
       "      <td>3600</td>\n",
       "    </tr>\n",
       "    <tr>\n",
       "      <th>7262</th>\n",
       "      <td>1.62</td>\n",
       "      <td>4</td>\n",
       "      <td>12281</td>\n",
       "    </tr>\n",
       "    <tr>\n",
       "      <th>2562</th>\n",
       "      <td>1.62</td>\n",
       "      <td>4</td>\n",
       "      <td>9750</td>\n",
       "    </tr>\n",
       "  </tbody>\n",
       "</table>\n",
       "</div>"
      ],
      "text/plain": [
       "       price_millions  bedrooms  sqft_lot\n",
       "15910            1.64         3      6765\n",
       "2110             1.64         5     26784\n",
       "14981            1.64         5    118047\n",
       "15678            1.64         3     21164\n",
       "13620            1.64         3      5445\n",
       "8167             1.63         4      8112\n",
       "17310            1.63         5     16583\n",
       "14220            1.63         4      3600\n",
       "7262             1.62         4     12281\n",
       "2562             1.62         4      9750"
      ]
     },
     "metadata": {},
     "execution_count": 404
    }
   ],
   "metadata": {}
  },
  {
   "cell_type": "code",
   "execution_count": 405,
   "source": [
    "format_dict = {'bedrooms': '{:.2f}', 'bathrooms': '{:.2f}', 'floors': '{:.2f}', 'sqft_living': '{:20,.2f}', 'sqft_lot': '{:20,.2f}',\n",
    "               'price_millions': '{:,.8f}', 'yr_built': '{:.0f}', 'condition': '{:.2f}', 'grade': '{:.2f}', 'waterfront': '{:.5f}'}\n",
    "df_rm_outliers[['price_millions', 'bedrooms',  'floors',\n",
    "    'waterfront', 'condition', 'grade', 'yr_built','sqft_lot']].describe().style.format(format_dict)"
   ],
   "outputs": [
    {
     "output_type": "execute_result",
     "data": {
      "text/html": [
       "<style  type=\"text/css\" >\n",
       "</style><table id=\"T_7ee45a78_2598_11ec_acf0_f079600ee336\" ><thead>    <tr>        <th class=\"blank level0\" ></th>        <th class=\"col_heading level0 col0\" >price_millions</th>        <th class=\"col_heading level0 col1\" >bedrooms</th>        <th class=\"col_heading level0 col2\" >floors</th>        <th class=\"col_heading level0 col3\" >waterfront</th>        <th class=\"col_heading level0 col4\" >condition</th>        <th class=\"col_heading level0 col5\" >grade</th>        <th class=\"col_heading level0 col6\" >yr_built</th>        <th class=\"col_heading level0 col7\" >sqft_lot</th>    </tr></thead><tbody>\n",
       "                <tr>\n",
       "                        <th id=\"T_7ee45a78_2598_11ec_acf0_f079600ee336level0_row0\" class=\"row_heading level0 row0\" >count</th>\n",
       "                        <td id=\"T_7ee45a78_2598_11ec_acf0_f079600ee336row0_col0\" class=\"data row0 col0\" >21,191.00000000</td>\n",
       "                        <td id=\"T_7ee45a78_2598_11ec_acf0_f079600ee336row0_col1\" class=\"data row0 col1\" >21191.00</td>\n",
       "                        <td id=\"T_7ee45a78_2598_11ec_acf0_f079600ee336row0_col2\" class=\"data row0 col2\" >21191.00</td>\n",
       "                        <td id=\"T_7ee45a78_2598_11ec_acf0_f079600ee336row0_col3\" class=\"data row0 col3\" >21191.00000</td>\n",
       "                        <td id=\"T_7ee45a78_2598_11ec_acf0_f079600ee336row0_col4\" class=\"data row0 col4\" >21191.00</td>\n",
       "                        <td id=\"T_7ee45a78_2598_11ec_acf0_f079600ee336row0_col5\" class=\"data row0 col5\" >21191.00</td>\n",
       "                        <td id=\"T_7ee45a78_2598_11ec_acf0_f079600ee336row0_col6\" class=\"data row0 col6\" >21191</td>\n",
       "                        <td id=\"T_7ee45a78_2598_11ec_acf0_f079600ee336row0_col7\" class=\"data row0 col7\" >           21,191.00</td>\n",
       "            </tr>\n",
       "            <tr>\n",
       "                        <th id=\"T_7ee45a78_2598_11ec_acf0_f079600ee336level0_row1\" class=\"row_heading level0 row1\" >mean</th>\n",
       "                        <td id=\"T_7ee45a78_2598_11ec_acf0_f079600ee336row1_col0\" class=\"data row1 col0\" >0.50701029</td>\n",
       "                        <td id=\"T_7ee45a78_2598_11ec_acf0_f079600ee336row1_col1\" class=\"data row1 col1\" >3.36</td>\n",
       "                        <td id=\"T_7ee45a78_2598_11ec_acf0_f079600ee336row1_col2\" class=\"data row1 col2\" >1.49</td>\n",
       "                        <td id=\"T_7ee45a78_2598_11ec_acf0_f079600ee336row1_col3\" class=\"data row1 col3\" >0.00378</td>\n",
       "                        <td id=\"T_7ee45a78_2598_11ec_acf0_f079600ee336row1_col4\" class=\"data row1 col4\" >3.41</td>\n",
       "                        <td id=\"T_7ee45a78_2598_11ec_acf0_f079600ee336row1_col5\" class=\"data row1 col5\" >7.61</td>\n",
       "                        <td id=\"T_7ee45a78_2598_11ec_acf0_f079600ee336row1_col6\" class=\"data row1 col6\" >1971</td>\n",
       "                        <td id=\"T_7ee45a78_2598_11ec_acf0_f079600ee336row1_col7\" class=\"data row1 col7\" >           14,826.73</td>\n",
       "            </tr>\n",
       "            <tr>\n",
       "                        <th id=\"T_7ee45a78_2598_11ec_acf0_f079600ee336level0_row2\" class=\"row_heading level0 row2\" >std</th>\n",
       "                        <td id=\"T_7ee45a78_2598_11ec_acf0_f079600ee336row2_col0\" class=\"data row2 col0\" >0.25946221</td>\n",
       "                        <td id=\"T_7ee45a78_2598_11ec_acf0_f079600ee336row2_col1\" class=\"data row2 col1\" >0.92</td>\n",
       "                        <td id=\"T_7ee45a78_2598_11ec_acf0_f079600ee336row2_col2\" class=\"data row2 col2\" >0.54</td>\n",
       "                        <td id=\"T_7ee45a78_2598_11ec_acf0_f079600ee336row2_col3\" class=\"data row2 col3\" >0.06133</td>\n",
       "                        <td id=\"T_7ee45a78_2598_11ec_acf0_f079600ee336row2_col4\" class=\"data row2 col4\" >0.65</td>\n",
       "                        <td id=\"T_7ee45a78_2598_11ec_acf0_f079600ee336row2_col5\" class=\"data row2 col5\" >1.11</td>\n",
       "                        <td id=\"T_7ee45a78_2598_11ec_acf0_f079600ee336row2_col6\" class=\"data row2 col6\" >29</td>\n",
       "                        <td id=\"T_7ee45a78_2598_11ec_acf0_f079600ee336row2_col7\" class=\"data row2 col7\" >           40,400.95</td>\n",
       "            </tr>\n",
       "            <tr>\n",
       "                        <th id=\"T_7ee45a78_2598_11ec_acf0_f079600ee336level0_row3\" class=\"row_heading level0 row3\" >min</th>\n",
       "                        <td id=\"T_7ee45a78_2598_11ec_acf0_f079600ee336row3_col0\" class=\"data row3 col0\" >0.07800000</td>\n",
       "                        <td id=\"T_7ee45a78_2598_11ec_acf0_f079600ee336row3_col1\" class=\"data row3 col1\" >1.00</td>\n",
       "                        <td id=\"T_7ee45a78_2598_11ec_acf0_f079600ee336row3_col2\" class=\"data row3 col2\" >1.00</td>\n",
       "                        <td id=\"T_7ee45a78_2598_11ec_acf0_f079600ee336row3_col3\" class=\"data row3 col3\" >0.00000</td>\n",
       "                        <td id=\"T_7ee45a78_2598_11ec_acf0_f079600ee336row3_col4\" class=\"data row3 col4\" >1.00</td>\n",
       "                        <td id=\"T_7ee45a78_2598_11ec_acf0_f079600ee336row3_col5\" class=\"data row3 col5\" >3.00</td>\n",
       "                        <td id=\"T_7ee45a78_2598_11ec_acf0_f079600ee336row3_col6\" class=\"data row3 col6\" >1900</td>\n",
       "                        <td id=\"T_7ee45a78_2598_11ec_acf0_f079600ee336row3_col7\" class=\"data row3 col7\" >              520.00</td>\n",
       "            </tr>\n",
       "            <tr>\n",
       "                        <th id=\"T_7ee45a78_2598_11ec_acf0_f079600ee336level0_row4\" class=\"row_heading level0 row4\" >25%</th>\n",
       "                        <td id=\"T_7ee45a78_2598_11ec_acf0_f079600ee336row4_col0\" class=\"data row4 col0\" >0.32000000</td>\n",
       "                        <td id=\"T_7ee45a78_2598_11ec_acf0_f079600ee336row4_col1\" class=\"data row4 col1\" >3.00</td>\n",
       "                        <td id=\"T_7ee45a78_2598_11ec_acf0_f079600ee336row4_col2\" class=\"data row4 col2\" >1.00</td>\n",
       "                        <td id=\"T_7ee45a78_2598_11ec_acf0_f079600ee336row4_col3\" class=\"data row4 col3\" >0.00000</td>\n",
       "                        <td id=\"T_7ee45a78_2598_11ec_acf0_f079600ee336row4_col4\" class=\"data row4 col4\" >3.00</td>\n",
       "                        <td id=\"T_7ee45a78_2598_11ec_acf0_f079600ee336row4_col5\" class=\"data row4 col5\" >7.00</td>\n",
       "                        <td id=\"T_7ee45a78_2598_11ec_acf0_f079600ee336row4_col6\" class=\"data row4 col6\" >1951</td>\n",
       "                        <td id=\"T_7ee45a78_2598_11ec_acf0_f079600ee336row4_col7\" class=\"data row4 col7\" >            5,005.50</td>\n",
       "            </tr>\n",
       "            <tr>\n",
       "                        <th id=\"T_7ee45a78_2598_11ec_acf0_f079600ee336level0_row5\" class=\"row_heading level0 row5\" >50%</th>\n",
       "                        <td id=\"T_7ee45a78_2598_11ec_acf0_f079600ee336row5_col0\" class=\"data row5 col0\" >0.44700000</td>\n",
       "                        <td id=\"T_7ee45a78_2598_11ec_acf0_f079600ee336row5_col1\" class=\"data row5 col1\" >3.00</td>\n",
       "                        <td id=\"T_7ee45a78_2598_11ec_acf0_f079600ee336row5_col2\" class=\"data row5 col2\" >1.00</td>\n",
       "                        <td id=\"T_7ee45a78_2598_11ec_acf0_f079600ee336row5_col3\" class=\"data row5 col3\" >0.00000</td>\n",
       "                        <td id=\"T_7ee45a78_2598_11ec_acf0_f079600ee336row5_col4\" class=\"data row5 col4\" >3.00</td>\n",
       "                        <td id=\"T_7ee45a78_2598_11ec_acf0_f079600ee336row5_col5\" class=\"data row5 col5\" >7.00</td>\n",
       "                        <td id=\"T_7ee45a78_2598_11ec_acf0_f079600ee336row5_col6\" class=\"data row5 col6\" >1975</td>\n",
       "                        <td id=\"T_7ee45a78_2598_11ec_acf0_f079600ee336row5_col7\" class=\"data row5 col7\" >            7,560.00</td>\n",
       "            </tr>\n",
       "            <tr>\n",
       "                        <th id=\"T_7ee45a78_2598_11ec_acf0_f079600ee336level0_row6\" class=\"row_heading level0 row6\" >75%</th>\n",
       "                        <td id=\"T_7ee45a78_2598_11ec_acf0_f079600ee336row6_col0\" class=\"data row6 col0\" >0.62765000</td>\n",
       "                        <td id=\"T_7ee45a78_2598_11ec_acf0_f079600ee336row6_col1\" class=\"data row6 col1\" >4.00</td>\n",
       "                        <td id=\"T_7ee45a78_2598_11ec_acf0_f079600ee336row6_col2\" class=\"data row6 col2\" >2.00</td>\n",
       "                        <td id=\"T_7ee45a78_2598_11ec_acf0_f079600ee336row6_col3\" class=\"data row6 col3\" >0.00000</td>\n",
       "                        <td id=\"T_7ee45a78_2598_11ec_acf0_f079600ee336row6_col4\" class=\"data row6 col4\" >4.00</td>\n",
       "                        <td id=\"T_7ee45a78_2598_11ec_acf0_f079600ee336row6_col5\" class=\"data row6 col5\" >8.00</td>\n",
       "                        <td id=\"T_7ee45a78_2598_11ec_acf0_f079600ee336row6_col6\" class=\"data row6 col6\" >1996</td>\n",
       "                        <td id=\"T_7ee45a78_2598_11ec_acf0_f079600ee336row6_col7\" class=\"data row6 col7\" >           10,490.50</td>\n",
       "            </tr>\n",
       "            <tr>\n",
       "                        <th id=\"T_7ee45a78_2598_11ec_acf0_f079600ee336level0_row7\" class=\"row_heading level0 row7\" >max</th>\n",
       "                        <td id=\"T_7ee45a78_2598_11ec_acf0_f079600ee336row7_col0\" class=\"data row7 col0\" >1.64000000</td>\n",
       "                        <td id=\"T_7ee45a78_2598_11ec_acf0_f079600ee336row7_col1\" class=\"data row7 col1\" >33.00</td>\n",
       "                        <td id=\"T_7ee45a78_2598_11ec_acf0_f079600ee336row7_col2\" class=\"data row7 col2\" >3.50</td>\n",
       "                        <td id=\"T_7ee45a78_2598_11ec_acf0_f079600ee336row7_col3\" class=\"data row7 col3\" >1.00000</td>\n",
       "                        <td id=\"T_7ee45a78_2598_11ec_acf0_f079600ee336row7_col4\" class=\"data row7 col4\" >5.00</td>\n",
       "                        <td id=\"T_7ee45a78_2598_11ec_acf0_f079600ee336row7_col5\" class=\"data row7 col5\" >12.00</td>\n",
       "                        <td id=\"T_7ee45a78_2598_11ec_acf0_f079600ee336row7_col6\" class=\"data row7 col6\" >2015</td>\n",
       "                        <td id=\"T_7ee45a78_2598_11ec_acf0_f079600ee336row7_col7\" class=\"data row7 col7\" >        1,651,359.00</td>\n",
       "            </tr>\n",
       "    </tbody></table>"
      ],
      "text/plain": [
       "<pandas.io.formats.style.Styler at 0x7f88c2efd898>"
      ]
     },
     "metadata": {},
     "execution_count": 405
    }
   ],
   "metadata": {}
  },
  {
   "cell_type": "code",
   "execution_count": 406,
   "source": [
    "X = sm.add_constant(df_rm_outliers.drop(['price','price_millions'], axis=1))\n",
    "y = df_rm_outliers['price_millions']\n",
    "model_rm_outliers = sm.OLS(y, X).fit() \n",
    "model_rm_outliers.summary()"
   ],
   "outputs": [
    {
     "output_type": "execute_result",
     "data": {
      "text/html": [
       "<table class=\"simpletable\">\n",
       "<caption>OLS Regression Results</caption>\n",
       "<tr>\n",
       "  <th>Dep. Variable:</th>     <td>price_millions</td>  <th>  R-squared:         </th>  <td>   0.560</td> \n",
       "</tr>\n",
       "<tr>\n",
       "  <th>Model:</th>                   <td>OLS</td>       <th>  Adj. R-squared:    </th>  <td>   0.560</td> \n",
       "</tr>\n",
       "<tr>\n",
       "  <th>Method:</th>             <td>Least Squares</td>  <th>  F-statistic:       </th>  <td>   3852.</td> \n",
       "</tr>\n",
       "<tr>\n",
       "  <th>Date:</th>             <td>Mon, 04 Oct 2021</td> <th>  Prob (F-statistic):</th>   <td>  0.00</td>  \n",
       "</tr>\n",
       "<tr>\n",
       "  <th>Time:</th>                 <td>21:55:52</td>     <th>  Log-Likelihood:    </th>  <td>  7220.4</td> \n",
       "</tr>\n",
       "<tr>\n",
       "  <th>No. Observations:</th>      <td> 21191</td>      <th>  AIC:               </th> <td>-1.442e+04</td>\n",
       "</tr>\n",
       "<tr>\n",
       "  <th>Df Residuals:</th>          <td> 21183</td>      <th>  BIC:               </th> <td>-1.436e+04</td>\n",
       "</tr>\n",
       "<tr>\n",
       "  <th>Df Model:</th>              <td>     7</td>      <th>                     </th>      <td> </td>    \n",
       "</tr>\n",
       "<tr>\n",
       "  <th>Covariance Type:</th>      <td>nonrobust</td>    <th>                     </th>      <td> </td>    \n",
       "</tr>\n",
       "</table>\n",
       "<table class=\"simpletable\">\n",
       "<tr>\n",
       "       <td></td>         <th>coef</th>     <th>std err</th>      <th>t</th>      <th>P>|t|</th>  <th>[0.025</th>    <th>0.975]</th>  \n",
       "</tr>\n",
       "<tr>\n",
       "  <th>const</th>      <td>    4.8103</td> <td>    0.099</td> <td>   48.756</td> <td> 0.000</td> <td>    4.617</td> <td>    5.004</td>\n",
       "</tr>\n",
       "<tr>\n",
       "  <th>bedrooms</th>   <td>    0.0257</td> <td>    0.001</td> <td>   18.668</td> <td> 0.000</td> <td>    0.023</td> <td>    0.028</td>\n",
       "</tr>\n",
       "<tr>\n",
       "  <th>sqft_lot</th>   <td> 1.712e-07</td> <td> 2.95e-08</td> <td>    5.799</td> <td> 0.000</td> <td> 1.13e-07</td> <td> 2.29e-07</td>\n",
       "</tr>\n",
       "<tr>\n",
       "  <th>floors</th>     <td>    0.0484</td> <td>    0.003</td> <td>   18.059</td> <td> 0.000</td> <td>    0.043</td> <td>    0.054</td>\n",
       "</tr>\n",
       "<tr>\n",
       "  <th>waterfront</th> <td>    0.3411</td> <td>    0.019</td> <td>   17.652</td> <td> 0.000</td> <td>    0.303</td> <td>    0.379</td>\n",
       "</tr>\n",
       "<tr>\n",
       "  <th>condition</th>  <td>    0.0246</td> <td>    0.002</td> <td>   12.469</td> <td> 0.000</td> <td>    0.021</td> <td>    0.028</td>\n",
       "</tr>\n",
       "<tr>\n",
       "  <th>grade</th>      <td>    0.1780</td> <td>    0.001</td> <td>  134.164</td> <td> 0.000</td> <td>    0.175</td> <td>    0.181</td>\n",
       "</tr>\n",
       "<tr>\n",
       "  <th>yr_built</th>   <td>   -0.0030</td> <td>  5.1e-05</td> <td>  -58.738</td> <td> 0.000</td> <td>   -0.003</td> <td>   -0.003</td>\n",
       "</tr>\n",
       "</table>\n",
       "<table class=\"simpletable\">\n",
       "<tr>\n",
       "  <th>Omnibus:</th>       <td>3539.690</td> <th>  Durbin-Watson:     </th> <td>   1.958</td>\n",
       "</tr>\n",
       "<tr>\n",
       "  <th>Prob(Omnibus):</th>  <td> 0.000</td>  <th>  Jarque-Bera (JB):  </th> <td>8925.163</td>\n",
       "</tr>\n",
       "<tr>\n",
       "  <th>Skew:</th>           <td> 0.932</td>  <th>  Prob(JB):          </th> <td>    0.00</td>\n",
       "</tr>\n",
       "<tr>\n",
       "  <th>Kurtosis:</th>       <td> 5.576</td>  <th>  Cond. No.          </th> <td>3.59e+06</td>\n",
       "</tr>\n",
       "</table><br/><br/>Warnings:<br/>[1] Standard Errors assume that the covariance matrix of the errors is correctly specified.<br/>[2] The condition number is large, 3.59e+06. This might indicate that there are<br/>strong multicollinearity or other numerical problems."
      ],
      "text/plain": [
       "<class 'statsmodels.iolib.summary.Summary'>\n",
       "\"\"\"\n",
       "                            OLS Regression Results                            \n",
       "==============================================================================\n",
       "Dep. Variable:         price_millions   R-squared:                       0.560\n",
       "Model:                            OLS   Adj. R-squared:                  0.560\n",
       "Method:                 Least Squares   F-statistic:                     3852.\n",
       "Date:                Mon, 04 Oct 2021   Prob (F-statistic):               0.00\n",
       "Time:                        21:55:52   Log-Likelihood:                 7220.4\n",
       "No. Observations:               21191   AIC:                        -1.442e+04\n",
       "Df Residuals:                   21183   BIC:                        -1.436e+04\n",
       "Df Model:                           7                                         \n",
       "Covariance Type:            nonrobust                                         \n",
       "==============================================================================\n",
       "                 coef    std err          t      P>|t|      [0.025      0.975]\n",
       "------------------------------------------------------------------------------\n",
       "const          4.8103      0.099     48.756      0.000       4.617       5.004\n",
       "bedrooms       0.0257      0.001     18.668      0.000       0.023       0.028\n",
       "sqft_lot    1.712e-07   2.95e-08      5.799      0.000    1.13e-07    2.29e-07\n",
       "floors         0.0484      0.003     18.059      0.000       0.043       0.054\n",
       "waterfront     0.3411      0.019     17.652      0.000       0.303       0.379\n",
       "condition      0.0246      0.002     12.469      0.000       0.021       0.028\n",
       "grade          0.1780      0.001    134.164      0.000       0.175       0.181\n",
       "yr_built      -0.0030    5.1e-05    -58.738      0.000      -0.003      -0.003\n",
       "==============================================================================\n",
       "Omnibus:                     3539.690   Durbin-Watson:                   1.958\n",
       "Prob(Omnibus):                  0.000   Jarque-Bera (JB):             8925.163\n",
       "Skew:                           0.932   Prob(JB):                         0.00\n",
       "Kurtosis:                       5.576   Cond. No.                     3.59e+06\n",
       "==============================================================================\n",
       "\n",
       "Warnings:\n",
       "[1] Standard Errors assume that the covariance matrix of the errors is correctly specified.\n",
       "[2] The condition number is large, 3.59e+06. This might indicate that there are\n",
       "strong multicollinearity or other numerical problems.\n",
       "\"\"\""
      ]
     },
     "metadata": {},
     "execution_count": 406
    }
   ],
   "metadata": {}
  },
  {
   "cell_type": "code",
   "execution_count": 407,
   "source": [
    "yhat = model_rm_outliers.predict(X)\n",
    "model_rmse = mean_squared_error(y,yhat)\n",
    "model_rmse"
   ],
   "outputs": [
    {
     "output_type": "execute_result",
     "data": {
      "text/plain": [
       "0.029619071502242814"
      ]
     },
     "metadata": {},
     "execution_count": 407
    }
   ],
   "metadata": {}
  },
  {
   "cell_type": "code",
   "execution_count": 408,
   "source": [
    "X_train, X_test, y_train, y_test = train_test_split(\n",
    "    X, y, test_size=0.3, random_state=4)\n",
    "lr.fit(X_train, y_train)\n",
    "print(list(zip(lr.coef_, np.exp(X_train).columns)))"
   ],
   "outputs": [
    {
     "output_type": "stream",
     "name": "stdout",
     "text": [
      "[(0.0, 'const'), (0.0257928332389006, 'bedrooms'), (1.5696914900335443e-07, 'sqft_lot'), (0.051248750814433836, 'floors'), (0.36233116715720387, 'waterfront'), (0.026148237343844485, 'condition'), (0.17893454276317897, 'grade'), (-0.0030285856611997164, 'yr_built')]\n"
     ]
    }
   ],
   "metadata": {}
  },
  {
   "cell_type": "code",
   "execution_count": 409,
   "source": [
    "predict_y_train = lr.predict(X_train)\n",
    "print('The R squared value is: ' + str(metrics.r2_score(y_train, predict_y_train)))"
   ],
   "outputs": [
    {
     "output_type": "stream",
     "name": "stdout",
     "text": [
      "The R squared value is: 0.5593124943395662\n"
     ]
    }
   ],
   "metadata": {}
  },
  {
   "cell_type": "code",
   "execution_count": 410,
   "source": [
    "# Actual Prices vs. Predicted Prices:\n",
    "plt.scatter(y_train, predict_y_train)\n",
    "plt.xlabel('price - millions')\n",
    "plt.ylabel('predicted price - millions')\n",
    "plt.show()"
   ],
   "outputs": [
    {
     "output_type": "display_data",
     "data": {
      "image/png": "[encoded data removed]",
      "text/plain": [
       "<Figure size 432x288 with 1 Axes>"
      ]
     },
     "metadata": {
      "needs_background": "light"
     }
    }
   ],
   "metadata": {}
  },
  {
   "cell_type": "code",
   "execution_count": 411,
   "source": [
    "# Predicted Price vs. Residuals\n",
    "plt.scatter(predict_y_train, y_train - predict_y_train)\n",
    "plt.xlabel('predicted')\n",
    "plt.ylabel('residuals')"
   ],
   "outputs": [
    {
     "output_type": "execute_result",
     "data": {
      "text/plain": [
       "Text(0, 0.5, 'residuals')"
      ]
     },
     "metadata": {},
     "execution_count": 411
    },
    {
     "output_type": "display_data",
     "data": {
      "image/png": "[encoded data removed]",
      "text/plain": [
       "<Figure size 432x288 with 1 Axes>"
      ]
     },
     "metadata": {
      "needs_background": "light"
     }
    }
   ],
   "metadata": {}
  },
  {
   "cell_type": "code",
   "execution_count": 362,
   "source": [
    "# Check Distribution of Errors:\n",
    "sns.distplot(y_train - predict_y_train)\n",
    "plt.xlabel('residuals')\n",
    "plt.ylabel('frequency')"
   ],
   "outputs": [
    {
     "output_type": "execute_result",
     "data": {
      "text/plain": [
       "Text(0, 0.5, 'frequency')"
      ]
     },
     "metadata": {},
     "execution_count": 362
    },
    {
     "output_type": "display_data",
     "data": {
      "image/png": "[encoded data removed]",
      "text/plain": [
       "<Figure size 432x288 with 1 Axes>"
      ]
     },
     "metadata": {
      "needs_background": "light"
     }
    }
   ],
   "metadata": {}
  },
  {
   "cell_type": "code",
   "execution_count": 363,
   "source": [
    "# R-Squared value for Testing Data:\n",
    "predict_y_test = lr.predict(X_test)\n",
    "print('The R squared value is: ' + str(metrics.r2_score(y_test, predict_y_test)))"
   ],
   "outputs": [
    {
     "output_type": "stream",
     "name": "stdout",
     "text": [
      "The R squared value is: 0.5849795635033436\n"
     ]
    }
   ],
   "metadata": {}
  },
  {
   "cell_type": "code",
   "execution_count": null,
   "source": [],
   "outputs": [],
   "metadata": {}
  }
 ],
 "metadata": {
  "kernelspec": {
   "name": "python3",
   "display_name": "Python 3.6.9 64-bit ('learn-env': conda)"
  },
  "language_info": {
   "codemirror_mode": {
    "name": "ipython",
    "version": 3
   },
   "file_extension": ".py",
   "mimetype": "text/x-python",
   "name": "python",
   "nbconvert_exporter": "python",
   "pygments_lexer": "ipython3",
   "version": "3.6.9"
  },
  "interpreter": {
   "hash": "5d1f83e9c63cec2de7bdeb43eb17fdae110b98c2255761b9e5cd119be6dbfe82"
  }
 },
 "nbformat": 4,
 "nbformat_minor": 2
}