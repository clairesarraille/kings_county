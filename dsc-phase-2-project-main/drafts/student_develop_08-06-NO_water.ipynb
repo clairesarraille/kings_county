{
 "cells": [
  {
   "cell_type": "code",
   "execution_count": 1,
   "source": [
    "import numpy as np\n",
    "import pandas as pd\n",
    "from matplotlib import pyplot as plt\n",
    "import seaborn as sns\n",
    "import statsmodels.api as sm\n",
    "from sklearn.preprocessing import OneHotEncoder, StandardScaler\n",
    "from sklearn.datasets import make_regression\n",
    "from sklearn.linear_model import LinearRegression\n",
    "import sklearn.metrics as metrics\n",
    "from random import gauss\n",
    "from mpl_toolkits.mplot3d import Axes3D\n",
    "from scipy import stats as stats\n",
    "\n",
    "%matplotlib inline"
   ],
   "outputs": [
    {
     "output_type": "stream",
     "name": "stderr",
     "text": [
      "/Users/clairesarraille/opt/anaconda3/envs/learn-env/lib/python3.6/site-packages/statsmodels/tools/_testing.py:19: FutureWarning: pandas.util.testing is deprecated. Use the functions in the public API at pandas.testing instead.\n",
      "  import pandas.util.testing as tm\n"
     ]
    }
   ],
   "metadata": {}
  },
  {
   "cell_type": "code",
   "execution_count": 2,
   "source": [
    "import numpy as np\n",
    "import pandas as pd\n",
    "import matplotlib.pyplot as plt\n",
    "from matplotlib.ticker import StrMethodFormatter\n",
    "import seaborn as sns\n",
    "\n",
    "\n",
    "from sklearn.model_selection import train_test_split\n",
    "from sklearn.model_selection import cross_val_score\n",
    "\n",
    "from sklearn import metrics\n",
    "# from sklearn import linear_model\n",
    "from sklearn.linear_model import LinearRegression\n",
    "\n",
    "from sklearn.ensemble import RandomForestRegressor\n",
    "\n",
    "# from statsmodels.stats.outliers_influence import variance_inflation_factor\n",
    "\n",
    "\n",
    "\n",
    "%matplotlib inline"
   ],
   "outputs": [],
   "metadata": {}
  },
  {
   "cell_type": "code",
   "execution_count": 3,
   "source": [
    "df = pd.read_csv('data/kc_house_data.csv')"
   ],
   "outputs": [],
   "metadata": {}
  },
  {
   "cell_type": "code",
   "execution_count": 4,
   "source": [
    "# Why reduce features?\n",
    "# I narrowed my list of features to avoid over-fit of the training dataset\n",
    "# Reducing redundancy in features increases the accuracy of the model\n",
    "\n",
    "df = df.drop(['date','view', 'sqft_above', 'sqft_basement', 'yr_renovated', 'zipcode', 'lat', 'long', 'sqft_living15', 'sqft_lot15'], axis=1)"
   ],
   "outputs": [],
   "metadata": {}
  },
  {
   "cell_type": "code",
   "execution_count": 5,
   "source": [
    "df.columns"
   ],
   "outputs": [
    {
     "output_type": "execute_result",
     "data": {
      "text/plain": [
       "Index(['id', 'price', 'bedrooms', 'bathrooms', 'sqft_living', 'sqft_lot',\n",
       "       'floors', 'waterfront', 'condition', 'grade', 'yr_built'],\n",
       "      dtype='object')"
      ]
     },
     "metadata": {},
     "execution_count": 5
    }
   ],
   "metadata": {}
  },
  {
   "cell_type": "markdown",
   "source": [
    "# Waterfront Null Values"
   ],
   "metadata": {}
  },
  {
   "cell_type": "code",
   "execution_count": 6,
   "source": [
    "# The only field that I retained containing NaN values is waterfront:\n",
    "df.isnull().sum()"
   ],
   "outputs": [
    {
     "output_type": "execute_result",
     "data": {
      "text/plain": [
       "id                0\n",
       "price             0\n",
       "bedrooms          0\n",
       "bathrooms         0\n",
       "sqft_living       0\n",
       "sqft_lot          0\n",
       "floors            0\n",
       "waterfront     2376\n",
       "condition         0\n",
       "grade             0\n",
       "yr_built          0\n",
       "dtype: int64"
      ]
     },
     "metadata": {},
     "execution_count": 6
    }
   ],
   "metadata": {}
  },
  {
   "cell_type": "code",
   "execution_count": 7,
   "source": [
    "df['waterfront'] = df['waterfront'].fillna(0)\n",
    "df['waterfront'] = df[\"waterfront\"].astype(int)\n",
    "# Note: waterfront is our only categorical value.\n",
    "# We don't need to use dummy coding or any other coding system because it's already dichotomous (1 or 0) \n",
    "df['waterfront'].unique()"
   ],
   "outputs": [
    {
     "output_type": "execute_result",
     "data": {
      "text/plain": [
       "array([0, 1])"
      ]
     },
     "metadata": {},
     "execution_count": 7
    }
   ],
   "metadata": {}
  },
  {
   "cell_type": "markdown",
   "source": [
    "# Narrow to NON-Waterfront Homes"
   ],
   "metadata": {}
  },
  {
   "cell_type": "code",
   "execution_count": 8,
   "source": [
    "df =  df.loc[df['waterfront'] == 0]"
   ],
   "outputs": [],
   "metadata": {}
  },
  {
   "cell_type": "code",
   "execution_count": 18,
   "source": [
    "df.info()"
   ],
   "outputs": [
    {
     "output_type": "stream",
     "name": "stdout",
     "text": [
      "<class 'pandas.core.frame.DataFrame'>\n",
      "Int64Index: 21451 entries, 0 to 21596\n",
      "Data columns (total 13 columns):\n",
      " #   Column          Non-Null Count  Dtype  \n",
      "---  ------          --------------  -----  \n",
      " 0   id              21451 non-null  int64  \n",
      " 1   price           21451 non-null  float64\n",
      " 2   bedrooms        21451 non-null  int64  \n",
      " 3   bathrooms       21451 non-null  float64\n",
      " 4   sqft_living     21451 non-null  int64  \n",
      " 5   sqft_lot        21451 non-null  int64  \n",
      " 6   floors          21451 non-null  float64\n",
      " 7   waterfront      21451 non-null  int64  \n",
      " 8   condition       21451 non-null  int64  \n",
      " 9   grade           21451 non-null  int64  \n",
      " 10  yr_built        21451 non-null  int64  \n",
      " 11  price_millions  21451 non-null  float64\n",
      " 12  acres_lot       21451 non-null  float64\n",
      "dtypes: float64(5), int64(8)\n",
      "memory usage: 2.3 MB\n"
     ]
    }
   ],
   "metadata": {}
  },
  {
   "cell_type": "markdown",
   "source": [
    "# Distributions"
   ],
   "metadata": {}
  },
  {
   "cell_type": "code",
   "execution_count": 19,
   "source": [
    "# Create price column in millions:\n",
    "df['price_millions'] = df['price'] / 1000000"
   ],
   "outputs": [],
   "metadata": {}
  },
  {
   "cell_type": "code",
   "execution_count": 20,
   "source": [
    "# Create lot size in acres:\n",
    "df['acres_lot'] = df['sqft_lot'] / 43560 "
   ],
   "outputs": [],
   "metadata": {}
  },
  {
   "cell_type": "code",
   "execution_count": 21,
   "source": [
    "format_dict = {'bedrooms': '{:.2f}', 'bathrooms': '{:.2f}', 'floors': '{:.2f}', 'sqft_living': '{:20,.2f}', 'sqft_lot': '{:20,.2f}',\n",
    "               'acres_lot': '{:.2f}',  'price': '${:20,.0f}', 'yr_built': '{:.0f}', 'condition': '{:.2f}', 'grade': '{:.2f}', 'waterfront': '{:.5f}'}\n",
    "df[['price', 'bedrooms', 'bathrooms', 'sqft_living', 'acres_lot', 'floors',\n",
    "    'waterfront', 'condition', 'grade', 'yr_built']].describe().style.format(format_dict)"
   ],
   "outputs": [
    {
     "output_type": "execute_result",
     "data": {
      "text/plain": [
       "<pandas.io.formats.style.Styler at 0x7fdd4c555d68>"
      ],
      "text/html": [
       "<style  type=\"text/css\" >\n",
       "</style><table id=\"T_ab68c69c_f753_11eb_adfa_f079600ee336\" ><thead>    <tr>        <th class=\"blank level0\" ></th>        <th class=\"col_heading level0 col0\" >price</th>        <th class=\"col_heading level0 col1\" >bedrooms</th>        <th class=\"col_heading level0 col2\" >bathrooms</th>        <th class=\"col_heading level0 col3\" >sqft_living</th>        <th class=\"col_heading level0 col4\" >acres_lot</th>        <th class=\"col_heading level0 col5\" >floors</th>        <th class=\"col_heading level0 col6\" >waterfront</th>        <th class=\"col_heading level0 col7\" >condition</th>        <th class=\"col_heading level0 col8\" >grade</th>        <th class=\"col_heading level0 col9\" >yr_built</th>    </tr></thead><tbody>\n",
       "                <tr>\n",
       "                        <th id=\"T_ab68c69c_f753_11eb_adfa_f079600ee336level0_row0\" class=\"row_heading level0 row0\" >count</th>\n",
       "                        <td id=\"T_ab68c69c_f753_11eb_adfa_f079600ee336row0_col0\" class=\"data row0 col0\" >$              21,451</td>\n",
       "                        <td id=\"T_ab68c69c_f753_11eb_adfa_f079600ee336row0_col1\" class=\"data row0 col1\" >21451.00</td>\n",
       "                        <td id=\"T_ab68c69c_f753_11eb_adfa_f079600ee336row0_col2\" class=\"data row0 col2\" >21451.00</td>\n",
       "                        <td id=\"T_ab68c69c_f753_11eb_adfa_f079600ee336row0_col3\" class=\"data row0 col3\" >           21,451.00</td>\n",
       "                        <td id=\"T_ab68c69c_f753_11eb_adfa_f079600ee336row0_col4\" class=\"data row0 col4\" >21451.00</td>\n",
       "                        <td id=\"T_ab68c69c_f753_11eb_adfa_f079600ee336row0_col5\" class=\"data row0 col5\" >21451.00</td>\n",
       "                        <td id=\"T_ab68c69c_f753_11eb_adfa_f079600ee336row0_col6\" class=\"data row0 col6\" >21451.00000</td>\n",
       "                        <td id=\"T_ab68c69c_f753_11eb_adfa_f079600ee336row0_col7\" class=\"data row0 col7\" >21451.00</td>\n",
       "                        <td id=\"T_ab68c69c_f753_11eb_adfa_f079600ee336row0_col8\" class=\"data row0 col8\" >21451.00</td>\n",
       "                        <td id=\"T_ab68c69c_f753_11eb_adfa_f079600ee336row0_col9\" class=\"data row0 col9\" >21451</td>\n",
       "            </tr>\n",
       "            <tr>\n",
       "                        <th id=\"T_ab68c69c_f753_11eb_adfa_f079600ee336level0_row1\" class=\"row_heading level0 row1\" >mean</th>\n",
       "                        <td id=\"T_ab68c69c_f753_11eb_adfa_f079600ee336row1_col0\" class=\"data row1 col0\" >$             532,286</td>\n",
       "                        <td id=\"T_ab68c69c_f753_11eb_adfa_f079600ee336row1_col1\" class=\"data row1 col1\" >3.37</td>\n",
       "                        <td id=\"T_ab68c69c_f753_11eb_adfa_f079600ee336row1_col2\" class=\"data row1 col2\" >2.11</td>\n",
       "                        <td id=\"T_ab68c69c_f753_11eb_adfa_f079600ee336row1_col3\" class=\"data row1 col3\" >            2,072.40</td>\n",
       "                        <td id=\"T_ab68c69c_f753_11eb_adfa_f079600ee336row1_col4\" class=\"data row1 col4\" >0.34</td>\n",
       "                        <td id=\"T_ab68c69c_f753_11eb_adfa_f079600ee336row1_col5\" class=\"data row1 col5\" >1.49</td>\n",
       "                        <td id=\"T_ab68c69c_f753_11eb_adfa_f079600ee336row1_col6\" class=\"data row1 col6\" >0.00000</td>\n",
       "                        <td id=\"T_ab68c69c_f753_11eb_adfa_f079600ee336row1_col7\" class=\"data row1 col7\" >3.41</td>\n",
       "                        <td id=\"T_ab68c69c_f753_11eb_adfa_f079600ee336row1_col8\" class=\"data row1 col8\" >7.65</td>\n",
       "                        <td id=\"T_ab68c69c_f753_11eb_adfa_f079600ee336row1_col9\" class=\"data row1 col9\" >1971</td>\n",
       "            </tr>\n",
       "            <tr>\n",
       "                        <th id=\"T_ab68c69c_f753_11eb_adfa_f079600ee336level0_row2\" class=\"row_heading level0 row2\" >std</th>\n",
       "                        <td id=\"T_ab68c69c_f753_11eb_adfa_f079600ee336row2_col0\" class=\"data row2 col0\" >$             342,808</td>\n",
       "                        <td id=\"T_ab68c69c_f753_11eb_adfa_f079600ee336row2_col1\" class=\"data row2 col1\" >0.93</td>\n",
       "                        <td id=\"T_ab68c69c_f753_11eb_adfa_f079600ee336row2_col2\" class=\"data row2 col2\" >0.76</td>\n",
       "                        <td id=\"T_ab68c69c_f753_11eb_adfa_f079600ee336row2_col3\" class=\"data row2 col3\" >              906.04</td>\n",
       "                        <td id=\"T_ab68c69c_f753_11eb_adfa_f079600ee336row2_col4\" class=\"data row2 col4\" >0.95</td>\n",
       "                        <td id=\"T_ab68c69c_f753_11eb_adfa_f079600ee336row2_col5\" class=\"data row2 col5\" >0.54</td>\n",
       "                        <td id=\"T_ab68c69c_f753_11eb_adfa_f079600ee336row2_col6\" class=\"data row2 col6\" >0.00000</td>\n",
       "                        <td id=\"T_ab68c69c_f753_11eb_adfa_f079600ee336row2_col7\" class=\"data row2 col7\" >0.65</td>\n",
       "                        <td id=\"T_ab68c69c_f753_11eb_adfa_f079600ee336row2_col8\" class=\"data row2 col8\" >1.16</td>\n",
       "                        <td id=\"T_ab68c69c_f753_11eb_adfa_f079600ee336row2_col9\" class=\"data row2 col9\" >29</td>\n",
       "            </tr>\n",
       "            <tr>\n",
       "                        <th id=\"T_ab68c69c_f753_11eb_adfa_f079600ee336level0_row3\" class=\"row_heading level0 row3\" >min</th>\n",
       "                        <td id=\"T_ab68c69c_f753_11eb_adfa_f079600ee336row3_col0\" class=\"data row3 col0\" >$              78,000</td>\n",
       "                        <td id=\"T_ab68c69c_f753_11eb_adfa_f079600ee336row3_col1\" class=\"data row3 col1\" >1.00</td>\n",
       "                        <td id=\"T_ab68c69c_f753_11eb_adfa_f079600ee336row3_col2\" class=\"data row3 col2\" >0.50</td>\n",
       "                        <td id=\"T_ab68c69c_f753_11eb_adfa_f079600ee336row3_col3\" class=\"data row3 col3\" >              370.00</td>\n",
       "                        <td id=\"T_ab68c69c_f753_11eb_adfa_f079600ee336row3_col4\" class=\"data row3 col4\" >0.01</td>\n",
       "                        <td id=\"T_ab68c69c_f753_11eb_adfa_f079600ee336row3_col5\" class=\"data row3 col5\" >1.00</td>\n",
       "                        <td id=\"T_ab68c69c_f753_11eb_adfa_f079600ee336row3_col6\" class=\"data row3 col6\" >0.00000</td>\n",
       "                        <td id=\"T_ab68c69c_f753_11eb_adfa_f079600ee336row3_col7\" class=\"data row3 col7\" >1.00</td>\n",
       "                        <td id=\"T_ab68c69c_f753_11eb_adfa_f079600ee336row3_col8\" class=\"data row3 col8\" >3.00</td>\n",
       "                        <td id=\"T_ab68c69c_f753_11eb_adfa_f079600ee336row3_col9\" class=\"data row3 col9\" >1900</td>\n",
       "            </tr>\n",
       "            <tr>\n",
       "                        <th id=\"T_ab68c69c_f753_11eb_adfa_f079600ee336level0_row4\" class=\"row_heading level0 row4\" >25%</th>\n",
       "                        <td id=\"T_ab68c69c_f753_11eb_adfa_f079600ee336row4_col0\" class=\"data row4 col0\" >$             320,000</td>\n",
       "                        <td id=\"T_ab68c69c_f753_11eb_adfa_f079600ee336row4_col1\" class=\"data row4 col1\" >3.00</td>\n",
       "                        <td id=\"T_ab68c69c_f753_11eb_adfa_f079600ee336row4_col2\" class=\"data row4 col2\" >1.75</td>\n",
       "                        <td id=\"T_ab68c69c_f753_11eb_adfa_f079600ee336row4_col3\" class=\"data row4 col3\" >            1,420.00</td>\n",
       "                        <td id=\"T_ab68c69c_f753_11eb_adfa_f079600ee336row4_col4\" class=\"data row4 col4\" >0.12</td>\n",
       "                        <td id=\"T_ab68c69c_f753_11eb_adfa_f079600ee336row4_col5\" class=\"data row4 col5\" >1.00</td>\n",
       "                        <td id=\"T_ab68c69c_f753_11eb_adfa_f079600ee336row4_col6\" class=\"data row4 col6\" >0.00000</td>\n",
       "                        <td id=\"T_ab68c69c_f753_11eb_adfa_f079600ee336row4_col7\" class=\"data row4 col7\" >3.00</td>\n",
       "                        <td id=\"T_ab68c69c_f753_11eb_adfa_f079600ee336row4_col8\" class=\"data row4 col8\" >7.00</td>\n",
       "                        <td id=\"T_ab68c69c_f753_11eb_adfa_f079600ee336row4_col9\" class=\"data row4 col9\" >1952</td>\n",
       "            </tr>\n",
       "            <tr>\n",
       "                        <th id=\"T_ab68c69c_f753_11eb_adfa_f079600ee336level0_row5\" class=\"row_heading level0 row5\" >50%</th>\n",
       "                        <td id=\"T_ab68c69c_f753_11eb_adfa_f079600ee336row5_col0\" class=\"data row5 col0\" >$             450,000</td>\n",
       "                        <td id=\"T_ab68c69c_f753_11eb_adfa_f079600ee336row5_col1\" class=\"data row5 col1\" >3.00</td>\n",
       "                        <td id=\"T_ab68c69c_f753_11eb_adfa_f079600ee336row5_col2\" class=\"data row5 col2\" >2.25</td>\n",
       "                        <td id=\"T_ab68c69c_f753_11eb_adfa_f079600ee336row5_col3\" class=\"data row5 col3\" >            1,910.00</td>\n",
       "                        <td id=\"T_ab68c69c_f753_11eb_adfa_f079600ee336row5_col4\" class=\"data row5 col4\" >0.17</td>\n",
       "                        <td id=\"T_ab68c69c_f753_11eb_adfa_f079600ee336row5_col5\" class=\"data row5 col5\" >1.50</td>\n",
       "                        <td id=\"T_ab68c69c_f753_11eb_adfa_f079600ee336row5_col6\" class=\"data row5 col6\" >0.00000</td>\n",
       "                        <td id=\"T_ab68c69c_f753_11eb_adfa_f079600ee336row5_col7\" class=\"data row5 col7\" >3.00</td>\n",
       "                        <td id=\"T_ab68c69c_f753_11eb_adfa_f079600ee336row5_col8\" class=\"data row5 col8\" >7.00</td>\n",
       "                        <td id=\"T_ab68c69c_f753_11eb_adfa_f079600ee336row5_col9\" class=\"data row5 col9\" >1975</td>\n",
       "            </tr>\n",
       "            <tr>\n",
       "                        <th id=\"T_ab68c69c_f753_11eb_adfa_f079600ee336level0_row6\" class=\"row_heading level0 row6\" >75%</th>\n",
       "                        <td id=\"T_ab68c69c_f753_11eb_adfa_f079600ee336row6_col0\" class=\"data row6 col0\" >$             640,000</td>\n",
       "                        <td id=\"T_ab68c69c_f753_11eb_adfa_f079600ee336row6_col1\" class=\"data row6 col1\" >4.00</td>\n",
       "                        <td id=\"T_ab68c69c_f753_11eb_adfa_f079600ee336row6_col2\" class=\"data row6 col2\" >2.50</td>\n",
       "                        <td id=\"T_ab68c69c_f753_11eb_adfa_f079600ee336row6_col3\" class=\"data row6 col3\" >            2,540.00</td>\n",
       "                        <td id=\"T_ab68c69c_f753_11eb_adfa_f079600ee336row6_col4\" class=\"data row6 col4\" >0.24</td>\n",
       "                        <td id=\"T_ab68c69c_f753_11eb_adfa_f079600ee336row6_col5\" class=\"data row6 col5\" >2.00</td>\n",
       "                        <td id=\"T_ab68c69c_f753_11eb_adfa_f079600ee336row6_col6\" class=\"data row6 col6\" >0.00000</td>\n",
       "                        <td id=\"T_ab68c69c_f753_11eb_adfa_f079600ee336row6_col7\" class=\"data row6 col7\" >4.00</td>\n",
       "                        <td id=\"T_ab68c69c_f753_11eb_adfa_f079600ee336row6_col8\" class=\"data row6 col8\" >8.00</td>\n",
       "                        <td id=\"T_ab68c69c_f753_11eb_adfa_f079600ee336row6_col9\" class=\"data row6 col9\" >1997</td>\n",
       "            </tr>\n",
       "            <tr>\n",
       "                        <th id=\"T_ab68c69c_f753_11eb_adfa_f079600ee336level0_row7\" class=\"row_heading level0 row7\" >max</th>\n",
       "                        <td id=\"T_ab68c69c_f753_11eb_adfa_f079600ee336row7_col0\" class=\"data row7 col0\" >$           7,700,000</td>\n",
       "                        <td id=\"T_ab68c69c_f753_11eb_adfa_f079600ee336row7_col1\" class=\"data row7 col1\" >33.00</td>\n",
       "                        <td id=\"T_ab68c69c_f753_11eb_adfa_f079600ee336row7_col2\" class=\"data row7 col2\" >8.00</td>\n",
       "                        <td id=\"T_ab68c69c_f753_11eb_adfa_f079600ee336row7_col3\" class=\"data row7 col3\" >           13,540.00</td>\n",
       "                        <td id=\"T_ab68c69c_f753_11eb_adfa_f079600ee336row7_col4\" class=\"data row7 col4\" >37.91</td>\n",
       "                        <td id=\"T_ab68c69c_f753_11eb_adfa_f079600ee336row7_col5\" class=\"data row7 col5\" >3.50</td>\n",
       "                        <td id=\"T_ab68c69c_f753_11eb_adfa_f079600ee336row7_col6\" class=\"data row7 col6\" >0.00000</td>\n",
       "                        <td id=\"T_ab68c69c_f753_11eb_adfa_f079600ee336row7_col7\" class=\"data row7 col7\" >5.00</td>\n",
       "                        <td id=\"T_ab68c69c_f753_11eb_adfa_f079600ee336row7_col8\" class=\"data row7 col8\" >13.00</td>\n",
       "                        <td id=\"T_ab68c69c_f753_11eb_adfa_f079600ee336row7_col9\" class=\"data row7 col9\" >2015</td>\n",
       "            </tr>\n",
       "    </tbody></table>"
      ]
     },
     "metadata": {},
     "execution_count": 21
    }
   ],
   "metadata": {}
  },
  {
   "cell_type": "markdown",
   "source": [
    "## Drop Unnecessary Columns"
   ],
   "metadata": {}
  },
  {
   "cell_type": "code",
   "execution_count": 22,
   "source": [
    "# Select a subset of columns to create matrix:\n",
    "df_model = df.drop(['acres_lot','id','price','waterfront'], axis=1)"
   ],
   "outputs": [],
   "metadata": {}
  },
  {
   "cell_type": "code",
   "execution_count": 23,
   "source": [
    "df_model.columns"
   ],
   "outputs": [
    {
     "output_type": "execute_result",
     "data": {
      "text/plain": [
       "Index(['bedrooms', 'bathrooms', 'sqft_living', 'sqft_lot', 'floors',\n",
       "       'condition', 'grade', 'yr_built', 'price_millions'],\n",
       "      dtype='object')"
      ]
     },
     "metadata": {},
     "execution_count": 23
    }
   ],
   "metadata": {}
  },
  {
   "cell_type": "code",
   "execution_count": 24,
   "source": [
    "df_model['yr_built'].plot.kde()\n",
    "plt.title(\"distribution check for year built\") \n",
    "plt.show()"
   ],
   "outputs": [
    {
     "output_type": "display_data",
     "data": {
      "text/plain": [
       "<Figure size 432x288 with 1 Axes>"
      ],
      "image/png": "[encoded data removed]"
     },
     "metadata": {
      "needs_background": "light"
     }
    }
   ],
   "metadata": {}
  },
  {
   "cell_type": "code",
   "execution_count": 25,
   "source": [
    "df_model['sqft_living'].plot.kde()\n",
    "plt.title(\"distribution check for Square Footage Living\") \n",
    "plt.show()"
   ],
   "outputs": [
    {
     "output_type": "display_data",
     "data": {
      "text/plain": [
       "<Figure size 432x288 with 1 Axes>"
      ],
      "image/png": "[encoded data removed]"
     },
     "metadata": {
      "needs_background": "light"
     }
    }
   ],
   "metadata": {}
  },
  {
   "cell_type": "code",
   "execution_count": 26,
   "source": [
    "df_model['condition'].plot.kde()\n",
    "plt.title(\"distribution check for condition\") \n",
    "plt.show()"
   ],
   "outputs": [
    {
     "output_type": "display_data",
     "data": {
      "text/plain": [
       "<Figure size 432x288 with 1 Axes>"
      ],
      "image/png": "[encoded data removed]"
     },
     "metadata": {
      "needs_background": "light"
     }
    }
   ],
   "metadata": {}
  },
  {
   "cell_type": "code",
   "execution_count": 27,
   "source": [
    "df_model['grade'].plot.kde()\n",
    "plt.title(\"distribution check for grade\") \n",
    "plt.show()"
   ],
   "outputs": [
    {
     "output_type": "display_data",
     "data": {
      "text/plain": [
       "<Figure size 432x288 with 1 Axes>"
      ],
      "image/png": "[encoded data removed]"
     },
     "metadata": {
      "needs_background": "light"
     }
    }
   ],
   "metadata": {}
  },
  {
   "cell_type": "code",
   "execution_count": 28,
   "source": [
    "# From this we can see that generally, most houses are priced below one million dollars\n",
    "plt.figure(figsize = (12,8))\n",
    "sns.distplot(df_model.price_millions,kde=True)\n",
    "plt.title('Density Histogram of Housing Prices in Kings County')\n",
    "plt.show()"
   ],
   "outputs": [
    {
     "output_type": "display_data",
     "data": {
      "text/plain": [
       "<Figure size 864x576 with 1 Axes>"
      ],
      "image/png": "[encoded data removed]"
     },
     "metadata": {
      "needs_background": "light"
     }
    }
   ],
   "metadata": {}
  },
  {
   "cell_type": "markdown",
   "source": [
    "# Standardize Data:"
   ],
   "metadata": {}
  },
  {
   "cell_type": "code",
   "execution_count": 29,
   "source": [
    "# make copy of df_model for normalization purposes: \n",
    "df_norm = df_model.copy()\n",
    "\n",
    "# Apply z-score normalization:\n",
    "def z_score_norm(my_column):\n",
    "    return (my_column - my_column.mean())/my_column.std()\n",
    "\n",
    "for predictor in ['bedrooms', 'bathrooms', 'sqft_living', 'sqft_lot', 'floors',  'condition','grade','yr_built']:\n",
    "    df_norm[predictor] = z_score_norm(df_norm[predictor])\n",
    "# print normalized data: \n",
    "print(df_norm)"
   ],
   "outputs": [
    {
     "output_type": "stream",
     "name": "stdout",
     "text": [
      "       bedrooms  bathrooms  sqft_living  sqft_lot    floors  condition  \\\n",
      "0     -0.403618  -1.454284    -0.984939 -0.226578 -0.914088  -0.629327   \n",
      "1     -0.403618   0.180787     0.549206 -0.188106  0.939405  -0.629327   \n",
      "2     -1.484652  -1.454284    -1.437456 -0.121458 -0.914088  -0.629327   \n",
      "3      0.677417   1.161830    -0.124052 -0.242285 -0.914088   2.448577   \n",
      "4     -0.403618  -0.146227    -0.433088 -0.167855 -0.914088  -0.629327   \n",
      "...         ...        ...          ...       ...       ...        ...   \n",
      "21592 -0.403618   0.507801    -0.598644 -0.335781  2.792898  -0.629327   \n",
      "21593  0.677417   0.507801     0.262243 -0.222639  0.939405  -0.629327   \n",
      "21594 -1.484652  -1.781299    -1.161531 -0.330489  0.939405  -0.629327   \n",
      "21595 -0.403618   0.507801    -0.521384 -0.305405  0.939405  -0.629327   \n",
      "21596 -1.484652  -1.781299    -1.161531 -0.337110  0.939405  -0.629327   \n",
      "\n",
      "          grade  yr_built  price_millions  \n",
      "0     -0.558350 -0.546565        0.221900  \n",
      "1     -0.558350 -0.682704        0.538000  \n",
      "2     -1.417483 -1.295330        0.180000  \n",
      "3     -0.558350 -0.206217        0.604000  \n",
      "4      0.300783  0.542548        0.510000  \n",
      "...         ...       ...             ...  \n",
      "21592  0.300783  1.291312        0.360000  \n",
      "21593  0.300783  1.461486        0.400000  \n",
      "21594 -0.558350  1.291312        0.402101  \n",
      "21595  0.300783  1.121139        0.400000  \n",
      "21596 -0.558350  1.257278        0.325000  \n",
      "\n",
      "[21451 rows x 9 columns]\n"
     ]
    }
   ],
   "metadata": {}
  },
  {
   "cell_type": "markdown",
   "source": [
    "## Linear Regression - Ordinary Least Squares"
   ],
   "metadata": {}
  },
  {
   "cell_type": "code",
   "execution_count": 30,
   "source": [
    "# Split normalized data into target variable and predictors/explanatory variables/independent variables\n",
    "X = df_norm.drop(['price_millions'], axis=1) # independent variables\n",
    "y = df_norm['price_millions'] # target variable"
   ],
   "outputs": [],
   "metadata": {}
  },
  {
   "cell_type": "code",
   "execution_count": 31,
   "source": [
    "# Divide into test and train data\n",
    "# Train data is for us to estimate our OLS model\n",
    "# Test data is to parameterize our model, using that model to predict y values (price)\n",
    "# If test_size = .3, that means 30% of our data is set aside for teh testing data\n",
    "# And 70% of that data for training\n",
    "\n",
    "# The parameter \"random_state\" ensures that if there is skew in our data, our 30-70 split is randomly taking from these groups\n",
    "# So we have good proportions of randomly selected data and our 30-70 split has good representation \n",
    "\n",
    "X_train, X_test, y_train, y_test = train_test_split(\n",
    "    X, y, test_size=0.3, random_state=4)\n"
   ],
   "outputs": [],
   "metadata": {}
  },
  {
   "cell_type": "code",
   "execution_count": 32,
   "source": [
    "# Linear Regressor - Ordinary Least Squares regression-type estimate:\n",
    "lr = LinearRegression()"
   ],
   "outputs": [],
   "metadata": {}
  },
  {
   "cell_type": "markdown",
   "source": [],
   "metadata": {}
  },
  {
   "cell_type": "code",
   "execution_count": 33,
   "source": [
    "# Train model based on train dataset:\n",
    "# Regressing the X's onto the y:\n",
    "# We're getting a fit here, having used 70% of the data\n",
    "lr.fit(X_train, y_train)\n",
    "coef_list = list(lr.coef_)\n",
    "name_list = list(X_train.columns)\n",
    "pd.Series(coef_list, index=name_list)"
   ],
   "outputs": [
    {
     "output_type": "execute_result",
     "data": {
      "text/plain": [
       "bedrooms      -0.039895\n",
       "bathrooms      0.042174\n",
       "sqft_living    0.151231\n",
       "sqft_lot      -0.006250\n",
       "floors         0.011829\n",
       "condition      0.014309\n",
       "grade          0.152064\n",
       "yr_built      -0.114111\n",
       "dtype: float64"
      ]
     },
     "metadata": {},
     "execution_count": 33
    }
   ],
   "metadata": {}
  },
  {
   "cell_type": "code",
   "execution_count": 34,
   "source": [
    "# Model prediction based on train dataset:\n",
    "predict_y_train = lr.predict(X_train)"
   ],
   "outputs": [],
   "metadata": {}
  },
  {
   "cell_type": "code",
   "execution_count": 35,
   "source": [
    "# Model Evaluation:\n",
    "# In this case, our model only explains 64% of the variation in our data \n",
    "print('The R squared value is: ' + str(metrics.r2_score(y_train, predict_y_train)))"
   ],
   "outputs": [
    {
     "output_type": "stream",
     "name": "stdout",
     "text": [
      "The R squared value is: 0.6252639004561333\n"
     ]
    }
   ],
   "metadata": {}
  },
  {
   "cell_type": "code",
   "execution_count": 36,
   "source": [
    "# Actual Prices vs. Predicted Prices:\n",
    "plt.scatter(y_train, predict_y_train)\n",
    "plt.xlabel('price - millions')\n",
    "plt.ylabel('predicted price - millions')\n",
    "plt.show()"
   ],
   "outputs": [
    {
     "output_type": "display_data",
     "data": {
      "text/plain": [
       "<Figure size 432x288 with 1 Axes>"
      ],
      "image/png": "[encoded data removed]"
     },
     "metadata": {
      "needs_background": "light"
     }
    }
   ],
   "metadata": {}
  },
  {
   "cell_type": "code",
   "execution_count": 37,
   "source": [
    "# Inspect the amount of error we got from our OLS Linear Regression:\n",
    "# The residual is the amount of error in the estimation \n",
    "# Residual = Observed – Predicted\n",
    "# Positive Y-values indicate the value by which the prediction was too low\n",
    "# Negative Y-values indicate the value by which the prediction was too high\n",
    "# Here, the model was anywhere from 5 million too low, to -2 million too high, which is quite a lot\n",
    "# Additionally, the distribution of the residuals follows a clear pattern and therefore exhibits heteroscedasticity\n",
    "# One of the required assumptions for linear regression is homoscedasticity (equally distributed residuals across the regression line), which we clearly do not have here\n",
    "\n",
    "\n",
    "plt.scatter(predict_y_train, y_train - predict_y_train)\n",
    "plt.xlabel('predicted')\n",
    "plt.ylabel('residuals')"
   ],
   "outputs": [
    {
     "output_type": "execute_result",
     "data": {
      "text/plain": [
       "Text(0, 0.5, 'residuals')"
      ]
     },
     "metadata": {},
     "execution_count": 37
    },
    {
     "output_type": "display_data",
     "data": {
      "text/plain": [
       "<Figure size 432x288 with 1 Axes>"
      ],
      "image/png": "[encoded data removed]"
     },
     "metadata": {
      "needs_background": "light"
     }
    }
   ],
   "metadata": {}
  },
  {
   "cell_type": "code",
   "execution_count": 38,
   "source": [
    "# See if a model of our residuals (error) follows a normal distribution:\n",
    "# We can see from this that there's some right-skew to the distribution of error\n",
    "sns.distplot(y_train - predict_y_train)\n",
    "plt.xlabel('residuals')\n",
    "plt.ylabel('frequency')"
   ],
   "outputs": [
    {
     "output_type": "execute_result",
     "data": {
      "text/plain": [
       "Text(0, 0.5, 'frequency')"
      ]
     },
     "metadata": {},
     "execution_count": 38
    },
    {
     "output_type": "display_data",
     "data": {
      "text/plain": [
       "<Figure size 432x288 with 1 Axes>"
      ],
      "image/png": "[encoded data removed]"
     },
     "metadata": {
      "needs_background": "light"
     }
    }
   ],
   "metadata": {}
  },
  {
   "cell_type": "code",
   "execution_count": 39,
   "source": [
    "# Finally, we take the 30% of that data we set aside for testing, and examine the error for that:\n",
    "predict_y_test = lr.predict(X_test)\n",
    "print('The R squared value is: ' + str(metrics.r2_score(y_test, predict_y_test)))\n",
    "\n"
   ],
   "outputs": [
    {
     "output_type": "stream",
     "name": "stdout",
     "text": [
      "The R squared value is: 0.6235258956119951\n"
     ]
    }
   ],
   "metadata": {}
  },
  {
   "cell_type": "code",
   "execution_count": null,
   "source": [],
   "outputs": [],
   "metadata": {}
  }
 ],
 "metadata": {
  "orig_nbformat": 4,
  "language_info": {
   "name": "python",
   "version": "3.6.9",
   "mimetype": "text/x-python",
   "codemirror_mode": {
    "name": "ipython",
    "version": 3
   },
   "pygments_lexer": "ipython3",
   "nbconvert_exporter": "python",
   "file_extension": ".py"
  },
  "kernelspec": {
   "name": "python3",
   "display_name": "Python 3.6.9 64-bit ('learn-env': conda)"
  },
  "interpreter": {
   "hash": "5d1f83e9c63cec2de7bdeb43eb17fdae110b98c2255761b9e5cd119be6dbfe82"
  }
 },
 "nbformat": 4,
 "nbformat_minor": 2
}