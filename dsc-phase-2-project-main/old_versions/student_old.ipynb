{
 "cells": [
  {
   "cell_type": "markdown",
   "metadata": {},
   "source": [
    "## final project submission\n",
    "\n",
    "Please fill out:\n",
    "* Student name: Claire Sarraille\n",
    "* Student pace: self paced\n",
    "* Scheduled project review date/time: Mon, Oct 25, 2021, 01:00 PM - 01:45 PM PST \n",
    "* Instructor name: Claude Fried \n",
    "* Blog post URL: https://clairesarraille.github.io/2021/08/08/kings_county_housing.html\n"
   ]
  },
  {
   "cell_type": "code",
   "execution_count": null,
   "metadata": {},
   "outputs": [],
   "source": [
    "\n",
    "import numpy as np\n",
    "from scipy import stats\n",
    "import pandas as pd\n",
    "import matplotlib.pyplot as plt\n",
    "from matplotlib.ticker import StrMethodFormatter\n",
    "import seaborn as sns\n",
    "from patsy import dmatrices\n",
    "\n",
    "import statsmodels.api as sm\n",
    "from statsmodels.stats.outliers_influence import variance_inflation_factor\n",
    "\n",
    "from sklearn.model_selection import train_test_split\n",
    "from sklearn import metrics\n",
    "from sklearn import linear_model\n",
    "from sklearn.linear_model import LinearRegression\n",
    "from sklearn.ensemble import RandomForestRegressor\n",
    "from sklearn.metrics import mean_squared_error\n",
    "\n",
    "%matplotlib inline\n"
   ]
  },
  {
   "cell_type": "markdown",
   "metadata": {},
   "source": [
    "## CRISP-DM -- CRoss Industry Standard Process for Data Mining\n",
    "- Following this process ensures that the requirements and organization of formal hypothesis testing are met (broadly speaking, an iterative approach to modeling)\n",
    "- Not every step was necessary, or was in scope for this particular exercise. \n",
    "----------\n",
    "- Business Understanding\n",
    "    - Who will be  using the model\n",
    "    - How will the model be used\n",
    "    - How will using the model help our business\n",
    "    - clarify requirements\n",
    "    - What problems are in and out of scope\n",
    "\n",
    "- Understand Data\n",
    "    - What is target\n",
    "    - What are predictors\n",
    "    - Distribution of Data\n",
    "    - How many observations - and is this a small, medium or large collection?\n",
    "    - What is the quality? - What errors could be in the data, or inaccuracy?\n",
    "\n",
    "- Data Preparation - Prepping to model\n",
    "    - Missing values\n",
    "    - Type conversions\n",
    "    - Remove multicollinearity (correlated predictors)\n",
    "    - Standardize numeric data\n",
    "    - Convert categorical data to numeric via one-hot encoding\n",
    "\n",
    "- Modeling:\n",
    "    - Tune models to get the highest performance possible on our task\n",
    "    - Considerations:\n",
    "        - What kind of task? Classification task? Regression task?\n",
    "        - Which models will we use\n",
    "        - Will we use regularization?\n",
    "        - How will we validate our model?\n",
    "        - Loss functions?\n",
    "        - What is the performance threshold for success?\n",
    "\n",
    "- Evaluation:\n",
    "    - Does the model solve business problem outlined in step 1?\n",
    "    - At this point, we may want to start over at the business understanding step, now that we have a deeper understanding\n",
    "    - Things we may learn at this stage:\n",
    "        - Need different data\n",
    "        - Need more data\n",
    "        - Should be going in a different direction\n",
    "        - Should use classificaion rather than regression, or vice versa\n",
    "        - Use different approach\n",
    "\n",
    "- Deployment:\n",
    "    - Move the model into production\n",
    "    - Set up ETL - how much of preprocessing and cleaning can be automated?\n"
   ]
  },
  {
   "cell_type": "markdown",
   "metadata": {},
   "source": [
    "# BUSINESS UNDERSTANDING\n",
    "- Who will be  using the model?\n",
    "    - The hypothetical real estate agency I work for\n",
    "- How will the model be used?\n",
    "    - It will help us understand which variables (number of bedrooms, square footage) contribute the most to a positive increase in home selling price\n",
    "- How will using the model help our business?\n",
    "    - It will provide the evidence we need to give data-driven advice to our clients\n",
    "    - Helping our clients make decisions to maximize selling price will increase our commissions \n",
    "    - We also have the option of charging our clients for a home-renovation consultation which would include access to the data from our model\n",
    "- Clarify Requirements:\n",
    "    - Coefficients for each independent variable: these coefficients represent the dollar amount impact on selling price associated with a one-unit increase of a given variable.\n",
    "- What problems are in and out of scope?\n",
    "    - In scope: How do home renovations impact the selling price of a home.\n",
    "    - Out of scope: What selling price the model would predict given new data (data we haven't seen yet) "
   ]
  },
  {
   "cell_type": "markdown",
   "metadata": {},
   "source": [
    "# UNDERSTAND DATA\n",
    "- What is **target**\n",
    ">'price'\n",
    "- What are **predictors**\n",
    ">'bedrooms', 'bathrooms', 'sqft_living', 'sqft_lot', 'floors', 'waterfront', 'condition', 'grade', 'yr_built'\n",
    "- Distribution of Data - See section \"DISTRIBUTIONS\" \n",
    "- How many observations - and is this a small, medium or large collection?\n",
    "    - 21,597 entries\n",
    "    - According to Frank Harrell in his book Regression Modeling Strategies, you need at least 10-20 observations per predictor\n",
    "    - We have many, many more observations than 20 * (6 - num covariates) = 120\n",
    "    - Our dataset would be considered large\n",
    "- What is the quality? - What errors could be in the data, or inaccuracy? - See section \"Data Quality\" "
   ]
  },
  {
   "cell_type": "markdown",
   "metadata": {},
   "source": [
    "## Read in Data"
   ]
  },
  {
   "cell_type": "code",
   "execution_count": null,
   "metadata": {},
   "outputs": [],
   "source": [
    "df = pd.read_csv('data/kc_house_data.csv')"
   ]
  },
  {
   "cell_type": "markdown",
   "metadata": {},
   "source": [
    "## Remove Features\n",
    "- date (no explanatory value)\n",
    "- view ( has been viewed, this wouldn't help us predict prices) \n",
    "- Note: **sqft_above + sqft_basement = sqft_living**, according to meta-data:\n",
    "    - sqft_above (is redundant -- repeats sqft_living)\n",
    "    - sqft_basement (is redundant -- repeats sqft_living)\n",
    "- yr_renovated (doesn't add very much information we don't already have by including yr_built, grade, and condition) \n",
    "- Not helpful to have geographic features becuase we're not realistically expecting home owners to re-locate a home as part of their renovations \n",
    "    - zipcode\n",
    "    - lat\n",
    "    - long\n",
    "- sqft_living15 (is redundant - repeats sqft_living)\n",
    "- sqft_lot15 (is redundant - repeats sqft_lot)"
   ]
  },
  {
   "cell_type": "code",
   "execution_count": null,
   "metadata": {},
   "outputs": [],
   "source": [
    "# Why reduce features?\n",
    "# I narrowed my list of features to avoid over-fit of the training dataset\n",
    "# Reducing redundancy in features increases the accuracy of the model\n",
    "# Note: The brief for this project also recommended dropping these features.\n",
    "\n",
    "df = df.drop(['date','view', 'sqft_above', 'sqft_basement', 'yr_renovated', 'zipcode', 'lat', 'long', 'sqft_living15', 'sqft_lot15'], axis=1)"
   ]
  },
  {
   "cell_type": "code",
   "execution_count": null,
   "metadata": {},
   "outputs": [],
   "source": [
    "# Note:sqft_living includes a finished basement, if present\n",
    "# Grade is the construction quality of improvements, according to a King County grading system\n",
    "# Condition is overall condition of house\n",
    "df.columns"
   ]
  },
  {
   "cell_type": "markdown",
   "metadata": {},
   "source": [
    "## Data Quality"
   ]
  },
  {
   "cell_type": "markdown",
   "metadata": {},
   "source": [
    "- There could be outliers - such as hundreds of bathrooms -- this wouldn't make sense considering a given home's square-footage \n",
    "- Year could be in the future\n",
    "- price could be a negative number\n",
    "- datatype could be wrong - such as string for number of bedrooms"
   ]
  },
  {
   "cell_type": "markdown",
   "metadata": {},
   "source": [
    "### Waterfront Missing Values \n",
    "I filled in NaN values for 'waterfront' with 0. Now, 'waterfront' has a 1 value if there is a view, and 0 value if there is not.\n",
    "I also cast this column as an integer type since there are no other options besides the integers 1 and 0."
   ]
  },
  {
   "cell_type": "code",
   "execution_count": null,
   "metadata": {},
   "outputs": [],
   "source": [
    "# The only field that I retained containing NaN values is waterfront:\n",
    "df.isnull().sum()"
   ]
  },
  {
   "cell_type": "code",
   "execution_count": null,
   "metadata": {},
   "outputs": [],
   "source": [
    "# Note: waterfront is our only categorical value.\n",
    "# We don't need to use dummy coding or any other coding system because it's already dichotomous (1 or 0) \n",
    "df['waterfront'] = df['waterfront'].fillna(0)\n",
    "df['waterfront'] = df['waterfront'].astype(int)\n",
    "df['waterfront'].unique()"
   ]
  },
  {
   "cell_type": "markdown",
   "metadata": {},
   "source": [
    "## Cast Features -- at a Different Scale for Visualization "
   ]
  },
  {
   "cell_type": "code",
   "execution_count": null,
   "metadata": {},
   "outputs": [],
   "source": [
    "# Create lot size in acres:\n",
    "df['acres_lot'] = df['sqft_lot'] / 43560 "
   ]
  },
  {
   "cell_type": "code",
   "execution_count": null,
   "metadata": {},
   "outputs": [],
   "source": [
    "# Create price column in millions:\n",
    "df['price_millions'] = df['price'] / 1000000"
   ]
  },
  {
   "cell_type": "code",
   "execution_count": null,
   "metadata": {},
   "outputs": [],
   "source": [
    "df[['price_millions','price', 'acres_lot']]"
   ]
  },
  {
   "cell_type": "code",
   "execution_count": null,
   "metadata": {},
   "outputs": [],
   "source": [
    "print(f\"The max price is {df['price_millions'].max()} million, min price is {df['price'].min()}\")"
   ]
  },
  {
   "cell_type": "markdown",
   "metadata": {},
   "source": [
    "## DISTRIBUTIONS"
   ]
  },
  {
   "cell_type": "markdown",
   "metadata": {},
   "source": [
    "### Clarify Grade and Condition Columns"
   ]
  },
  {
   "cell_type": "markdown",
   "metadata": {},
   "source": [
    "#### King County's Grading System for Buildings:\n",
    "##### Represents the construction quality of improvements. Grades run from grade 1 to 13. Generally defined as:\n",
    "\n",
    "1. Falls short of minimum building standards. Normally cabin or inferior structure.\n",
    "\n",
    "2. Falls short of minimum building standards. Normally cabin or inferior structure.\n",
    "\n",
    "3. Falls short of minimum building standards. Normally cabin or inferior structure.\n",
    "\n",
    "4. Generally older, low quality construction. Does not meet code.\n",
    "\n",
    "5. Low construction costs and workmanship. Small, simple design.\n",
    "\n",
    "6. Lowest grade currently meeting building code. Low quality materials and simple designs.\n",
    "\n",
    "7. Average grade of construction and design. Commonly seen in plats and older sub-divisions.\n",
    "\n",
    "8. Just above average in construction and design. Usually better materials in both the exterior and interior finish work.\n",
    "\n",
    "9. Better architectural design with extra interior and exterior design and quality.\n",
    "\n",
    "10. Homes of this quality generally have high quality features. Finish work is better and more design quality is seen in the floor plans. Generally have a larger square footage.\n",
    "\n",
    "11. Custom design and higher quality finish work with added amenities of solid woods, bathroom fixtures and more luxurious options.\n",
    "\n",
    "12. Custom design and excellent builders. All materials are of the highest quality and all conveniences are present.\n",
    "\n",
    "13. Generally custom designed and built. Mansion level. Large amount of highest quality cabinet work, wood trim, marble, entry ways etc.\n",
    "\n",
    "#### King County's Condition Scale: \n",
    "##### Relative to age and grade. Coded 1-5.\n",
    "\n",
    "1. Poor- Worn out. Repair and overhaul needed on painted surfaces, roofing, plumbing, heating and numerous functional inadequacies. Excessive deferred maintenance and abuse, limited value-in-use, approaching abandonment or major reconstruction; reuse or change in occupancy is imminent. Effective age is near the end of the scale regardless of the actual chronological age.\n",
    "\n",
    "2. Fair- Badly worn. Much repair needed. Many items need refinishing or overhauling, deferred maintenance obvious, inadequate building utility and systems all shortening the life expectancy and increasing the effective age.\n",
    "\n",
    "3. Average- Some evidence of deferred maintenance and normal obsolescence with age in that a few minor repairs are needed, along with some refinishing. All major components still functional and contributing toward an extended life expectancy. Effective age and utility is standard for like properties of its class and usage.\n",
    "\n",
    "4. Good- No obvious maintenance required but neither is everything new. Appearance and utility are above the standard and the overall effective age will be lower than the typical property.\n",
    "\n",
    "5. Very Good- All items well maintained, many having been overhauled and repaired as they have shown signs of wear, increasing the life expectancy and lowering the effective age with little deterioration or obsolescence evident with a high degree of utility."
   ]
  },
  {
   "cell_type": "markdown",
   "metadata": {},
   "source": [
    "### Describe Data - Descriptive Statistics"
   ]
  },
  {
   "cell_type": "code",
   "execution_count": null,
   "metadata": {},
   "outputs": [],
   "source": [
    "format_dict = {'bedrooms': '{:.2f}', 'bathrooms': '{:.2f}', 'floors': '{:.2f}', 'sqft_living': '{:20,.2f}', 'sqft_lot': '{:20,.2f}',\n",
    "               'acres_lot': '{:.2f}',  'price': '{:20,.0f}', 'yr_built': '{:.0f}', 'condition': '{:.2f}', 'grade': '{:.2f}', 'waterfront': '{:.5f}'}\n",
    "df[['price', 'bedrooms', 'bathrooms', 'sqft_living', 'acres_lot', 'floors',\n",
    "    'waterfront', 'condition', 'grade', 'yr_built']].describe().style.format(format_dict)"
   ]
  },
  {
   "cell_type": "markdown",
   "metadata": {},
   "source": [
    "#### Interpret .describe() \n",
    "- There are no negative values for any of the columns\n",
    "- The year range makes sense: homes were built between 1900 and 2015\n",
    "- sqft_living average is around 2,000, which is close to the US average\n",
    "- The average lot size is 15,099 square feet, or .35 acres\n",
    "- The lot size mean is skewed by our outlier home, which stands on a 37.91 acre lot.\n",
    "- The median sqft_lot size is 7,618 or .17 acres, which is much closer to the national average of 0.188 of an acre.\n",
    "- Condition and Grade: The mean, max, and min all line-up with the scale of the system, described above.\n",
    "    - Mean Grade is 7.66, so between a 7 and 8: \n",
    "        - 7. Average grade of construction and design. Commonly seen in plats and older sub-divisions.\n",
    "        - 8. Just above average in construction and design. Usually better materials in both the exterior and interior finish work.\n",
    "    - Mean Condition is 3.41, closest to a 3: \n",
    "        - 3. Average- Some evidence of deferred maintenance and normal obsolescence with age in that a few minor repairs are needed, along with some refinishing. All major components still functional and contributing toward an extended life expectancy. Effective age and utility is standard for like properties of its class and usage."
   ]
  },
  {
   "cell_type": "code",
   "execution_count": null,
   "metadata": {},
   "outputs": [],
   "source": [
    "# Price Frequency Histogram before removing outliers, for context:\n",
    "# Here we can see that the distribution of price, our target variable, has considerable right-skew\n",
    "ax = df.hist(column='price_millions',\n",
    "             bins='auto',\n",
    "             grid=False,\n",
    "             figsize=(8,5))\n",
    "\n",
    "ax = ax[0]\n",
    "for x in ax:\n",
    "\n",
    "    x.set_title(\"Distribution of Home Sale Price\", size=20)\n",
    "\n",
    "    # Set x-axis label\n",
    "    x.set_xlabel(\"Sale Price of Home\", labelpad=15, weight='bold', size=10)\n",
    "    x.xaxis.set_major_formatter(StrMethodFormatter('{x:,.0f}' + ' Million'))\n",
    "\n",
    "    # Set y-axis label\n",
    "    x.set_ylabel(\"Number of Homes Sold\", labelpad=15, weight='bold', size=10)\n",
    "    x.yaxis.set_major_formatter(StrMethodFormatter('{x:,g}'))\n"
   ]
  },
  {
   "cell_type": "markdown",
   "metadata": {},
   "source": [
    "### Price Density Histogram"
   ]
  },
  {
   "cell_type": "code",
   "execution_count": null,
   "metadata": {},
   "outputs": [],
   "source": [
    "# Ok. Now let's draw a smooth curve, given the above data, using KDE (kernal density estimation)\n",
    "# The smooth line in the visualization below is an estimate of the distributions of house prices\n",
    "# The parameter bandwidth rules the smoothness of the underlying distribution\n",
    "\n",
    "# The problem with a Probability Density Function plot, is that all \"point probabilities\" are 0\n",
    "# We must calculate the area under the curve for an interval to get the actual probability that a home selling price is in a given range. \n",
    "# Thus, it's not intuitive or easy to \"read\" the y-axis to get probabilities for continuous variables using a PDF like below.\n",
    "\n",
    "plt.figure(figsize = (12,8))\n",
    "sns.distplot(df.price_millions,kde=True)\n",
    "plt.title('Density Histogram of Housing Prices in Kings County')\n",
    "plt.show()"
   ]
  },
  {
   "cell_type": "markdown",
   "metadata": {},
   "source": [
    "For example, if we wanted to know the probability that a house price is between 1.00 and 1.75 million dollars (inclusive), we would use the following formula to take the integral of this range (AKA area under the curve)\n",
    "$$\\large P(1 \\leq X \\leq 1.75) = \\int_{1}^{1.75} f_x(x) dx \\geq 0 $$\n"
   ]
  },
  {
   "cell_type": "markdown",
   "metadata": {},
   "source": [
    "### Narrow dataset for modeling "
   ]
  },
  {
   "cell_type": "code",
   "execution_count": null,
   "metadata": {},
   "outputs": [],
   "source": [
    "# Remember all columns in df are: \n",
    "df.columns"
   ]
  },
  {
   "cell_type": "code",
   "execution_count": null,
   "metadata": {},
   "outputs": [],
   "source": [
    "# Select a subset of columns to create matrix:\n",
    "df_all_cols = df.drop(['acres_lot','id'], axis=1)"
   ]
  },
  {
   "cell_type": "code",
   "execution_count": null,
   "metadata": {},
   "outputs": [],
   "source": [
    "df_all_cols.columns"
   ]
  },
  {
   "cell_type": "markdown",
   "metadata": {},
   "source": [
    "# DATA PREPARATION\n",
    "- Prepping to model and addressing missing values -- completed in previous section \"Data Quality\"\n",
    "- Convert categorical data to numeric via one-hot encoding (we didn't need to do this because everything is numeric and ordinal)\n",
    "- Type conversions (this was done in the previous section - price to millions and sqft to acres)\n",
    "- Remove multicollinearity (correlated predictors)\n",
    "- Standardize numeric data -- We're not going to standardize our independent variables using z-score normalization because it's not necessary unless we're using logistic regression. \n"
   ]
  },
  {
   "cell_type": "markdown",
   "metadata": {},
   "source": [
    "## Explore Multicollinearity\n",
    "- This a phenemonen where two variables we are using as predictors are correlated with each other\n",
    "- This violates one of the assumptions of performing linear regression - that all independent variables are independent from one another\n",
    "- If we left all features in the model without addressing multicollinearity, it would become very hard for the model to estimate the relationship between independent variables and the dependent variable, because rather than change independently, the features would change in pairs or groups."
   ]
  },
  {
   "cell_type": "code",
   "execution_count": null,
   "metadata": {},
   "outputs": [],
   "source": [
    "correlations = df_all_cols.drop(['price'],axis = 1).corr()"
   ]
  },
  {
   "cell_type": "code",
   "execution_count": null,
   "metadata": {},
   "outputs": [],
   "source": [
    "plt.figure(figsize=(12,12)) # Set size of figure\n",
    "# Use df.corr() as your matrix for the heatmap\n",
    "# I set the color scheme to green using cmap\n",
    "# annot= True adds the float value on each square\n",
    "# fmt='.1f' sets the number of decimal places for each float number. If you want 1.00, for example, use fmt='.2f'\n",
    "# cbar_kws={\"shrink\": .77}  - this argument shrinks the side color bar to .77 of its original size\n",
    "# square=True - this argument makes the figure square\n",
    "ax = sns.heatmap(correlations, cmap = \"Greens\", annot=True, fmt='.2f', cbar_kws={\"shrink\": .77}, square=True)\n",
    "# Sets the title\n",
    "ax.set(title='King County House Sales Dataset Correlation Heatmap')\n",
    "# Get the y-axis limit values for the size of the figure:\n",
    "bottom, top = ax.get_ylim()\n",
    "# Add .5 to the bottom and top of the y-axis limits to fix an error where the top and bottom squares are cut off\n",
    "# This is an error for the versions of Seaborne and Matplotlib I'm using\n",
    "ax = ax.set_ylim(bottom + 0.5, top - 0.5)\n",
    "# Rotate the bottom labels by 30 degrees (100-70)\n",
    "plt.xticks(rotation=70)\n",
    "plt.show()\n"
   ]
  },
  {
   "cell_type": "code",
   "execution_count": null,
   "metadata": {},
   "outputs": [],
   "source": [
    "correlations['price_millions'].sort_values(ascending=False)"
   ]
  },
  {
   "cell_type": "code",
   "execution_count": null,
   "metadata": {},
   "outputs": [],
   "source": [
    "correlations[\"sqft_living\"].sort_values(ascending=False)"
   ]
  },
  {
   "cell_type": "markdown",
   "metadata": {},
   "source": [
    "### Correlations Interpretation \n",
    "- Features highly correlated with price are sqft_living, grade, and bathrooms\n",
    "- Features highly correlated with sqft_living are grade, bathrooms, price_millions, and bedrooms"
   ]
  },
  {
   "cell_type": "markdown",
   "metadata": {},
   "source": [
    "## Address Multicollinearity"
   ]
  },
  {
   "cell_type": "code",
   "execution_count": null,
   "metadata": {},
   "outputs": [],
   "source": [
    "df_all_cols.columns"
   ]
  },
  {
   "cell_type": "code",
   "execution_count": null,
   "metadata": {},
   "outputs": [],
   "source": [
    "df_all_cols.shape"
   ]
  },
  {
   "cell_type": "code",
   "execution_count": null,
   "metadata": {},
   "outputs": [],
   "source": [
    "# We want to write a simple loop to use statsmodel's variance_inflation_factort method on each array (row) of our dataframe, for each column \n",
    "# That's why we use X.shape[1] as the range in the loop below, since the second term in the output of the .shape method is the number of columns\n",
    "X = sm.add_constant(df_all_cols.drop(['price','price_millions'], axis=1))\n",
    "pd.Series([variance_inflation_factor(X.values, i) \n",
    "               for i in range(X.shape[1])], \n",
    "              index=X.columns)"
   ]
  },
  {
   "cell_type": "markdown",
   "metadata": {},
   "source": [
    "### sqft_living has a moderately high VIF value, followed by grade\n",
    "- We can try removing sqft_living or grade to see if it improves our R-squared and Root Mean Squared Error values."
   ]
  },
  {
   "cell_type": "markdown",
   "metadata": {},
   "source": [
    "# df_all_cols - Linear Regression\n",
    "- Tune models to get the highest performance possible on our task\n",
    "  - Considerations:\n",
    "    - What kind of task? Classification task? Regression task?\n",
    "      - This will be a regression task\n",
    "    - Which models will we use\n",
    "      - Linear Regression\n",
    "    - Will be use regularization?\n",
    "      - Out of scope for this exercise\n",
    "    - How will we validate our model?\n",
    "      - R-squared, Mean Squared Error, and the p-values of each coefficient.\n",
    "    - Loss functions?\n",
    "      - Out of scope for this exercise\n",
    "    - What is the performance threshold for success?\n",
    "      - We want to make sure to satisfy the assumptions of linear regression, and get a respectable R-squared value (at least .5)\n"
   ]
  },
  {
   "cell_type": "markdown",
   "metadata": {},
   "source": [
    "## df_all_cols - statsmodels \n",
    "- First we'll use statsmodels.api to run a linear regression and examine model validation scores.\n",
    "- We'll use all the independent variables (df_all_cols) for now."
   ]
  },
  {
   "cell_type": "code",
   "execution_count": null,
   "metadata": {},
   "outputs": [],
   "source": [
    "df_all_cols.columns"
   ]
  },
  {
   "cell_type": "code",
   "execution_count": null,
   "metadata": {},
   "outputs": [],
   "source": [
    "# Add constant (AKA y-intercept):\n",
    "# The constant is set to 1 as default - with means that our constant coefficient will be equal to 1*Beta(0)\n",
    "# Our other variables (other Betas) will be multiplied by a particular coefficient to predict price\n",
    "X = sm.add_constant(df_all_cols.drop(['price','price_millions'], axis=1))\n",
    "y = df_all_cols['price_millions']\n",
    "X.head()"
   ]
  },
  {
   "cell_type": "code",
   "execution_count": null,
   "metadata": {},
   "outputs": [],
   "source": [
    "# The order of the parameters is: endogenous response variable(dependent variable), exogenous variables(independent variables)\n",
    "model_all_cols = sm.OLS(y,X).fit()"
   ]
  },
  {
   "cell_type": "code",
   "execution_count": null,
   "metadata": {},
   "outputs": [],
   "source": [
    "model_all_cols.summary()"
   ]
  },
  {
   "cell_type": "code",
   "execution_count": null,
   "metadata": {},
   "outputs": [],
   "source": [
    "# In addition to R-Squared, we'll use Root Mean Squared Error to validate our model\n",
    "# Here, our RMSE value is .047821 (million dollars) -- which heuristically can be thought of...\n",
    "# ...as the normalized distance between our y values and our y-predicted values\n",
    "# Thus, for any given prediction we make for a home price, we can expect to be about $47,821 off.\n",
    "# Our model is failing to account for some important features underlying the data.\n",
    "yhat = model_all_cols.predict(X)\n",
    "model_rmse = mean_squared_error(y, yhat)\n",
    "model_rmse"
   ]
  },
  {
   "cell_type": "markdown",
   "metadata": {},
   "source": [
    "## df_all_cols - sklearn "
   ]
  },
  {
   "cell_type": "code",
   "execution_count": null,
   "metadata": {},
   "outputs": [],
   "source": [
    "# Divide into test and train data\n",
    "# Train data is for us to estimate our OLS model\n",
    "# Test data is to parameterize our model, using that model to predict y values (price)\n",
    "# If test_size = .3, that means 30% of our data is set aside for the testing data\n",
    "# And 70% of that data for training\n",
    "\n",
    "# The parameter \"random_state\" ensures that if there is skew in our data, our 30-70 split is randomly taking from these groups...\n",
    "# ...so we can have good proportions of randomly selected data and our 30-70 split has good representation \n",
    "X_train, X_test, y_train, y_test = train_test_split(\n",
    "    X, y, test_size=0.3, random_state=4)"
   ]
  },
  {
   "cell_type": "code",
   "execution_count": null,
   "metadata": {},
   "outputs": [],
   "source": [
    "# Linear Regressor - Ordinary Least Squares regression-type estimate:\n",
    "# Library used: sklearn.linear_model\n",
    "lr = LinearRegression(fit_intercept=True)"
   ]
  },
  {
   "cell_type": "code",
   "execution_count": null,
   "metadata": {},
   "outputs": [],
   "source": [
    "# Train model based on train dataset:\n",
    "# Regressing the X's onto the y:\n",
    "# We're getting a fit here, having used 70% of the data\n",
    "lr.fit(X_train, y_train)\n",
    "# coef_list = list(lr.coef_)\n",
    "# name_list = list(X_train.columns)\n",
    "print(list(zip(lr.coef_, X_train.columns)))\n"
   ]
  },
  {
   "cell_type": "code",
   "execution_count": null,
   "metadata": {},
   "outputs": [],
   "source": [
    "# Model prediction based on train dataset:\n",
    "predict_y_train = lr.predict(X_train)"
   ]
  },
  {
   "cell_type": "code",
   "execution_count": null,
   "metadata": {},
   "outputs": [],
   "source": [
    "# Training Data R-Squared Value:\n",
    "print('The R squared value is: ' + str(metrics.r2_score(y_train, predict_y_train)))"
   ]
  },
  {
   "cell_type": "code",
   "execution_count": null,
   "metadata": {},
   "outputs": [],
   "source": [
    "# Actual Prices vs. Predicted Prices:\n",
    "plt.scatter(y_train, predict_y_train)\n",
    "plt.xlabel('price - millions')\n",
    "plt.ylabel('predicted price - millions')\n",
    "plt.show()"
   ]
  },
  {
   "cell_type": "markdown",
   "metadata": {},
   "source": [
    "### Interpret price vs. predicted price scatterplot:\n",
    "- The distribution isn't a straight line, and from that we know that there is something non-linear going on in the relationships we've modeled. \n",
    "- Thus, we don't have a good linear relationship between price and our predictors"
   ]
  },
  {
   "cell_type": "code",
   "execution_count": null,
   "metadata": {},
   "outputs": [],
   "source": [
    "# Predicted Price vs. Residuals\n",
    "# Inspect the amount of error we got from our OLS Linear Regression:\n",
    "# The residual is the amount of error in the estimation (difference between predicted and actual y values)\n",
    "\n",
    "plt.scatter(predict_y_train, y_train - predict_y_train)\n",
    "plt.xlabel('predicted')\n",
    "plt.ylabel('residuals')"
   ]
  },
  {
   "cell_type": "code",
   "execution_count": null,
   "metadata": {},
   "outputs": [],
   "source": [
    "# Check Distribution of Errors:\n",
    "# We can see from this that there's some right-skew to the distribution of error\n",
    "sns.distplot(y_train - predict_y_train)\n",
    "plt.xlabel('residuals')\n",
    "plt.ylabel('frequency')"
   ]
  },
  {
   "cell_type": "code",
   "execution_count": null,
   "metadata": {},
   "outputs": [],
   "source": [
    "# Finally, we take the 30% of that data we set aside for testing, and examine the R-squared value.\n",
    "# We could take this R-squared value (.653), compare it to the R-squared value we got for the training data (.646), and use them to make assumptions about the fit of our model.\n",
    "# However, becasue plotting our residuals showed we haven't fulfilled some critical assumptions of linear regression...\n",
    "# ... we can't really trust these values of R-squared.\n",
    "predict_y_test = lr.predict(X_test)\n",
    "print('The R squared value is: ' + str(metrics.r2_score(y_test, predict_y_test)))"
   ]
  },
  {
   "cell_type": "markdown",
   "metadata": {},
   "source": [
    "Note:\n",
    "Ultimately, if our model has a relatively low R-squared value (close to 50%), but we have:\n",
    "1. fulfilled the assumptions of linear regression \n",
    "2. have normally distributed error \n",
    "3. coefficients have good p-values\n",
    "\n",
    "... then we can still draw meaningful conclusions re: the relationships between the independent and dependent variables. Our coefficients will still represent the mean flucuation in the dependent variable for every 1-unit change in a given independent variable. "
   ]
  },
  {
   "cell_type": "markdown",
   "metadata": {},
   "source": [
    "## df_all_cols - Interpret\n",
    "- Using all of our columns to predict price, and not subsetting the data at all:\n",
    "- Our p-values are all 0.00, which is great.\n",
    "- However, this model is violating necessary assumptions\n",
    "    - The scatterplot of predicted price vs. price is clearly not a linear relationship\n",
    "    - The plot of the residuals vs. the predicted price is trumpet-shaped, which is highly heteroscedastic.\n",
    "    - What we are aiming for is linearity and homoscedasticity - a fairly even distribution of the residuals vs. predicted price"
   ]
  },
  {
   "cell_type": "markdown",
   "metadata": {},
   "source": [
    "# Log of Dependent Variable - Linear Regression "
   ]
  },
  {
   "cell_type": "markdown",
   "metadata": {},
   "source": [
    "## Log of Dependent Variable - statsmodels\n",
    "If the distribution of the dependent variable is skewed, and doesn't follow a normal distribution, we can try to predict log(dependent variable) to improve our results.   "
   ]
  },
  {
   "cell_type": "code",
   "execution_count": null,
   "metadata": {},
   "outputs": [],
   "source": [
    "## Remember what X and y are:\n",
    "X = sm.add_constant(df_all_cols.drop(['price','price_millions'], axis=1))\n",
    "y = df_all_cols['price_millions']"
   ]
  },
  {
   "cell_type": "code",
   "execution_count": null,
   "metadata": {},
   "outputs": [],
   "source": [
    "# As we saw in our very first plot, the distribution of price has significant right-skew\n",
    "y.hist()"
   ]
  },
  {
   "cell_type": "code",
   "execution_count": null,
   "metadata": {},
   "outputs": [],
   "source": [
    "# When we plot the natural logarithm of price, the distribution is now more normally distributed\n",
    "y_scld = np.log(y)\n",
    "y_scld.hist();"
   ]
  },
  {
   "cell_type": "code",
   "execution_count": null,
   "metadata": {},
   "outputs": [],
   "source": [
    "model_log = sm.OLS(y_scld, X).fit()\n",
    "model_log.summary()"
   ]
  },
  {
   "cell_type": "code",
   "execution_count": null,
   "metadata": {},
   "outputs": [],
   "source": [
    "# For any given prediction we make for a home price, we can expect to be about 1.10 million off. \n",
    "yhat = model_log.predict(X)\n",
    "model_rmse_unscld = np.exp(mean_squared_error(y_scld, yhat))\n",
    "model_rmse_unscld"
   ]
  },
  {
   "cell_type": "markdown",
   "metadata": {},
   "source": [
    "## Log of Dependent Variable - sklearn"
   ]
  },
  {
   "cell_type": "code",
   "execution_count": null,
   "metadata": {},
   "outputs": [],
   "source": [
    "X_train, X_test, y_train, y_test = train_test_split(\n",
    "    X, y_scld, test_size=0.3, random_state=4)"
   ]
  },
  {
   "cell_type": "code",
   "execution_count": null,
   "metadata": {},
   "outputs": [],
   "source": [
    "lr.fit(X_train, y_train)\n",
    "print(list(zip(lr.coef_, X_train.columns)))"
   ]
  },
  {
   "cell_type": "code",
   "execution_count": null,
   "metadata": {},
   "outputs": [],
   "source": [
    "# Model prediction based on train dataset:\n",
    "predict_y_train = lr.predict(X_train)"
   ]
  },
  {
   "cell_type": "code",
   "execution_count": null,
   "metadata": {},
   "outputs": [],
   "source": [
    "# Training Data R-Squared Value:\n",
    "print('The R squared value is: ' + str(metrics.r2_score(y_train, predict_y_train)))"
   ]
  },
  {
   "cell_type": "code",
   "execution_count": null,
   "metadata": {},
   "outputs": [],
   "source": [
    "# Actual Prices vs. Predicted Prices:\n",
    "plt.scatter(y_train, predict_y_train)\n",
    "plt.xlabel('price - millions')\n",
    "plt.ylabel('predicted price - millions')\n",
    "plt.show()"
   ]
  },
  {
   "cell_type": "code",
   "execution_count": null,
   "metadata": {},
   "outputs": [],
   "source": [
    "# Predicted Price vs. Residuals\n",
    "plt.scatter(predict_y_train, y_train - predict_y_train)\n",
    "plt.xlabel('predicted')\n",
    "plt.ylabel('residuals')"
   ]
  },
  {
   "cell_type": "code",
   "execution_count": null,
   "metadata": {},
   "outputs": [],
   "source": [
    "# Check Distribution of Errors:\n",
    "sns.distplot(y_train - predict_y_train)\n",
    "plt.xlabel('residuals')\n",
    "plt.ylabel('frequency')"
   ]
  },
  {
   "cell_type": "code",
   "execution_count": null,
   "metadata": {},
   "outputs": [],
   "source": [
    "# R-Squared value for Testing Data:\n",
    "predict_y_test = lr.predict(X_test)\n",
    "print('The R squared value is: ' + str(metrics.r2_score(y_test, predict_y_test)))"
   ]
  },
  {
   "cell_type": "markdown",
   "metadata": {},
   "source": [
    "## Log of Dependent Variable - interpret\n",
    "\n",
    "- The R-squared value for model_log (0.641) is slightly lower than that of df_all_cols (0.646)\n",
    "- Our p-values are all 0.00 except for sqft_lot, which is 0.232\n",
    "- Necessary assumptions for linear regression remain less than ideally fulfilled: \n",
    "    - The scatterplot of predicted price vs. price has some non-linearity \n",
    "    - The plot of the residuals vs. the predicted price is cone shaped"
   ]
  },
  {
   "cell_type": "markdown",
   "metadata": {},
   "source": [
    "# Outliers Removed  \n",
    "- Removing outliers can be a bit of an art, but given that my business case is to offer advice to mostly average, middle-class home owners, it makes sense to eliminate the priciest and lowest cost homes. \n",
    "- From the descriptive statistics we ran in the Understanding Data --> Distributions section, I surmised that the independent variables with the most unusual values were price and number of bedrooms. "
   ]
  },
  {
   "cell_type": "markdown",
   "metadata": {},
   "source": [
    "## Outliers Removed - statsmodels"
   ]
  },
  {
   "cell_type": "code",
   "execution_count": null,
   "metadata": {},
   "outputs": [],
   "source": [
    "df_rm_outliers = df_all_cols.drop(['sqft_lot'], axis=1)"
   ]
  },
  {
   "cell_type": "code",
   "execution_count": null,
   "metadata": {},
   "outputs": [],
   "source": [
    "# Here we take the absolute value of the z-scores for each value in columns \"price\" and \"bedrooms\" and filter our df by...\n",
    "# ...only those values which have a z-score < 3\n",
    "# df_rm_outliers = df_all_cols[(np.abs(stats.zscore(df_all_cols[['bedrooms']])) < 3)] \n",
    "# df_rm_outliers = df_all_cols[(np.abs(stats.zscore(df_all_cols[['price']])) < 2)]\n",
    "# df = df[(np.abs(stats.zscore(df[['']])) < 2)] \n",
    "# df_rm_outliers = df_all_cols.loc[    (df_all_cols[(np.abs(stats.zscore(df_all_cols[['bedrooms']])) < 3)]) & (df_all_cols[(np.abs(stats.zscore(df_all_cols[['price']])) < 2)])]\n",
    "\n",
    "df_rm_outliers = df_rm_outliers[(np.abs(stats.zscore(df_rm_outliers[['bedrooms']])) < 3) & (np.abs(stats.zscore(df_rm_outliers[['price']])) < 3)]"
   ]
  },
  {
   "cell_type": "code",
   "execution_count": null,
   "metadata": {},
   "outputs": [],
   "source": [
    "# Sort by Bedrooms:\n",
    "df_rm_outliers[['price_millions', 'bedrooms', 'bathrooms']].sort_values('bedrooms', ascending = False).head(10)"
   ]
  },
  {
   "cell_type": "code",
   "execution_count": null,
   "metadata": {},
   "outputs": [],
   "source": [
    "df_rm_outliers.columns"
   ]
  },
  {
   "cell_type": "code",
   "execution_count": null,
   "metadata": {},
   "outputs": [],
   "source": [
    "format_dict = {'bedrooms': '{:.2f}', 'bathrooms': '{:.2f}', 'floors': '{:.2f}', 'sqft_living': '{:20,.2f}', 'sqft_lot': '{:20,.2f}',\n",
    "               'price_millions': '{:,.8f}', 'yr_built': '{:.0f}', 'condition': '{:.2f}', 'grade': '{:.2f}', 'waterfront': '{:.5f}'}\n",
    "df_rm_outliers[['price_millions', 'bedrooms', 'bathrooms', 'sqft_living', 'floors',\n",
    "    'waterfront', 'condition', 'grade', 'yr_built']].describe().style.format(format_dict)"
   ]
  },
  {
   "cell_type": "code",
   "execution_count": null,
   "metadata": {},
   "outputs": [],
   "source": [
    "# For our other variables (other Betas) will be multiplied by a particular coefficient to predict price\n",
    "X = sm.add_constant(df_rm_outliers.drop(['price','price_millions'], axis=1))\n",
    "y = df_rm_outliers['price_millions']\n",
    "X.head()"
   ]
  },
  {
   "cell_type": "code",
   "execution_count": null,
   "metadata": {},
   "outputs": [],
   "source": [
    "model_rm_outliers = sm.OLS(y, X).fit() "
   ]
  },
  {
   "cell_type": "code",
   "execution_count": null,
   "metadata": {},
   "outputs": [],
   "source": [
    "model_rm_outliers.summary()"
   ]
  },
  {
   "cell_type": "code",
   "execution_count": null,
   "metadata": {},
   "outputs": [],
   "source": [
    "yhat = model_rm_outliers.predict(X)\n",
    "model_rmse = mean_squared_error(y,yhat)\n",
    "model_rmse"
   ]
  },
  {
   "cell_type": "code",
   "execution_count": null,
   "metadata": {},
   "outputs": [],
   "source": [
    "X_train, X_test, y_train, y_test = train_test_split(\n",
    "    X, y, test_size=0.3, random_state=4)"
   ]
  },
  {
   "cell_type": "code",
   "execution_count": null,
   "metadata": {},
   "outputs": [],
   "source": [
    "lr.fit(X_train, y_train)\n",
    "print(list(zip(lr.coef_, X_train.columns)))"
   ]
  },
  {
   "cell_type": "code",
   "execution_count": null,
   "metadata": {},
   "outputs": [],
   "source": [
    "predict_y_train = lr.predict(X_train)"
   ]
  },
  {
   "cell_type": "code",
   "execution_count": null,
   "metadata": {},
   "outputs": [],
   "source": [
    "print('The R squared value is: ' + str(metrics.r2_score(y_train, predict_y_train)))"
   ]
  },
  {
   "cell_type": "code",
   "execution_count": null,
   "metadata": {},
   "outputs": [],
   "source": [
    "# Actual Prices vs. Predicted Prices:\n",
    "plt.scatter(y_train, predict_y_train)\n",
    "plt.xlabel('price - millions')\n",
    "plt.ylabel('predicted price - millions')\n",
    "plt.show()"
   ]
  },
  {
   "cell_type": "code",
   "execution_count": null,
   "metadata": {},
   "outputs": [],
   "source": [
    "# Predicted Price vs. Residuals\n",
    "plt.scatter(predict_y_train, y_train - predict_y_train)\n",
    "plt.xlabel('predicted')\n",
    "plt.ylabel('residuals')"
   ]
  },
  {
   "cell_type": "code",
   "execution_count": null,
   "metadata": {},
   "outputs": [],
   "source": [
    "# Check Distribution of Errors:\n",
    "sns.distplot(y_train - predict_y_train)\n",
    "plt.xlabel('residuals')\n",
    "plt.ylabel('frequency')"
   ]
  },
  {
   "cell_type": "code",
   "execution_count": null,
   "metadata": {},
   "outputs": [],
   "source": [
    "# R-Squared value for Testing Data:\n",
    "predict_y_test = lr.predict(X_test)\n",
    "print('The R squared value is: ' + str(metrics.r2_score(y_test, predict_y_test)))"
   ]
  },
  {
   "cell_type": "code",
   "execution_count": null,
   "metadata": {},
   "outputs": [],
   "source": [
    "# These values make a lot more sense\n",
    "# The minimum and maximum values for price, bedrooms, and bathrooms are conceivable attributes of a middle class person's home.\n",
    "# We didn't sacrifice on the size of our dataset, having only shed only about 4% of the number of rows in the original dataset.\n",
    "df_rm_outliers[['price', 'bedrooms', 'bathrooms', 'sqft_living', 'floors',\n",
    "    'waterfront', 'condition', 'grade', 'yr_built']].describe().style.format(format_dict)"
   ]
  }
 ],
 "metadata": {
  "interpreter": {
   "hash": "f419b20f77b4527721f30319cfafe3c70960cd81ca56dc600db40ecc08624f04"
  },
  "kernelspec": {
   "display_name": "Python 3.6.9 64-bit ('learn-env': conda)",
   "name": "python3"
  },
  "language_info": {
   "codemirror_mode": {
    "name": "ipython",
    "version": 3
   },
   "file_extension": ".py",
   "mimetype": "text/x-python",
   "name": "python",
   "nbconvert_exporter": "python",
   "pygments_lexer": "ipython3",
   "version": "3.6.9"
  }
 },
 "nbformat": 4,
 "nbformat_minor": 2
}
