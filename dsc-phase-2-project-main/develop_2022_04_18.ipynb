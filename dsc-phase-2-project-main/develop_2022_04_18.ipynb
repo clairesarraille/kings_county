{
 "cells": [
  {
   "cell_type": "markdown",
   "metadata": {},
   "source": [
    "* Blog post URL: https://clairesarraille.github.io/2021/08/08/kings_county_housing.html\n"
   ]
  },
  {
   "cell_type": "code",
   "execution_count": 1,
   "metadata": {},
   "outputs": [
    {
     "name": "stderr",
     "output_type": "stream",
     "text": [
      "/Users/clairesarraille/opt/anaconda3/envs/learn-env/lib/python3.6/site-packages/statsmodels/tools/_testing.py:19: FutureWarning: pandas.util.testing is deprecated. Use the functions in the public API at pandas.testing instead.\n",
      "  import pandas.util.testing as tm\n"
     ]
    }
   ],
   "source": [
    "import numpy as np\n",
    "from scipy import stats\n",
    "import seaborn as sn\n",
    "import pandas as pd\n",
    "import matplotlib.pyplot as plt\n",
    "from matplotlib.ticker import StrMethodFormatter\n",
    "import seaborn as sns\n",
    "import datetime as dt\n",
    "\n",
    "import statsmodels.api as sm\n",
    "from statsmodels.stats.outliers_influence import variance_inflation_factor\n",
    "\n",
    "from sklearn.model_selection import train_test_split\n",
    "from sklearn import metrics\n",
    "from sklearn import linear_model\n",
    "from sklearn.linear_model import LinearRegression\n",
    "from sklearn.metrics import mean_squared_error\n",
    "\n",
    "%matplotlib inline\n"
   ]
  },
  {
   "cell_type": "markdown",
   "metadata": {},
   "source": [
    "## CRISP-DM -- CRoss Industry Standard Process for Data Mining\n",
    "- Following this process ensures that the requirements and organization of formal hypothesis testing are met (broadly speaking, an iterative approach to modeling)\n",
    "- Not every step was necessary, or was in scope for this particular exercise. \n",
    "----------\n",
    "- Business Understanding\n",
    "    - Who will be  using the model\n",
    "    - How will the model be used\n",
    "    - How will using the model help our business\n",
    "    - clarify requirements\n",
    "    - What problems are in and out of scope\n",
    "\n",
    "- Understand Data\n",
    "    - What is target\n",
    "    - What are predictors\n",
    "    - Distribution of Data\n",
    "    - How many observations - and is this a small, medium or large collection?\n",
    "    - What is the quality? - What errors could be in the data, or inaccuracy?\n",
    "\n",
    "- Data Preparation - Prepping to model\n",
    "    - Missing values\n",
    "    - Type conversions\n",
    "    - Remove multicollinearity (correlated predictors)\n",
    "    - Standardize numeric data\n",
    "    - Convert categorical data to numeric via one-hot encoding\n",
    "\n",
    "- Modeling:\n",
    "    - Tune models to get the highest performance possible on our task\n",
    "    - Considerations:\n",
    "        - What kind of task? Classification task? Regression task?\n",
    "        - Which models will we use\n",
    "        - Will we use regularization?\n",
    "        - How will we validate our model?\n",
    "        - Loss functions?\n",
    "        - What is the performance threshold for success?\n",
    "\n",
    "- Evaluation:\n",
    "    - Does the model solve business problem outlined in step 1?\n",
    "    - At this point, we may want to start over at the business understanding step, now that we have a deeper understanding\n",
    "    - Things we may learn at this stage:\n",
    "        - Need different data\n",
    "        - Need more data\n",
    "        - Should be going in a different direction\n",
    "        - Should use classificaion rather than regression, or vice versa\n",
    "        - Use different approach\n",
    "\n",
    "- Deployment:\n",
    "    - Move the model into production\n",
    "    - Set up ETL - how much of preprocessing and cleaning can be automated?\n"
   ]
  },
  {
   "cell_type": "markdown",
   "metadata": {},
   "source": [
    "# BUSINESS UNDERSTANDING\n",
    "- Who will be  using the model?\n",
    "    - The hypothetical real estate agency I work for\n",
    "    - Our clients are typically people trying to sell their family home - this business case is not for apartment buildings or hotel real estate\n",
    "- How will the model be used?\n",
    "    - It will help us understand which variables (number of bedrooms, square footage) contribute the most to a positive increase in home selling price\n",
    "- How will using the model help our business?\n",
    "    - It will provide the evidence we need to give data-driven advice to our clients\n",
    "    - Helping our clients make decisions to maximize selling price will increase our commissions \n",
    "    - We also have the option of charging our clients for a home-renovation consultation which would include access to the data from our model\n",
    "- Clarify Requirements:\n",
    "    - Coefficients for each independent variable: these coefficients represent the dollar amount impact on selling price associated with a one-unit increase of a given variable.\n",
    "- What problems are in and out of scope?\n",
    "    - In scope: How do home renovations impact the selling price of a home.\n",
    "    - Out of scope: What selling price the model would predict given new data (data we haven't seen yet) "
   ]
  },
  {
   "cell_type": "markdown",
   "metadata": {},
   "source": [
    "# UNDERSTAND DATA\n",
    "- What is **target**\n",
    ">'price'\n",
    "- What are **predictors**\n",
    ">'bedrooms', 'bathrooms', 'sqft_living', 'sqft_lot', 'floors', 'waterfront', 'condition', 'grade', 'yr_built'\n",
    "- Distribution of Data - See section \"DISTRIBUTIONS\" \n",
    "- How many observations - and is this a small, medium or large collection?\n",
    "    - 21,597 entries\n",
    "    - According to Frank Harrell in his book Regression Modeling Strategies, you need at least 10-20 observations per predictor\n",
    "    - We have many, many more observations than 20 * (6 - num covariates) = 120\n",
    "    - Our dataset would be considered large\n",
    "- What is the quality? - What errors could be in the data, or inaccuracy? - See section \"Data Quality\" "
   ]
  },
  {
   "cell_type": "markdown",
   "metadata": {},
   "source": [
    "## Read in Data"
   ]
  },
  {
   "cell_type": "code",
   "execution_count": 2,
   "metadata": {},
   "outputs": [],
   "source": [
    "df = pd.read_csv('data/kc_house_data.csv')"
   ]
  },
  {
   "cell_type": "markdown",
   "metadata": {},
   "source": [
    "## Remove Features\n",
    "- view ( has been viewed, this wouldn't help us predict prices) \n",
    "- Note: **sqft_above + sqft_basement = sqft_living**, according to meta-data:\n",
    "    - sqft_above (is redundant -- repeats sqft_living)\n",
    "    - sqft_basement (is redundant -- repeats sqft_living)\n",
    "- sqft_living15 (is redundant - repeats sqft_living)\n",
    "- sqft_lot15 (is redundant - repeats sqft_lot)\n",
    "- yr_renovated (~18% of values are NULL - imputing (making educated guess) for those values is out of scope for this project, so we'll drop this field)"
   ]
  },
  {
   "cell_type": "code",
   "execution_count": 3,
   "metadata": {},
   "outputs": [],
   "source": [
    "# Why reduce features?\n",
    "# I narrowed my list of features to avoid over-fit of the training dataset\n",
    "# Reducing redundancy in features increases the accuracy of the model\n",
    "# Note: The brief for this project also recommended dropping these features.\n",
    "# Dropping yr_renovated because there are 3,842 nulls in that field\n",
    "# View is \"has been viewed\"\n",
    "\n",
    "df = df.drop(['view', 'sqft_above', 'sqft_basement', 'sqft_living15', 'sqft_lot15', 'yr_renovated'], axis=1)"
   ]
  },
  {
   "cell_type": "code",
   "execution_count": 4,
   "metadata": {},
   "outputs": [
    {
     "data": {
      "text/plain": [
       "Index(['bathrooms', 'bedrooms', 'condition', 'date', 'floors', 'grade', 'id',\n",
       "       'lat', 'long', 'price', 'sqft_living', 'sqft_lot', 'waterfront',\n",
       "       'yr_built', 'zipcode'],\n",
       "      dtype='object')"
      ]
     },
     "execution_count": 4,
     "metadata": {},
     "output_type": "execute_result"
    }
   ],
   "source": [
    "# Note: sqft_living includes a finished basement, if present\n",
    "# Grade is the construction quality of improvements, according to a King County grading system\n",
    "# Condition is overall condition of house\n",
    "df.columns.sort_values()"
   ]
  },
  {
   "cell_type": "markdown",
   "metadata": {},
   "source": [
    "## Data Quality"
   ]
  },
  {
   "cell_type": "markdown",
   "metadata": {},
   "source": [
    "- There could be outliers - such as hundreds of bathrooms -- this wouldn't make sense considering a given home's square-footage \n",
    "- Year could be in the future\n",
    "- price could be a negative number\n",
    "- datatype could be wrong - such as string for number of bedrooms"
   ]
  },
  {
   "cell_type": "markdown",
   "metadata": {},
   "source": [
    "### Waterfront Missing Values"
   ]
  },
  {
   "cell_type": "code",
   "execution_count": 5,
   "metadata": {},
   "outputs": [
    {
     "data": {
      "text/plain": [
       "id                0\n",
       "date              0\n",
       "price             0\n",
       "bedrooms          0\n",
       "bathrooms         0\n",
       "sqft_living       0\n",
       "sqft_lot          0\n",
       "floors            0\n",
       "waterfront     2376\n",
       "condition         0\n",
       "grade             0\n",
       "yr_built          0\n",
       "zipcode           0\n",
       "lat               0\n",
       "long              0\n",
       "dtype: int64"
      ]
     },
     "execution_count": 5,
     "metadata": {},
     "output_type": "execute_result"
    }
   ],
   "source": [
    "# Waterfront is our only variable containing NULL values:\n",
    "df.isnull().sum()"
   ]
  },
  {
   "cell_type": "markdown",
   "metadata": {},
   "source": [
    "- I filled in NaN values for 'waterfront' with 0. Now, 'waterfront' has a 1 value if there is a view, and 0 value if there is not.\n",
    "- I also cast this column as an integer type since there are no other options besides the integers 1 and 0."
   ]
  },
  {
   "cell_type": "code",
   "execution_count": 7,
   "metadata": {},
   "outputs": [
    {
     "data": {
      "text/plain": [
       "array([0, 1])"
      ]
     },
     "execution_count": 7,
     "metadata": {},
     "output_type": "execute_result"
    }
   ],
   "source": [
    "# Note: waterfront is our only categorical value.\n",
    "# We don't need to use dummy coding or any other coding system because it's already dichotomous (1 or 0) \n",
    "df['waterfront'] = df['waterfront'].fillna(0)\n",
    "df['waterfront'] = df['waterfront'].astype(int)\n",
    "df['waterfront'].unique()"
   ]
  },
  {
   "cell_type": "markdown",
   "metadata": {},
   "source": [
    "## Cast Features -- at a Different Scale for Visualization "
   ]
  },
  {
   "cell_type": "code",
   "execution_count": 8,
   "metadata": {},
   "outputs": [],
   "source": [
    "# Create lot size in acres:\n",
    "df['acres_lot'] = df['sqft_lot'] / 43560"
   ]
  },
  {
   "cell_type": "code",
   "execution_count": 9,
   "metadata": {},
   "outputs": [],
   "source": [
    "# Create price column in millions:\n",
    "df['price_millions'] = df['price'] / 1000000"
   ]
  },
  {
   "cell_type": "code",
   "execution_count": 10,
   "metadata": {},
   "outputs": [
    {
     "data": {
      "text/html": [
       "<div>\n",
       "<style scoped>\n",
       "    .dataframe tbody tr th:only-of-type {\n",
       "        vertical-align: middle;\n",
       "    }\n",
       "\n",
       "    .dataframe tbody tr th {\n",
       "        vertical-align: top;\n",
       "    }\n",
       "\n",
       "    .dataframe thead th {\n",
       "        text-align: right;\n",
       "    }\n",
       "</style>\n",
       "<table border=\"1\" class=\"dataframe\">\n",
       "  <thead>\n",
       "    <tr style=\"text-align: right;\">\n",
       "      <th></th>\n",
       "      <th>price_millions</th>\n",
       "      <th>price</th>\n",
       "      <th>acres_lot</th>\n",
       "    </tr>\n",
       "  </thead>\n",
       "  <tbody>\n",
       "    <tr>\n",
       "      <th>0</th>\n",
       "      <td>0.221900</td>\n",
       "      <td>221900.0</td>\n",
       "      <td>0.129706</td>\n",
       "    </tr>\n",
       "    <tr>\n",
       "      <th>1</th>\n",
       "      <td>0.538000</td>\n",
       "      <td>538000.0</td>\n",
       "      <td>0.166253</td>\n",
       "    </tr>\n",
       "    <tr>\n",
       "      <th>2</th>\n",
       "      <td>0.180000</td>\n",
       "      <td>180000.0</td>\n",
       "      <td>0.229568</td>\n",
       "    </tr>\n",
       "    <tr>\n",
       "      <th>3</th>\n",
       "      <td>0.604000</td>\n",
       "      <td>604000.0</td>\n",
       "      <td>0.114784</td>\n",
       "    </tr>\n",
       "    <tr>\n",
       "      <th>4</th>\n",
       "      <td>0.510000</td>\n",
       "      <td>510000.0</td>\n",
       "      <td>0.185491</td>\n",
       "    </tr>\n",
       "    <tr>\n",
       "      <th>...</th>\n",
       "      <td>...</td>\n",
       "      <td>...</td>\n",
       "      <td>...</td>\n",
       "    </tr>\n",
       "    <tr>\n",
       "      <th>21592</th>\n",
       "      <td>0.360000</td>\n",
       "      <td>360000.0</td>\n",
       "      <td>0.025964</td>\n",
       "    </tr>\n",
       "    <tr>\n",
       "      <th>21593</th>\n",
       "      <td>0.400000</td>\n",
       "      <td>400000.0</td>\n",
       "      <td>0.133448</td>\n",
       "    </tr>\n",
       "    <tr>\n",
       "      <th>21594</th>\n",
       "      <td>0.402101</td>\n",
       "      <td>402101.0</td>\n",
       "      <td>0.030992</td>\n",
       "    </tr>\n",
       "    <tr>\n",
       "      <th>21595</th>\n",
       "      <td>0.400000</td>\n",
       "      <td>400000.0</td>\n",
       "      <td>0.054821</td>\n",
       "    </tr>\n",
       "    <tr>\n",
       "      <th>21596</th>\n",
       "      <td>0.325000</td>\n",
       "      <td>325000.0</td>\n",
       "      <td>0.024702</td>\n",
       "    </tr>\n",
       "  </tbody>\n",
       "</table>\n",
       "<p>21597 rows × 3 columns</p>\n",
       "</div>"
      ],
      "text/plain": [
       "       price_millions     price  acres_lot\n",
       "0            0.221900  221900.0   0.129706\n",
       "1            0.538000  538000.0   0.166253\n",
       "2            0.180000  180000.0   0.229568\n",
       "3            0.604000  604000.0   0.114784\n",
       "4            0.510000  510000.0   0.185491\n",
       "...               ...       ...        ...\n",
       "21592        0.360000  360000.0   0.025964\n",
       "21593        0.400000  400000.0   0.133448\n",
       "21594        0.402101  402101.0   0.030992\n",
       "21595        0.400000  400000.0   0.054821\n",
       "21596        0.325000  325000.0   0.024702\n",
       "\n",
       "[21597 rows x 3 columns]"
      ]
     },
     "execution_count": 10,
     "metadata": {},
     "output_type": "execute_result"
    }
   ],
   "source": [
    "df[['price_millions','price', 'acres_lot']]"
   ]
  },
  {
   "cell_type": "markdown",
   "metadata": {},
   "source": [
    "# FEATURE ENGINEERING & DISTRIBUTIONS"
   ]
  },
  {
   "cell_type": "markdown",
   "metadata": {},
   "source": [
    "## Clarify Grade and Condition Columns"
   ]
  },
  {
   "cell_type": "markdown",
   "metadata": {},
   "source": [
    "### King County's Grading System for Buildings:\n",
    "#### Represents the construction quality of improvements. Grades run from grade 1 to 13. Generally defined as:\n",
    "\n",
    "1. Falls short of minimum building standards. Normally cabin or inferior structure.\n",
    "\n",
    "2. Falls short of minimum building standards. Normally cabin or inferior structure.\n",
    "\n",
    "3. Falls short of minimum building standards. Normally cabin or inferior structure.\n",
    "\n",
    "4. Generally older, low quality construction. Does not meet code.\n",
    "\n",
    "5. Low construction costs and workmanship. Small, simple design.\n",
    "\n",
    "6. Lowest grade currently meeting building code. Low quality materials and simple designs.\n",
    "\n",
    "7. Average grade of construction and design. Commonly seen in plats and older sub-divisions.\n",
    "\n",
    "8. Just above average in construction and design. Usually better materials in both the exterior and interior finish work.\n",
    "\n",
    "9. Better architectural design with extra interior and exterior design and quality.\n",
    "\n",
    "10. Homes of this quality generally have high quality features. Finish work is better and more design quality is seen in the floor plans. Generally have a larger square footage.\n",
    "\n",
    "11. Custom design and higher quality finish work with added amenities of solid woods, bathroom fixtures and more luxurious options.\n",
    "\n",
    "12. Custom design and excellent builders. All materials are of the highest quality and all conveniences are present.\n",
    "\n",
    "13. Generally custom designed and built. Mansion level. Large amount of highest quality cabinet work, wood trim, marble, entry ways etc.\n",
    "\n",
    "### King County's Condition Scale: \n",
    "#### Relative to age and grade. Coded 1-5.\n",
    "\n",
    "1. Poor- Worn out. Repair and overhaul needed on painted surfaces, roofing, plumbing, heating and numerous functional inadequacies. Excessive deferred maintenance and abuse, limited value-in-use, approaching abandonment or major reconstruction; reuse or change in occupancy is imminent. Effective age is near the end of the scale regardless of the actual chronological age.\n",
    "\n",
    "2. Fair- Badly worn. Much repair needed. Many items need refinishing or overhauling, deferred maintenance obvious, inadequate building utility and systems all shortening the life expectancy and increasing the effective age.\n",
    "\n",
    "3. Average- Some evidence of deferred maintenance and normal obsolescence with age in that a few minor repairs are needed, along with some refinishing. All major components still functional and contributing toward an extended life expectancy. Effective age and utility is standard for like properties of its class and usage.\n",
    "\n",
    "4. Good- No obvious maintenance required but neither is everything new. Appearance and utility are above the standard and the overall effective age will be lower than the typical property.\n",
    "\n",
    "5. Very Good- All items well maintained, many having been overhauled and repaired as they have shown signs of wear, increasing the life expectancy and lowering the effective age with little deterioration or obsolescence evident with a high degree of utility."
   ]
  },
  {
   "cell_type": "markdown",
   "metadata": {},
   "source": [
    "## Create New Columns from Date Sold\n",
    "- The date column is the date home was sold\n",
    "- If we convert this date to a numerical value, the origin would be year 0 -- and this would be difficult to interpret for our study\n",
    "- Instead, I'll extract the year from the date column, and create a new feature using year_built to get age_sold (in years)"
   ]
  },
  {
   "cell_type": "code",
   "execution_count": 11,
   "metadata": {},
   "outputs": [
    {
     "data": {
      "text/plain": [
       "dtype('O')"
      ]
     },
     "execution_count": 11,
     "metadata": {},
     "output_type": "execute_result"
    }
   ],
   "source": [
    "# This means the datatype of the date column is an object\n",
    "df.date.dtype"
   ]
  },
  {
   "cell_type": "code",
   "execution_count": 12,
   "metadata": {},
   "outputs": [
    {
     "data": {
      "text/html": [
       "<div>\n",
       "<style scoped>\n",
       "    .dataframe tbody tr th:only-of-type {\n",
       "        vertical-align: middle;\n",
       "    }\n",
       "\n",
       "    .dataframe tbody tr th {\n",
       "        vertical-align: top;\n",
       "    }\n",
       "\n",
       "    .dataframe thead th {\n",
       "        text-align: right;\n",
       "    }\n",
       "</style>\n",
       "<table border=\"1\" class=\"dataframe\">\n",
       "  <thead>\n",
       "    <tr style=\"text-align: right;\">\n",
       "      <th></th>\n",
       "      <th>date</th>\n",
       "    </tr>\n",
       "  </thead>\n",
       "  <tbody>\n",
       "    <tr>\n",
       "      <th>0</th>\n",
       "      <td>10/13/2014</td>\n",
       "    </tr>\n",
       "    <tr>\n",
       "      <th>1</th>\n",
       "      <td>12/9/2014</td>\n",
       "    </tr>\n",
       "    <tr>\n",
       "      <th>2</th>\n",
       "      <td>2/25/2015</td>\n",
       "    </tr>\n",
       "    <tr>\n",
       "      <th>3</th>\n",
       "      <td>12/9/2014</td>\n",
       "    </tr>\n",
       "    <tr>\n",
       "      <th>4</th>\n",
       "      <td>2/18/2015</td>\n",
       "    </tr>\n",
       "    <tr>\n",
       "      <th>...</th>\n",
       "      <td>...</td>\n",
       "    </tr>\n",
       "    <tr>\n",
       "      <th>21592</th>\n",
       "      <td>5/21/2014</td>\n",
       "    </tr>\n",
       "    <tr>\n",
       "      <th>21593</th>\n",
       "      <td>2/23/2015</td>\n",
       "    </tr>\n",
       "    <tr>\n",
       "      <th>21594</th>\n",
       "      <td>6/23/2014</td>\n",
       "    </tr>\n",
       "    <tr>\n",
       "      <th>21595</th>\n",
       "      <td>1/16/2015</td>\n",
       "    </tr>\n",
       "    <tr>\n",
       "      <th>21596</th>\n",
       "      <td>10/15/2014</td>\n",
       "    </tr>\n",
       "  </tbody>\n",
       "</table>\n",
       "<p>21597 rows × 1 columns</p>\n",
       "</div>"
      ],
      "text/plain": [
       "             date\n",
       "0      10/13/2014\n",
       "1       12/9/2014\n",
       "2       2/25/2015\n",
       "3       12/9/2014\n",
       "4       2/18/2015\n",
       "...           ...\n",
       "21592   5/21/2014\n",
       "21593   2/23/2015\n",
       "21594   6/23/2014\n",
       "21595   1/16/2015\n",
       "21596  10/15/2014\n",
       "\n",
       "[21597 rows x 1 columns]"
      ]
     },
     "execution_count": 12,
     "metadata": {},
     "output_type": "execute_result"
    }
   ],
   "source": [
    "df[['date']]"
   ]
  },
  {
   "cell_type": "markdown",
   "metadata": {},
   "source": [
    "### Convert to data type \"date\""
   ]
  },
  {
   "cell_type": "code",
   "execution_count": 13,
   "metadata": {},
   "outputs": [],
   "source": [
    "df['date_sold'] =  pd.to_datetime(df['date'], format='%m/%d/%Y')"
   ]
  },
  {
   "cell_type": "code",
   "execution_count": 14,
   "metadata": {},
   "outputs": [
    {
     "data": {
      "text/html": [
       "<div>\n",
       "<style scoped>\n",
       "    .dataframe tbody tr th:only-of-type {\n",
       "        vertical-align: middle;\n",
       "    }\n",
       "\n",
       "    .dataframe tbody tr th {\n",
       "        vertical-align: top;\n",
       "    }\n",
       "\n",
       "    .dataframe thead th {\n",
       "        text-align: right;\n",
       "    }\n",
       "</style>\n",
       "<table border=\"1\" class=\"dataframe\">\n",
       "  <thead>\n",
       "    <tr style=\"text-align: right;\">\n",
       "      <th></th>\n",
       "      <th>date</th>\n",
       "      <th>date_sold</th>\n",
       "    </tr>\n",
       "  </thead>\n",
       "  <tbody>\n",
       "    <tr>\n",
       "      <th>16580</th>\n",
       "      <td>5/27/2015</td>\n",
       "      <td>2015-05-27</td>\n",
       "    </tr>\n",
       "    <tr>\n",
       "      <th>13040</th>\n",
       "      <td>5/24/2015</td>\n",
       "      <td>2015-05-24</td>\n",
       "    </tr>\n",
       "    <tr>\n",
       "      <th>5632</th>\n",
       "      <td>5/15/2015</td>\n",
       "      <td>2015-05-15</td>\n",
       "    </tr>\n",
       "    <tr>\n",
       "      <th>15797</th>\n",
       "      <td>5/14/2015</td>\n",
       "      <td>2015-05-14</td>\n",
       "    </tr>\n",
       "    <tr>\n",
       "      <th>927</th>\n",
       "      <td>5/14/2015</td>\n",
       "      <td>2015-05-14</td>\n",
       "    </tr>\n",
       "    <tr>\n",
       "      <th>...</th>\n",
       "      <td>...</td>\n",
       "      <td>...</td>\n",
       "    </tr>\n",
       "    <tr>\n",
       "      <th>7316</th>\n",
       "      <td>5/2/2014</td>\n",
       "      <td>2014-05-02</td>\n",
       "    </tr>\n",
       "    <tr>\n",
       "      <th>19661</th>\n",
       "      <td>5/2/2014</td>\n",
       "      <td>2014-05-02</td>\n",
       "    </tr>\n",
       "    <tr>\n",
       "      <th>6418</th>\n",
       "      <td>5/2/2014</td>\n",
       "      <td>2014-05-02</td>\n",
       "    </tr>\n",
       "    <tr>\n",
       "      <th>10689</th>\n",
       "      <td>5/2/2014</td>\n",
       "      <td>2014-05-02</td>\n",
       "    </tr>\n",
       "    <tr>\n",
       "      <th>4959</th>\n",
       "      <td>5/2/2014</td>\n",
       "      <td>2014-05-02</td>\n",
       "    </tr>\n",
       "  </tbody>\n",
       "</table>\n",
       "<p>21597 rows × 2 columns</p>\n",
       "</div>"
      ],
      "text/plain": [
       "            date  date_sold\n",
       "16580  5/27/2015 2015-05-27\n",
       "13040  5/24/2015 2015-05-24\n",
       "5632   5/15/2015 2015-05-15\n",
       "15797  5/14/2015 2015-05-14\n",
       "927    5/14/2015 2015-05-14\n",
       "...          ...        ...\n",
       "7316    5/2/2014 2014-05-02\n",
       "19661   5/2/2014 2014-05-02\n",
       "6418    5/2/2014 2014-05-02\n",
       "10689   5/2/2014 2014-05-02\n",
       "4959    5/2/2014 2014-05-02\n",
       "\n",
       "[21597 rows x 2 columns]"
      ]
     },
     "execution_count": 14,
     "metadata": {},
     "output_type": "execute_result"
    }
   ],
   "source": [
    "df[['date','date_sold']].sort_values(by='date_sold', ascending=False)"
   ]
  },
  {
   "cell_type": "markdown",
   "metadata": {},
   "source": [
    "### Year"
   ]
  },
  {
   "cell_type": "code",
   "execution_count": 15,
   "metadata": {},
   "outputs": [],
   "source": [
    "# Extract Year Sold\n",
    "df['year_sold'] = df['date_sold'].dt.year"
   ]
  },
  {
   "cell_type": "code",
   "execution_count": 16,
   "metadata": {},
   "outputs": [
    {
     "data": {
      "text/plain": [
       "0        2014\n",
       "1        2014\n",
       "2        2015\n",
       "3        2014\n",
       "4        2015\n",
       "         ... \n",
       "21592    2014\n",
       "21593    2015\n",
       "21594    2014\n",
       "21595    2015\n",
       "21596    2014\n",
       "Name: year_sold, Length: 21597, dtype: int64"
      ]
     },
     "execution_count": 16,
     "metadata": {},
     "output_type": "execute_result"
    }
   ],
   "source": [
    "df['year_sold']"
   ]
  },
  {
   "cell_type": "markdown",
   "metadata": {},
   "source": [
    "### Age"
   ]
  },
  {
   "cell_type": "code",
   "execution_count": 17,
   "metadata": {},
   "outputs": [],
   "source": [
    "# Create new feature: age_sold\n",
    "df['age_sold'] = df['year_sold'] - df['yr_built']"
   ]
  },
  {
   "cell_type": "code",
   "execution_count": 18,
   "metadata": {},
   "outputs": [
    {
     "data": {
      "text/html": [
       "<div>\n",
       "<style scoped>\n",
       "    .dataframe tbody tr th:only-of-type {\n",
       "        vertical-align: middle;\n",
       "    }\n",
       "\n",
       "    .dataframe tbody tr th {\n",
       "        vertical-align: top;\n",
       "    }\n",
       "\n",
       "    .dataframe thead th {\n",
       "        text-align: right;\n",
       "    }\n",
       "</style>\n",
       "<table border=\"1\" class=\"dataframe\">\n",
       "  <thead>\n",
       "    <tr style=\"text-align: right;\">\n",
       "      <th></th>\n",
       "      <th>age_sold</th>\n",
       "      <th>year_sold</th>\n",
       "      <th>yr_built</th>\n",
       "    </tr>\n",
       "  </thead>\n",
       "  <tbody>\n",
       "    <tr>\n",
       "      <th>8996</th>\n",
       "      <td>115</td>\n",
       "      <td>2015</td>\n",
       "      <td>1900</td>\n",
       "    </tr>\n",
       "    <tr>\n",
       "      <th>3973</th>\n",
       "      <td>115</td>\n",
       "      <td>2015</td>\n",
       "      <td>1900</td>\n",
       "    </tr>\n",
       "    <tr>\n",
       "      <th>11239</th>\n",
       "      <td>115</td>\n",
       "      <td>2015</td>\n",
       "      <td>1900</td>\n",
       "    </tr>\n",
       "    <tr>\n",
       "      <th>4434</th>\n",
       "      <td>115</td>\n",
       "      <td>2015</td>\n",
       "      <td>1900</td>\n",
       "    </tr>\n",
       "    <tr>\n",
       "      <th>19370</th>\n",
       "      <td>115</td>\n",
       "      <td>2015</td>\n",
       "      <td>1900</td>\n",
       "    </tr>\n",
       "    <tr>\n",
       "      <th>...</th>\n",
       "      <td>...</td>\n",
       "      <td>...</td>\n",
       "      <td>...</td>\n",
       "    </tr>\n",
       "    <tr>\n",
       "      <th>20836</th>\n",
       "      <td>-1</td>\n",
       "      <td>2014</td>\n",
       "      <td>2015</td>\n",
       "    </tr>\n",
       "    <tr>\n",
       "      <th>1761</th>\n",
       "      <td>-1</td>\n",
       "      <td>2014</td>\n",
       "      <td>2015</td>\n",
       "    </tr>\n",
       "    <tr>\n",
       "      <th>20947</th>\n",
       "      <td>-1</td>\n",
       "      <td>2014</td>\n",
       "      <td>2015</td>\n",
       "    </tr>\n",
       "    <tr>\n",
       "      <th>2685</th>\n",
       "      <td>-1</td>\n",
       "      <td>2014</td>\n",
       "      <td>2015</td>\n",
       "    </tr>\n",
       "    <tr>\n",
       "      <th>7519</th>\n",
       "      <td>-1</td>\n",
       "      <td>2014</td>\n",
       "      <td>2015</td>\n",
       "    </tr>\n",
       "  </tbody>\n",
       "</table>\n",
       "<p>21597 rows × 3 columns</p>\n",
       "</div>"
      ],
      "text/plain": [
       "       age_sold  year_sold  yr_built\n",
       "8996        115       2015      1900\n",
       "3973        115       2015      1900\n",
       "11239       115       2015      1900\n",
       "4434        115       2015      1900\n",
       "19370       115       2015      1900\n",
       "...         ...        ...       ...\n",
       "20836        -1       2014      2015\n",
       "1761         -1       2014      2015\n",
       "20947        -1       2014      2015\n",
       "2685         -1       2014      2015\n",
       "7519         -1       2014      2015\n",
       "\n",
       "[21597 rows x 3 columns]"
      ]
     },
     "execution_count": 18,
     "metadata": {},
     "output_type": "execute_result"
    }
   ],
   "source": [
    "df[['age_sold','year_sold', 'yr_built']].sort_values(by='age_sold', ascending=False)"
   ]
  },
  {
   "cell_type": "code",
   "execution_count": 19,
   "metadata": {},
   "outputs": [
    {
     "data": {
      "text/html": [
       "<div>\n",
       "<style scoped>\n",
       "    .dataframe tbody tr th:only-of-type {\n",
       "        vertical-align: middle;\n",
       "    }\n",
       "\n",
       "    .dataframe tbody tr th {\n",
       "        vertical-align: top;\n",
       "    }\n",
       "\n",
       "    .dataframe thead th {\n",
       "        text-align: right;\n",
       "    }\n",
       "</style>\n",
       "<table border=\"1\" class=\"dataframe\">\n",
       "  <thead>\n",
       "    <tr style=\"text-align: right;\">\n",
       "      <th></th>\n",
       "      <th>id</th>\n",
       "      <th>date</th>\n",
       "      <th>price</th>\n",
       "      <th>bedrooms</th>\n",
       "      <th>bathrooms</th>\n",
       "      <th>sqft_living</th>\n",
       "      <th>sqft_lot</th>\n",
       "      <th>floors</th>\n",
       "      <th>waterfront</th>\n",
       "      <th>condition</th>\n",
       "      <th>grade</th>\n",
       "      <th>yr_built</th>\n",
       "      <th>zipcode</th>\n",
       "      <th>lat</th>\n",
       "      <th>long</th>\n",
       "      <th>acres_lot</th>\n",
       "      <th>price_millions</th>\n",
       "      <th>date_sold</th>\n",
       "      <th>year_sold</th>\n",
       "      <th>age_sold</th>\n",
       "    </tr>\n",
       "  </thead>\n",
       "  <tbody>\n",
       "    <tr>\n",
       "      <th>8996</th>\n",
       "      <td>5160700035</td>\n",
       "      <td>4/22/2015</td>\n",
       "      <td>431000.0</td>\n",
       "      <td>2</td>\n",
       "      <td>1.50</td>\n",
       "      <td>1300</td>\n",
       "      <td>4000</td>\n",
       "      <td>1.5</td>\n",
       "      <td>0</td>\n",
       "      <td>4</td>\n",
       "      <td>6</td>\n",
       "      <td>1900</td>\n",
       "      <td>98144</td>\n",
       "      <td>47.5937</td>\n",
       "      <td>-122.301</td>\n",
       "      <td>0.091827</td>\n",
       "      <td>0.431000</td>\n",
       "      <td>2015-04-22</td>\n",
       "      <td>2015</td>\n",
       "      <td>115</td>\n",
       "    </tr>\n",
       "    <tr>\n",
       "      <th>3973</th>\n",
       "      <td>2767604580</td>\n",
       "      <td>2/23/2015</td>\n",
       "      <td>635000.0</td>\n",
       "      <td>3</td>\n",
       "      <td>1.75</td>\n",
       "      <td>1340</td>\n",
       "      <td>3900</td>\n",
       "      <td>2.0</td>\n",
       "      <td>0</td>\n",
       "      <td>5</td>\n",
       "      <td>7</td>\n",
       "      <td>1900</td>\n",
       "      <td>98107</td>\n",
       "      <td>47.6711</td>\n",
       "      <td>-122.379</td>\n",
       "      <td>0.089532</td>\n",
       "      <td>0.635000</td>\n",
       "      <td>2015-02-23</td>\n",
       "      <td>2015</td>\n",
       "      <td>115</td>\n",
       "    </tr>\n",
       "    <tr>\n",
       "      <th>11239</th>\n",
       "      <td>625100004</td>\n",
       "      <td>3/17/2015</td>\n",
       "      <td>450000.0</td>\n",
       "      <td>3</td>\n",
       "      <td>2.00</td>\n",
       "      <td>1540</td>\n",
       "      <td>67756</td>\n",
       "      <td>1.0</td>\n",
       "      <td>0</td>\n",
       "      <td>3</td>\n",
       "      <td>7</td>\n",
       "      <td>1900</td>\n",
       "      <td>98077</td>\n",
       "      <td>47.7210</td>\n",
       "      <td>-122.078</td>\n",
       "      <td>1.555464</td>\n",
       "      <td>0.450000</td>\n",
       "      <td>2015-03-17</td>\n",
       "      <td>2015</td>\n",
       "      <td>115</td>\n",
       "    </tr>\n",
       "    <tr>\n",
       "      <th>4434</th>\n",
       "      <td>4232902615</td>\n",
       "      <td>4/28/2015</td>\n",
       "      <td>819000.0</td>\n",
       "      <td>3</td>\n",
       "      <td>1.00</td>\n",
       "      <td>1300</td>\n",
       "      <td>3600</td>\n",
       "      <td>2.0</td>\n",
       "      <td>0</td>\n",
       "      <td>3</td>\n",
       "      <td>7</td>\n",
       "      <td>1900</td>\n",
       "      <td>98119</td>\n",
       "      <td>47.6345</td>\n",
       "      <td>-122.366</td>\n",
       "      <td>0.082645</td>\n",
       "      <td>0.819000</td>\n",
       "      <td>2015-04-28</td>\n",
       "      <td>2015</td>\n",
       "      <td>115</td>\n",
       "    </tr>\n",
       "    <tr>\n",
       "      <th>19370</th>\n",
       "      <td>2420069042</td>\n",
       "      <td>4/24/2015</td>\n",
       "      <td>240000.0</td>\n",
       "      <td>3</td>\n",
       "      <td>2.00</td>\n",
       "      <td>1553</td>\n",
       "      <td>6550</td>\n",
       "      <td>1.0</td>\n",
       "      <td>0</td>\n",
       "      <td>3</td>\n",
       "      <td>7</td>\n",
       "      <td>1900</td>\n",
       "      <td>98022</td>\n",
       "      <td>47.2056</td>\n",
       "      <td>-121.994</td>\n",
       "      <td>0.150367</td>\n",
       "      <td>0.240000</td>\n",
       "      <td>2015-04-24</td>\n",
       "      <td>2015</td>\n",
       "      <td>115</td>\n",
       "    </tr>\n",
       "    <tr>\n",
       "      <th>...</th>\n",
       "      <td>...</td>\n",
       "      <td>...</td>\n",
       "      <td>...</td>\n",
       "      <td>...</td>\n",
       "      <td>...</td>\n",
       "      <td>...</td>\n",
       "      <td>...</td>\n",
       "      <td>...</td>\n",
       "      <td>...</td>\n",
       "      <td>...</td>\n",
       "      <td>...</td>\n",
       "      <td>...</td>\n",
       "      <td>...</td>\n",
       "      <td>...</td>\n",
       "      <td>...</td>\n",
       "      <td>...</td>\n",
       "      <td>...</td>\n",
       "      <td>...</td>\n",
       "      <td>...</td>\n",
       "      <td>...</td>\n",
       "    </tr>\n",
       "    <tr>\n",
       "      <th>20836</th>\n",
       "      <td>1257201420</td>\n",
       "      <td>7/9/2014</td>\n",
       "      <td>595000.0</td>\n",
       "      <td>4</td>\n",
       "      <td>3.25</td>\n",
       "      <td>3730</td>\n",
       "      <td>4560</td>\n",
       "      <td>2.0</td>\n",
       "      <td>0</td>\n",
       "      <td>3</td>\n",
       "      <td>9</td>\n",
       "      <td>2015</td>\n",
       "      <td>98103</td>\n",
       "      <td>47.6725</td>\n",
       "      <td>-122.330</td>\n",
       "      <td>0.104683</td>\n",
       "      <td>0.595000</td>\n",
       "      <td>2014-07-09</td>\n",
       "      <td>2014</td>\n",
       "      <td>-1</td>\n",
       "    </tr>\n",
       "    <tr>\n",
       "      <th>1761</th>\n",
       "      <td>1832100030</td>\n",
       "      <td>6/25/2014</td>\n",
       "      <td>597326.0</td>\n",
       "      <td>4</td>\n",
       "      <td>4.00</td>\n",
       "      <td>3570</td>\n",
       "      <td>8250</td>\n",
       "      <td>2.0</td>\n",
       "      <td>0</td>\n",
       "      <td>3</td>\n",
       "      <td>10</td>\n",
       "      <td>2015</td>\n",
       "      <td>98040</td>\n",
       "      <td>47.5784</td>\n",
       "      <td>-122.226</td>\n",
       "      <td>0.189394</td>\n",
       "      <td>0.597326</td>\n",
       "      <td>2014-06-25</td>\n",
       "      <td>2014</td>\n",
       "      <td>-1</td>\n",
       "    </tr>\n",
       "    <tr>\n",
       "      <th>20947</th>\n",
       "      <td>6058600220</td>\n",
       "      <td>7/31/2014</td>\n",
       "      <td>230000.0</td>\n",
       "      <td>3</td>\n",
       "      <td>1.50</td>\n",
       "      <td>1040</td>\n",
       "      <td>1264</td>\n",
       "      <td>2.0</td>\n",
       "      <td>0</td>\n",
       "      <td>3</td>\n",
       "      <td>9</td>\n",
       "      <td>2015</td>\n",
       "      <td>98144</td>\n",
       "      <td>47.5951</td>\n",
       "      <td>-122.301</td>\n",
       "      <td>0.029017</td>\n",
       "      <td>0.230000</td>\n",
       "      <td>2014-07-31</td>\n",
       "      <td>2014</td>\n",
       "      <td>-1</td>\n",
       "    </tr>\n",
       "    <tr>\n",
       "      <th>2685</th>\n",
       "      <td>3076500830</td>\n",
       "      <td>10/29/2014</td>\n",
       "      <td>385195.0</td>\n",
       "      <td>1</td>\n",
       "      <td>1.00</td>\n",
       "      <td>710</td>\n",
       "      <td>6000</td>\n",
       "      <td>1.5</td>\n",
       "      <td>0</td>\n",
       "      <td>3</td>\n",
       "      <td>6</td>\n",
       "      <td>2015</td>\n",
       "      <td>98144</td>\n",
       "      <td>47.5756</td>\n",
       "      <td>-122.316</td>\n",
       "      <td>0.137741</td>\n",
       "      <td>0.385195</td>\n",
       "      <td>2014-10-29</td>\n",
       "      <td>2014</td>\n",
       "      <td>-1</td>\n",
       "    </tr>\n",
       "    <tr>\n",
       "      <th>7519</th>\n",
       "      <td>9520900210</td>\n",
       "      <td>12/31/2014</td>\n",
       "      <td>614285.0</td>\n",
       "      <td>5</td>\n",
       "      <td>2.75</td>\n",
       "      <td>2730</td>\n",
       "      <td>6401</td>\n",
       "      <td>2.0</td>\n",
       "      <td>0</td>\n",
       "      <td>3</td>\n",
       "      <td>8</td>\n",
       "      <td>2015</td>\n",
       "      <td>98072</td>\n",
       "      <td>47.7685</td>\n",
       "      <td>-122.160</td>\n",
       "      <td>0.146947</td>\n",
       "      <td>0.614285</td>\n",
       "      <td>2014-12-31</td>\n",
       "      <td>2014</td>\n",
       "      <td>-1</td>\n",
       "    </tr>\n",
       "  </tbody>\n",
       "</table>\n",
       "<p>21597 rows × 20 columns</p>\n",
       "</div>"
      ],
      "text/plain": [
       "               id        date     price  bedrooms  bathrooms  sqft_living  \\\n",
       "8996   5160700035   4/22/2015  431000.0         2       1.50         1300   \n",
       "3973   2767604580   2/23/2015  635000.0         3       1.75         1340   \n",
       "11239   625100004   3/17/2015  450000.0         3       2.00         1540   \n",
       "4434   4232902615   4/28/2015  819000.0         3       1.00         1300   \n",
       "19370  2420069042   4/24/2015  240000.0         3       2.00         1553   \n",
       "...           ...         ...       ...       ...        ...          ...   \n",
       "20836  1257201420    7/9/2014  595000.0         4       3.25         3730   \n",
       "1761   1832100030   6/25/2014  597326.0         4       4.00         3570   \n",
       "20947  6058600220   7/31/2014  230000.0         3       1.50         1040   \n",
       "2685   3076500830  10/29/2014  385195.0         1       1.00          710   \n",
       "7519   9520900210  12/31/2014  614285.0         5       2.75         2730   \n",
       "\n",
       "       sqft_lot  floors  waterfront  condition  grade  yr_built  zipcode  \\\n",
       "8996       4000     1.5           0          4      6      1900    98144   \n",
       "3973       3900     2.0           0          5      7      1900    98107   \n",
       "11239     67756     1.0           0          3      7      1900    98077   \n",
       "4434       3600     2.0           0          3      7      1900    98119   \n",
       "19370      6550     1.0           0          3      7      1900    98022   \n",
       "...         ...     ...         ...        ...    ...       ...      ...   \n",
       "20836      4560     2.0           0          3      9      2015    98103   \n",
       "1761       8250     2.0           0          3     10      2015    98040   \n",
       "20947      1264     2.0           0          3      9      2015    98144   \n",
       "2685       6000     1.5           0          3      6      2015    98144   \n",
       "7519       6401     2.0           0          3      8      2015    98072   \n",
       "\n",
       "           lat     long  acres_lot  price_millions  date_sold  year_sold  \\\n",
       "8996   47.5937 -122.301   0.091827        0.431000 2015-04-22       2015   \n",
       "3973   47.6711 -122.379   0.089532        0.635000 2015-02-23       2015   \n",
       "11239  47.7210 -122.078   1.555464        0.450000 2015-03-17       2015   \n",
       "4434   47.6345 -122.366   0.082645        0.819000 2015-04-28       2015   \n",
       "19370  47.2056 -121.994   0.150367        0.240000 2015-04-24       2015   \n",
       "...        ...      ...        ...             ...        ...        ...   \n",
       "20836  47.6725 -122.330   0.104683        0.595000 2014-07-09       2014   \n",
       "1761   47.5784 -122.226   0.189394        0.597326 2014-06-25       2014   \n",
       "20947  47.5951 -122.301   0.029017        0.230000 2014-07-31       2014   \n",
       "2685   47.5756 -122.316   0.137741        0.385195 2014-10-29       2014   \n",
       "7519   47.7685 -122.160   0.146947        0.614285 2014-12-31       2014   \n",
       "\n",
       "       age_sold  \n",
       "8996        115  \n",
       "3973        115  \n",
       "11239       115  \n",
       "4434        115  \n",
       "19370       115  \n",
       "...         ...  \n",
       "20836        -1  \n",
       "1761         -1  \n",
       "20947        -1  \n",
       "2685         -1  \n",
       "7519         -1  \n",
       "\n",
       "[21597 rows x 20 columns]"
      ]
     },
     "execution_count": 19,
     "metadata": {},
     "output_type": "execute_result"
    }
   ],
   "source": [
    "# We can see that some homes were sold the year before they built, resulting in age_sold = -1\n",
    "df.sort_values(by='age_sold', ascending=False)"
   ]
  },
  {
   "cell_type": "markdown",
   "metadata": {},
   "source": [
    "### Month"
   ]
  },
  {
   "cell_type": "markdown",
   "metadata": {},
   "source": [
    "#### Month Index"
   ]
  },
  {
   "cell_type": "code",
   "execution_count": 20,
   "metadata": {},
   "outputs": [],
   "source": [
    "df['month_index'] =  df['date_sold'].dt.month"
   ]
  },
  {
   "cell_type": "markdown",
   "metadata": {},
   "source": [
    "#### Month Name"
   ]
  },
  {
   "cell_type": "code",
   "execution_count": 21,
   "metadata": {},
   "outputs": [],
   "source": [
    "df['month_sold'] =  df['date_sold'].dt.month_name()"
   ]
  },
  {
   "cell_type": "code",
   "execution_count": 22,
   "metadata": {},
   "outputs": [
    {
     "data": {
      "text/plain": [
       "0         October\n",
       "1        December\n",
       "2        February\n",
       "3        December\n",
       "4        February\n",
       "           ...   \n",
       "21592         May\n",
       "21593    February\n",
       "21594        June\n",
       "21595     January\n",
       "21596     October\n",
       "Name: month_sold, Length: 21597, dtype: object"
      ]
     },
     "execution_count": 22,
     "metadata": {},
     "output_type": "execute_result"
    }
   ],
   "source": [
    "df['month_sold']"
   ]
  },
  {
   "cell_type": "code",
   "execution_count": 23,
   "metadata": {},
   "outputs": [
    {
     "data": {
      "text/html": [
       "<div>\n",
       "<style scoped>\n",
       "    .dataframe tbody tr th:only-of-type {\n",
       "        vertical-align: middle;\n",
       "    }\n",
       "\n",
       "    .dataframe tbody tr th {\n",
       "        vertical-align: top;\n",
       "    }\n",
       "\n",
       "    .dataframe thead th {\n",
       "        text-align: right;\n",
       "    }\n",
       "</style>\n",
       "<table border=\"1\" class=\"dataframe\">\n",
       "  <thead>\n",
       "    <tr style=\"text-align: right;\">\n",
       "      <th></th>\n",
       "      <th>date_sold</th>\n",
       "      <th>month_index</th>\n",
       "      <th>month_sold</th>\n",
       "    </tr>\n",
       "  </thead>\n",
       "  <tbody>\n",
       "    <tr>\n",
       "      <th>15339</th>\n",
       "      <td>2015-01-05</td>\n",
       "      <td>1</td>\n",
       "      <td>January</td>\n",
       "    </tr>\n",
       "    <tr>\n",
       "      <th>20703</th>\n",
       "      <td>2015-01-20</td>\n",
       "      <td>1</td>\n",
       "      <td>January</td>\n",
       "    </tr>\n",
       "    <tr>\n",
       "      <th>15152</th>\n",
       "      <td>2015-01-28</td>\n",
       "      <td>1</td>\n",
       "      <td>January</td>\n",
       "    </tr>\n",
       "    <tr>\n",
       "      <th>19183</th>\n",
       "      <td>2015-01-22</td>\n",
       "      <td>1</td>\n",
       "      <td>January</td>\n",
       "    </tr>\n",
       "    <tr>\n",
       "      <th>9830</th>\n",
       "      <td>2015-01-09</td>\n",
       "      <td>1</td>\n",
       "      <td>January</td>\n",
       "    </tr>\n",
       "    <tr>\n",
       "      <th>...</th>\n",
       "      <td>...</td>\n",
       "      <td>...</td>\n",
       "      <td>...</td>\n",
       "    </tr>\n",
       "    <tr>\n",
       "      <th>5198</th>\n",
       "      <td>2014-12-05</td>\n",
       "      <td>12</td>\n",
       "      <td>December</td>\n",
       "    </tr>\n",
       "    <tr>\n",
       "      <th>5202</th>\n",
       "      <td>2014-12-26</td>\n",
       "      <td>12</td>\n",
       "      <td>December</td>\n",
       "    </tr>\n",
       "    <tr>\n",
       "      <th>5203</th>\n",
       "      <td>2014-12-30</td>\n",
       "      <td>12</td>\n",
       "      <td>December</td>\n",
       "    </tr>\n",
       "    <tr>\n",
       "      <th>12099</th>\n",
       "      <td>2014-12-18</td>\n",
       "      <td>12</td>\n",
       "      <td>December</td>\n",
       "    </tr>\n",
       "    <tr>\n",
       "      <th>8870</th>\n",
       "      <td>2014-12-15</td>\n",
       "      <td>12</td>\n",
       "      <td>December</td>\n",
       "    </tr>\n",
       "  </tbody>\n",
       "</table>\n",
       "<p>21597 rows × 3 columns</p>\n",
       "</div>"
      ],
      "text/plain": [
       "       date_sold  month_index month_sold\n",
       "15339 2015-01-05            1    January\n",
       "20703 2015-01-20            1    January\n",
       "15152 2015-01-28            1    January\n",
       "19183 2015-01-22            1    January\n",
       "9830  2015-01-09            1    January\n",
       "...          ...          ...        ...\n",
       "5198  2014-12-05           12   December\n",
       "5202  2014-12-26           12   December\n",
       "5203  2014-12-30           12   December\n",
       "12099 2014-12-18           12   December\n",
       "8870  2014-12-15           12   December\n",
       "\n",
       "[21597 rows x 3 columns]"
      ]
     },
     "execution_count": 23,
     "metadata": {},
     "output_type": "execute_result"
    }
   ],
   "source": [
    "df[['date_sold','month_index', 'month_sold']].sort_values(by='month_index', ascending=True)"
   ]
  },
  {
   "cell_type": "markdown",
   "metadata": {},
   "source": [
    "### Season"
   ]
  },
  {
   "cell_type": "markdown",
   "metadata": {},
   "source": [
    "#### Season Name"
   ]
  },
  {
   "cell_type": "code",
   "execution_count": 25,
   "metadata": {},
   "outputs": [
    {
     "data": {
      "text/plain": [
       "{1: 'winter',\n",
       " 2: 'winter',\n",
       " 3: 'spring',\n",
       " 4: 'spring',\n",
       " 5: 'spring',\n",
       " 6: 'summer',\n",
       " 7: 'summer',\n",
       " 8: 'summer',\n",
       " 9: 'fall',\n",
       " 10: 'fall',\n",
       " 11: 'fall',\n",
       " 12: 'winter'}"
      ]
     },
     "execution_count": 25,
     "metadata": {},
     "output_type": "execute_result"
    }
   ],
   "source": [
    "seasons = ['winter', 'winter', 'spring', 'spring', 'spring', 'summer', 'summer', 'summer', 'fall', 'fall', 'fall', 'winter']\n",
    "season_dict = dict(zip(range(1,13), seasons))\n",
    "season_dict"
   ]
  },
  {
   "cell_type": "code",
   "execution_count": 26,
   "metadata": {},
   "outputs": [],
   "source": [
    "df['season_sold'] = df['date_sold'].dt.month.map(season_dict) "
   ]
  },
  {
   "cell_type": "code",
   "execution_count": 27,
   "metadata": {},
   "outputs": [
    {
     "data": {
      "text/html": [
       "<div>\n",
       "<style scoped>\n",
       "    .dataframe tbody tr th:only-of-type {\n",
       "        vertical-align: middle;\n",
       "    }\n",
       "\n",
       "    .dataframe tbody tr th {\n",
       "        vertical-align: top;\n",
       "    }\n",
       "\n",
       "    .dataframe thead th {\n",
       "        text-align: right;\n",
       "    }\n",
       "</style>\n",
       "<table border=\"1\" class=\"dataframe\">\n",
       "  <thead>\n",
       "    <tr style=\"text-align: right;\">\n",
       "      <th></th>\n",
       "      <th>month_index</th>\n",
       "      <th>month_sold</th>\n",
       "      <th>season_sold</th>\n",
       "      <th>count</th>\n",
       "    </tr>\n",
       "  </thead>\n",
       "  <tbody>\n",
       "    <tr>\n",
       "      <th>0</th>\n",
       "      <td>1</td>\n",
       "      <td>January</td>\n",
       "      <td>winter</td>\n",
       "      <td>978</td>\n",
       "    </tr>\n",
       "    <tr>\n",
       "      <th>1</th>\n",
       "      <td>2</td>\n",
       "      <td>February</td>\n",
       "      <td>winter</td>\n",
       "      <td>1247</td>\n",
       "    </tr>\n",
       "    <tr>\n",
       "      <th>2</th>\n",
       "      <td>3</td>\n",
       "      <td>March</td>\n",
       "      <td>spring</td>\n",
       "      <td>1875</td>\n",
       "    </tr>\n",
       "    <tr>\n",
       "      <th>3</th>\n",
       "      <td>4</td>\n",
       "      <td>April</td>\n",
       "      <td>spring</td>\n",
       "      <td>2229</td>\n",
       "    </tr>\n",
       "    <tr>\n",
       "      <th>4</th>\n",
       "      <td>5</td>\n",
       "      <td>May</td>\n",
       "      <td>spring</td>\n",
       "      <td>2414</td>\n",
       "    </tr>\n",
       "    <tr>\n",
       "      <th>5</th>\n",
       "      <td>6</td>\n",
       "      <td>June</td>\n",
       "      <td>summer</td>\n",
       "      <td>2178</td>\n",
       "    </tr>\n",
       "    <tr>\n",
       "      <th>6</th>\n",
       "      <td>7</td>\n",
       "      <td>July</td>\n",
       "      <td>summer</td>\n",
       "      <td>2211</td>\n",
       "    </tr>\n",
       "    <tr>\n",
       "      <th>7</th>\n",
       "      <td>8</td>\n",
       "      <td>August</td>\n",
       "      <td>summer</td>\n",
       "      <td>1939</td>\n",
       "    </tr>\n",
       "    <tr>\n",
       "      <th>8</th>\n",
       "      <td>9</td>\n",
       "      <td>September</td>\n",
       "      <td>fall</td>\n",
       "      <td>1771</td>\n",
       "    </tr>\n",
       "    <tr>\n",
       "      <th>9</th>\n",
       "      <td>10</td>\n",
       "      <td>October</td>\n",
       "      <td>fall</td>\n",
       "      <td>1876</td>\n",
       "    </tr>\n",
       "    <tr>\n",
       "      <th>10</th>\n",
       "      <td>11</td>\n",
       "      <td>November</td>\n",
       "      <td>fall</td>\n",
       "      <td>1409</td>\n",
       "    </tr>\n",
       "    <tr>\n",
       "      <th>11</th>\n",
       "      <td>12</td>\n",
       "      <td>December</td>\n",
       "      <td>winter</td>\n",
       "      <td>1470</td>\n",
       "    </tr>\n",
       "  </tbody>\n",
       "</table>\n",
       "</div>"
      ],
      "text/plain": [
       "    month_index month_sold season_sold  count\n",
       "0             1    January      winter    978\n",
       "1             2   February      winter   1247\n",
       "2             3      March      spring   1875\n",
       "3             4      April      spring   2229\n",
       "4             5        May      spring   2414\n",
       "5             6       June      summer   2178\n",
       "6             7       July      summer   2211\n",
       "7             8     August      summer   1939\n",
       "8             9  September        fall   1771\n",
       "9            10    October        fall   1876\n",
       "10           11   November        fall   1409\n",
       "11           12   December      winter   1470"
      ]
     },
     "execution_count": 27,
     "metadata": {},
     "output_type": "execute_result"
    }
   ],
   "source": [
    "df.groupby(['month_index', 'month_sold','season_sold']).size().reset_index().rename(columns={0:'count'}).sort_values(by='month_index')"
   ]
  },
  {
   "cell_type": "markdown",
   "metadata": {},
   "source": [
    "#### Season Index"
   ]
  },
  {
   "cell_type": "code",
   "execution_count": 28,
   "metadata": {},
   "outputs": [
    {
     "data": {
      "text/plain": [
       "{'spring': 1, 'summer': 2, 'fall': 3, 'winter': 4}"
      ]
     },
     "execution_count": 28,
     "metadata": {},
     "output_type": "execute_result"
    }
   ],
   "source": [
    "season_index_dict = {'spring':1, 'summer':2, 'fall':3, 'winter':4}\n",
    "season_index_dict"
   ]
  },
  {
   "cell_type": "code",
   "execution_count": 29,
   "metadata": {},
   "outputs": [
    {
     "data": {
      "text/plain": [
       "array([1, 2, 3, 4])"
      ]
     },
     "execution_count": 29,
     "metadata": {},
     "output_type": "execute_result"
    }
   ],
   "source": [
    "df['season_index'] = df['season_sold'].map(season_index_dict)\n",
    "df['season_index'].sort_values().unique()"
   ]
  },
  {
   "cell_type": "code",
   "execution_count": 31,
   "metadata": {},
   "outputs": [
    {
     "data": {
      "text/html": [
       "<div>\n",
       "<style scoped>\n",
       "    .dataframe tbody tr th:only-of-type {\n",
       "        vertical-align: middle;\n",
       "    }\n",
       "\n",
       "    .dataframe tbody tr th {\n",
       "        vertical-align: top;\n",
       "    }\n",
       "\n",
       "    .dataframe thead th {\n",
       "        text-align: right;\n",
       "    }\n",
       "</style>\n",
       "<table border=\"1\" class=\"dataframe\">\n",
       "  <thead>\n",
       "    <tr style=\"text-align: right;\">\n",
       "      <th></th>\n",
       "      <th>season_index</th>\n",
       "      <th>season_sold</th>\n",
       "      <th>count</th>\n",
       "    </tr>\n",
       "  </thead>\n",
       "  <tbody>\n",
       "    <tr>\n",
       "      <th>0</th>\n",
       "      <td>1</td>\n",
       "      <td>spring</td>\n",
       "      <td>6518</td>\n",
       "    </tr>\n",
       "    <tr>\n",
       "      <th>1</th>\n",
       "      <td>2</td>\n",
       "      <td>summer</td>\n",
       "      <td>6328</td>\n",
       "    </tr>\n",
       "    <tr>\n",
       "      <th>2</th>\n",
       "      <td>3</td>\n",
       "      <td>fall</td>\n",
       "      <td>5056</td>\n",
       "    </tr>\n",
       "    <tr>\n",
       "      <th>3</th>\n",
       "      <td>4</td>\n",
       "      <td>winter</td>\n",
       "      <td>3695</td>\n",
       "    </tr>\n",
       "  </tbody>\n",
       "</table>\n",
       "</div>"
      ],
      "text/plain": [
       "   season_index season_sold  count\n",
       "0             1      spring   6518\n",
       "1             2      summer   6328\n",
       "2             3        fall   5056\n",
       "3             4      winter   3695"
      ]
     },
     "execution_count": 31,
     "metadata": {},
     "output_type": "execute_result"
    }
   ],
   "source": [
    "df.groupby(['season_index','season_sold']).size().reset_index().rename(columns={0:'count'})"
   ]
  },
  {
   "cell_type": "code",
   "execution_count": 33,
   "metadata": {},
   "outputs": [
    {
     "data": {
      "text/html": [
       "<div>\n",
       "<style scoped>\n",
       "    .dataframe tbody tr th:only-of-type {\n",
       "        vertical-align: middle;\n",
       "    }\n",
       "\n",
       "    .dataframe tbody tr th {\n",
       "        vertical-align: top;\n",
       "    }\n",
       "\n",
       "    .dataframe thead th {\n",
       "        text-align: right;\n",
       "    }\n",
       "</style>\n",
       "<table border=\"1\" class=\"dataframe\">\n",
       "  <thead>\n",
       "    <tr style=\"text-align: right;\">\n",
       "      <th></th>\n",
       "      <th>season_index</th>\n",
       "      <th>season_sold</th>\n",
       "      <th>month_sold</th>\n",
       "      <th>date_sold</th>\n",
       "    </tr>\n",
       "  </thead>\n",
       "  <tbody>\n",
       "    <tr>\n",
       "      <th>7316</th>\n",
       "      <td>1</td>\n",
       "      <td>spring</td>\n",
       "      <td>May</td>\n",
       "      <td>2014-05-02</td>\n",
       "    </tr>\n",
       "    <tr>\n",
       "      <th>20586</th>\n",
       "      <td>1</td>\n",
       "      <td>spring</td>\n",
       "      <td>May</td>\n",
       "      <td>2014-05-02</td>\n",
       "    </tr>\n",
       "    <tr>\n",
       "      <th>1040</th>\n",
       "      <td>1</td>\n",
       "      <td>spring</td>\n",
       "      <td>May</td>\n",
       "      <td>2014-05-02</td>\n",
       "    </tr>\n",
       "    <tr>\n",
       "      <th>20543</th>\n",
       "      <td>1</td>\n",
       "      <td>spring</td>\n",
       "      <td>May</td>\n",
       "      <td>2014-05-02</td>\n",
       "    </tr>\n",
       "    <tr>\n",
       "      <th>9587</th>\n",
       "      <td>1</td>\n",
       "      <td>spring</td>\n",
       "      <td>May</td>\n",
       "      <td>2014-05-02</td>\n",
       "    </tr>\n",
       "    <tr>\n",
       "      <th>...</th>\n",
       "      <td>...</td>\n",
       "      <td>...</td>\n",
       "      <td>...</td>\n",
       "      <td>...</td>\n",
       "    </tr>\n",
       "    <tr>\n",
       "      <th>19381</th>\n",
       "      <td>1</td>\n",
       "      <td>spring</td>\n",
       "      <td>May</td>\n",
       "      <td>2015-05-14</td>\n",
       "    </tr>\n",
       "    <tr>\n",
       "      <th>12623</th>\n",
       "      <td>1</td>\n",
       "      <td>spring</td>\n",
       "      <td>May</td>\n",
       "      <td>2015-05-14</td>\n",
       "    </tr>\n",
       "    <tr>\n",
       "      <th>5632</th>\n",
       "      <td>1</td>\n",
       "      <td>spring</td>\n",
       "      <td>May</td>\n",
       "      <td>2015-05-15</td>\n",
       "    </tr>\n",
       "    <tr>\n",
       "      <th>13040</th>\n",
       "      <td>1</td>\n",
       "      <td>spring</td>\n",
       "      <td>May</td>\n",
       "      <td>2015-05-24</td>\n",
       "    </tr>\n",
       "    <tr>\n",
       "      <th>16580</th>\n",
       "      <td>1</td>\n",
       "      <td>spring</td>\n",
       "      <td>May</td>\n",
       "      <td>2015-05-27</td>\n",
       "    </tr>\n",
       "  </tbody>\n",
       "</table>\n",
       "<p>21597 rows × 4 columns</p>\n",
       "</div>"
      ],
      "text/plain": [
       "       season_index season_sold month_sold  date_sold\n",
       "7316              1      spring        May 2014-05-02\n",
       "20586             1      spring        May 2014-05-02\n",
       "1040              1      spring        May 2014-05-02\n",
       "20543             1      spring        May 2014-05-02\n",
       "9587              1      spring        May 2014-05-02\n",
       "...             ...         ...        ...        ...\n",
       "19381             1      spring        May 2015-05-14\n",
       "12623             1      spring        May 2015-05-14\n",
       "5632              1      spring        May 2015-05-15\n",
       "13040             1      spring        May 2015-05-24\n",
       "16580             1      spring        May 2015-05-27\n",
       "\n",
       "[21597 rows x 4 columns]"
      ]
     },
     "execution_count": 33,
     "metadata": {},
     "output_type": "execute_result"
    }
   ],
   "source": [
    "df[['season_index','season_sold', 'month_sold', 'date_sold']].sort_values(by='date_sold')"
   ]
  },
  {
   "cell_type": "code",
   "execution_count": 34,
   "metadata": {},
   "outputs": [
    {
     "data": {
      "text/html": [
       "<div>\n",
       "<style scoped>\n",
       "    .dataframe tbody tr th:only-of-type {\n",
       "        vertical-align: middle;\n",
       "    }\n",
       "\n",
       "    .dataframe tbody tr th {\n",
       "        vertical-align: top;\n",
       "    }\n",
       "\n",
       "    .dataframe thead th {\n",
       "        text-align: right;\n",
       "    }\n",
       "</style>\n",
       "<table border=\"1\" class=\"dataframe\">\n",
       "  <thead>\n",
       "    <tr style=\"text-align: right;\">\n",
       "      <th></th>\n",
       "      <th>month_index</th>\n",
       "      <th>season_index</th>\n",
       "      <th>season_sold</th>\n",
       "      <th>month_sold</th>\n",
       "      <th>date_sold</th>\n",
       "      <th>count</th>\n",
       "    </tr>\n",
       "  </thead>\n",
       "  <tbody>\n",
       "    <tr>\n",
       "      <th>0</th>\n",
       "      <td>1</td>\n",
       "      <td>4</td>\n",
       "      <td>winter</td>\n",
       "      <td>January</td>\n",
       "      <td>2015-01-02</td>\n",
       "      <td>45</td>\n",
       "    </tr>\n",
       "    <tr>\n",
       "      <th>25</th>\n",
       "      <td>1</td>\n",
       "      <td>4</td>\n",
       "      <td>winter</td>\n",
       "      <td>January</td>\n",
       "      <td>2015-01-31</td>\n",
       "      <td>1</td>\n",
       "    </tr>\n",
       "    <tr>\n",
       "      <th>24</th>\n",
       "      <td>1</td>\n",
       "      <td>4</td>\n",
       "      <td>winter</td>\n",
       "      <td>January</td>\n",
       "      <td>2015-01-30</td>\n",
       "      <td>35</td>\n",
       "    </tr>\n",
       "    <tr>\n",
       "      <th>23</th>\n",
       "      <td>1</td>\n",
       "      <td>4</td>\n",
       "      <td>winter</td>\n",
       "      <td>January</td>\n",
       "      <td>2015-01-29</td>\n",
       "      <td>43</td>\n",
       "    </tr>\n",
       "    <tr>\n",
       "      <th>22</th>\n",
       "      <td>1</td>\n",
       "      <td>4</td>\n",
       "      <td>winter</td>\n",
       "      <td>January</td>\n",
       "      <td>2015-01-28</td>\n",
       "      <td>60</td>\n",
       "    </tr>\n",
       "    <tr>\n",
       "      <th>...</th>\n",
       "      <td>...</td>\n",
       "      <td>...</td>\n",
       "      <td>...</td>\n",
       "      <td>...</td>\n",
       "      <td>...</td>\n",
       "      <td>...</td>\n",
       "    </tr>\n",
       "    <tr>\n",
       "      <th>344</th>\n",
       "      <td>12</td>\n",
       "      <td>4</td>\n",
       "      <td>winter</td>\n",
       "      <td>December</td>\n",
       "      <td>2014-12-02</td>\n",
       "      <td>97</td>\n",
       "    </tr>\n",
       "    <tr>\n",
       "      <th>343</th>\n",
       "      <td>12</td>\n",
       "      <td>4</td>\n",
       "      <td>winter</td>\n",
       "      <td>December</td>\n",
       "      <td>2014-12-01</td>\n",
       "      <td>96</td>\n",
       "    </tr>\n",
       "    <tr>\n",
       "      <th>370</th>\n",
       "      <td>12</td>\n",
       "      <td>4</td>\n",
       "      <td>winter</td>\n",
       "      <td>December</td>\n",
       "      <td>2014-12-30</td>\n",
       "      <td>43</td>\n",
       "    </tr>\n",
       "    <tr>\n",
       "      <th>356</th>\n",
       "      <td>12</td>\n",
       "      <td>4</td>\n",
       "      <td>winter</td>\n",
       "      <td>December</td>\n",
       "      <td>2014-12-14</td>\n",
       "      <td>4</td>\n",
       "    </tr>\n",
       "    <tr>\n",
       "      <th>371</th>\n",
       "      <td>12</td>\n",
       "      <td>4</td>\n",
       "      <td>winter</td>\n",
       "      <td>December</td>\n",
       "      <td>2014-12-31</td>\n",
       "      <td>45</td>\n",
       "    </tr>\n",
       "  </tbody>\n",
       "</table>\n",
       "<p>372 rows × 6 columns</p>\n",
       "</div>"
      ],
      "text/plain": [
       "     month_index  season_index season_sold month_sold  date_sold  count\n",
       "0              1             4      winter    January 2015-01-02     45\n",
       "25             1             4      winter    January 2015-01-31      1\n",
       "24             1             4      winter    January 2015-01-30     35\n",
       "23             1             4      winter    January 2015-01-29     43\n",
       "22             1             4      winter    January 2015-01-28     60\n",
       "..           ...           ...         ...        ...        ...    ...\n",
       "344           12             4      winter   December 2014-12-02     97\n",
       "343           12             4      winter   December 2014-12-01     96\n",
       "370           12             4      winter   December 2014-12-30     43\n",
       "356           12             4      winter   December 2014-12-14      4\n",
       "371           12             4      winter   December 2014-12-31     45\n",
       "\n",
       "[372 rows x 6 columns]"
      ]
     },
     "execution_count": 34,
     "metadata": {},
     "output_type": "execute_result"
    }
   ],
   "source": [
    "df.groupby(['month_index','season_index','season_sold', 'month_sold', 'date_sold']).size().reset_index().rename(columns={0:'count'}).sort_values(by='month_index')"
   ]
  },
  {
   "cell_type": "markdown",
   "metadata": {},
   "source": [
    "### Day of the Week"
   ]
  },
  {
   "cell_type": "markdown",
   "metadata": {},
   "source": [
    "#### Day of Week Name"
   ]
  },
  {
   "cell_type": "code",
   "execution_count": 35,
   "metadata": {},
   "outputs": [],
   "source": [
    "df['day_of_week_sold'] =  df['date_sold'].dt.day_name()"
   ]
  },
  {
   "cell_type": "code",
   "execution_count": 36,
   "metadata": {},
   "outputs": [
    {
     "data": {
      "text/html": [
       "<div>\n",
       "<style scoped>\n",
       "    .dataframe tbody tr th:only-of-type {\n",
       "        vertical-align: middle;\n",
       "    }\n",
       "\n",
       "    .dataframe tbody tr th {\n",
       "        vertical-align: top;\n",
       "    }\n",
       "\n",
       "    .dataframe thead th {\n",
       "        text-align: right;\n",
       "    }\n",
       "</style>\n",
       "<table border=\"1\" class=\"dataframe\">\n",
       "  <thead>\n",
       "    <tr style=\"text-align: right;\">\n",
       "      <th></th>\n",
       "      <th>date_sold</th>\n",
       "      <th>month_sold</th>\n",
       "      <th>day_of_week_sold</th>\n",
       "    </tr>\n",
       "  </thead>\n",
       "  <tbody>\n",
       "    <tr>\n",
       "      <th>16580</th>\n",
       "      <td>2015-05-27</td>\n",
       "      <td>May</td>\n",
       "      <td>Wednesday</td>\n",
       "    </tr>\n",
       "    <tr>\n",
       "      <th>13040</th>\n",
       "      <td>2015-05-24</td>\n",
       "      <td>May</td>\n",
       "      <td>Sunday</td>\n",
       "    </tr>\n",
       "    <tr>\n",
       "      <th>5632</th>\n",
       "      <td>2015-05-15</td>\n",
       "      <td>May</td>\n",
       "      <td>Friday</td>\n",
       "    </tr>\n",
       "    <tr>\n",
       "      <th>15797</th>\n",
       "      <td>2015-05-14</td>\n",
       "      <td>May</td>\n",
       "      <td>Thursday</td>\n",
       "    </tr>\n",
       "    <tr>\n",
       "      <th>927</th>\n",
       "      <td>2015-05-14</td>\n",
       "      <td>May</td>\n",
       "      <td>Thursday</td>\n",
       "    </tr>\n",
       "    <tr>\n",
       "      <th>...</th>\n",
       "      <td>...</td>\n",
       "      <td>...</td>\n",
       "      <td>...</td>\n",
       "    </tr>\n",
       "    <tr>\n",
       "      <th>7316</th>\n",
       "      <td>2014-05-02</td>\n",
       "      <td>May</td>\n",
       "      <td>Friday</td>\n",
       "    </tr>\n",
       "    <tr>\n",
       "      <th>19661</th>\n",
       "      <td>2014-05-02</td>\n",
       "      <td>May</td>\n",
       "      <td>Friday</td>\n",
       "    </tr>\n",
       "    <tr>\n",
       "      <th>6418</th>\n",
       "      <td>2014-05-02</td>\n",
       "      <td>May</td>\n",
       "      <td>Friday</td>\n",
       "    </tr>\n",
       "    <tr>\n",
       "      <th>10689</th>\n",
       "      <td>2014-05-02</td>\n",
       "      <td>May</td>\n",
       "      <td>Friday</td>\n",
       "    </tr>\n",
       "    <tr>\n",
       "      <th>4959</th>\n",
       "      <td>2014-05-02</td>\n",
       "      <td>May</td>\n",
       "      <td>Friday</td>\n",
       "    </tr>\n",
       "  </tbody>\n",
       "</table>\n",
       "<p>21597 rows × 3 columns</p>\n",
       "</div>"
      ],
      "text/plain": [
       "       date_sold month_sold day_of_week_sold\n",
       "16580 2015-05-27        May        Wednesday\n",
       "13040 2015-05-24        May           Sunday\n",
       "5632  2015-05-15        May           Friday\n",
       "15797 2015-05-14        May         Thursday\n",
       "927   2015-05-14        May         Thursday\n",
       "...          ...        ...              ...\n",
       "7316  2014-05-02        May           Friday\n",
       "19661 2014-05-02        May           Friday\n",
       "6418  2014-05-02        May           Friday\n",
       "10689 2014-05-02        May           Friday\n",
       "4959  2014-05-02        May           Friday\n",
       "\n",
       "[21597 rows x 3 columns]"
      ]
     },
     "execution_count": 36,
     "metadata": {},
     "output_type": "execute_result"
    }
   ],
   "source": [
    "df[['date_sold','month_sold', 'day_of_week_sold']].sort_values(by='date_sold', ascending=False)"
   ]
  },
  {
   "cell_type": "markdown",
   "metadata": {},
   "source": [
    "#### Day of Week Index"
   ]
  },
  {
   "cell_type": "code",
   "execution_count": 37,
   "metadata": {},
   "outputs": [],
   "source": [
    "df['day_of_week_index'] =  df['date_sold'].dt.dayofweek"
   ]
  },
  {
   "cell_type": "code",
   "execution_count": 38,
   "metadata": {},
   "outputs": [
    {
     "data": {
      "text/html": [
       "<div>\n",
       "<style scoped>\n",
       "    .dataframe tbody tr th:only-of-type {\n",
       "        vertical-align: middle;\n",
       "    }\n",
       "\n",
       "    .dataframe tbody tr th {\n",
       "        vertical-align: top;\n",
       "    }\n",
       "\n",
       "    .dataframe thead th {\n",
       "        text-align: right;\n",
       "    }\n",
       "</style>\n",
       "<table border=\"1\" class=\"dataframe\">\n",
       "  <thead>\n",
       "    <tr style=\"text-align: right;\">\n",
       "      <th></th>\n",
       "      <th>day_of_week_index</th>\n",
       "      <th>day_of_week_sold</th>\n",
       "      <th>count</th>\n",
       "    </tr>\n",
       "  </thead>\n",
       "  <tbody>\n",
       "    <tr>\n",
       "      <th>0</th>\n",
       "      <td>0</td>\n",
       "      <td>Monday</td>\n",
       "      <td>4097</td>\n",
       "    </tr>\n",
       "    <tr>\n",
       "      <th>1</th>\n",
       "      <td>1</td>\n",
       "      <td>Tuesday</td>\n",
       "      <td>4710</td>\n",
       "    </tr>\n",
       "    <tr>\n",
       "      <th>2</th>\n",
       "      <td>2</td>\n",
       "      <td>Wednesday</td>\n",
       "      <td>4600</td>\n",
       "    </tr>\n",
       "    <tr>\n",
       "      <th>3</th>\n",
       "      <td>3</td>\n",
       "      <td>Thursday</td>\n",
       "      <td>3989</td>\n",
       "    </tr>\n",
       "    <tr>\n",
       "      <th>4</th>\n",
       "      <td>4</td>\n",
       "      <td>Friday</td>\n",
       "      <td>3684</td>\n",
       "    </tr>\n",
       "    <tr>\n",
       "      <th>5</th>\n",
       "      <td>5</td>\n",
       "      <td>Saturday</td>\n",
       "      <td>287</td>\n",
       "    </tr>\n",
       "    <tr>\n",
       "      <th>6</th>\n",
       "      <td>6</td>\n",
       "      <td>Sunday</td>\n",
       "      <td>230</td>\n",
       "    </tr>\n",
       "  </tbody>\n",
       "</table>\n",
       "</div>"
      ],
      "text/plain": [
       "   day_of_week_index day_of_week_sold  count\n",
       "0                  0           Monday   4097\n",
       "1                  1          Tuesday   4710\n",
       "2                  2        Wednesday   4600\n",
       "3                  3         Thursday   3989\n",
       "4                  4           Friday   3684\n",
       "5                  5         Saturday    287\n",
       "6                  6           Sunday    230"
      ]
     },
     "execution_count": 38,
     "metadata": {},
     "output_type": "execute_result"
    }
   ],
   "source": [
    "df.groupby(['day_of_week_index','day_of_week_sold']).size().reset_index().rename(columns={0:'count'})"
   ]
  },
  {
   "cell_type": "markdown",
   "metadata": {},
   "source": [
    "## Create new column from Zipcode\n",
    "- By grouping zipcode by city, we have reduced the number of categorical variables we'll need to later encode from 70 to 23\n",
    "- I used a csv of zipcodes paired with their city (manually created using google maps)"
   ]
  },
  {
   "cell_type": "code",
   "execution_count": 215,
   "metadata": {},
   "outputs": [
    {
     "data": {
      "text/plain": [
       "(21597, 26)"
      ]
     },
     "execution_count": 215,
     "metadata": {},
     "output_type": "execute_result"
    }
   ],
   "source": [
    "# Check shape of df before we merge with zip_city:\n",
    "df.shape"
   ]
  },
  {
   "cell_type": "markdown",
   "metadata": {},
   "source": [
    "### Read zipcode --> city data"
   ]
  },
  {
   "cell_type": "code",
   "execution_count": 216,
   "metadata": {},
   "outputs": [],
   "source": [
    "df_zip_city = pd.read_csv('data/zip_city.csv')"
   ]
  },
  {
   "cell_type": "markdown",
   "metadata": {},
   "source": [
    "### Compare zipcode to city values"
   ]
  },
  {
   "cell_type": "code",
   "execution_count": 217,
   "metadata": {},
   "outputs": [
    {
     "name": "stdout",
     "output_type": "stream",
     "text": [
      "[98001 98002 98003 98004 98005 98006 98007 98008 98010 98011 98014 98019\n",
      " 98022 98023 98024 98027 98028 98029 98030 98031 98032 98033 98034 98038\n",
      " 98039 98040 98042 98045 98052 98053 98055 98056 98058 98059 98065 98070\n",
      " 98072 98074 98075 98077 98092 98102 98103 98105 98106 98107 98108 98109\n",
      " 98112 98115 98116 98117 98118 98119 98122 98125 98126 98133 98136 98144\n",
      " 98146 98148 98155 98166 98168 98177 98178 98188 98198 98199]\n",
      "70\n"
     ]
    }
   ],
   "source": [
    "un_cities = df_zip_city['zipcode'].sort_values().unique()\n",
    "num_cities = df_zip_city['zipcode'].nunique()\n",
    "\n",
    "print(un_cities)\n",
    "print(num_cities)"
   ]
  },
  {
   "cell_type": "code",
   "execution_count": 218,
   "metadata": {},
   "outputs": [
    {
     "name": "stdout",
     "output_type": "stream",
     "text": [
      "['Auburn' 'Bellevue' 'Black Diamond' 'Bothell' 'Carnation' 'Duvall'\n",
      " 'Enumclaw' 'Fall City' 'Federal Way' 'Issaquah' 'Kenmore' 'Kent'\n",
      " 'Kirkland' 'Maple Valley' 'Medina' 'Mercer Island' 'North Bend' 'Redmond'\n",
      " 'Renton' 'Seattle' 'Snoqualmie' 'Vashon' 'Woodinville']\n",
      "23\n"
     ]
    }
   ],
   "source": [
    "un_cities = df_zip_city['city'].sort_values().unique()\n",
    "num_cities = df_zip_city['city'].nunique()\n",
    "\n",
    "print(un_cities)\n",
    "print(num_cities)"
   ]
  },
  {
   "cell_type": "markdown",
   "metadata": {},
   "source": [
    "### Left join city data to housing dataset"
   ]
  },
  {
   "cell_type": "code",
   "execution_count": 219,
   "metadata": {},
   "outputs": [],
   "source": [
    "df = pd.merge(df, df_zip_city,\n",
    "                        how=\"left\", on=[\"zipcode\"])"
   ]
  },
  {
   "cell_type": "code",
   "execution_count": 220,
   "metadata": {},
   "outputs": [
    {
     "data": {
      "text/plain": [
       "(21597, 27)"
      ]
     },
     "execution_count": 220,
     "metadata": {},
     "output_type": "execute_result"
    }
   ],
   "source": [
    "# Check shape of df after merging zip_city.\n",
    "# We now have one more column - city.\n",
    "df.shape"
   ]
  },
  {
   "cell_type": "code",
   "execution_count": 221,
   "metadata": {},
   "outputs": [
    {
     "data": {
      "text/plain": [
       "Index(['acres_lot', 'age_sold', 'bathrooms', 'bedrooms', 'city', 'condition',\n",
       "       'date', 'date_sold', 'day_of_week_index', 'day_of_week_sold', 'floors',\n",
       "       'grade', 'id', 'lat', 'long', 'month_index', 'month_sold', 'price',\n",
       "       'price_millions', 'season_index', 'season_sold', 'sqft_living',\n",
       "       'sqft_lot', 'waterfront', 'year_sold', 'yr_built', 'zipcode'],\n",
       "      dtype='object')"
      ]
     },
     "execution_count": 221,
     "metadata": {},
     "output_type": "execute_result"
    }
   ],
   "source": [
    "df.columns.sort_values()"
   ]
  },
  {
   "cell_type": "markdown",
   "metadata": {},
   "source": [
    "### New Column \"City\""
   ]
  },
  {
   "cell_type": "code",
   "execution_count": 222,
   "metadata": {},
   "outputs": [
    {
     "data": {
      "text/html": [
       "<div>\n",
       "<style scoped>\n",
       "    .dataframe tbody tr th:only-of-type {\n",
       "        vertical-align: middle;\n",
       "    }\n",
       "\n",
       "    .dataframe tbody tr th {\n",
       "        vertical-align: top;\n",
       "    }\n",
       "\n",
       "    .dataframe thead th {\n",
       "        text-align: right;\n",
       "    }\n",
       "</style>\n",
       "<table border=\"1\" class=\"dataframe\">\n",
       "  <thead>\n",
       "    <tr style=\"text-align: right;\">\n",
       "      <th></th>\n",
       "      <th>zipcode</th>\n",
       "      <th>city</th>\n",
       "    </tr>\n",
       "  </thead>\n",
       "  <tbody>\n",
       "    <tr>\n",
       "      <th>18256</th>\n",
       "      <td>98002</td>\n",
       "      <td>Auburn</td>\n",
       "    </tr>\n",
       "    <tr>\n",
       "      <th>19578</th>\n",
       "      <td>98092</td>\n",
       "      <td>Auburn</td>\n",
       "    </tr>\n",
       "    <tr>\n",
       "      <th>16789</th>\n",
       "      <td>98002</td>\n",
       "      <td>Auburn</td>\n",
       "    </tr>\n",
       "    <tr>\n",
       "      <th>10129</th>\n",
       "      <td>98002</td>\n",
       "      <td>Auburn</td>\n",
       "    </tr>\n",
       "    <tr>\n",
       "      <th>864</th>\n",
       "      <td>98092</td>\n",
       "      <td>Auburn</td>\n",
       "    </tr>\n",
       "    <tr>\n",
       "      <th>...</th>\n",
       "      <td>...</td>\n",
       "      <td>...</td>\n",
       "    </tr>\n",
       "    <tr>\n",
       "      <th>4473</th>\n",
       "      <td>98077</td>\n",
       "      <td>Woodinville</td>\n",
       "    </tr>\n",
       "    <tr>\n",
       "      <th>10648</th>\n",
       "      <td>98072</td>\n",
       "      <td>Woodinville</td>\n",
       "    </tr>\n",
       "    <tr>\n",
       "      <th>1010</th>\n",
       "      <td>98072</td>\n",
       "      <td>Woodinville</td>\n",
       "    </tr>\n",
       "    <tr>\n",
       "      <th>19474</th>\n",
       "      <td>98077</td>\n",
       "      <td>Woodinville</td>\n",
       "    </tr>\n",
       "    <tr>\n",
       "      <th>7383</th>\n",
       "      <td>98072</td>\n",
       "      <td>Woodinville</td>\n",
       "    </tr>\n",
       "  </tbody>\n",
       "</table>\n",
       "<p>21597 rows × 2 columns</p>\n",
       "</div>"
      ],
      "text/plain": [
       "       zipcode         city\n",
       "18256    98002       Auburn\n",
       "19578    98092       Auburn\n",
       "16789    98002       Auburn\n",
       "10129    98002       Auburn\n",
       "864      98092       Auburn\n",
       "...        ...          ...\n",
       "4473     98077  Woodinville\n",
       "10648    98072  Woodinville\n",
       "1010     98072  Woodinville\n",
       "19474    98077  Woodinville\n",
       "7383     98072  Woodinville\n",
       "\n",
       "[21597 rows x 2 columns]"
      ]
     },
     "execution_count": 222,
     "metadata": {},
     "output_type": "execute_result"
    }
   ],
   "source": [
    "df[['zipcode','city']].sort_values(by='city')"
   ]
  },
  {
   "cell_type": "markdown",
   "metadata": {},
   "source": [
    "## Feature Engineering\n",
    "- Categorical data must be converted to numerical data (one-hot encoding)\n",
    "- Columns such as \"bedrooms\" have a natural ranking (ordinal), but still need to be encoded because they are not continuous variables.\n",
    "- The process of one-hot encoding takes a categorical variable and converts it to multiple columns, where each new column is a \"indicator variable\" - i.e. has values 0 or 1.\n",
    "- To use a categorical variable that has \"i\" possible values, create k = i-1 indicator variables to use as the explanatory variables.\n",
    "- We only need i-1 to code i values, because the last value is \"All k values = 0\"\n",
    "- First, we'll create bar charts for our categorial values to see if there are any natural groupings we can detect.\n",
    "- For example, if we notice that adding a half bathroom raises the price of a home by a substantial amount, we could encode # of bathrooms as variables \"additional 1 bathroom\" & \"additional .5 bathroom\" (assuming we start with a base of 1 bathroom)\n",
    "\n",
    "- We're going to look for possible groupings in these variables:\n",
    "    - grade\n",
    "    - condition\n",
    "    - floors\n",
    "    - bedrooms\n",
    "    - bathrooms\n",
    "    - city\n",
    "    - Sold:\n",
    "        - day_of_week_sold\n",
    "        - season_sold\n",
    "        - month_sold\n",
    "        - age_sold"
   ]
  },
  {
   "cell_type": "markdown",
   "metadata": {},
   "source": [
    "### Grade"
   ]
  },
  {
   "cell_type": "code",
   "execution_count": 260,
   "metadata": {},
   "outputs": [
    {
     "data": {
      "text/plain": [
       "array([ 3,  4,  5,  6,  7,  8,  9, 10, 11, 12, 13])"
      ]
     },
     "execution_count": 260,
     "metadata": {},
     "output_type": "execute_result"
    },
    {
     "data": {
      "image/png": "[encoded data removed]",
      "text/plain": [
       "<Figure size 1080x360 with 1 Axes>"
      ]
     },
     "metadata": {
      "needs_background": "light"
     },
     "output_type": "display_data"
    }
   ],
   "source": [
    "# Grade Frequency\n",
    "fig, ax = plt.subplots(figsize = (15,5))\n",
    "ax.bar(df[\"grade\"].value_counts().index,\n",
    "        df[\"grade\"].value_counts().values)\n",
    "ax.set_ylabel(\"Frequency\", size = 12)\n",
    "ax.set_title(\"Grade Frequency\", size = 16)\n",
    "\n",
    "df['grade'].sort_values().unique()\n"
   ]
  },
  {
   "cell_type": "code",
   "execution_count": 224,
   "metadata": {},
   "outputs": [
    {
     "data": {
      "image/png": "[encoded data removed]",
      "text/plain": [
       "<Figure size 936x504 with 1 Axes>"
      ]
     },
     "metadata": {
      "needs_background": "light"
     },
     "output_type": "display_data"
    }
   ],
   "source": [
    "fig, ax = plt.subplots(figsize = (13,7))\n",
    "sn.scatterplot(data = df, x = \"grade\", y = \"price_millions\")\n",
    "ax.set_title('Grade vs Price', fontsize=15.0)\n",
    "ax.set_xlabel('Grade', fontsize=10.0)\n",
    "ax.ticklabel_format(style='sci', axis='x', scilimits=(1,1))\n",
    "ax.xaxis.set_major_formatter(StrMethodFormatter('{x:,.0f}'))"
   ]
  },
  {
   "cell_type": "markdown",
   "metadata": {},
   "source": [
    "### Condition"
   ]
  },
  {
   "cell_type": "code",
   "execution_count": 259,
   "metadata": {},
   "outputs": [
    {
     "data": {
      "text/plain": [
       "array([1, 2, 3, 4, 5])"
      ]
     },
     "execution_count": 259,
     "metadata": {},
     "output_type": "execute_result"
    },
    {
     "data": {
      "image/png": "[encoded data removed]",
      "text/plain": [
       "<Figure size 1080x360 with 1 Axes>"
      ]
     },
     "metadata": {
      "needs_background": "light"
     },
     "output_type": "display_data"
    }
   ],
   "source": [
    "# Condition Frequency\n",
    "fig, ax = plt.subplots(figsize = (15,5))\n",
    "ax.bar(df[\"condition\"].value_counts().index,\n",
    "        df[\"condition\"].value_counts().values)\n",
    "ax.set_ylabel(\"Frequency\", size = 12)\n",
    "ax.set_title(\"Condition Frequency\", size = 16)\n",
    "\n",
    "df['condition'].sort_values().unique()"
   ]
  },
  {
   "cell_type": "code",
   "execution_count": 235,
   "metadata": {},
   "outputs": [
    {
     "data": {
      "image/png": "[encoded data removed]",
      "text/plain": [
       "<Figure size 936x504 with 1 Axes>"
      ]
     },
     "metadata": {
      "needs_background": "light"
     },
     "output_type": "display_data"
    }
   ],
   "source": [
    "fig, ax = plt.subplots(figsize = (13,7))\n",
    "sn.scatterplot(data = df, x = \"condition\", y = \"price_millions\")\n",
    "ax.set_title('Condition vs Price', fontsize=15.0)\n",
    "ax.set_xlabel('Condition', fontsize=10.0)\n",
    "ax.ticklabel_format(style='sci', axis='x', scilimits=(1,1))\n",
    "ax.xaxis.set_major_formatter(StrMethodFormatter('{x:,.2f}'))\n"
   ]
  },
  {
   "cell_type": "markdown",
   "metadata": {},
   "source": [
    "### Floors"
   ]
  },
  {
   "cell_type": "code",
   "execution_count": 258,
   "metadata": {},
   "outputs": [
    {
     "data": {
      "text/plain": [
       "array([1. , 1.5, 2. , 2.5, 3. , 3.5])"
      ]
     },
     "execution_count": 258,
     "metadata": {},
     "output_type": "execute_result"
    },
    {
     "data": {
      "image/png": "[encoded data removed]",
      "text/plain": [
       "<Figure size 1080x360 with 1 Axes>"
      ]
     },
     "metadata": {
      "needs_background": "light"
     },
     "output_type": "display_data"
    }
   ],
   "source": [
    "# Floors Frequency\n",
    "fig, ax = plt.subplots(figsize = (15,5))\n",
    "ax.bar(df[\"floors\"].value_counts().index,\n",
    "        df[\"floors\"].value_counts().values)\n",
    "ax.set_ylabel(\"Frequency\", size = 12)\n",
    "ax.set_title(\"Floors Frequency\", size = 16)\n",
    "\n",
    "df['floors'].sort_values().unique()"
   ]
  },
  {
   "cell_type": "code",
   "execution_count": 228,
   "metadata": {},
   "outputs": [
    {
     "data": {
      "image/png": "[encoded data removed]",
      "text/plain": [
       "<Figure size 936x504 with 1 Axes>"
      ]
     },
     "metadata": {
      "needs_background": "light"
     },
     "output_type": "display_data"
    }
   ],
   "source": [
    "fig, ax = plt.subplots(figsize = (13,7))\n",
    "sn.scatterplot(data = df, x = df[\"floors\"], y = \"price_millions\")\n",
    "ax.set_title('Floors vs Price', fontsize=15.0)\n",
    "ax.set_xlabel('Floors', fontsize=10.0)\n",
    "ax.ticklabel_format(style='sci', axis='x', scilimits=(1,1))\n",
    "ax.xaxis.set_major_formatter(StrMethodFormatter('{x:,.1f}'))"
   ]
  },
  {
   "cell_type": "markdown",
   "metadata": {},
   "source": [
    "### Bedrooms"
   ]
  },
  {
   "cell_type": "code",
   "execution_count": 257,
   "metadata": {},
   "outputs": [
    {
     "data": {
      "text/plain": [
       "array([ 1,  2,  3,  4,  5,  6,  7,  8,  9, 10, 11, 33])"
      ]
     },
     "execution_count": 257,
     "metadata": {},
     "output_type": "execute_result"
    },
    {
     "data": {
      "image/png": "[encoded data removed]",
      "text/plain": [
       "<Figure size 1080x360 with 1 Axes>"
      ]
     },
     "metadata": {
      "needs_background": "light"
     },
     "output_type": "display_data"
    }
   ],
   "source": [
    "# Bedrooms Frequency\n",
    "fig, ax = plt.subplots(figsize = (15,5))\n",
    "ax.bar(df[\"bedrooms\"].value_counts().index,\n",
    "        df[\"bedrooms\"].value_counts().values)\n",
    "ax.set_ylabel(\"Frequency\", size = 12)\n",
    "ax.set_title(\"Bedrooms Frequency\", size = 16)\n",
    "\n",
    "df['bedrooms'].sort_values().unique()"
   ]
  },
  {
   "cell_type": "code",
   "execution_count": 230,
   "metadata": {},
   "outputs": [
    {
     "data": {
      "image/png": "[encoded data removed]",
      "text/plain": [
       "<Figure size 936x504 with 1 Axes>"
      ]
     },
     "metadata": {
      "needs_background": "light"
     },
     "output_type": "display_data"
    }
   ],
   "source": [
    "fig, ax = plt.subplots(figsize = (13,7))\n",
    "sn.scatterplot(data = df, x = df[\"bedrooms\"], y = \"price_millions\")\n",
    "ax.set_title('Bedrooms vs Price', fontsize=15.0)\n",
    "ax.set_xlabel('Bedrooms', fontsize=10.0)\n",
    "ax.ticklabel_format(style='sci', axis='x', scilimits=(1,1))\n",
    "ax.xaxis.set_major_formatter(StrMethodFormatter('{x:,.0f}'))"
   ]
  },
  {
   "cell_type": "markdown",
   "metadata": {},
   "source": [
    "### Bathrooms"
   ]
  },
  {
   "cell_type": "code",
   "execution_count": 236,
   "metadata": {},
   "outputs": [
    {
     "data": {
      "text/plain": [
       "array([0.5 , 0.75, 1.  , 1.25, 1.5 , 1.75, 2.  , 2.25, 2.5 , 2.75, 3.  ,\n",
       "       3.25, 3.5 , 3.75, 4.  , 4.25, 4.5 , 4.75, 5.  , 5.25, 5.5 , 5.75,\n",
       "       6.  , 6.25, 6.5 , 6.75, 7.5 , 7.75, 8.  ])"
      ]
     },
     "execution_count": 236,
     "metadata": {},
     "output_type": "execute_result"
    },
    {
     "data": {
      "image/png": "[encoded data removed]",
      "text/plain": [
       "<Figure size 1080x360 with 1 Axes>"
      ]
     },
     "metadata": {
      "needs_background": "light"
     },
     "output_type": "display_data"
    }
   ],
   "source": [
    "# Bathrooms Frequency\n",
    "fig, ax = plt.subplots(figsize = (15,5))\n",
    "ax.bar(df[\"bathrooms\"].value_counts().index,\n",
    "        df[\"bathrooms\"].value_counts().values)\n",
    "ax.set_ylabel(\"Frequency\", size = 12)\n",
    "ax.set_title(\"Bathrooms Frequency\", size = 16)\n",
    "\n",
    "df['bathrooms'].sort_values().unique()"
   ]
  },
  {
   "cell_type": "code",
   "execution_count": 239,
   "metadata": {},
   "outputs": [
    {
     "data": {
      "image/png": "[encoded data removed]",
      "text/plain": [
       "<Figure size 936x504 with 1 Axes>"
      ]
     },
     "metadata": {
      "needs_background": "light"
     },
     "output_type": "display_data"
    }
   ],
   "source": [
    "fig, ax = plt.subplots(figsize = (13,7))\n",
    "sn.scatterplot(data = df, x = df[\"bathrooms\"], y = \"price_millions\")\n",
    "ax.set_title('Bathrooms vs Price', fontsize=15.0)\n",
    "ax.set_xlabel('Bathrooms', fontsize=10.0)\n",
    "ax.ticklabel_format(style='sci', axis='x', scilimits=(1,1))\n",
    "ax.xaxis.set_major_formatter(StrMethodFormatter('{x:,.0f}'))"
   ]
  },
  {
   "cell_type": "markdown",
   "metadata": {},
   "source": [
    "### City"
   ]
  },
  {
   "cell_type": "code",
   "execution_count": 256,
   "metadata": {},
   "outputs": [
    {
     "data": {
      "image/png": "[encoded data removed]",
      "text/plain": [
       "<Figure size 1080x360 with 1 Axes>"
      ]
     },
     "metadata": {
      "needs_background": "light"
     },
     "output_type": "display_data"
    },
    {
     "data": {
      "text/plain": [
       "array(['Auburn', 'Bellevue', 'Black Diamond', 'Bothell', 'Carnation',\n",
       "       'Duvall', 'Enumclaw', 'Fall City', 'Federal Way', 'Issaquah',\n",
       "       'Kenmore', 'Kent', 'Kirkland', 'Maple Valley', 'Medina',\n",
       "       'Mercer Island', 'North Bend', 'Redmond', 'Renton', 'Seattle',\n",
       "       'Snoqualmie', 'Vashon', 'Woodinville'], dtype=object)"
      ]
     },
     "execution_count": 256,
     "metadata": {},
     "output_type": "execute_result"
    }
   ],
   "source": [
    "fig, ax = plt.subplots(figsize = (15, 5))\n",
    "ax.bar(df[\"city\"].value_counts().index,\n",
    "        df[\"city\"].value_counts().values)\n",
    "ax.set_ylabel(\"Frequency\", size = 15)\n",
    "ax.set_title(\"City Frequency\", size = 16)\n",
    "plt.xticks(rotation=45)\n",
    "plt.show()\n",
    "df['city'].sort_values().unique()"
   ]
  },
  {
   "cell_type": "code",
   "execution_count": 253,
   "metadata": {},
   "outputs": [
    {
     "data": {
      "image/png": "[encoded data removed]",
      "text/plain": [
       "<Figure size 936x504 with 1 Axes>"
      ]
     },
     "metadata": {
      "needs_background": "light"
     },
     "output_type": "display_data"
    }
   ],
   "source": [
    "fig, ax = plt.subplots(figsize = (13,7))\n",
    "sns.stripplot(data = df,\n",
    "              x=df[\"city\"], y=\"price_millions\", \n",
    "              order = df[\"city\"].sort_values().unique().tolist(),\n",
    "              color = 'blue', jitter=False)\n",
    "ax.set_title('City vs Price', fontsize=15.0)\n",
    "ax.set_xlabel('City', fontsize=10.0)\n",
    "plt.xticks(rotation=45)\n",
    "plt.show()"
   ]
  },
  {
   "cell_type": "markdown",
   "metadata": {},
   "source": [
    "### Day of Week Sold"
   ]
  },
  {
   "cell_type": "code",
   "execution_count": 265,
   "metadata": {},
   "outputs": [
    {
     "data": {
      "image/png": "[encoded data removed]",
      "text/plain": [
       "<Figure size 1080x360 with 1 Axes>"
      ]
     },
     "metadata": {
      "needs_background": "light"
     },
     "output_type": "display_data"
    },
    {
     "data": {
      "text/plain": [
       "array(['Friday', 'Monday', 'Saturday', 'Sunday', 'Thursday', 'Tuesday',\n",
       "       'Wednesday'], dtype=object)"
      ]
     },
     "execution_count": 265,
     "metadata": {},
     "output_type": "execute_result"
    }
   ],
   "source": [
    "fig, ax = plt.subplots(figsize = (15, 5))\n",
    "ax.bar(df[\"day_of_week_sold\"].value_counts().index,\n",
    "        df[\"day_of_week_sold\"].value_counts().values)\n",
    "ax.set_ylabel(\"Frequency\", size = 15)\n",
    "ax.set_title(\"Day of Week Frequency\", size = 16)\n",
    "plt.xticks(rotation=45)\n",
    "plt.show()\n",
    "df['day_of_week_sold'].sort_values().unique()\n"
   ]
  },
  {
   "cell_type": "code",
   "execution_count": 264,
   "metadata": {},
   "outputs": [
    {
     "data": {
      "image/png": "[encoded data removed]",
      "text/plain": [
       "<Figure size 936x504 with 1 Axes>"
      ]
     },
     "metadata": {
      "needs_background": "light"
     },
     "output_type": "display_data"
    }
   ],
   "source": [
    "fig, ax = plt.subplots(figsize = (13,7))\n",
    "sns.stripplot(data = df,\n",
    "              x=df[\"day_of_week_sold\"], y=\"price_millions\", \n",
    "              order = df[[\"day_of_week_sold\", \"day_of_week_index\"]].sort_values(by='day_of_week_index', ascending=True)['day_of_week_sold'].unique().tolist(),\n",
    "              color = 'blue', jitter=False)\n",
    "ax.set_title('Day of Week vs Price', fontsize=15.0)\n",
    "ax.set_xlabel('Day of Week', fontsize=10.0)\n",
    "plt.xticks(rotation=45)\n",
    "plt.show()"
   ]
  },
  {
   "cell_type": "markdown",
   "metadata": {},
   "source": [
    "### Season"
   ]
  },
  {
   "cell_type": "code",
   "execution_count": 267,
   "metadata": {},
   "outputs": [
    {
     "data": {
      "image/png": "[encoded data removed]",
      "text/plain": [
       "<Figure size 1080x360 with 1 Axes>"
      ]
     },
     "metadata": {
      "needs_background": "light"
     },
     "output_type": "display_data"
    },
    {
     "data": {
      "text/plain": [
       "array(['fall', 'spring', 'summer', 'winter'], dtype=object)"
      ]
     },
     "execution_count": 267,
     "metadata": {},
     "output_type": "execute_result"
    }
   ],
   "source": [
    "# Season Sold Frequency\n",
    "fig, ax = plt.subplots(figsize = (15, 5))\n",
    "ax.bar(df[\"season_sold\"].value_counts().index,\n",
    "        df[\"season_sold\"].value_counts().values)\n",
    "ax.set_ylabel(\"Frequency\", size = 15)\n",
    "ax.set_title(\"Season Frequency\", size = 16)\n",
    "plt.xticks(rotation=45)\n",
    "plt.show()\n",
    "df['season_sold'].sort_values().unique()"
   ]
  },
  {
   "cell_type": "code",
   "execution_count": 268,
   "metadata": {},
   "outputs": [
    {
     "data": {
      "image/png": "[encoded data removed]",
      "text/plain": [
       "<Figure size 936x504 with 1 Axes>"
      ]
     },
     "metadata": {
      "needs_background": "light"
     },
     "output_type": "display_data"
    }
   ],
   "source": [
    "fig, ax = plt.subplots(figsize = (13,7))\n",
    "sns.stripplot(data = df,\n",
    "              x=df[\"season_sold\"], y=\"price_millions\", \n",
    "              order = df[[\"season_sold\", \"season_index\"]].sort_values(by='season_index', ascending=True)['season_sold'].unique().tolist(),\n",
    "              color = 'blue', jitter=False)\n",
    "ax.set_title('Season vs Price', fontsize=15.0)\n",
    "ax.set_xlabel('Season', fontsize=10.0)\n",
    "plt.xticks(rotation=45)\n",
    "plt.show()"
   ]
  },
  {
   "cell_type": "markdown",
   "metadata": {},
   "source": [
    "### Month"
   ]
  },
  {
   "cell_type": "code",
   "execution_count": 269,
   "metadata": {},
   "outputs": [
    {
     "data": {
      "image/png": "[encoded data removed]",
      "text/plain": [
       "<Figure size 1080x360 with 1 Axes>"
      ]
     },
     "metadata": {
      "needs_background": "light"
     },
     "output_type": "display_data"
    },
    {
     "data": {
      "text/plain": [
       "array(['April', 'August', 'December', 'February', 'January', 'July',\n",
       "       'June', 'March', 'May', 'November', 'October', 'September'],\n",
       "      dtype=object)"
      ]
     },
     "execution_count": 269,
     "metadata": {},
     "output_type": "execute_result"
    }
   ],
   "source": [
    "# Month Sold Frequency\n",
    "fig, ax = plt.subplots(figsize = (15, 5))\n",
    "ax.bar(df[\"month_sold\"].value_counts().index,\n",
    "        df[\"month_sold\"].value_counts().values)\n",
    "ax.set_ylabel(\"Frequency\", size = 15)\n",
    "ax.set_title(\"Month Frequency\", size = 16)\n",
    "plt.xticks(rotation=45)\n",
    "plt.show()\n",
    "df['month_sold'].sort_values().unique()"
   ]
  },
  {
   "cell_type": "code",
   "execution_count": 270,
   "metadata": {},
   "outputs": [
    {
     "data": {
      "image/png": "[encoded data removed]",
      "text/plain": [
       "<Figure size 936x504 with 1 Axes>"
      ]
     },
     "metadata": {
      "needs_background": "light"
     },
     "output_type": "display_data"
    }
   ],
   "source": [
    "fig, ax = plt.subplots(figsize = (13,7))\n",
    "sns.stripplot(data = df,\n",
    "              x=df[\"month_sold\"], y=\"price_millions\", \n",
    "              order = df[[\"month_sold\", \"month_index\"]].sort_values(by='month_index', ascending=True)['month_sold'].unique().tolist(),\n",
    "              color = 'blue', jitter=False)\n",
    "ax.set_title('Month vs Price', fontsize=15.0)\n",
    "ax.set_xlabel('Month', fontsize=10.0)\n",
    "plt.xticks(rotation=45)\n",
    "plt.show()"
   ]
  },
  {
   "cell_type": "markdown",
   "metadata": {},
   "source": [
    "### Age"
   ]
  },
  {
   "cell_type": "code",
   "execution_count": 271,
   "metadata": {},
   "outputs": [
    {
     "data": {
      "image/png": "[encoded data removed]",
      "text/plain": [
       "<Figure size 1080x360 with 1 Axes>"
      ]
     },
     "metadata": {
      "needs_background": "light"
     },
     "output_type": "display_data"
    },
    {
     "data": {
      "text/plain": [
       "array([ -1,   0,   1,   2,   3,   4,   5,   6,   7,   8,   9,  10,  11,\n",
       "        12,  13,  14,  15,  16,  17,  18,  19,  20,  21,  22,  23,  24,\n",
       "        25,  26,  27,  28,  29,  30,  31,  32,  33,  34,  35,  36,  37,\n",
       "        38,  39,  40,  41,  42,  43,  44,  45,  46,  47,  48,  49,  50,\n",
       "        51,  52,  53,  54,  55,  56,  57,  58,  59,  60,  61,  62,  63,\n",
       "        64,  65,  66,  67,  68,  69,  70,  71,  72,  73,  74,  75,  76,\n",
       "        77,  78,  79,  80,  81,  82,  83,  84,  85,  86,  87,  88,  89,\n",
       "        90,  91,  92,  93,  94,  95,  96,  97,  98,  99, 100, 101, 102,\n",
       "       103, 104, 105, 106, 107, 108, 109, 110, 111, 112, 113, 114, 115])"
      ]
     },
     "execution_count": 271,
     "metadata": {},
     "output_type": "execute_result"
    }
   ],
   "source": [
    "# Age of Home when Sold Frequency\n",
    "fig, ax = plt.subplots(figsize = (15, 5))\n",
    "ax.bar(df[\"age_sold\"].value_counts().index,\n",
    "        df[\"age_sold\"].value_counts().values)\n",
    "ax.set_ylabel(\"Frequency\", size = 15)\n",
    "ax.set_title(\"Age Frequency\", size = 16)\n",
    "plt.xticks(rotation=45)\n",
    "plt.show()\n",
    "df['age_sold'].sort_values().unique()"
   ]
  },
  {
   "cell_type": "code",
   "execution_count": 272,
   "metadata": {},
   "outputs": [
    {
     "data": {
      "image/png": "[encoded data removed]",
      "text/plain": [
       "<Figure size 936x504 with 1 Axes>"
      ]
     },
     "metadata": {
      "needs_background": "light"
     },
     "output_type": "display_data"
    }
   ],
   "source": [
    "fig, ax = plt.subplots(figsize = (13,7))\n",
    "sn.scatterplot(data = df, x = df[\"age_sold\"], y = \"price_millions\")\n",
    "ax.set_title('Age vs Price', fontsize=15.0)\n",
    "ax.set_xlabel('Age', fontsize=10.0)\n",
    "ax.ticklabel_format(style='sci', axis='x', scilimits=(1,1))\n",
    "ax.xaxis.set_major_formatter(StrMethodFormatter('{x:,.0f}'))"
   ]
  },
  {
   "cell_type": "markdown",
   "metadata": {},
   "source": [
    "## Describe Data - Descriptive Statistics"
   ]
  },
  {
   "cell_type": "code",
   "execution_count": null,
   "metadata": {},
   "outputs": [],
   "source": [
    "print(f\"The max price is {df['price_millions'].max()} million, min price is {df['price'].min()}\")"
   ]
  },
  {
   "cell_type": "code",
   "execution_count": null,
   "metadata": {},
   "outputs": [],
   "source": [
    "#Markdown Version of Below Table:\n",
    "#df_markdown = df[['price', 'bedrooms', 'bathrooms', 'sqft_living', 'acres_lot', 'floors', 'waterfront', 'condition', 'grade', 'yr_built']].describe()\n",
    "#print(df_markdown.to_markdown())"
   ]
  },
  {
   "cell_type": "markdown",
   "metadata": {},
   "source": [
    "Index(['id', 'date', 'price', 'bedrooms', 'bathrooms', 'sqft_living',\n",
    "       'sqft_lot', 'floors', 'waterfront', 'condition', 'grade', 'yr_built',\n",
    "       'zipcode', 'lat', 'long'],\n",
    "      dtype='object')"
   ]
  },
  {
   "cell_type": "code",
   "execution_count": null,
   "metadata": {},
   "outputs": [],
   "source": [
    "format_dict = {'price': '{:20,.0f}', 'bedrooms': '{:.2f}', 'bathrooms': '{:.2f}', 'sqft_living': '{:20,.2f}', 'acres_lot': '{:.2f}', 'floors': '{:.2f}', 'waterfront': '{:.5f}',\n",
    "'condition': '{:.2f}', 'grade': '{:.2f}', 'age_sold': '{:.0f}', 'yr_built': '{:.0f}', 'date': '{:.0f}'}\n",
    "df[['price', 'bedrooms', 'bathrooms', 'sqft_living', 'acres_lot', 'floors',\n",
    "    'waterfront', 'condition', 'grade', 'age_sold', 'date', 'yr_built']].describe().style.format(format_dict)"
   ]
  },
  {
   "cell_type": "markdown",
   "metadata": {},
   "source": [
    "#### Interpret .describe() \n",
    "- There are no negative values for any of the columns except age_sold\n",
    "- The year range makes sense: homes were built between 1900 and 2015\n",
    "- sqft_living average is around 2,000, which is close to the US average\n",
    "- The average lot size is 15,099 square feet, or .35 acres\n",
    "- The lot size mean is skewed by our outlier home, which stands on a 37.91 acre lot.\n",
    "- The median sqft_lot size is 7,618 or .17 acres, which is much closer to the national average of 0.188 of an acre.\n",
    "- Condition and Grade: The mean, max, and min all line-up with the scale of the system, described above.\n",
    "    - Mean Grade is 7.66, so between a 7 and 8: \n",
    "        - 7. Average grade of construction and design. Commonly seen in plats and older sub-divisions.\n",
    "        - 8. Just above average in construction and design. Usually better materials in both the exterior and interior finish work.\n",
    "    - Mean Condition is 3.41, closest to a 3: \n",
    "        - 3. Average- Some evidence of deferred maintenance and normal obsolescence with age in that a few minor repairs are needed, along with some refinishing. All major components still functional and contributing toward an extended life expectancy. Effective age and utility is standard for like properties of its class and usage."
   ]
  },
  {
   "cell_type": "markdown",
   "metadata": {},
   "source": [
    "### Price Frequency Histogram"
   ]
  },
  {
   "cell_type": "code",
   "execution_count": null,
   "metadata": {},
   "outputs": [],
   "source": [
    "# Price Frequency Histogram before removing outliers, for context:\n",
    "# Here we can see that the distribution of price, our target variable, has considerable right-skew\n",
    "ax = df.hist(column='price_millions',\n",
    "             bins='auto',\n",
    "             grid=False,\n",
    "             figsize=(8,5))\n",
    "\n",
    "ax = ax[0]\n",
    "for x in ax:\n",
    "\n",
    "    x.set_title(\"Distribution of Home Sale Price\", size=20)\n",
    "\n",
    "    # Set x-axis label\n",
    "    x.set_xlabel(\"Sale Price of Home\", labelpad=15, weight='bold', size=10)\n",
    "    x.xaxis.set_major_formatter(StrMethodFormatter('{x:,.0f}' + ' Million'))\n",
    "\n",
    "    # Set y-axis label\n",
    "    x.set_ylabel(\"Number of Homes Sold\", labelpad=15, weight='bold', size=10)\n",
    "    x.yaxis.set_major_formatter(StrMethodFormatter('{x:,g}'))\n"
   ]
  },
  {
   "cell_type": "markdown",
   "metadata": {},
   "source": [
    "## Price Density Histogram"
   ]
  },
  {
   "cell_type": "code",
   "execution_count": null,
   "metadata": {},
   "outputs": [],
   "source": [
    "# Ok. Now let's draw a smooth curve, given the above data, using KDE (kernal density estimation)\n",
    "# The smooth line in the visualization below is an estimate of the distributions of house prices\n",
    "# The parameter bandwidth rules the smoothness of the underlying distribution\n",
    "\n",
    "# The problem with a Probability Density Function plot, is that all \"point probabilities\" are 0\n",
    "# We must calculate the area under the curve for an interval to get the actual probability that a home selling price is in a given range. \n",
    "# Thus, it's not intuitive or easy to \"read\" the y-axis to get probabilities for continuous variables using a PDF like below.\n",
    "\n",
    "plt.figure(figsize = (12,8))\n",
    "sns.distplot(df.price_millions,kde=True)\n",
    "plt.title('Density Histogram of Housing Prices in Kings County')\n",
    "plt.show()"
   ]
  },
  {
   "cell_type": "markdown",
   "metadata": {},
   "source": [
    "For example, if we wanted to know the probability that a house price is between 1.00 and 1.75 million dollars (inclusive), we would use the following formula to take the integral of this range (AKA area under the curve)\n",
    "$$\\large P(1 \\leq X \\leq 1.75) = \\int_{1}^{1.75} f_x(x) dx \\geq 0 $$\n"
   ]
  },
  {
   "cell_type": "markdown",
   "metadata": {},
   "source": [
    "### Narrow dataset for modeling "
   ]
  },
  {
   "cell_type": "code",
   "execution_count": null,
   "metadata": {},
   "outputs": [],
   "source": [
    "# Remember all columns in df are: \n",
    "df.columns.sort_values()"
   ]
  },
  {
   "cell_type": "code",
   "execution_count": null,
   "metadata": {},
   "outputs": [],
   "source": [
    "# Select a subset of columns to create matrix:\n",
    "df_all_cols = df.drop(['acres_lot','id'], axis=1)"
   ]
  },
  {
   "cell_type": "code",
   "execution_count": null,
   "metadata": {},
   "outputs": [],
   "source": [
    "df_all_cols.columns.sort_values()"
   ]
  },
  {
   "cell_type": "markdown",
   "metadata": {},
   "source": [
    "# DATA PREPARATION\n",
    "- Prepping to model and addressing missing values -- completed in previous section \"Data Quality\"\n",
    "- Convert categorical data to numeric via one-hot encoding (we didn't need to do this because everything is numeric and ordinal)\n",
    "- Type conversions (this was done in the previous section - price to millions and sqft to acres)\n",
    "- Remove multicollinearity (correlated predictors)\n",
    "- Standardize numeric data -- We're not going to standardize our independent variables using z-score normalization because it's not necessary unless we're using logistic regression. \n"
   ]
  },
  {
   "cell_type": "markdown",
   "metadata": {},
   "source": [
    "## Explore Multicollinearity\n",
    "- This a phenemonen where two variables we are using as predictors are correlated with each other\n",
    "- This violates one of the assumptions of performing linear regression - that all independent variables are independent from one another\n",
    "- If we left all features in the model without addressing multicollinearity, it would become very hard for the model to estimate the relationship between independent variables and the dependent variable, because rather than change independently, the features would change in pairs or groups."
   ]
  },
  {
   "cell_type": "code",
   "execution_count": null,
   "metadata": {},
   "outputs": [],
   "source": [
    "correlations = df_all_cols.drop(['price_millions'],axis = 1).corr()"
   ]
  },
  {
   "cell_type": "code",
   "execution_count": null,
   "metadata": {},
   "outputs": [],
   "source": [
    "plt.figure(figsize=(12,12)) # Set size of figure\n",
    "# Use df.corr() as your matrix for the heatmap\n",
    "# I set the color scheme to green using cmap\n",
    "# annot= True adds the float value on each square\n",
    "# fmt='.1f' sets the number of decimal places for each float number. If you want 1.00, for example, use fmt='.2f'\n",
    "# cbar_kws={\"shrink\": .77}  - this argument shrinks the side color bar to .77 of its original size\n",
    "# square=True - this argument makes the figure square\n",
    "ax = sns.heatmap(correlations, cmap = \"Greens\", annot=True, fmt='.2f', cbar_kws={\"shrink\": .77}, square=True)\n",
    "# Sets the title\n",
    "ax.set(title='King County House Sales Dataset Correlation Heatmap')\n",
    "# Get the y-axis limit values for the size of the figure:\n",
    "bottom, top = ax.get_ylim()\n",
    "# Add .5 to the bottom and top of the y-axis limits to fix an error where the top and bottom squares are cut off\n",
    "# This is an error for the versions of Seaborne and Matplotlib I'm using\n",
    "ax = ax.set_ylim(bottom + 0.5, top - 0.5)\n",
    "# Rotate the bottom labels by 30 degrees (100-70)\n",
    "plt.xticks(rotation=70)\n",
    "plt.show()\n"
   ]
  },
  {
   "cell_type": "code",
   "execution_count": null,
   "metadata": {},
   "outputs": [],
   "source": [
    "correlations['price'].sort_values(ascending=False)"
   ]
  },
  {
   "cell_type": "code",
   "execution_count": null,
   "metadata": {},
   "outputs": [],
   "source": [
    "correlations[\"sqft_living\"].sort_values(ascending=False)"
   ]
  },
  {
   "cell_type": "markdown",
   "metadata": {},
   "source": [
    "### Correlations Interpretation \n",
    "- Features highly correlated with price are sqft_living, grade, and bathrooms\n",
    "- Features highly correlated with sqft_living are grade, bathrooms, price_millions, and bedrooms"
   ]
  },
  {
   "cell_type": "markdown",
   "metadata": {},
   "source": [
    "## Address Multicollinearity\n",
    "- First, review the columns and shape of the dataframe we will be using -- \"df_all_cols\"\n",
    "- Next, use Variance Inflation Factor to detect high multicollinearity in our set of independent variables"
   ]
  },
  {
   "cell_type": "code",
   "execution_count": null,
   "metadata": {},
   "outputs": [],
   "source": [
    "df_all_cols.columns"
   ]
  },
  {
   "cell_type": "code",
   "execution_count": null,
   "metadata": {},
   "outputs": [],
   "source": [
    "df_all_cols.shape"
   ]
  },
  {
   "cell_type": "code",
   "execution_count": null,
   "metadata": {},
   "outputs": [],
   "source": [
    "# We want to write a simple loop to use statsmodel's variance_inflation_factor method on each array (row) of our dataframe, for each column \n",
    "# That's why we use X.shape[1] as the range in the loop below, since the second term in the output of the .shape method is the number of columns\n",
    "X = sm.add_constant(df_all_cols.drop(['price','price_millions'], axis=1))\n",
    "pd.Series([variance_inflation_factor(X.values, i) \n",
    "               for i in range(X.shape[1])], \n",
    "              index=X.columns)"
   ]
  },
  {
   "cell_type": "markdown",
   "metadata": {},
   "source": [
    "### sqft_living has a moderately high VIF value, followed by grade\n",
    "- We can try removing sqft_living or grade to see if it improves our R-squared and Root Mean Squared Error values."
   ]
  },
  {
   "cell_type": "markdown",
   "metadata": {},
   "source": [
    "# df_all_cols - Linear Regression\n",
    "- Tune models to get the highest performance possible on our task\n",
    "  - Considerations:\n",
    "    - What kind of task? Classification task? Regression task?\n",
    "      - This will be a regression task\n",
    "    - Which models will we use\n",
    "      - Linear Regression\n",
    "    - Will be use regularization?\n",
    "      - Out of scope for this exercise\n",
    "    - How will we validate our model?\n",
    "      - R-squared, Mean Squared Error, and the p-values of each coefficient.\n",
    "    - Loss functions?\n",
    "      - Out of scope for this exercise\n",
    "    - What is the performance threshold for success?\n",
    "      - We want to make sure to satisfy the assumptions of linear regression, and get a respectable R-squared value (at least .5)\n"
   ]
  },
  {
   "cell_type": "markdown",
   "metadata": {},
   "source": [
    "## df_all_cols\n",
    "- First we'll use statsmodels.api to run a linear regression and examine model validation scores.\n",
    "- We'll use all the independent variables (df_all_cols) for now."
   ]
  },
  {
   "cell_type": "code",
   "execution_count": null,
   "metadata": {},
   "outputs": [],
   "source": [
    "df_all_cols.columns"
   ]
  },
  {
   "cell_type": "code",
   "execution_count": null,
   "metadata": {},
   "outputs": [],
   "source": [
    "# Add constant (AKA y-intercept):\n",
    "# The constant is set to 1 as default - with means that our constant coefficient will be equal to 1*Beta(0)\n",
    "# Our other variables (other Betas) will be multiplied by a particular coefficient to predict price\n",
    "X = sm.add_constant(df_all_cols.drop(['price','price_millions'], axis=1))\n",
    "y = df_all_cols['price']\n",
    "X.head()"
   ]
  },
  {
   "cell_type": "code",
   "execution_count": null,
   "metadata": {},
   "outputs": [],
   "source": [
    "# The order of the parameters is: endogenous response variable(dependent variable), exogenous variables(independent variables)\n",
    "model_all_cols = sm.OLS(y,X).fit()"
   ]
  },
  {
   "cell_type": "code",
   "execution_count": null,
   "metadata": {},
   "outputs": [],
   "source": [
    "model_all_cols.summary()"
   ]
  },
  {
   "cell_type": "code",
   "execution_count": null,
   "metadata": {},
   "outputs": [],
   "source": [
    "# In addition to R-Squared, we'll use Root Mean Squared Error to validate our model\n",
    "# Here, our RMSE value is .047821 (million dollars) -- which heuristically can be thought of...\n",
    "# ...as the normalized distance between our y values and our y-predicted values\n",
    "# Thus, for any given prediction we make for a home price, we can expect to be about $47,821 off.\n",
    "# Our model is failing to account for some important features underlying the data.\n",
    "yhat = model_all_cols.predict(X)\n",
    "model_rmse = np.sqrt(mean_squared_error(y, yhat))\n",
    "model_rmse"
   ]
  },
  {
   "cell_type": "markdown",
   "metadata": {},
   "source": [
    "## Test Linearity Assumption of Linear Regression\n",
    "- By virtue of the method we are using to model our data, linear regression, we must satisfy the assumption that each of our explanatory variables exhibits a linear relationship with our dependent variable.\n",
    "- In other words, we are assuming the following mathematical relationship between dependent variable y, and explanatory variables X:\n",
    "$$\n",
    "\\begin{aligned}\n",
    "\ty &= mx + b \\\\\n",
    "\\end{aligned}\n",
    "$$\n"
   ]
  },
  {
   "cell_type": "code",
   "execution_count": null,
   "metadata": {},
   "outputs": [],
   "source": [
    "df_all_cols.columns.sort_values()"
   ]
  },
  {
   "cell_type": "code",
   "execution_count": null,
   "metadata": {},
   "outputs": [],
   "source": [
    "# The first index is the number of rows and the second index is the number of cols. The third index is the position count of the figure layout\n",
    "\n",
    "plt.subplots(figsize=(25, 25))\n",
    " \n",
    "\n",
    "plt.subplot(5, 3, 1)\n",
    "plt.scatter(df_all_cols['age_sold'], df_all_cols['price'])\n",
    "plt.xlabel('Age Sold')\n",
    "plt.ylabel('Price')\n",
    "\n",
    "plt.subplot(5, 3, 2)\n",
    "plt.scatter(df_all_cols['long'], df_all_cols['price'])\n",
    "plt.xlabel('Longitude')\n",
    "plt.ylabel('Price')\n",
    "\n",
    "plt.subplot(5, 3, 3)\n",
    "plt.scatter(df_all_cols['lat'], df_all_cols['price'])\n",
    "plt.xlabel('Latitude')\n",
    "plt.ylabel('Price')\n",
    " \n",
    "plt.subplot(5, 3, 4)\n",
    "plt.scatter(df_all_cols['zipcode'], df_all_cols['price'])\n",
    "plt.xlabel('Zipcode')\n",
    "plt.ylabel('Price')\n",
    "\n",
    "plt.subplot(5, 3, 5)\n",
    "plt.scatter(df_all_cols['yr_built'], df_all_cols['price'])\n",
    "plt.xlabel('Year Built')\n",
    "plt.ylabel('Price')\n",
    " \n",
    "plt.subplot(5, 3, 6)\n",
    "plt.scatter(df_all_cols['grade'], df_all_cols['price'])\n",
    "plt.xlabel('Grade')\n",
    "plt.ylabel('Price')\n",
    "\n",
    "plt.subplot(5, 3, 7)\n",
    "plt.scatter(df_all_cols['condition'], df_all_cols['price'])\n",
    "plt.xlabel('Condition')\n",
    "plt.ylabel('Price')\n",
    " \n",
    "plt.subplot(5, 3, 8)\n",
    "plt.scatter(df_all_cols['waterfront'], df_all_cols['price'])\n",
    "plt.xlabel('Waterfront')\n",
    "plt.ylabel('Price')\n",
    "\n",
    "plt.subplot(5, 3, 9)\n",
    "plt.scatter(df_all_cols['floors'], df_all_cols['price'])\n",
    "plt.xlabel('Floors')\n",
    "plt.ylabel('Price')\n",
    " \n",
    "plt.subplot(5, 3, 10)\n",
    "plt.scatter(df_all_cols['sqft_lot'], df_all_cols['price'])\n",
    "plt.xlabel('Sqft Lot')\n",
    "plt.ylabel('Price')\n",
    "\n",
    "plt.subplot(5, 3, 11)\n",
    "plt.scatter(df_all_cols['sqft_living'], df_all_cols['price'])\n",
    "plt.xlabel('Sqft Living')\n",
    "plt.ylabel('Price')\n",
    " \n",
    "plt.subplot(5, 3, 12)\n",
    "plt.scatter(df_all_cols['bedrooms'], df_all_cols['price'])\n",
    "plt.xlabel('Bedrooms')\n",
    "plt.ylabel('Price')\n",
    "\n",
    "plt.subplot(5, 3, 13)\n",
    "plt.scatter(df_all_cols['bathrooms'], df_all_cols['price'])\n",
    "plt.xlabel('Bathrooms')\n",
    "plt.ylabel('Price')\n",
    " \n",
    "plt.subplot(5, 3, 14)\n",
    "plt.scatter(df_all_cols['date'], df_all_cols['price'])\n",
    "plt.xlabel('Year Sold')\n",
    "plt.ylabel('Price')\n",
    "\n",
    "plt.subplot(5, 3, 15)\n",
    "plt.scatter(df_all_cols['price'], df_all_cols['price'])\n",
    "plt.xlabel('Price')\n",
    "plt.ylabel('Price')\n",
    "\n",
    "\n",
    "# space between the plots\n",
    "plt.tight_layout(4)\n",
    " \n",
    "# show plot\n",
    "plt.show()\n"
   ]
  },
  {
   "cell_type": "markdown",
   "metadata": {},
   "source": [
    "## Notes on Scatterplots - Why we must One Hot Encode (specifically Dummy Variable Encode)\n",
    "- For all scatterplots above where our datapoints appear in columns, rather than a continuous swath of points that overlap horizontally - we can see an important phenomenon that we've overlooked in the pre-processing steps \"Understand Data\" and \"Data Preparation.\"\n",
    "- Zipcode, Grade, Condition, Floors, Bedrooms, Bathrooms, Year Sold, and Waterfront are all categorical variables. That is, while there may be a natural ordering, as in a numerical range (.5-8 bathrooms), the data falls into distinct buckets. One way to think about categorical values is that the number of options is a fixed set. While the price of a home could be adjusted by any increment in dollar and cents amount, the number of bedrooms in a home is a variable that describes a \"type\" of home -- \"1 bedroom mother-in-law cottage\", \"3-bedroom single family home\", etc.\n",
    "- For the purpose of this project I define a categorical variable as one where data falls into discrete bins, and where we can observe that comparing any given category (\"4 bedrooms\") - would be useful to regress against its opposite (\"Not 4 bedrooms\")\n",
    "- Thus, we are going to one-hot encode all of our categorical variables using Dummy Variable Encoding - where we use i-1 columns to represent i different values for each categorical variable.\n",
    "- We only need i-1 columns because the last value is Zero for all the rest of the columns.\n",
    "- A simple example of this is Waterfront, which is already one-hot encoded - it's already an \"Indicator Variable\" which means the only possible values are True or False (We use 0 or 1)\n",
    "- Thus for the variable \"Waterfront\" -- if the coefficient ends up being $200,000, that means the predicted price for waterfront homes will be y = 200,000(1) + intercept.\n",
    "- In the case of non-waterfront homes, then, y = 200,000(0) + intercept, or y = intercept\n",
    "- Our main task will be to think about which category should be dropped when we do Dummy Variable Encoding.\n",
    "- Usually this dropped variable, AKA \"baseline\" is the value associated with the lowest target variable, or that which is associated with the average target variable."
   ]
  },
  {
   "cell_type": "markdown",
   "metadata": {},
   "source": [
    "Note:\n",
    "Ultimately, if our model has a relatively low R-squared value (close to 50%), but we have:\n",
    "1. fulfilled the assumptions of linear regression \n",
    "2. have normally distributed error \n",
    "3. coefficients have good p-values\n",
    "\n",
    "... then we can still draw meaningful conclusions re: the relationships between the independent and dependent variables. Our coefficients will still represent the mean flucuation in the dependent variable for every 1-unit change in a given independent variable. "
   ]
  },
  {
   "cell_type": "markdown",
   "metadata": {},
   "source": [
    "## df_all_cols - Interpret\n",
    "- Using all of our columns to predict price, and not subsetting the data at all:\n",
    "- Our p-values are all 0.00, which is great.\n",
    "- However, this model is violating necessary assumptions\n",
    "    - The scatterplot of predicted price vs. price is clearly not a linear relationship\n",
    "    - The plot of the residuals vs. the predicted price is trumpet-shaped, which is highly heteroscedastic.\n",
    "    - What we are aiming for is linearity and homoscedasticity - a fairly even distribution of the residuals vs. predicted price"
   ]
  },
  {
   "cell_type": "code",
   "execution_count": null,
   "metadata": {},
   "outputs": [],
   "source": []
  },
  {
   "cell_type": "code",
   "execution_count": null,
   "metadata": {},
   "outputs": [],
   "source": []
  },
  {
   "cell_type": "code",
   "execution_count": null,
   "metadata": {},
   "outputs": [],
   "source": []
  },
  {
   "cell_type": "markdown",
   "metadata": {},
   "source": [
    "# Outliers Removed - Linear Regression\n",
    "- Removing outliers can be a bit of an art, but given that my business case is to offer advice to mostly average, middle-class home owners, it makes sense to eliminate the priciest and lowest cost homes. \n",
    "- From the descriptive statistics we ran in the Understanding Data --> Distributions section, I surmised that the independent variables with the most unusual values were price and number of bedrooms. "
   ]
  },
  {
   "cell_type": "markdown",
   "metadata": {},
   "source": [
    "## Outliers Removed - statsmodels"
   ]
  },
  {
   "cell_type": "code",
   "execution_count": null,
   "metadata": {},
   "outputs": [],
   "source": [
    "df_rm_outliers = df_all_cols.drop(['sqft_lot'], axis=1)"
   ]
  },
  {
   "cell_type": "code",
   "execution_count": null,
   "metadata": {},
   "outputs": [],
   "source": [
    "# Here we take the absolute value of the z-scores for each value in columns \"price\" and \"bedrooms\" and filter our df by...\n",
    "# ...only those values which have a z-score < 3\n",
    "\n",
    "df_rm_outliers = df_rm_outliers[(np.abs(stats.zscore(df_rm_outliers[['bedrooms']])) < 2.5) & (np.abs(stats.zscore(df_rm_outliers[['price']])) < 2.5)]"
   ]
  },
  {
   "cell_type": "code",
   "execution_count": null,
   "metadata": {},
   "outputs": [],
   "source": [
    "# Sort by Bedrooms:\n",
    "df_rm_outliers[['price_millions', 'bedrooms', 'bathrooms']].sort_values('bedrooms', ascending = False).head(10)"
   ]
  },
  {
   "cell_type": "code",
   "execution_count": null,
   "metadata": {},
   "outputs": [],
   "source": [
    "df_rm_outliers.columns"
   ]
  },
  {
   "cell_type": "code",
   "execution_count": null,
   "metadata": {},
   "outputs": [],
   "source": [
    "#Markdown Version of Below Table:\n",
    "#df_markdown_rm_outliers = df_rm_outliers[['price', 'bedrooms', 'bathrooms', 'sqft_living', 'acres_lot', 'floors', 'waterfront', 'condition', 'grade', 'yr_built']].describe()\n",
    "#print(df_markdown_rm_outliers.to_markdown())"
   ]
  },
  {
   "cell_type": "code",
   "execution_count": null,
   "metadata": {},
   "outputs": [],
   "source": [
    "# These values make a lot more sense\n",
    "# The minimum and maximum values for price, bedrooms, and bathrooms are conceivable attributes of a middle class person's home.\n",
    "# We didn't sacrifice on the size of our dataset, having only shed only about 4% of the number of rows in the original dataset.\n",
    "format_dict = {'bedrooms': '{:.2f}', 'bathrooms': '{:.2f}', 'floors': '{:.2f}', 'sqft_living': '{:20,.2f}', 'sqft_lot': '{:20,.2f}',\n",
    "               'price_millions': '{:,.8f}', 'yr_built': '{:.0f}', 'condition': '{:.2f}', 'grade': '{:.2f}', 'waterfront': '{:.5f}'}\n",
    "df_rm_outliers[['price_millions', 'bedrooms', 'bathrooms', 'sqft_living', 'floors',\n",
    "    'waterfront', 'condition', 'grade', 'yr_built']].describe().style.format(format_dict)"
   ]
  },
  {
   "cell_type": "code",
   "execution_count": null,
   "metadata": {},
   "outputs": [],
   "source": [
    "# For our other variables (other Betas) will be multiplied by a particular coefficient to predict price\n",
    "X = sm.add_constant(df_rm_outliers.drop(['price','price_millions'], axis=1))\n",
    "y = df_rm_outliers['price']\n",
    "X.head()"
   ]
  },
  {
   "cell_type": "code",
   "execution_count": null,
   "metadata": {},
   "outputs": [],
   "source": [
    "model_rm_outliers = sm.OLS(y, X).fit() "
   ]
  },
  {
   "cell_type": "code",
   "execution_count": null,
   "metadata": {},
   "outputs": [],
   "source": [
    "model_rm_outliers.summary()"
   ]
  },
  {
   "cell_type": "code",
   "execution_count": null,
   "metadata": {},
   "outputs": [],
   "source": [
    "# For any given prediction we make for a home price, we can expect to be about $25,790 off. \n",
    "yhat = model_rm_outliers.predict(X)\n",
    "model_rmse = mean_squared_error(y,yhat)\n",
    "model_rmse"
   ]
  },
  {
   "cell_type": "markdown",
   "metadata": {},
   "source": [
    "## Outliers Removed  - interpret\n",
    "\n",
    "- The R-squared value for model_log is 0.62\n",
    "- Our p-values are all 0.00\n",
    "- Model RMSE: For any given prediction we make for a home price, we can expect to be about $25,790 off\n",
    "- Necessary assumptions for linear regression are better fulfilled than our last two iterations of linear regression modeling: \n",
    "    - The scatterplot of predicted price vs. price has a mostly linear shape\n",
    "    - The plot of the residuals vs. the predicted price is almost evenly spread over the horizontal axis\n",
    "\n",
    "Dropping sqft_lot and removing outliers based on the value of the z-scores for each value in columns \"price\" and \"bedrooms\" has improved our results compared to our last two iterations. Based on our p-values, R-squared value, and RMSE, as well as our assumptions of linear regression, we can be reasonably confident that we can interpret our coefficients as giving us the price increase of our home for every unit increase of the variable.\n",
    "My real estate company can therefore advise clients that they should install a roof deck if it would add a waterfront view, as well as increase the quality of any improvements in their home, using this scale as their guide to quality craftmanship:\n",
    "9. Better architectural design with extra interior and exterior design and quality.\n",
    "\n",
    "10. Homes of this quality generally have high quality features. Finish work is better and more design quality is seen in the floor plans. Generally have a larger square footage.\n",
    "\n",
    "11. Custom design and higher quality finish work with added amenities of solid woods, bathroom fixtures and more luxurious options.\n",
    "\n",
    "12. Custom design and excellent builders. All materials are of the highest quality and all conveniences are present.\n",
    "\n",
    "13. Generally custom designed and built. Mansion level. Large amount of highest quality cabinet work, wood trim, marble, entry ways etc.\n"
   ]
  }
 ],
 "metadata": {
  "kernelspec": {
   "display_name": "Python 3.6.9 ('learn-env')",
   "language": "python",
   "name": "python3"
  },
  "language_info": {
   "codemirror_mode": {
    "name": "ipython",
    "version": 3
   },
   "file_extension": ".py",
   "mimetype": "text/x-python",
   "name": "python",
   "nbconvert_exporter": "python",
   "pygments_lexer": "ipython3",
   "version": "3.6.9"
  },
  "vscode": {
   "interpreter": {
    "hash": "f419b20f77b4527721f30319cfafe3c70960cd81ca56dc600db40ecc08624f04"
   }
  }
 },
 "nbformat": 4,
 "nbformat_minor": 2
}
